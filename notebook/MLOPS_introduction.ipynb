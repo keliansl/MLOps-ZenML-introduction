{
  "nbformat": 4,
  "nbformat_minor": 0,
  "metadata": {
    "colab": {
      "provenance": []
    },
    "kernelspec": {
      "name": "python3",
      "display_name": "Python 3"
    },
    "language_info": {
      "name": "python"
    }
  },
  "cells": [
    {
      "cell_type": "markdown",
      "source": [
        "# MLOps introduction using ZenML, MLflow"
      ],
      "metadata": {
        "id": "Qbo2VeKKEbqf"
      }
    },
    {
      "cell_type": "markdown",
      "source": [
        "---\n",
        "\n",
        "Sources :\n",
        "\n",
        "- [freeCodeCamp Course](https://www.youtube.com/watch?v=-dJPoLm_gtE)\n",
        "- [Dataset](https://www.kaggle.com/datasets/olistbr/brazilian-ecommerce?select=olist_order_payments_dataset.csv)\n",
        "- [ZenML Fundamentals](https://www.youtube.com/watch?v=iCB4KNjl5vs&t=159s)\n",
        "\n",
        "---"
      ],
      "metadata": {
        "id": "utzzidGeEerR"
      }
    },
    {
      "cell_type": "markdown",
      "source": [
        "## Introduction to MLOps"
      ],
      "metadata": {
        "id": "5MPg2nWaW71P"
      }
    },
    {
      "cell_type": "markdown",
      "source": [
        "### MLOps presentation"
      ],
      "metadata": {
        "id": "FBjHzr8TTqlB"
      }
    },
    {
      "cell_type": "markdown",
      "source": [
        "**MLOps Pipeline in 4 steps :**\n",
        "\n",
        "- **Data Engineering Pipeline**\n",
        "  - \"Data Ingestion\" : Collection of data from different sources\n",
        "  - \"Exploration and Validation\" : Understanding data content and structure\n",
        "  - \"Data Wrangling\" : Formatting and cleaning the data\n",
        "  - \"Data Labeling\" : Assigning categories to data points\n",
        "  - \"Data Splitting\" : Division of data into training, validation and test datasets\n",
        "\n",
        "- **Model Engineering Introduction**\n",
        "  - Core of the ML workflow : writing and executing ML algorithms\n",
        "  - Obtaining the ML model\n",
        "\n",
        "- **Model Engineering Pipieline**\n",
        "  - \"Model Training\" : Applying ML algorithms on training data\n",
        "  - \"Model Evaluation\" : Validating the model pre-deployment\n",
        "  - \"Model Testing\" : Final acceptance test using test dataset\n",
        "  - \"Model Packaging\" : Exporting model into a consumable format for business application\n",
        "\n",
        "- **Model Deployment Introduction**\n",
        "  - \"Model Serving\" : Addressing the ML model in a production environment\n",
        "  - \"Model Performance Monitoring\" : Observing performance on live, unseen data\n",
        "  - \"Model Performance Logging\" : Recording every inference request"
      ],
      "metadata": {
        "id": "vi8xVqrzQFpm"
      }
    },
    {
      "cell_type": "markdown",
      "source": [
        "### ZenML MLOps Framework presentation"
      ],
      "metadata": {
        "id": "aLIdOqMOTtkg"
      }
    },
    {
      "cell_type": "markdown",
      "source": [
        "**ZenML: What is it used for?**\n",
        "\n",
        "ZenML is an open-source MLOps framework designed to help data scientists and ML engineers build production-ready machine learning pipelines. It simplifies the transition from research (experiments, notebooks) to deployment (scalable, automated workflows).\n",
        "\n",
        "**Key Features of ZenML**\n",
        "\n",
        "- ✅ Pipeline Orchestration – Automates ML workflows, making them modular and reproducible.\n",
        "- ✅ Experiment Tracking – Integrates with tools like MLflow to track runs, metrics, and parameters.\n",
        "- ✅ Data & Model Versioning – Ensures datasets and models are properly versioned for reproducibility.\n",
        "- ✅ MLOps Integration – Connects with popular tools (Kubeflow, Airflow, Weights & Biases, etc.).\n",
        "- ✅ Cloud & On-Prem Support – Works with AWS, GCP, Azure, or local infrastructure.\n",
        "\n",
        "**Use Cases**\n",
        "- 🔹 Automated ML Pipelines – Standardizing workflows from data ingestion to model training.\n",
        "- 🔹 Reproducible Experiments – Ensuring results can be replicated across environments.\n",
        "- 🔹 Continuous Training (CT) – Automating model retraining with fresh data.\n",
        "- 🔹 CI/CD for ML – Enabling automated testing and deployment of ML models."
      ],
      "metadata": {
        "id": "HYwqc-HxTLkt"
      }
    },
    {
      "cell_type": "markdown",
      "source": [
        "### NGROK presentation"
      ],
      "metadata": {
        "id": "SFig4q6whOIY"
      }
    },
    {
      "cell_type": "markdown",
      "source": [
        "**Ngrok: What is it used for ?**\n",
        "\n",
        "Ngrok is a secure tunneling service that allows you to expose local servers to the public internet. It creates a temporary, publicly accessible URL for a local web service, making it easy to test and share projects without deploying them.\n",
        "\n",
        "**Key Features of Ngrok**\n",
        "- ✅ Exposes Localhost to the Internet – Share a local web service using a public URL.\n",
        "- ✅ Secure Tunnels – Encrypted connections to protect data.\n",
        "- ✅ Custom Subdomains – Use personalized URLs instead of random ones.\n",
        "- ✅ Webhook Testing – Easily test webhooks from services like Stripe, GitHub, and Twilio.\n",
        "- ✅ Access Control & Authentication – Restrict access with passwords and tokens.\n",
        "- ✅ Traffic Inspection – View real-time requests and responses via a web dashboard.\n",
        "\n",
        "**Use Cases**\n",
        "- 🔹 Local Development Sharing – Show your web app to others without deployment.\n",
        "- 🔹 Webhook Testing – Simulate real-world webhook interactions.\n",
        "- 🔹 Remote Access – Access services running on private networks.\n",
        "- 🔹 IoT & Embedded Systems – Expose local devices like Raspberry Pi to the internet."
      ],
      "metadata": {
        "id": "LEgn1YbyhSVT"
      }
    },
    {
      "cell_type": "markdown",
      "source": [
        "### Install libraries"
      ],
      "metadata": {
        "id": "ac2qcAllegyn"
      }
    },
    {
      "cell_type": "code",
      "source": [
        "%pip install \"zenml[server]\"\n",
        "!zenml integration install sklearn -y\n",
        "%pip install pyparsing==2.4.2\n",
        "\n",
        "import IPython\n",
        "\n",
        "# Automatically restart kernel\n",
        "# IPython.Application.instance().kernel.do_shutdown(restart=True)"
      ],
      "metadata": {
        "id": "HWDhDlQFEeg3",
        "colab": {
          "base_uri": "https://localhost:8080/"
        },
        "collapsed": true,
        "outputId": "7360718d-8a6a-4343-d292-df63d9aad5ed"
      },
      "execution_count": null,
      "outputs": [
        {
          "output_type": "stream",
          "name": "stdout",
          "text": [
            "Requirement already satisfied: zenml[server] in /usr/local/lib/python3.11/dist-packages (0.75.0)\n",
            "Requirement already satisfied: Jinja2 in /usr/local/lib/python3.11/dist-packages (from zenml[server]) (3.1.5)\n",
            "Requirement already satisfied: alembic<1.9.0,>=1.8.1 in /usr/local/lib/python3.11/dist-packages (from zenml[server]) (1.8.1)\n",
            "Requirement already satisfied: bcrypt==4.0.1 in /usr/local/lib/python3.11/dist-packages (from zenml[server]) (4.0.1)\n",
            "Requirement already satisfied: click<8.1.4,>=8.0.1 in /usr/local/lib/python3.11/dist-packages (from zenml[server]) (8.1.3)\n",
            "Requirement already satisfied: cloudpickle<3,>=2.0.0 in /usr/local/lib/python3.11/dist-packages (from zenml[server]) (2.2.1)\n",
            "Requirement already satisfied: distro<2.0.0,>=1.6.0 in /usr/local/lib/python3.11/dist-packages (from zenml[server]) (1.9.0)\n",
            "Requirement already satisfied: docker<7.2.0,>=7.1.0 in /usr/local/lib/python3.11/dist-packages (from zenml[server]) (7.1.0)\n",
            "Requirement already satisfied: fastapi<=0.115.8,>=0.100 in /usr/local/lib/python3.11/dist-packages (from zenml[server]) (0.115.8)\n",
            "Requirement already satisfied: gitpython<4.0.0,>=3.1.18 in /usr/local/lib/python3.11/dist-packages (from zenml[server]) (3.1.44)\n",
            "Requirement already satisfied: ipinfo>=4.4.3 in /usr/local/lib/python3.11/dist-packages (from zenml[server]) (5.1.1)\n",
            "Requirement already satisfied: itsdangerous<2.3.0,>=2.2.0 in /usr/local/lib/python3.11/dist-packages (from zenml[server]) (2.2.0)\n",
            "Requirement already satisfied: orjson<3.11.0,>=3.10.0 in /usr/local/lib/python3.11/dist-packages (from zenml[server]) (3.10.15)\n",
            "Requirement already satisfied: packaging>=24.1 in /usr/local/lib/python3.11/dist-packages (from zenml[server]) (24.2)\n",
            "Requirement already satisfied: passlib<1.8.0,>=1.7.4 in /usr/local/lib/python3.11/dist-packages (from passlib[bcrypt]<1.8.0,>=1.7.4->zenml[server]) (1.7.4)\n",
            "Requirement already satisfied: psutil>=5.0.0 in /usr/local/lib/python3.11/dist-packages (from zenml[server]) (5.9.5)\n",
            "Requirement already satisfied: pydantic<2.9,>=2.8 in /usr/local/lib/python3.11/dist-packages (from zenml[server]) (2.8.2)\n",
            "Requirement already satisfied: pydantic-settings in /usr/local/lib/python3.11/dist-packages (from zenml[server]) (2.8.1)\n",
            "Requirement already satisfied: pyjwt==2.7.* in /usr/local/lib/python3.11/dist-packages (from pyjwt[crypto]==2.7.*; extra == \"server\"->zenml[server]) (2.7.0)\n",
            "Requirement already satisfied: pymysql<1.2.0,>=1.1.1 in /usr/local/lib/python3.11/dist-packages (from zenml[server]) (1.1.1)\n",
            "Requirement already satisfied: python-dateutil<3.0.0,>=2.8.1 in /usr/local/lib/python3.11/dist-packages (from zenml[server]) (2.8.2)\n",
            "Requirement already satisfied: python-multipart<0.1.0,>=0.0.9 in /usr/local/lib/python3.11/dist-packages (from zenml[server]) (0.0.20)\n",
            "Requirement already satisfied: pyyaml>=6.0.1 in /usr/local/lib/python3.11/dist-packages (from zenml[server]) (6.0.2)\n",
            "Requirement already satisfied: rich>=12.0.0 in /usr/local/lib/python3.11/dist-packages (from rich[jupyter]>=12.0.0->zenml[server]) (13.9.4)\n",
            "Requirement already satisfied: secure<0.4.0,>=0.3.0 in /usr/local/lib/python3.11/dist-packages (from zenml[server]) (0.3.0)\n",
            "Requirement already satisfied: setuptools in /usr/local/lib/python3.11/dist-packages (from zenml[server]) (75.1.0)\n",
            "Requirement already satisfied: sqlalchemy<3.0.0,>=2.0.0 in /usr/local/lib/python3.11/dist-packages (from zenml[server]) (2.0.38)\n",
            "Requirement already satisfied: sqlalchemy_utils in /usr/local/lib/python3.11/dist-packages (from zenml[server]) (0.41.2)\n",
            "Requirement already satisfied: sqlmodel==0.0.18 in /usr/local/lib/python3.11/dist-packages (from zenml[server]) (0.0.18)\n",
            "Requirement already satisfied: tldextract<5.2.0,>=5.1.0 in /usr/local/lib/python3.11/dist-packages (from zenml[server]) (5.1.3)\n",
            "Requirement already satisfied: uvicorn>=0.17.5 in /usr/local/lib/python3.11/dist-packages (from uvicorn[standard]>=0.17.5; extra == \"server\"->zenml[server]) (0.34.0)\n",
            "Requirement already satisfied: cryptography>=3.4.0 in /usr/local/lib/python3.11/dist-packages (from pyjwt[crypto]==2.7.*; extra == \"server\"->zenml[server]) (43.0.3)\n",
            "Requirement already satisfied: Mako in /usr/local/lib/python3.11/dist-packages (from alembic<1.9.0,>=1.8.1->zenml[server]) (1.3.9)\n",
            "Requirement already satisfied: requests>=2.26.0 in /usr/local/lib/python3.11/dist-packages (from docker<7.2.0,>=7.1.0->zenml[server]) (2.32.3)\n",
            "Requirement already satisfied: urllib3>=1.26.0 in /usr/local/lib/python3.11/dist-packages (from docker<7.2.0,>=7.1.0->zenml[server]) (2.3.0)\n",
            "Requirement already satisfied: starlette<0.46.0,>=0.40.0 in /usr/local/lib/python3.11/dist-packages (from fastapi<=0.115.8,>=0.100->zenml[server]) (0.45.3)\n",
            "Requirement already satisfied: typing-extensions>=4.8.0 in /usr/local/lib/python3.11/dist-packages (from fastapi<=0.115.8,>=0.100->zenml[server]) (4.12.2)\n",
            "Requirement already satisfied: gitdb<5,>=4.0.1 in /usr/local/lib/python3.11/dist-packages (from gitpython<4.0.0,>=3.1.18->zenml[server]) (4.0.12)\n",
            "Requirement already satisfied: cachetools in /usr/local/lib/python3.11/dist-packages (from ipinfo>=4.4.3->zenml[server]) (5.5.2)\n",
            "Requirement already satisfied: aiohttp<=4 in /usr/local/lib/python3.11/dist-packages (from ipinfo>=4.4.3->zenml[server]) (3.11.13)\n",
            "Requirement already satisfied: annotated-types>=0.4.0 in /usr/local/lib/python3.11/dist-packages (from pydantic<2.9,>=2.8->zenml[server]) (0.7.0)\n",
            "Requirement already satisfied: pydantic-core==2.20.1 in /usr/local/lib/python3.11/dist-packages (from pydantic<2.9,>=2.8->zenml[server]) (2.20.1)\n",
            "Requirement already satisfied: six>=1.5 in /usr/local/lib/python3.11/dist-packages (from python-dateutil<3.0.0,>=2.8.1->zenml[server]) (1.17.0)\n",
            "Requirement already satisfied: markdown-it-py>=2.2.0 in /usr/local/lib/python3.11/dist-packages (from rich>=12.0.0->rich[jupyter]>=12.0.0->zenml[server]) (3.0.0)\n",
            "Requirement already satisfied: pygments<3.0.0,>=2.13.0 in /usr/local/lib/python3.11/dist-packages (from rich>=12.0.0->rich[jupyter]>=12.0.0->zenml[server]) (2.18.0)\n",
            "Requirement already satisfied: ipywidgets<9,>=7.5.1 in /usr/local/lib/python3.11/dist-packages (from rich[jupyter]>=12.0.0->zenml[server]) (7.7.1)\n",
            "Requirement already satisfied: greenlet!=0.4.17 in /usr/local/lib/python3.11/dist-packages (from sqlalchemy<3.0.0,>=2.0.0->zenml[server]) (3.1.1)\n",
            "Requirement already satisfied: idna in /usr/local/lib/python3.11/dist-packages (from tldextract<5.2.0,>=5.1.0->zenml[server]) (3.10)\n",
            "Requirement already satisfied: requests-file>=1.4 in /usr/local/lib/python3.11/dist-packages (from tldextract<5.2.0,>=5.1.0->zenml[server]) (2.1.0)\n",
            "Requirement already satisfied: filelock>=3.0.8 in /usr/local/lib/python3.11/dist-packages (from tldextract<5.2.0,>=5.1.0->zenml[server]) (3.17.0)\n",
            "Requirement already satisfied: h11>=0.8 in /usr/local/lib/python3.11/dist-packages (from uvicorn>=0.17.5->uvicorn[standard]>=0.17.5; extra == \"server\"->zenml[server]) (0.14.0)\n",
            "Requirement already satisfied: httptools>=0.6.3 in /usr/local/lib/python3.11/dist-packages (from uvicorn[standard]>=0.17.5; extra == \"server\"->zenml[server]) (0.6.4)\n",
            "Requirement already satisfied: python-dotenv>=0.13 in /usr/local/lib/python3.11/dist-packages (from uvicorn[standard]>=0.17.5; extra == \"server\"->zenml[server]) (1.0.1)\n",
            "Requirement already satisfied: uvloop!=0.15.0,!=0.15.1,>=0.14.0 in /usr/local/lib/python3.11/dist-packages (from uvicorn[standard]>=0.17.5; extra == \"server\"->zenml[server]) (0.21.0)\n",
            "Requirement already satisfied: watchfiles>=0.13 in /usr/local/lib/python3.11/dist-packages (from uvicorn[standard]>=0.17.5; extra == \"server\"->zenml[server]) (1.0.4)\n",
            "Requirement already satisfied: websockets>=10.4 in /usr/local/lib/python3.11/dist-packages (from uvicorn[standard]>=0.17.5; extra == \"server\"->zenml[server]) (14.2)\n",
            "Requirement already satisfied: MarkupSafe>=2.0 in /usr/local/lib/python3.11/dist-packages (from Jinja2->zenml[server]) (3.0.2)\n",
            "Requirement already satisfied: aiohappyeyeballs>=2.3.0 in /usr/local/lib/python3.11/dist-packages (from aiohttp<=4->ipinfo>=4.4.3->zenml[server]) (2.4.6)\n",
            "Requirement already satisfied: aiosignal>=1.1.2 in /usr/local/lib/python3.11/dist-packages (from aiohttp<=4->ipinfo>=4.4.3->zenml[server]) (1.3.2)\n",
            "Requirement already satisfied: attrs>=17.3.0 in /usr/local/lib/python3.11/dist-packages (from aiohttp<=4->ipinfo>=4.4.3->zenml[server]) (25.1.0)\n",
            "Requirement already satisfied: frozenlist>=1.1.1 in /usr/local/lib/python3.11/dist-packages (from aiohttp<=4->ipinfo>=4.4.3->zenml[server]) (1.5.0)\n",
            "Requirement already satisfied: multidict<7.0,>=4.5 in /usr/local/lib/python3.11/dist-packages (from aiohttp<=4->ipinfo>=4.4.3->zenml[server]) (6.1.0)\n",
            "Requirement already satisfied: propcache>=0.2.0 in /usr/local/lib/python3.11/dist-packages (from aiohttp<=4->ipinfo>=4.4.3->zenml[server]) (0.3.0)\n",
            "Requirement already satisfied: yarl<2.0,>=1.17.0 in /usr/local/lib/python3.11/dist-packages (from aiohttp<=4->ipinfo>=4.4.3->zenml[server]) (1.18.3)\n",
            "Requirement already satisfied: cffi>=1.12 in /usr/local/lib/python3.11/dist-packages (from cryptography>=3.4.0->pyjwt[crypto]==2.7.*; extra == \"server\"->zenml[server]) (1.17.1)\n",
            "Requirement already satisfied: smmap<6,>=3.0.1 in /usr/local/lib/python3.11/dist-packages (from gitdb<5,>=4.0.1->gitpython<4.0.0,>=3.1.18->zenml[server]) (5.0.2)\n",
            "Requirement already satisfied: ipykernel>=4.5.1 in /usr/local/lib/python3.11/dist-packages (from ipywidgets<9,>=7.5.1->rich[jupyter]>=12.0.0->zenml[server]) (6.17.1)\n",
            "Requirement already satisfied: ipython-genutils~=0.2.0 in /usr/local/lib/python3.11/dist-packages (from ipywidgets<9,>=7.5.1->rich[jupyter]>=12.0.0->zenml[server]) (0.2.0)\n",
            "Requirement already satisfied: traitlets>=4.3.1 in /usr/local/lib/python3.11/dist-packages (from ipywidgets<9,>=7.5.1->rich[jupyter]>=12.0.0->zenml[server]) (5.7.1)\n",
            "Requirement already satisfied: widgetsnbextension~=3.6.0 in /usr/local/lib/python3.11/dist-packages (from ipywidgets<9,>=7.5.1->rich[jupyter]>=12.0.0->zenml[server]) (3.6.10)\n",
            "Requirement already satisfied: ipython>=4.0.0 in /usr/local/lib/python3.11/dist-packages (from ipywidgets<9,>=7.5.1->rich[jupyter]>=12.0.0->zenml[server]) (7.34.0)\n",
            "Requirement already satisfied: jupyterlab-widgets>=1.0.0 in /usr/local/lib/python3.11/dist-packages (from ipywidgets<9,>=7.5.1->rich[jupyter]>=12.0.0->zenml[server]) (3.0.13)\n",
            "Requirement already satisfied: mdurl~=0.1 in /usr/local/lib/python3.11/dist-packages (from markdown-it-py>=2.2.0->rich>=12.0.0->rich[jupyter]>=12.0.0->zenml[server]) (0.1.2)\n",
            "Requirement already satisfied: charset-normalizer<4,>=2 in /usr/local/lib/python3.11/dist-packages (from requests>=2.26.0->docker<7.2.0,>=7.1.0->zenml[server]) (3.4.1)\n",
            "Requirement already satisfied: certifi>=2017.4.17 in /usr/local/lib/python3.11/dist-packages (from requests>=2.26.0->docker<7.2.0,>=7.1.0->zenml[server]) (2025.1.31)\n",
            "Requirement already satisfied: anyio<5,>=3.6.2 in /usr/local/lib/python3.11/dist-packages (from starlette<0.46.0,>=0.40.0->fastapi<=0.115.8,>=0.100->zenml[server]) (3.7.1)\n",
            "Requirement already satisfied: sniffio>=1.1 in /usr/local/lib/python3.11/dist-packages (from anyio<5,>=3.6.2->starlette<0.46.0,>=0.40.0->fastapi<=0.115.8,>=0.100->zenml[server]) (1.3.1)\n",
            "Requirement already satisfied: pycparser in /usr/local/lib/python3.11/dist-packages (from cffi>=1.12->cryptography>=3.4.0->pyjwt[crypto]==2.7.*; extra == \"server\"->zenml[server]) (2.22)\n",
            "Requirement already satisfied: debugpy>=1.0 in /usr/local/lib/python3.11/dist-packages (from ipykernel>=4.5.1->ipywidgets<9,>=7.5.1->rich[jupyter]>=12.0.0->zenml[server]) (1.8.0)\n",
            "Requirement already satisfied: jupyter-client>=6.1.12 in /usr/local/lib/python3.11/dist-packages (from ipykernel>=4.5.1->ipywidgets<9,>=7.5.1->rich[jupyter]>=12.0.0->zenml[server]) (6.1.12)\n",
            "Requirement already satisfied: matplotlib-inline>=0.1 in /usr/local/lib/python3.11/dist-packages (from ipykernel>=4.5.1->ipywidgets<9,>=7.5.1->rich[jupyter]>=12.0.0->zenml[server]) (0.1.7)\n",
            "Requirement already satisfied: nest-asyncio in /usr/local/lib/python3.11/dist-packages (from ipykernel>=4.5.1->ipywidgets<9,>=7.5.1->rich[jupyter]>=12.0.0->zenml[server]) (1.6.0)\n",
            "Requirement already satisfied: pyzmq>=17 in /usr/local/lib/python3.11/dist-packages (from ipykernel>=4.5.1->ipywidgets<9,>=7.5.1->rich[jupyter]>=12.0.0->zenml[server]) (24.0.1)\n",
            "Requirement already satisfied: tornado>=6.1 in /usr/local/lib/python3.11/dist-packages (from ipykernel>=4.5.1->ipywidgets<9,>=7.5.1->rich[jupyter]>=12.0.0->zenml[server]) (6.4.2)\n",
            "Requirement already satisfied: jedi>=0.16 in /usr/local/lib/python3.11/dist-packages (from ipython>=4.0.0->ipywidgets<9,>=7.5.1->rich[jupyter]>=12.0.0->zenml[server]) (0.19.2)\n",
            "Requirement already satisfied: decorator in /usr/local/lib/python3.11/dist-packages (from ipython>=4.0.0->ipywidgets<9,>=7.5.1->rich[jupyter]>=12.0.0->zenml[server]) (4.4.2)\n",
            "Requirement already satisfied: pickleshare in /usr/local/lib/python3.11/dist-packages (from ipython>=4.0.0->ipywidgets<9,>=7.5.1->rich[jupyter]>=12.0.0->zenml[server]) (0.7.5)\n",
            "Requirement already satisfied: prompt-toolkit!=3.0.0,!=3.0.1,<3.1.0,>=2.0.0 in /usr/local/lib/python3.11/dist-packages (from ipython>=4.0.0->ipywidgets<9,>=7.5.1->rich[jupyter]>=12.0.0->zenml[server]) (3.0.50)\n",
            "Requirement already satisfied: backcall in /usr/local/lib/python3.11/dist-packages (from ipython>=4.0.0->ipywidgets<9,>=7.5.1->rich[jupyter]>=12.0.0->zenml[server]) (0.2.0)\n",
            "Requirement already satisfied: pexpect>4.3 in /usr/local/lib/python3.11/dist-packages (from ipython>=4.0.0->ipywidgets<9,>=7.5.1->rich[jupyter]>=12.0.0->zenml[server]) (4.9.0)\n",
            "Requirement already satisfied: notebook>=4.4.1 in /usr/local/lib/python3.11/dist-packages (from widgetsnbextension~=3.6.0->ipywidgets<9,>=7.5.1->rich[jupyter]>=12.0.0->zenml[server]) (6.5.5)\n",
            "Requirement already satisfied: parso<0.9.0,>=0.8.4 in /usr/local/lib/python3.11/dist-packages (from jedi>=0.16->ipython>=4.0.0->ipywidgets<9,>=7.5.1->rich[jupyter]>=12.0.0->zenml[server]) (0.8.4)\n",
            "Requirement already satisfied: jupyter-core>=4.6.0 in /usr/local/lib/python3.11/dist-packages (from jupyter-client>=6.1.12->ipykernel>=4.5.1->ipywidgets<9,>=7.5.1->rich[jupyter]>=12.0.0->zenml[server]) (5.7.2)\n",
            "Requirement already satisfied: argon2-cffi in /usr/local/lib/python3.11/dist-packages (from notebook>=4.4.1->widgetsnbextension~=3.6.0->ipywidgets<9,>=7.5.1->rich[jupyter]>=12.0.0->zenml[server]) (23.1.0)\n",
            "Requirement already satisfied: nbformat in /usr/local/lib/python3.11/dist-packages (from notebook>=4.4.1->widgetsnbextension~=3.6.0->ipywidgets<9,>=7.5.1->rich[jupyter]>=12.0.0->zenml[server]) (5.10.4)\n",
            "Requirement already satisfied: nbconvert>=5 in /usr/local/lib/python3.11/dist-packages (from notebook>=4.4.1->widgetsnbextension~=3.6.0->ipywidgets<9,>=7.5.1->rich[jupyter]>=12.0.0->zenml[server]) (7.16.6)\n",
            "Requirement already satisfied: Send2Trash>=1.8.0 in /usr/local/lib/python3.11/dist-packages (from notebook>=4.4.1->widgetsnbextension~=3.6.0->ipywidgets<9,>=7.5.1->rich[jupyter]>=12.0.0->zenml[server]) (1.8.3)\n",
            "Requirement already satisfied: terminado>=0.8.3 in /usr/local/lib/python3.11/dist-packages (from notebook>=4.4.1->widgetsnbextension~=3.6.0->ipywidgets<9,>=7.5.1->rich[jupyter]>=12.0.0->zenml[server]) (0.18.1)\n",
            "Requirement already satisfied: prometheus-client in /usr/local/lib/python3.11/dist-packages (from notebook>=4.4.1->widgetsnbextension~=3.6.0->ipywidgets<9,>=7.5.1->rich[jupyter]>=12.0.0->zenml[server]) (0.21.1)\n",
            "Requirement already satisfied: nbclassic>=0.4.7 in /usr/local/lib/python3.11/dist-packages (from notebook>=4.4.1->widgetsnbextension~=3.6.0->ipywidgets<9,>=7.5.1->rich[jupyter]>=12.0.0->zenml[server]) (1.2.0)\n",
            "Requirement already satisfied: ptyprocess>=0.5 in /usr/local/lib/python3.11/dist-packages (from pexpect>4.3->ipython>=4.0.0->ipywidgets<9,>=7.5.1->rich[jupyter]>=12.0.0->zenml[server]) (0.7.0)\n",
            "Requirement already satisfied: wcwidth in /usr/local/lib/python3.11/dist-packages (from prompt-toolkit!=3.0.0,!=3.0.1,<3.1.0,>=2.0.0->ipython>=4.0.0->ipywidgets<9,>=7.5.1->rich[jupyter]>=12.0.0->zenml[server]) (0.2.13)\n",
            "Requirement already satisfied: platformdirs>=2.5 in /usr/local/lib/python3.11/dist-packages (from jupyter-core>=4.6.0->jupyter-client>=6.1.12->ipykernel>=4.5.1->ipywidgets<9,>=7.5.1->rich[jupyter]>=12.0.0->zenml[server]) (4.3.6)\n",
            "Requirement already satisfied: notebook-shim>=0.2.3 in /usr/local/lib/python3.11/dist-packages (from nbclassic>=0.4.7->notebook>=4.4.1->widgetsnbextension~=3.6.0->ipywidgets<9,>=7.5.1->rich[jupyter]>=12.0.0->zenml[server]) (0.2.4)\n",
            "Requirement already satisfied: beautifulsoup4 in /usr/local/lib/python3.11/dist-packages (from nbconvert>=5->notebook>=4.4.1->widgetsnbextension~=3.6.0->ipywidgets<9,>=7.5.1->rich[jupyter]>=12.0.0->zenml[server]) (4.13.3)\n",
            "Requirement already satisfied: bleach!=5.0.0 in /usr/local/lib/python3.11/dist-packages (from bleach[css]!=5.0.0->nbconvert>=5->notebook>=4.4.1->widgetsnbextension~=3.6.0->ipywidgets<9,>=7.5.1->rich[jupyter]>=12.0.0->zenml[server]) (6.2.0)\n",
            "Requirement already satisfied: defusedxml in /usr/local/lib/python3.11/dist-packages (from nbconvert>=5->notebook>=4.4.1->widgetsnbextension~=3.6.0->ipywidgets<9,>=7.5.1->rich[jupyter]>=12.0.0->zenml[server]) (0.7.1)\n",
            "Requirement already satisfied: jupyterlab-pygments in /usr/local/lib/python3.11/dist-packages (from nbconvert>=5->notebook>=4.4.1->widgetsnbextension~=3.6.0->ipywidgets<9,>=7.5.1->rich[jupyter]>=12.0.0->zenml[server]) (0.3.0)\n",
            "Requirement already satisfied: mistune<4,>=2.0.3 in /usr/local/lib/python3.11/dist-packages (from nbconvert>=5->notebook>=4.4.1->widgetsnbextension~=3.6.0->ipywidgets<9,>=7.5.1->rich[jupyter]>=12.0.0->zenml[server]) (3.1.2)\n",
            "Requirement already satisfied: nbclient>=0.5.0 in /usr/local/lib/python3.11/dist-packages (from nbconvert>=5->notebook>=4.4.1->widgetsnbextension~=3.6.0->ipywidgets<9,>=7.5.1->rich[jupyter]>=12.0.0->zenml[server]) (0.10.2)\n",
            "Requirement already satisfied: pandocfilters>=1.4.1 in /usr/local/lib/python3.11/dist-packages (from nbconvert>=5->notebook>=4.4.1->widgetsnbextension~=3.6.0->ipywidgets<9,>=7.5.1->rich[jupyter]>=12.0.0->zenml[server]) (1.5.1)\n",
            "Requirement already satisfied: fastjsonschema>=2.15 in /usr/local/lib/python3.11/dist-packages (from nbformat->notebook>=4.4.1->widgetsnbextension~=3.6.0->ipywidgets<9,>=7.5.1->rich[jupyter]>=12.0.0->zenml[server]) (2.21.1)\n",
            "Requirement already satisfied: jsonschema>=2.6 in /usr/local/lib/python3.11/dist-packages (from nbformat->notebook>=4.4.1->widgetsnbextension~=3.6.0->ipywidgets<9,>=7.5.1->rich[jupyter]>=12.0.0->zenml[server]) (4.23.0)\n",
            "Requirement already satisfied: argon2-cffi-bindings in /usr/local/lib/python3.11/dist-packages (from argon2-cffi->notebook>=4.4.1->widgetsnbextension~=3.6.0->ipywidgets<9,>=7.5.1->rich[jupyter]>=12.0.0->zenml[server]) (21.2.0)\n",
            "Requirement already satisfied: webencodings in /usr/local/lib/python3.11/dist-packages (from bleach!=5.0.0->bleach[css]!=5.0.0->nbconvert>=5->notebook>=4.4.1->widgetsnbextension~=3.6.0->ipywidgets<9,>=7.5.1->rich[jupyter]>=12.0.0->zenml[server]) (0.5.1)\n",
            "Requirement already satisfied: tinycss2<1.5,>=1.1.0 in /usr/local/lib/python3.11/dist-packages (from bleach[css]!=5.0.0->nbconvert>=5->notebook>=4.4.1->widgetsnbextension~=3.6.0->ipywidgets<9,>=7.5.1->rich[jupyter]>=12.0.0->zenml[server]) (1.4.0)\n",
            "Requirement already satisfied: jsonschema-specifications>=2023.03.6 in /usr/local/lib/python3.11/dist-packages (from jsonschema>=2.6->nbformat->notebook>=4.4.1->widgetsnbextension~=3.6.0->ipywidgets<9,>=7.5.1->rich[jupyter]>=12.0.0->zenml[server]) (2024.10.1)\n",
            "Requirement already satisfied: referencing>=0.28.4 in /usr/local/lib/python3.11/dist-packages (from jsonschema>=2.6->nbformat->notebook>=4.4.1->widgetsnbextension~=3.6.0->ipywidgets<9,>=7.5.1->rich[jupyter]>=12.0.0->zenml[server]) (0.36.2)\n",
            "Requirement already satisfied: rpds-py>=0.7.1 in /usr/local/lib/python3.11/dist-packages (from jsonschema>=2.6->nbformat->notebook>=4.4.1->widgetsnbextension~=3.6.0->ipywidgets<9,>=7.5.1->rich[jupyter]>=12.0.0->zenml[server]) (0.23.1)\n",
            "Requirement already satisfied: jupyter-server<3,>=1.8 in /usr/local/lib/python3.11/dist-packages (from notebook-shim>=0.2.3->nbclassic>=0.4.7->notebook>=4.4.1->widgetsnbextension~=3.6.0->ipywidgets<9,>=7.5.1->rich[jupyter]>=12.0.0->zenml[server]) (1.24.0)\n",
            "Requirement already satisfied: soupsieve>1.2 in /usr/local/lib/python3.11/dist-packages (from beautifulsoup4->nbconvert>=5->notebook>=4.4.1->widgetsnbextension~=3.6.0->ipywidgets<9,>=7.5.1->rich[jupyter]>=12.0.0->zenml[server]) (2.6)\n",
            "Requirement already satisfied: websocket-client in /usr/local/lib/python3.11/dist-packages (from jupyter-server<3,>=1.8->notebook-shim>=0.2.3->nbclassic>=0.4.7->notebook>=4.4.1->widgetsnbextension~=3.6.0->ipywidgets<9,>=7.5.1->rich[jupyter]>=12.0.0->zenml[server]) (1.8.0)\n",
            "\u001b[2K\u001b[32m⠹\u001b[0m Installing integrations...\n",
            "\u001b[1A\u001b[2KRequirement already satisfied: pyparsing==2.4.2 in /usr/local/lib/python3.11/dist-packages (2.4.2)\n"
          ]
        }
      ]
    },
    {
      "cell_type": "code",
      "execution_count": null,
      "metadata": {
        "id": "mqEv2IcWD2rR"
      },
      "outputs": [],
      "source": [
        "NGROK_TOKEN = \"2ttHmTDiKf9y4DzeP9rUlxgKAtw_3H3e5Gr7HECJqbhzJ5p5Y\""
      ]
    },
    {
      "cell_type": "code",
      "source": [
        "from zenml.environment import Environment\n",
        "\n",
        "if Environment.in_google_colab():\n",
        "\n",
        "  # install and authenticate ngrok\n",
        "  !pip install pyngrok\n",
        "  !ngrok authtoken {NGROK_TOKEN}"
      ],
      "metadata": {
        "colab": {
          "base_uri": "https://localhost:8080/"
        },
        "id": "AaXvKauHiWlo",
        "outputId": "7ae67bd8-6bf0-4cb4-e122-bbbca29eb4e3"
      },
      "execution_count": null,
      "outputs": [
        {
          "output_type": "stream",
          "name": "stdout",
          "text": [
            "Collecting pyngrok\n",
            "  Downloading pyngrok-7.2.3-py3-none-any.whl.metadata (8.7 kB)\n",
            "Requirement already satisfied: PyYAML>=5.1 in /usr/local/lib/python3.11/dist-packages (from pyngrok) (6.0.2)\n",
            "Downloading pyngrok-7.2.3-py3-none-any.whl (23 kB)\n",
            "Installing collected packages: pyngrok\n",
            "Successfully installed pyngrok-7.2.3\n",
            "Authtoken saved to configuration file: /root/.config/ngrok/ngrok.yml\n"
          ]
        }
      ]
    },
    {
      "cell_type": "markdown",
      "source": [
        "### ZenML Setup"
      ],
      "metadata": {
        "id": "LwkdOZeMtIi7"
      }
    },
    {
      "cell_type": "code",
      "source": [
        "!rm -rf .zen\n",
        "!zenml init"
      ],
      "metadata": {
        "colab": {
          "base_uri": "https://localhost:8080/"
        },
        "collapsed": true,
        "id": "rJC-yYP3irVH",
        "outputId": "042009a8-aa52-42c7-bc6b-ada6dd03b675"
      },
      "execution_count": null,
      "outputs": [
        {
          "output_type": "stream",
          "name": "stdout",
          "text": [
            "\u001b[?25l\u001b[1;35mInitializing the ZenML global configuration version to 0.75.0\u001b[0m\n",
            "\u001b[1;35mCreating database tables\u001b[0m\n",
            "\u001b[32m⠋\u001b[0m Initializing ZenML repository at /content.\n",
            "\u001b[2K\u001b[1A\u001b[2K\u001b[32m⠙\u001b[0m Initializing ZenML repository at /content.\n",
            "\u001b[2K\u001b[1A\u001b[2K\u001b[32m⠹\u001b[0m Initializing ZenML repository at /content.\n",
            "\u001b[2K\u001b[1A\u001b[2K\u001b[32m⠸\u001b[0m Initializing ZenML repository at /content.\n",
            "\u001b[2K\u001b[1A\u001b[2K\u001b[32m⠼\u001b[0m Initializing ZenML repository at /content.\n",
            "\u001b[2K\u001b[1A\u001b[2K\u001b[32m⠴\u001b[0m Initializing ZenML repository at /content.\n",
            "\u001b[2K\u001b[1A\u001b[2K\u001b[32m⠦\u001b[0m Initializing ZenML repository at /content.\n",
            "\u001b[2K\u001b[1A\u001b[2K\u001b[32m⠧\u001b[0m Initializing ZenML repository at /content.\n",
            "\u001b[2K\u001b[1A\u001b[2K\u001b[32m⠇\u001b[0m Initializing ZenML repository at /content.\n",
            "\u001b[2K\u001b[1A\u001b[2K\u001b[32m⠏\u001b[0m Initializing ZenML repository at /content.\n",
            "\u001b[2K\u001b[1A\u001b[2K\u001b[32m⠋\u001b[0m Initializing ZenML repository at /content.\n",
            "\u001b[2K\u001b[1A\u001b[2K\u001b[32m⠙\u001b[0m Initializing ZenML repository at /content.\n",
            "\u001b[2K\u001b[1A\u001b[2K\u001b[32m⠹\u001b[0m Initializing ZenML repository at /content.\n",
            "\u001b[2K\u001b[1A\u001b[2K\u001b[32m⠸\u001b[0m Initializing ZenML repository at /content.\n",
            "\u001b[2K\u001b[1A\u001b[2K\u001b[32m⠦\u001b[0m Initializing ZenML repository at /content.\n",
            "\u001b[2K\u001b[1A\u001b[2K\u001b[32m⠧\u001b[0m Initializing ZenML repository at /content.\n",
            "\u001b[2K\u001b[1A\u001b[2K\u001b[32m⠇\u001b[0m Initializing ZenML repository at /content.\n",
            "\u001b[2K\u001b[1A\u001b[2K\u001b[32m⠏\u001b[0m Initializing ZenML repository at /content.\n",
            "\u001b[2K\u001b[1A\u001b[2K\u001b[32m⠋\u001b[0m Initializing ZenML repository at /content.\n",
            "\u001b[2K\u001b[1A\u001b[2K\u001b[32m⠙\u001b[0m Initializing ZenML repository at /content.\n",
            "\u001b[2K\u001b[1A\u001b[2K\u001b[32m⠹\u001b[0m Initializing ZenML repository at /content.\n",
            "\u001b[2K\u001b[1A\u001b[2K\u001b[32m⠸\u001b[0m Initializing ZenML repository at /content.\n",
            "\u001b[2K\u001b[1A\u001b[2K\u001b[32m⠼\u001b[0m Initializing ZenML repository at /content.\n",
            "\u001b[2K\u001b[1A\u001b[2K\u001b[32m⠴\u001b[0m Initializing ZenML repository at /content.\n",
            "\u001b[2K\u001b[1A\u001b[2K\u001b[32m⠧\u001b[0m Initializing ZenML repository at /content.\n",
            "\u001b[2K\u001b[1A\u001b[2K\u001b[32m⠇\u001b[0m Initializing ZenML repository at /content.\n",
            "\u001b[2K\u001b[1A\u001b[2K\u001b[32m⠏\u001b[0m Initializing ZenML repository at /content.\n",
            "\u001b[2K\u001b[1A\u001b[2K\u001b[32m⠋\u001b[0m Initializing ZenML repository at /content.\n",
            "\u001b[2K\u001b[1A\u001b[2K\u001b[32m⠙\u001b[0m Initializing ZenML repository at /content.\n",
            "\u001b[2K\u001b[1A\u001b[2K\u001b[32m⠹\u001b[0m Initializing ZenML repository at /content.\n",
            "\u001b[2K\u001b[1A\u001b[2K\u001b[32m⠸\u001b[0m Initializing ZenML repository at /content.\n",
            "\u001b[2K\u001b[1A\u001b[2K\u001b[32m⠼\u001b[0m Initializing ZenML repository at /content.\n",
            "\u001b[2K\u001b[1A\u001b[2K\u001b[32m⠴\u001b[0m Initializing ZenML repository at /content.\n",
            "\u001b[2K\u001b[1A\u001b[2K\u001b[32m⠦\u001b[0m Initializing ZenML repository at /content.\n",
            "\u001b[2K\u001b[1A\u001b[2K\u001b[32m⠧\u001b[0m Initializing ZenML repository at /content.\n",
            "\u001b[2K\u001b[1A\u001b[2K\u001b[32m⠇\u001b[0m Initializing ZenML repository at /content.\n",
            "\u001b[2K\u001b[1A\u001b[2K\u001b[32m⠏\u001b[0m Initializing ZenML repository at /content.\n",
            "\u001b[2K\u001b[1A\u001b[2K\u001b[32m⠋\u001b[0m Initializing ZenML repository at /content.\n",
            "\u001b[2K\u001b[1A\u001b[2K\u001b[32m⠙\u001b[0m Initializing ZenML repository at /content.\n",
            "\u001b[2K\u001b[1A\u001b[2K\u001b[32m⠹\u001b[0m Initializing ZenML repository at /content.\n",
            "\u001b[2K\u001b[1A\u001b[2K\u001b[32m⠸\u001b[0m Initializing ZenML repository at /content.\n",
            "\u001b[2K\u001b[1A\u001b[2K\u001b[32m⠼\u001b[0m Initializing ZenML repository at /content.\n",
            "\u001b[2K\u001b[1A\u001b[2K\u001b[32m⠴\u001b[0m Initializing ZenML repository at /content.\n",
            "\u001b[2K\u001b[1A\u001b[2K\u001b[32m⠦\u001b[0m Initializing ZenML repository at /content.\n",
            "\u001b[2K\u001b[1A\u001b[2K\u001b[32m⠧\u001b[0m Initializing ZenML repository at /content.\n",
            "\u001b[2K\u001b[1A\u001b[2K\u001b[32m⠇\u001b[0m Initializing ZenML repository at /content.\n",
            "\u001b[2K\u001b[1A\u001b[2K\u001b[32m⠏\u001b[0m Initializing ZenML repository at /content.\n",
            "\u001b[2K\u001b[1A\u001b[2K\u001b[32m⠋\u001b[0m Initializing ZenML repository at /content.\n",
            "\u001b[2K\u001b[1A\u001b[2K\u001b[32m⠙\u001b[0m Initializing ZenML repository at /content.\n",
            "\u001b[2K\u001b[1A\u001b[2K\u001b[32m⠹\u001b[0m Initializing ZenML repository at /content.\n",
            "\u001b[2K\u001b[1A\u001b[2K\u001b[32m⠸\u001b[0m Initializing ZenML repository at /content.\n",
            "\u001b[2K\u001b[1A\u001b[2K\u001b[32m⠼\u001b[0m Initializing ZenML repository at /content.\n",
            "\u001b[2K\u001b[1A\u001b[2K\u001b[32m⠴\u001b[0m Initializing ZenML repository at /content.\n",
            "\u001b[2K\u001b[1A\u001b[2K\u001b[32m⠦\u001b[0m Initializing ZenML repository at /content.\n",
            "\u001b[2K\u001b[1A\u001b[2K\u001b[32m⠧\u001b[0m Initializing ZenML repository at /content.\n",
            "\u001b[2K\u001b[1A\u001b[2K\u001b[32m⠇\u001b[0m Initializing ZenML repository at /content.\n",
            "\u001b[2K\u001b[1A\u001b[2K\u001b[32m⠏\u001b[0m Initializing ZenML repository at /content.\n",
            "\u001b[2K\u001b[1A\u001b[2K\u001b[32m⠋\u001b[0m Initializing ZenML repository at /content.\n",
            "\u001b[2K\u001b[1A\u001b[2K\u001b[32m⠙\u001b[0m Initializing ZenML repository at /content.\n",
            "\u001b[2K\u001b[1A\u001b[2K\u001b[32m⠹\u001b[0m Initializing ZenML repository at /content.\n",
            "\u001b[2K\u001b[1A\u001b[2K\u001b[32m⠸\u001b[0m Initializing ZenML repository at /content.\n",
            "\u001b[2K\u001b[1A\u001b[2K\u001b[32m⠼\u001b[0m Initializing ZenML repository at /content.\n",
            "\u001b[2K\u001b[1A\u001b[2K\u001b[32m⠴\u001b[0m Initializing ZenML repository at /content.\n",
            "\u001b[2K\u001b[1A\u001b[2K\u001b[32m⠦\u001b[0m Initializing ZenML repository at /content.\n",
            "\u001b[2K\u001b[1A\u001b[2K\u001b[32m⠧\u001b[0m Initializing ZenML repository at /content.\n",
            "\u001b[1;35mCreating default workspace 'default' ...\u001b[0m\n",
            "\u001b[1;35mCreating default stack in workspace default...\u001b[0m\n",
            "\u001b[2K\u001b[1A\u001b[2K\u001b[32m⠇\u001b[0m Initializing ZenML repository at /content.\n",
            "\u001b[2K\u001b[1A\u001b[2K\u001b[32m⠏\u001b[0m Initializing ZenML repository at /content.\n",
            "\u001b[2K\u001b[1A\u001b[2K\u001b[32m⠋\u001b[0m Initializing ZenML repository at /content.\n",
            "\u001b[2K\u001b[1A\u001b[2K\u001b[32m⠙\u001b[0m Initializing ZenML repository at /content.\n",
            "\u001b[2K\u001b[1A\u001b[2K\u001b[32m⠹\u001b[0m Initializing ZenML repository at /content.\n",
            "\u001b[2K\u001b[1A\u001b[2K\u001b[32m⠸\u001b[0m Initializing ZenML repository at /content.\n",
            "\u001b[2K\u001b[1A\u001b[2K\u001b[32m⠼\u001b[0m Initializing ZenML repository at /content.\n",
            "\u001b[1;35mSetting the global active workspace to 'default'.\u001b[0m\n",
            "\u001b[33mSetting the global active stack to default.\u001b[0m\n",
            "\u001b[1;35mSetting the repo active workspace to 'default'.\u001b[0m\n",
            "\u001b[33mSetting the repo active stack to default.\u001b[0m\n",
            "\u001b[2K\u001b[1A\u001b[2K\u001b[2;36mZenML repository initialized at \u001b[0m\u001b[2;35m/\u001b[0m\u001b[2;95mcontent.\u001b[0m\n",
            "\u001b[2;32m⠼\u001b[0m\u001b[2;36m Initializing ZenML repository at /content.\u001b[0m\n",
            "\u001b[2K\u001b[1A\u001b[2K\u001b[32m⠼\u001b[0m Initializing ZenML repository at /content.\n",
            "\n",
            "\u001b[1A\u001b[2K\u001b[1A\u001b[2K\u001b[2;36mThe local active stack was initialized to \u001b[0m\u001b[2;32m'default'\u001b[0m\u001b[2;36m. This local configuration will only take effect \u001b[0m\n",
            "\u001b[2;36mwhen you're running ZenML from the initialized repository root, or from a subdirectory. For more \u001b[0m\n",
            "\u001b[2;36minformation on repositories and configurations, please visit \u001b[0m\n",
            "\u001b[2;4;94mhttps://docs.zenml.io/user-guide/production-guide/understand-stacks.\u001b[0m\n"
          ]
        }
      ]
    },
    {
      "cell_type": "markdown",
      "source": [
        "### First example of ML Code (classify handwritten digits using SVC)"
      ],
      "metadata": {
        "id": "CwdBXpumt3tE"
      }
    },
    {
      "cell_type": "markdown",
      "source": [
        "We train a SVC to classify images of handwritten digits. We load the data, train a model on the training set and test it on the test set."
      ],
      "metadata": {
        "id": "5YIMTZ8-t-zd"
      }
    },
    {
      "cell_type": "code",
      "source": [
        "import numpy as np\n",
        "from sklearn.base import ClassifierMixin\n",
        "from sklearn.svm import SVC\n",
        "from sklearn.datasets import load_digits\n",
        "from sklearn.model_selection import train_test_split"
      ],
      "metadata": {
        "id": "mMz6g14CtQPk"
      },
      "execution_count": null,
      "outputs": []
    },
    {
      "cell_type": "code",
      "source": [
        "def train_test() -> None:     ## \"-> None\" tells other developers and other functions that this function is \\\n",
        "                              ##  only meant for side effects (e.g., training a model, logging, saving files)\n",
        "                              ##  and won't return anything\n",
        "  \"\"\"Simple Train and test of a sklearn SVC on the digits dataset for the example\"\"\"\n",
        "  digits = load_digits()\n",
        "  data = digits.images.reshape((len(digits.images), -1))\n",
        "  X_train, X_test, y_train, y_test = train_test_split(\n",
        "      digits.data, digits.target, test_size=0.2, random_state=42\n",
        "  )\n",
        "  model = SVC(gamma=0.001)\n",
        "  model.fit(X_train, y_train)\n",
        "  test_acc = model.score(X_test, y_test)\n",
        "  print(f\"Test accuracy: {test_acc}\")"
      ],
      "metadata": {
        "id": "sYEWRfSuuXF7"
      },
      "execution_count": null,
      "outputs": []
    },
    {
      "cell_type": "code",
      "source": [
        "train_test()"
      ],
      "metadata": {
        "colab": {
          "base_uri": "https://localhost:8080/"
        },
        "id": "VAApFXALu1Fh",
        "outputId": "bf0ca7cd-bd5d-48d3-a805-80e5233561ce"
      },
      "execution_count": null,
      "outputs": [
        {
          "output_type": "stream",
          "name": "stdout",
          "text": [
            "Test accuracy: 0.9888888888888889\n"
          ]
        }
      ]
    },
    {
      "cell_type": "markdown",
      "source": [
        "---"
      ],
      "metadata": {
        "id": "Ld8bb5N3x2AA"
      }
    },
    {
      "cell_type": "code",
      "source": [
        "import matplotlib.pyplot as plt\n",
        "digits = load_digits()\n",
        "plt.imshow(digits.images[0], cmap=plt.cm.gray_r, interpolation='nearest')\n",
        "plt.show()"
      ],
      "metadata": {
        "colab": {
          "base_uri": "https://localhost:8080/",
          "height": 430
        },
        "id": "w521O59Mv-bX",
        "outputId": "e03d38d4-59de-4205-cfed-2543847b71e2"
      },
      "execution_count": null,
      "outputs": [
        {
          "output_type": "display_data",
          "data": {
            "text/plain": [
              "<Figure size 640x480 with 1 Axes>"
            ],
            "image/png": "[encoded data removed]"
          },
          "metadata": {}
        }
      ]
    },
    {
      "cell_type": "markdown",
      "source": [
        "---"
      ],
      "metadata": {
        "id": "77xGGMzCx3ba"
      }
    },
    {
      "cell_type": "markdown",
      "source": [
        "### Same example using ZenML"
      ],
      "metadata": {
        "id": "lqptHD0T1SGF"
      }
    },
    {
      "cell_type": "markdown",
      "source": [
        "We redo the same example but using ZenML.\n",
        "\n",
        "ZenML allows us to define each steps (data loading, model training and model evaluation) as a ZenML Pipeline Step. It is done by simply moving each step to its own function and decorating them with ZenML's `@step` [python decorator](https://stackoverflow.com/questions/739654/how-do-i-make-function-decorators-and-chain-them-together/1594484#1594484)."
      ],
      "metadata": {
        "id": "Mws70_WX1xSk"
      }
    },
    {
      "cell_type": "code",
      "source": [
        "from zenml import step\n",
        "from typing_extensions import Annotated\n",
        "import pandas as pd\n",
        "from typing import Tuple"
      ],
      "metadata": {
        "id": "tGS-vPPRweVo"
      },
      "execution_count": null,
      "outputs": []
    },
    {
      "cell_type": "code",
      "source": [
        "digits = load_digits()\n",
        "data = digits.images.reshape((len(digits.images), -1))\n",
        "X_train, X_test, y_train, y_test = train_test_split(\n",
        "     digits.data, digits.target, test_size=0.2, random_state=42\n",
        ")\n",
        "print(type(X_train))\n",
        "print(type(y_train))\n",
        "print(type(X_test))\n",
        "print(type(y_test))"
      ],
      "metadata": {
        "colab": {
          "base_uri": "https://localhost:8080/"
        },
        "id": "zOFAtKI16wAy",
        "outputId": "44eb9f0a-665d-45aa-89c9-4876b3ad6a87"
      },
      "execution_count": null,
      "outputs": [
        {
          "output_type": "stream",
          "name": "stdout",
          "text": [
            "<class 'numpy.ndarray'>\n",
            "<class 'numpy.ndarray'>\n",
            "<class 'numpy.ndarray'>\n",
            "<class 'numpy.ndarray'>\n"
          ]
        }
      ]
    },
    {
      "cell_type": "code",
      "source": [
        "@step\n",
        "def importer() -> Tuple[\n",
        "    Annotated[np.ndarray, \"X_train\"],\n",
        "    Annotated[np.ndarray, \"X_test\"],\n",
        "    Annotated[np.ndarray, \"y_train\"],\n",
        "    Annotated[np.ndarray, \"y_test\"],\n",
        "]:\n",
        "    \"\"\"Load the digits dataset as numpy arrays\"\"\"\n",
        "    digits = load_digits()\n",
        "    data = digits.images.reshape((len(digits.images), -1))  # Reshaped correctly\n",
        "    X_train, X_test, y_train, y_test = train_test_split(\n",
        "        data, digits.target, test_size=0.2, random_state=42\n",
        "    )\n",
        "\n",
        "    print(f\"Shapes -> X_train: {X_train.shape}, y_train: {y_train.shape}\")\n",
        "    print(f\"Shapes -> X_test: {X_test.shape}, y_test: {y_test.shape}\")\n",
        "\n",
        "    return X_train, X_test, y_train, y_test\n",
        "\n",
        "\n",
        "@step\n",
        "def svc_trainer(\n",
        "    X_train: np.ndarray,\n",
        "    y_train: np.ndarray,\n",
        ") -> ClassifierMixin:      ## https://scikit-learn.org/stable/modules/generated/sklearn.base.ClassifierMixin.html\n",
        "    \"\"\"Train a sklearn SVC classifier\"\"\"\n",
        "    model = SVC(gamma=0.001)\n",
        "    model.fit(X_train, y_train)\n",
        "    return model\n",
        "\n",
        "\n",
        "@step\n",
        "def evaluator(\n",
        "    X_test: np.ndarray,\n",
        "    y_test: np.ndarray,\n",
        "    model: ClassifierMixin,\n",
        ") -> float:\n",
        "    \"\"\"Evaluate the sklearn SVC model\"\"\"\n",
        "    test_acc = model.score(X_test, y_test)\n",
        "    print(f\"Test accuracy: {test_acc}\")\n",
        "    return test_acc"
      ],
      "metadata": {
        "id": "BfFyBCIb3Sz9"
      },
      "execution_count": null,
      "outputs": []
    },
    {
      "cell_type": "markdown",
      "source": [
        "Then you have to use the `@pipeline` decorator from ZenML to connect all the steps."
      ],
      "metadata": {
        "id": "u5Oen0XCav36"
      }
    },
    {
      "cell_type": "code",
      "source": [
        "from zenml import pipeline"
      ],
      "metadata": {
        "id": "vbgRgrG37h3_"
      },
      "execution_count": null,
      "outputs": []
    },
    {
      "cell_type": "code",
      "source": [
        "@pipeline\n",
        "def digits_pipeline():\n",
        "  \"\"\"Links all the steps together in a pipeline\"\"\"\n",
        "  X_train, X_test, y_train, y_test = importer()\n",
        "  model = svc_trainer(X_train = X_train, y_train = y_train)\n",
        "  evaluator(X_test = X_test, y_test = y_test, model = model)"
      ],
      "metadata": {
        "id": "13f9HdbObG9C"
      },
      "execution_count": null,
      "outputs": []
    },
    {
      "cell_type": "markdown",
      "source": [
        "### Run ZenML Pipeline"
      ],
      "metadata": {
        "id": "et4Y38Sxbg2D"
      }
    },
    {
      "cell_type": "code",
      "source": [
        "digits_svc_pipeline = digits_pipeline()"
      ],
      "metadata": {
        "colab": {
          "base_uri": "https://localhost:8080/"
        },
        "id": "qMCYpZ5abfnJ",
        "outputId": "0fad9bed-5852-47d9-e4c8-bb18ed4b6e3b"
      },
      "execution_count": null,
      "outputs": [
        {
          "output_type": "stream",
          "name": "stdout",
          "text": [
            "\u001b[1;35mInitiating a new run for the pipeline: \u001b[0m\u001b[1;36mdigits_pipeline\u001b[1;35m.\u001b[0m\n",
            "\u001b[1;35mRegistered new pipeline: \u001b[0m\u001b[1;36mdigits_pipeline\u001b[1;35m.\u001b[0m\n",
            "\u001b[1;35mUsing user: \u001b[0m\u001b[1;36mdefault\u001b[1;35m\u001b[0m\n",
            "\u001b[1;35mUsing stack: \u001b[0m\u001b[1;36mdefault\u001b[1;35m\u001b[0m\n",
            "\u001b[1;35m  artifact_store: \u001b[0m\u001b[1;36mdefault\u001b[1;35m\u001b[0m\n",
            "\u001b[1;35m  orchestrator: \u001b[0m\u001b[1;36mdefault\u001b[1;35m\u001b[0m\n",
            "\u001b[1;35mYou can visualize your pipeline runs in the \u001b[0m\u001b[1;36mZenML Dashboard\u001b[1;35m. In order to try it locally, please run \u001b[0m\u001b[1;36mzenml login --local\u001b[1;35m.\u001b[0m\n",
            "\u001b[1;35mStep \u001b[0m\u001b[1;36mimporter\u001b[1;35m has started.\u001b[0m\n",
            "Shapes -> X_train: (1437, 64), y_train: (1437,)\n",
            "Shapes -> X_test: (360, 64), y_test: (360,)\n",
            "\u001b[1;35mStep \u001b[0m\u001b[1;36mimporter\u001b[1;35m has finished in \u001b[0m\u001b[1;36m4.875s\u001b[1;35m.\u001b[0m\n",
            "\u001b[1;35mStep \u001b[0m\u001b[1;36msvc_trainer\u001b[1;35m has started.\u001b[0m\n",
            "\u001b[1;35mStep \u001b[0m\u001b[1;36msvc_trainer\u001b[1;35m has finished in \u001b[0m\u001b[1;36m2.065s\u001b[1;35m.\u001b[0m\n",
            "\u001b[1;35mStep \u001b[0m\u001b[1;36mevaluator\u001b[1;35m has started.\u001b[0m\n",
            "Test accuracy: 0.9888888888888889\n",
            "\u001b[1;35mStep \u001b[0m\u001b[1;36mevaluator\u001b[1;35m has finished in \u001b[0m\u001b[1;36m0.287s\u001b[1;35m.\u001b[0m\n",
            "\u001b[1;35mPipeline run has finished in \u001b[0m\u001b[1;36m7.474s\u001b[1;35m.\u001b[0m\n"
          ]
        }
      ]
    },
    {
      "cell_type": "markdown",
      "source": [
        "---\n",
        "\n",
        "### Old version of ZenML code for debugging and quick iterations"
      ],
      "metadata": {
        "id": "08VJpXTRlEfI"
      }
    },
    {
      "cell_type": "code",
      "source": [
        "digits_svc_pipeline.run(unlisted=True)"
      ],
      "metadata": {
        "colab": {
          "base_uri": "https://localhost:8080/",
          "height": 241
        },
        "id": "uLzYVKiDbzU3",
        "outputId": "b43119b5-8ea1-41d6-d101-a4feba7ed452"
      },
      "execution_count": null,
      "outputs": [
        {
          "output_type": "display_data",
          "data": {
            "text/plain": [
              "\u001b[31m╭─\u001b[0m\u001b[31m──────────────────────────────\u001b[0m\u001b[31m \u001b[0m\u001b[1;31mTraceback \u001b[0m\u001b[1;2;31m(most recent call last)\u001b[0m\u001b[31m \u001b[0m\u001b[31m───────────────────────────────\u001b[0m\u001b[31m─╮\u001b[0m\n",
              "\u001b[31m│\u001b[0m in \u001b[92m<cell line: 0>\u001b[0m:\u001b[94m1\u001b[0m                                                                              \u001b[31m│\u001b[0m\n",
              "\u001b[31m│\u001b[0m                                                                                                  \u001b[31m│\u001b[0m\n",
              "\u001b[31m│\u001b[0m \u001b[2;33m/usr/local/lib/python3.11/dist-packages/pydantic/\u001b[0m\u001b[1;33mmain.py\u001b[0m:\u001b[94m828\u001b[0m in \u001b[92m__getattr__\u001b[0m                      \u001b[31m│\u001b[0m\n",
              "\u001b[31m│\u001b[0m                                                                                                  \u001b[31m│\u001b[0m\n",
              "\u001b[31m│\u001b[0m   \u001b[2m 825 \u001b[0m\u001b[2m│   │   │   │   │   │   \u001b[0m\u001b[94mreturn\u001b[0m \u001b[96msuper\u001b[0m().\u001b[92m__getattribute__\u001b[0m(item)  \u001b[2m# Raises AttributeError i\u001b[0m  \u001b[31m│\u001b[0m\n",
              "\u001b[31m│\u001b[0m   \u001b[2m 826 \u001b[0m\u001b[2m│   │   │   │   │   \u001b[0m\u001b[94melse\u001b[0m:                                                                 \u001b[31m│\u001b[0m\n",
              "\u001b[31m│\u001b[0m   \u001b[2m 827 \u001b[0m\u001b[2m│   │   │   │   │   │   \u001b[0m\u001b[2m# this is the current error\u001b[0m                                       \u001b[31m│\u001b[0m\n",
              "\u001b[31m│\u001b[0m \u001b[31m❱ \u001b[0m 828 \u001b[2m│   │   │   │   │   │   \u001b[0m\u001b[1;4;94mraise\u001b[0m\u001b[1;4m \u001b[0m\u001b[1;4;96mAttributeError\u001b[0m\u001b[1;4m(\u001b[0m\u001b[1;4;33mf\u001b[0m\u001b[1;4;33m'\u001b[0m\u001b[1;4;33m{\u001b[0m\u001b[1;4;96mtype\u001b[0m\u001b[1;4m(\u001b[0m\u001b[1;4;96mself\u001b[0m\u001b[1;4m).\u001b[0m\u001b[1;4;91m__name__\u001b[0m\u001b[1;4;33m!r}\u001b[0m\u001b[1;4;33m object has no att\u001b[0m  \u001b[31m│\u001b[0m\n",
              "\u001b[31m│\u001b[0m   \u001b[2m 829 \u001b[0m\u001b[2m│   │   \u001b[0m                                                                                  \u001b[31m│\u001b[0m\n",
              "\u001b[31m│\u001b[0m   \u001b[2m 830 \u001b[0m\u001b[2m│   │   \u001b[0m\u001b[94mdef\u001b[0m \u001b[92m__setattr__\u001b[0m(\u001b[96mself\u001b[0m, name: \u001b[96mstr\u001b[0m, value: Any) -> \u001b[94mNone\u001b[0m:                             \u001b[31m│\u001b[0m\n",
              "\u001b[31m│\u001b[0m   \u001b[2m 831 \u001b[0m\u001b[2m│   │   │   \u001b[0m\u001b[94mif\u001b[0m name \u001b[95min\u001b[0m \u001b[96mself\u001b[0m.__class_vars__:                                               \u001b[31m│\u001b[0m\n",
              "\u001b[31m╰──────────────────────────────────────────────────────────────────────────────────────────────────╯\u001b[0m\n",
              "\u001b[1;91mAttributeError: \u001b[0m\u001b[32m'PipelineRunResponse'\u001b[0m object has no attribute \u001b[32m'run'\u001b[0m\n"
            ],
            "text/html": [
              "<pre style=\"white-space:pre;overflow-x:auto;line-height:normal;font-family:Menlo,'DejaVu Sans Mono',consolas,'Courier New',monospace\"><span style=\"color: #800000; text-decoration-color: #800000\">╭─────────────────────────────── </span><span style=\"color: #800000; text-decoration-color: #800000; font-weight: bold\">Traceback </span><span style=\"color: #bf7f7f; text-decoration-color: #bf7f7f; font-weight: bold\">(most recent call last)</span><span style=\"color: #800000; text-decoration-color: #800000\"> ────────────────────────────────╮</span>\n",
              "<span style=\"color: #800000; text-decoration-color: #800000\">│</span> in <span style=\"color: #00ff00; text-decoration-color: #00ff00\">&lt;cell line: 0&gt;</span>:<span style=\"color: #0000ff; text-decoration-color: #0000ff\">1</span>                                                                              <span style=\"color: #800000; text-decoration-color: #800000\">│</span>\n",
              "<span style=\"color: #800000; text-decoration-color: #800000\">│</span>                                                                                                  <span style=\"color: #800000; text-decoration-color: #800000\">│</span>\n",
              "<span style=\"color: #800000; text-decoration-color: #800000\">│</span> <span style=\"color: #bfbf7f; text-decoration-color: #bfbf7f\">/usr/local/lib/python3.11/dist-packages/pydantic/</span><span style=\"color: #808000; text-decoration-color: #808000; font-weight: bold\">main.py</span>:<span style=\"color: #0000ff; text-decoration-color: #0000ff\">828</span> in <span style=\"color: #00ff00; text-decoration-color: #00ff00\">__getattr__</span>                      <span style=\"color: #800000; text-decoration-color: #800000\">│</span>\n",
              "<span style=\"color: #800000; text-decoration-color: #800000\">│</span>                                                                                                  <span style=\"color: #800000; text-decoration-color: #800000\">│</span>\n",
              "<span style=\"color: #800000; text-decoration-color: #800000\">│</span>   <span style=\"color: #7f7f7f; text-decoration-color: #7f7f7f\"> 825 </span><span style=\"color: #7f7f7f; text-decoration-color: #7f7f7f\">│   │   │   │   │   │   </span><span style=\"color: #0000ff; text-decoration-color: #0000ff\">return</span> <span style=\"color: #00ffff; text-decoration-color: #00ffff\">super</span>().<span style=\"color: #00ff00; text-decoration-color: #00ff00\">__getattribute__</span>(item)  <span style=\"color: #7f7f7f; text-decoration-color: #7f7f7f\"># Raises AttributeError i</span>  <span style=\"color: #800000; text-decoration-color: #800000\">│</span>\n",
              "<span style=\"color: #800000; text-decoration-color: #800000\">│</span>   <span style=\"color: #7f7f7f; text-decoration-color: #7f7f7f\"> 826 </span><span style=\"color: #7f7f7f; text-decoration-color: #7f7f7f\">│   │   │   │   │   </span><span style=\"color: #0000ff; text-decoration-color: #0000ff\">else</span>:                                                                 <span style=\"color: #800000; text-decoration-color: #800000\">│</span>\n",
              "<span style=\"color: #800000; text-decoration-color: #800000\">│</span>   <span style=\"color: #7f7f7f; text-decoration-color: #7f7f7f\"> 827 </span><span style=\"color: #7f7f7f; text-decoration-color: #7f7f7f\">│   │   │   │   │   │   </span><span style=\"color: #7f7f7f; text-decoration-color: #7f7f7f\"># this is the current error</span>                                       <span style=\"color: #800000; text-decoration-color: #800000\">│</span>\n",
              "<span style=\"color: #800000; text-decoration-color: #800000\">│</span> <span style=\"color: #800000; text-decoration-color: #800000\">❱ </span> 828 <span style=\"color: #7f7f7f; text-decoration-color: #7f7f7f\">│   │   │   │   │   │   </span><span style=\"color: #0000ff; text-decoration-color: #0000ff; font-weight: bold; text-decoration: underline\">raise</span><span style=\"font-weight: bold; text-decoration: underline\"> </span><span style=\"color: #00ffff; text-decoration-color: #00ffff; font-weight: bold; text-decoration: underline\">AttributeError</span><span style=\"font-weight: bold; text-decoration: underline\">(</span><span style=\"color: #808000; text-decoration-color: #808000; font-weight: bold; text-decoration: underline\">f'{</span><span style=\"color: #00ffff; text-decoration-color: #00ffff; font-weight: bold; text-decoration: underline\">type</span><span style=\"font-weight: bold; text-decoration: underline\">(</span><span style=\"color: #00ffff; text-decoration-color: #00ffff; font-weight: bold; text-decoration: underline\">self</span><span style=\"font-weight: bold; text-decoration: underline\">).</span><span style=\"color: #ff0000; text-decoration-color: #ff0000; font-weight: bold; text-decoration: underline\">__name__</span><span style=\"color: #808000; text-decoration-color: #808000; font-weight: bold; text-decoration: underline\">!r} object has no att</span>  <span style=\"color: #800000; text-decoration-color: #800000\">│</span>\n",
              "<span style=\"color: #800000; text-decoration-color: #800000\">│</span>   <span style=\"color: #7f7f7f; text-decoration-color: #7f7f7f\"> 829 </span><span style=\"color: #7f7f7f; text-decoration-color: #7f7f7f\">│   │   </span>                                                                                  <span style=\"color: #800000; text-decoration-color: #800000\">│</span>\n",
              "<span style=\"color: #800000; text-decoration-color: #800000\">│</span>   <span style=\"color: #7f7f7f; text-decoration-color: #7f7f7f\"> 830 </span><span style=\"color: #7f7f7f; text-decoration-color: #7f7f7f\">│   │   </span><span style=\"color: #0000ff; text-decoration-color: #0000ff\">def</span> <span style=\"color: #00ff00; text-decoration-color: #00ff00\">__setattr__</span>(<span style=\"color: #00ffff; text-decoration-color: #00ffff\">self</span>, name: <span style=\"color: #00ffff; text-decoration-color: #00ffff\">str</span>, value: Any) -&gt; <span style=\"color: #0000ff; text-decoration-color: #0000ff\">None</span>:                             <span style=\"color: #800000; text-decoration-color: #800000\">│</span>\n",
              "<span style=\"color: #800000; text-decoration-color: #800000\">│</span>   <span style=\"color: #7f7f7f; text-decoration-color: #7f7f7f\"> 831 </span><span style=\"color: #7f7f7f; text-decoration-color: #7f7f7f\">│   │   │   </span><span style=\"color: #0000ff; text-decoration-color: #0000ff\">if</span> name <span style=\"color: #ff00ff; text-decoration-color: #ff00ff\">in</span> <span style=\"color: #00ffff; text-decoration-color: #00ffff\">self</span>.__class_vars__:                                               <span style=\"color: #800000; text-decoration-color: #800000\">│</span>\n",
              "<span style=\"color: #800000; text-decoration-color: #800000\">╰──────────────────────────────────────────────────────────────────────────────────────────────────╯</span>\n",
              "<span style=\"color: #ff0000; text-decoration-color: #ff0000; font-weight: bold\">AttributeError: </span><span style=\"color: #008000; text-decoration-color: #008000\">'PipelineRunResponse'</span> object has no attribute <span style=\"color: #008000; text-decoration-color: #008000\">'run'</span>\n",
              "</pre>\n"
            ]
          },
          "metadata": {}
        }
      ]
    },
    {
      "cell_type": "markdown",
      "source": [
        "**What does `run(unlisted=True)` do?**\n",
        "\n",
        "- `run()` executes the pipeline.\n",
        "\n",
        "- `unlisted=True` ensures that the pipeline run is **not recorded in ZenML’s metadata store**.\n",
        "  - This is useful for **debugging** or quick tests without logging unnecessary runs.\n",
        "  - When `unlisted=True`, the run won't appear in the **ZenML dashboard** or be tracked in its backend.\n",
        "\n",
        "\n",
        "**Without `unlisted=True`**\n",
        "\n",
        "If you just use `digits_svc_pipeline.run()`, ZenML will:\n",
        "- Log metadata about the run.\n",
        "- Save artifacts (like trained models, datasets, etc.).\n",
        "- Track pipeline versions.\n",
        "\n",
        "\n",
        "**When to use `unlisted=True`?**\n",
        "\n",
        "- **Debugging**: Run a pipeline without cluttering the ZenML tracking system.\n",
        "\n",
        "- **Quick iterations**: If you're tweaking code and don't need to track every attempt."
      ],
      "metadata": {
        "id": "4a1qec3Ribep"
      }
    },
    {
      "cell_type": "markdown",
      "source": [
        "---"
      ],
      "metadata": {
        "id": "I8Hov5hJlCF3"
      }
    },
    {
      "cell_type": "markdown",
      "source": [
        "### Newer versions of ZenML for debugging and quick iterations"
      ],
      "metadata": {
        "id": "CpIrS8mQlfjH"
      }
    },
    {
      "cell_type": "code",
      "source": [
        "import zenml\n",
        "zenml.__version__"
      ],
      "metadata": {
        "colab": {
          "base_uri": "https://localhost:8080/",
          "height": 35
        },
        "id": "iqnRYigAl6Sf",
        "outputId": "11043e21-51a6-450c-8610-7093e0e53d86"
      },
      "execution_count": null,
      "outputs": [
        {
          "output_type": "execute_result",
          "data": {
            "text/plain": [
              "'0.75.0'"
            ],
            "application/vnd.google.colaboratory.intrinsic+json": {
              "type": "string"
            }
          },
          "metadata": {},
          "execution_count": 18
        }
      ]
    },
    {
      "cell_type": "markdown",
      "source": [
        "**For newer versions of ZenML :**\n",
        "\n",
        "- ✅ Use `pipeline_run = digits_svc_pipeline()` for **quick iterations**.\n",
        "- ✅ Use `digits_svc_pipeline.configure(enable_cache=False)()` for **forcing a full re-run**.\n",
        "- ❌ `.run(unlisted=True)` **is not needed in ZenML 0.75.0**."
      ],
      "metadata": {
        "id": "qNqOqcxVlmAU"
      }
    },
    {
      "cell_type": "markdown",
      "source": [
        "### ZenML Dashboard"
      ],
      "metadata": {
        "id": "voMLHlALl_ar"
      }
    },
    {
      "cell_type": "code",
      "source": [
        "from zenml.environment import Environment\n",
        "\n",
        "def start_zenml_dashboard(port=8237):\n",
        "  if Environment.in_google_colab():\n",
        "    from pyngrok import ngrok\n",
        "\n",
        "    public_url = ngrok.connect(port)\n",
        "    print(f\"Dashboard running at {public_url}\")\n",
        "    !zenml up --blocking --port {port}\n",
        "\n",
        "  else:\n",
        "    !zenml up --port {port}\n",
        "\n",
        "start_zenml_dashboard()"
      ],
      "metadata": {
        "colab": {
          "base_uri": "https://localhost:8080/"
        },
        "id": "xpyxFcIMkGJo",
        "outputId": "6ef4ef3d-0f31-4939-c835-b872fedd211e"
      },
      "execution_count": null,
      "outputs": [
        {
          "output_type": "stream",
          "name": "stderr",
          "text": [
            "INFO:pyngrok.ngrok:Opening tunnel named: http-8237-de488522-f7ff-4154-9265-ee95715d0374\n"
          ]
        },
        {
          "output_type": "stream",
          "name": "stdout",
          "text": [
            "\u001b[1;35mOpening tunnel named: http-8237-de488522-f7ff-4154-9265-ee95715d0374\u001b[0m\n"
          ]
        },
        {
          "output_type": "stream",
          "name": "stderr",
          "text": [
            "INFO:pyngrok.process.ngrok:t=2025-03-05T13:58:39+0000 lvl=info msg=\"no configuration paths supplied\"\n"
          ]
        },
        {
          "output_type": "stream",
          "name": "stdout",
          "text": [
            "\u001b[1;35mt=2025-03-05T13:58:39+0000 lvl=info msg=\"no configuration paths supplied\"\u001b[0m\n"
          ]
        },
        {
          "output_type": "stream",
          "name": "stderr",
          "text": [
            "INFO:pyngrok.process.ngrok:t=2025-03-05T13:58:39+0000 lvl=info msg=\"using configuration at default config path\" path=/root/.config/ngrok/ngrok.yml\n"
          ]
        },
        {
          "output_type": "stream",
          "name": "stdout",
          "text": [
            "\u001b[1;35mt=2025-03-05T13:58:39+0000 lvl=info msg=\"using configuration at default config path\" path=/root/.config/ngrok/ngrok.yml\u001b[0m\n"
          ]
        },
        {
          "output_type": "stream",
          "name": "stderr",
          "text": [
            "INFO:pyngrok.process.ngrok:t=2025-03-05T13:58:39+0000 lvl=info msg=\"open config file\" path=/root/.config/ngrok/ngrok.yml err=nil\n"
          ]
        },
        {
          "output_type": "stream",
          "name": "stdout",
          "text": [
            "\u001b[1;35mt=2025-03-05T13:58:39+0000 lvl=info msg=\"open config file\" path=/root/.config/ngrok/ngrok.yml err=nil\u001b[0m\n"
          ]
        },
        {
          "output_type": "stream",
          "name": "stderr",
          "text": [
            "INFO:pyngrok.process.ngrok:t=2025-03-05T13:58:39+0000 lvl=info msg=\"starting web service\" obj=web addr=127.0.0.1:4040 allow_hosts=[]\n"
          ]
        },
        {
          "output_type": "stream",
          "name": "stdout",
          "text": [
            "\u001b[1;35mt=2025-03-05T13:58:39+0000 lvl=info msg=\"starting web service\" obj=web addr=127.0.0.1:4040 allow_hosts=[]\u001b[0m\n"
          ]
        },
        {
          "output_type": "stream",
          "name": "stderr",
          "text": [
            "INFO:pyngrok.process.ngrok:t=2025-03-05T13:58:39+0000 lvl=info msg=\"client session established\" obj=tunnels.session\n"
          ]
        },
        {
          "output_type": "stream",
          "name": "stdout",
          "text": [
            "\u001b[1;35mt=2025-03-05T13:58:39+0000 lvl=info msg=\"client session established\" obj=tunnels.session\u001b[0m\n"
          ]
        },
        {
          "output_type": "stream",
          "name": "stderr",
          "text": [
            "INFO:pyngrok.process.ngrok:t=2025-03-05T13:58:39+0000 lvl=info msg=\"tunnel session started\" obj=tunnels.session\n"
          ]
        },
        {
          "output_type": "stream",
          "name": "stdout",
          "text": [
            "\u001b[1;35mt=2025-03-05T13:58:39+0000 lvl=info msg=\"tunnel session started\" obj=tunnels.session\u001b[0m\n"
          ]
        },
        {
          "output_type": "stream",
          "name": "stderr",
          "text": [
            "INFO:pyngrok.process.ngrok:t=2025-03-05T13:58:39+0000 lvl=info msg=start pg=/api/tunnels id=bdc77725d5c9cf33\n"
          ]
        },
        {
          "output_type": "stream",
          "name": "stdout",
          "text": [
            "\u001b[1;35mt=2025-03-05T13:58:39+0000 lvl=info msg=start pg=/api/tunnels id=bdc77725d5c9cf33\u001b[0m\n"
          ]
        },
        {
          "output_type": "stream",
          "name": "stderr",
          "text": [
            "INFO:pyngrok.process.ngrok:t=2025-03-05T13:58:39+0000 lvl=info msg=end pg=/api/tunnels id=bdc77725d5c9cf33 status=200 dur=699.813µs\n"
          ]
        },
        {
          "output_type": "stream",
          "name": "stdout",
          "text": [
            "\u001b[1;35mt=2025-03-05T13:58:39+0000 lvl=info msg=end pg=/api/tunnels id=bdc77725d5c9cf33 status=200 dur=699.813µs\u001b[0m\n"
          ]
        },
        {
          "output_type": "stream",
          "name": "stderr",
          "text": [
            "INFO:pyngrok.process.ngrok:t=2025-03-05T13:58:39+0000 lvl=info msg=start pg=/api/tunnels id=e074c162beacaf86\n"
          ]
        },
        {
          "output_type": "stream",
          "name": "stdout",
          "text": [
            "\u001b[1;35mt=2025-03-05T13:58:39+0000 lvl=info msg=start pg=/api/tunnels id=e074c162beacaf86\u001b[0m\n"
          ]
        },
        {
          "output_type": "stream",
          "name": "stderr",
          "text": [
            "INFO:pyngrok.process.ngrok:t=2025-03-05T13:58:39+0000 lvl=info msg=end pg=/api/tunnels id=e074c162beacaf86 status=200 dur=158.53µs\n"
          ]
        },
        {
          "output_type": "stream",
          "name": "stdout",
          "text": [
            "\u001b[1;35mt=2025-03-05T13:58:39+0000 lvl=info msg=end pg=/api/tunnels id=e074c162beacaf86 status=200 dur=158.53µs\u001b[0m\n"
          ]
        },
        {
          "output_type": "stream",
          "name": "stderr",
          "text": [
            "INFO:pyngrok.process.ngrok:t=2025-03-05T13:58:39+0000 lvl=info msg=start pg=/api/tunnels id=0a49d0dddf275a23\n"
          ]
        },
        {
          "output_type": "stream",
          "name": "stdout",
          "text": [
            "\u001b[1;35mt=2025-03-05T13:58:39+0000 lvl=info msg=start pg=/api/tunnels id=0a49d0dddf275a23\u001b[0m\n"
          ]
        },
        {
          "output_type": "stream",
          "name": "stderr",
          "text": [
            "INFO:pyngrok.process.ngrok:t=2025-03-05T13:58:39+0000 lvl=info msg=\"started tunnel\" obj=tunnels name=http-8237-de488522-f7ff-4154-9265-ee95715d0374 addr=http://localhost:8237 url=https://6852-34-74-20-15.ngrok-free.app\n"
          ]
        },
        {
          "output_type": "stream",
          "name": "stdout",
          "text": [
            "Dashboard running at NgrokTunnel: \"https://6852-34-74-20-15.ngrok-free.app\" -> \"http://localhost:8237\"\n",
            "\u001b[1;35mt=2025-03-05T13:58:39+0000 lvl=info msg=\"started tunnel\" obj=tunnels name=http-8237-de488522-f7ff-4154-9265-ee95715d0374 addr=\u001b[0m\u001b[34mhttp://localhost:8237\u001b[1;35m url=\u001b[0m\u001b[34mhttps://6852-34-74-20-15.ngrok-free.app\u001b[1;35m\u001b[0m\n"
          ]
        },
        {
          "output_type": "stream",
          "name": "stderr",
          "text": [
            "INFO:pyngrok.process.ngrok:t=2025-03-05T13:58:39+0000 lvl=info msg=end pg=/api/tunnels id=0a49d0dddf275a23 status=201 dur=67.967569ms\n"
          ]
        },
        {
          "output_type": "stream",
          "name": "stdout",
          "text": [
            "\u001b[1;35mt=2025-03-05T13:58:39+0000 lvl=info msg=end pg=/api/tunnels id=0a49d0dddf275a23 status=201 dur=67.967569ms\u001b[0m\n",
            "\u001b[33mThe `zenml up` command is deprecated and will be removed in a future release. Please use the `zenml \u001b[0m\n",
            "\u001b[33mlogin --local` command instead.\u001b[0m\n",
            "\u001b[2;36mCalling `zenml login --local`\u001b[0m\u001b[2;33m...\u001b[0m\n",
            "\u001b[2;36mThe local ZenML dashboard is about to deploy in a blocking process.\u001b[0m\n",
            "\u001b[1;35mDeploying a local daemon ZenML server.\u001b[0m\n",
            "\u001b[1;35mNot writing the global configuration to disk in a ZenML server environment.\u001b[0m\n",
            "\u001b[1;35mInitializing the ZenML global configuration version to 0.75.0\u001b[0m\n",
            "\u001b[1;35mNot writing the global configuration to disk in a ZenML server environment.\u001b[0m\n",
            "\u001b[1;35mStarting ZenML Server as blocking process... press CTRL+C once to stop it.\u001b[0m\n",
            "\u001b[32mINFO\u001b[0m:     Started server process [\u001b[36m75874\u001b[0m]\n",
            "\u001b[32mINFO\u001b[0m:     Waiting for application startup.\n",
            "\u001b[1;35mNot writing the global configuration to disk in a ZenML server environment.\u001b[0m\n",
            "\u001b[1;35mNot writing the global configuration to disk in a ZenML server environment.\u001b[0m\n",
            "\u001b[32mINFO\u001b[0m:     Application startup complete.\n",
            "\u001b[32mINFO\u001b[0m:     Uvicorn running on \u001b[1mhttp://127.0.0.1:8237\u001b[0m (Press CTRL+C to quit)\n"
          ]
        },
        {
          "output_type": "stream",
          "name": "stderr",
          "text": [
            "INFO:pyngrok.process.ngrok:t=2025-03-05T13:58:59+0000 lvl=info msg=\"join connections\" obj=join id=d92736c5a6a4 l=127.0.0.1:8237 r=[2a02:8428:3f5d:d801:6896:9fbe:cbf4:e61]:62235\n"
          ]
        },
        {
          "output_type": "stream",
          "name": "stdout",
          "text": [
            "\u001b[1;35mt=2025-03-05T13:58:59+0000 lvl=info msg=\"join connections\" obj=join id=d92736c5a6a4 l=127.0.0.1:8237 r=[2a02:8428:3f5d:d801:6896:9fbe:cbf4:e61]:62235\u001b[0m\n",
            "\u001b[32mINFO\u001b[0m:     2a02:8428:3f5d:d801:6896:9fbe:cbf4:e61:0 - \"\u001b[1mGET / HTTP/1.1\u001b[0m\" \u001b[32m200 OK\u001b[0m\n"
          ]
        },
        {
          "output_type": "stream",
          "name": "stderr",
          "text": [
            "INFO:pyngrok.process.ngrok:t=2025-03-05T13:58:59+0000 lvl=info msg=\"join connections\" obj=join id=c07bc528a040 l=127.0.0.1:8237 r=[2a02:8428:3f5d:d801:6896:9fbe:cbf4:e61]:62235\n"
          ]
        },
        {
          "output_type": "stream",
          "name": "stdout",
          "text": [
            "\u001b[32mINFO\u001b[0m:     2a02:8428:3f5d:d801:6896:9fbe:cbf4:e61:0 - \"\u001b[1mGET /assets/index-DWoLoYDY.js HTTP/1.1\u001b[0m\" \u001b[32m200 OK\u001b[0m\n",
            "\u001b[1;35mt=2025-03-05T13:58:59+0000 lvl=info msg=\"join connections\" obj=join id=c07bc528a040 l=127.0.0.1:8237 r=[2a02:8428:3f5d:d801:6896:9fbe:cbf4:e61]:62235\u001b[0m\n"
          ]
        },
        {
          "output_type": "stream",
          "name": "stderr",
          "text": [
            "INFO:pyngrok.process.ngrok:t=2025-03-05T13:58:59+0000 lvl=info msg=\"join connections\" obj=join id=99cbcb709ee5 l=127.0.0.1:8237 r=[2a02:8428:3f5d:d801:6896:9fbe:cbf4:e61]:62235\n"
          ]
        },
        {
          "output_type": "stream",
          "name": "stdout",
          "text": [
            "\u001b[1;35mt=2025-03-05T13:58:59+0000 lvl=info msg=\"join connections\" obj=join id=99cbcb709ee5 l=127.0.0.1:8237 r=[2a02:8428:3f5d:d801:6896:9fbe:cbf4:e61]:62235\u001b[0m\n"
          ]
        },
        {
          "output_type": "stream",
          "name": "stderr",
          "text": [
            "INFO:pyngrok.process.ngrok:t=2025-03-05T13:58:59+0000 lvl=info msg=\"join connections\" obj=join id=7fb665f30133 l=127.0.0.1:8237 r=[2a02:8428:3f5d:d801:6896:9fbe:cbf4:e61]:62235\n"
          ]
        },
        {
          "output_type": "stream",
          "name": "stdout",
          "text": [
            "\u001b[1;35mt=2025-03-05T13:58:59+0000 lvl=info msg=\"join connections\" obj=join id=7fb665f30133 l=127.0.0.1:8237 r=[2a02:8428:3f5d:d801:6896:9fbe:cbf4:e61]:62235\u001b[0m\n"
          ]
        },
        {
          "output_type": "stream",
          "name": "stderr",
          "text": [
            "INFO:pyngrok.process.ngrok:t=2025-03-05T13:58:59+0000 lvl=info msg=\"join connections\" obj=join id=7cb2073325ea l=127.0.0.1:8237 r=[2a02:8428:3f5d:d801:6896:9fbe:cbf4:e61]:62235\n"
          ]
        },
        {
          "output_type": "stream",
          "name": "stdout",
          "text": [
            "\u001b[1;35mt=2025-03-05T13:58:59+0000 lvl=info msg=\"join connections\" obj=join id=7cb2073325ea l=127.0.0.1:8237 r=[2a02:8428:3f5d:d801:6896:9fbe:cbf4:e61]:62235\u001b[0m\n"
          ]
        },
        {
          "output_type": "stream",
          "name": "stderr",
          "text": [
            "INFO:pyngrok.process.ngrok:t=2025-03-05T13:58:59+0000 lvl=info msg=\"join connections\" obj=join id=3f135fa4a284 l=127.0.0.1:8237 r=[2a02:8428:3f5d:d801:6896:9fbe:cbf4:e61]:62235\n"
          ]
        },
        {
          "output_type": "stream",
          "name": "stdout",
          "text": [
            "\u001b[1;35mt=2025-03-05T13:58:59+0000 lvl=info msg=\"join connections\" obj=join id=3f135fa4a284 l=127.0.0.1:8237 r=[2a02:8428:3f5d:d801:6896:9fbe:cbf4:e61]:62235\u001b[0m\n"
          ]
        },
        {
          "output_type": "stream",
          "name": "stderr",
          "text": [
            "INFO:pyngrok.process.ngrok:t=2025-03-05T13:58:59+0000 lvl=info msg=\"join connections\" obj=join id=26f046b1568b l=127.0.0.1:8237 r=[2a02:8428:3f5d:d801:6896:9fbe:cbf4:e61]:62235\n"
          ]
        },
        {
          "output_type": "stream",
          "name": "stdout",
          "text": [
            "\u001b[1;35mt=2025-03-05T13:58:59+0000 lvl=info msg=\"join connections\" obj=join id=26f046b1568b l=127.0.0.1:8237 r=[2a02:8428:3f5d:d801:6896:9fbe:cbf4:e61]:62235\u001b[0m\n"
          ]
        },
        {
          "output_type": "stream",
          "name": "stderr",
          "text": [
            "INFO:pyngrok.process.ngrok:t=2025-03-05T13:58:59+0000 lvl=info msg=\"join connections\" obj=join id=5f4d06727697 l=127.0.0.1:8237 r=[2a02:8428:3f5d:d801:6896:9fbe:cbf4:e61]:62235\n"
          ]
        },
        {
          "output_type": "stream",
          "name": "stdout",
          "text": [
            "\u001b[1;35mt=2025-03-05T13:58:59+0000 lvl=info msg=\"join connections\" obj=join id=5f4d06727697 l=127.0.0.1:8237 r=[2a02:8428:3f5d:d801:6896:9fbe:cbf4:e61]:62235\u001b[0m\n"
          ]
        },
        {
          "output_type": "stream",
          "name": "stderr",
          "text": [
            "INFO:pyngrok.process.ngrok:t=2025-03-05T13:58:59+0000 lvl=info msg=\"join connections\" obj=join id=475f14649db8 l=127.0.0.1:8237 r=[2a02:8428:3f5d:d801:6896:9fbe:cbf4:e61]:62235\n"
          ]
        },
        {
          "output_type": "stream",
          "name": "stdout",
          "text": [
            "\u001b[1;35mt=2025-03-05T13:58:59+0000 lvl=info msg=\"join connections\" obj=join id=475f14649db8 l=127.0.0.1:8237 r=[2a02:8428:3f5d:d801:6896:9fbe:cbf4:e61]:62235\u001b[0m\n",
            "\u001b[32mINFO\u001b[0m:     2a02:8428:3f5d:d801:6896:9fbe:cbf4:e61:0 - \"\u001b[1mGET /assets/%40radix-AvWw-1nd.js HTTP/1.1\u001b[0m\" \u001b[32m200 OK\u001b[0m\n"
          ]
        },
        {
          "output_type": "stream",
          "name": "stderr",
          "text": [
            "INFO:pyngrok.process.ngrok:t=2025-03-05T13:58:59+0000 lvl=info msg=\"join connections\" obj=join id=1d6db9b8bafe l=127.0.0.1:8237 r=[2a02:8428:3f5d:d801:6896:9fbe:cbf4:e61]:62235\n"
          ]
        },
        {
          "output_type": "stream",
          "name": "stdout",
          "text": [
            "\u001b[1;35mt=2025-03-05T13:58:59+0000 lvl=info msg=\"join connections\" obj=join id=1d6db9b8bafe l=127.0.0.1:8237 r=[2a02:8428:3f5d:d801:6896:9fbe:cbf4:e61]:62235\u001b[0m\n"
          ]
        },
        {
          "output_type": "stream",
          "name": "stderr",
          "text": [
            "INFO:pyngrok.process.ngrok:t=2025-03-05T13:58:59+0000 lvl=info msg=\"join connections\" obj=join id=89ed03bd2f98 l=127.0.0.1:8237 r=[2a02:8428:3f5d:d801:6896:9fbe:cbf4:e61]:62235\n"
          ]
        },
        {
          "output_type": "stream",
          "name": "stdout",
          "text": [
            "\u001b[1;35mt=2025-03-05T13:58:59+0000 lvl=info msg=\"join connections\" obj=join id=89ed03bd2f98 l=127.0.0.1:8237 r=[2a02:8428:3f5d:d801:6896:9fbe:cbf4:e61]:62235\u001b[0m\n"
          ]
        },
        {
          "output_type": "stream",
          "name": "stderr",
          "text": [
            "INFO:pyngrok.process.ngrok:t=2025-03-05T13:58:59+0000 lvl=info msg=\"join connections\" obj=join id=4a0ffffec7be l=127.0.0.1:8237 r=[2a02:8428:3f5d:d801:6896:9fbe:cbf4:e61]:62235\n"
          ]
        },
        {
          "output_type": "stream",
          "name": "stdout",
          "text": [
            "\u001b[1;35mt=2025-03-05T13:58:59+0000 lvl=info msg=\"join connections\" obj=join id=4a0ffffec7be l=127.0.0.1:8237 r=[2a02:8428:3f5d:d801:6896:9fbe:cbf4:e61]:62235\u001b[0m\n"
          ]
        },
        {
          "output_type": "stream",
          "name": "stderr",
          "text": [
            "INFO:pyngrok.process.ngrok:t=2025-03-05T13:58:59+0000 lvl=info msg=\"join connections\" obj=join id=5319a7b26c13 l=127.0.0.1:8237 r=[2a02:8428:3f5d:d801:6896:9fbe:cbf4:e61]:62235\n"
          ]
        },
        {
          "output_type": "stream",
          "name": "stdout",
          "text": [
            "\u001b[1;35mt=2025-03-05T13:58:59+0000 lvl=info msg=\"join connections\" obj=join id=5319a7b26c13 l=127.0.0.1:8237 r=[2a02:8428:3f5d:d801:6896:9fbe:cbf4:e61]:62235\u001b[0m\n"
          ]
        },
        {
          "output_type": "stream",
          "name": "stderr",
          "text": [
            "INFO:pyngrok.process.ngrok:t=2025-03-05T13:58:59+0000 lvl=info msg=\"join connections\" obj=join id=2dde10c1188b l=127.0.0.1:8237 r=[2a02:8428:3f5d:d801:6896:9fbe:cbf4:e61]:62235\n"
          ]
        },
        {
          "output_type": "stream",
          "name": "stdout",
          "text": [
            "\u001b[1;35mt=2025-03-05T13:58:59+0000 lvl=info msg=\"join connections\" obj=join id=2dde10c1188b l=127.0.0.1:8237 r=[2a02:8428:3f5d:d801:6896:9fbe:cbf4:e61]:62235\u001b[0m\n"
          ]
        },
        {
          "output_type": "stream",
          "name": "stderr",
          "text": [
            "INFO:pyngrok.process.ngrok:t=2025-03-05T13:58:59+0000 lvl=info msg=\"join connections\" obj=join id=981918161cae l=127.0.0.1:8237 r=[2a02:8428:3f5d:d801:6896:9fbe:cbf4:e61]:62235\n"
          ]
        },
        {
          "output_type": "stream",
          "name": "stdout",
          "text": [
            "\u001b[1;35mt=2025-03-05T13:58:59+0000 lvl=info msg=\"join connections\" obj=join id=981918161cae l=127.0.0.1:8237 r=[2a02:8428:3f5d:d801:6896:9fbe:cbf4:e61]:62235\u001b[0m\n"
          ]
        },
        {
          "output_type": "stream",
          "name": "stderr",
          "text": [
            "INFO:pyngrok.process.ngrok:t=2025-03-05T13:58:59+0000 lvl=info msg=\"join connections\" obj=join id=d5207a637136 l=127.0.0.1:8237 r=[2a02:8428:3f5d:d801:6896:9fbe:cbf4:e61]:62235\n"
          ]
        },
        {
          "output_type": "stream",
          "name": "stdout",
          "text": [
            "\u001b[1;35mt=2025-03-05T13:58:59+0000 lvl=info msg=\"join connections\" obj=join id=d5207a637136 l=127.0.0.1:8237 r=[2a02:8428:3f5d:d801:6896:9fbe:cbf4:e61]:62235\u001b[0m\n"
          ]
        },
        {
          "output_type": "stream",
          "name": "stderr",
          "text": [
            "INFO:pyngrok.process.ngrok:t=2025-03-05T13:58:59+0000 lvl=info msg=\"join connections\" obj=join id=e3965d5f3ad0 l=127.0.0.1:8237 r=[2a02:8428:3f5d:d801:6896:9fbe:cbf4:e61]:62235\n"
          ]
        },
        {
          "output_type": "stream",
          "name": "stdout",
          "text": [
            "\u001b[1;35mt=2025-03-05T13:58:59+0000 lvl=info msg=\"join connections\" obj=join id=e3965d5f3ad0 l=127.0.0.1:8237 r=[2a02:8428:3f5d:d801:6896:9fbe:cbf4:e61]:62235\u001b[0m\n"
          ]
        },
        {
          "output_type": "stream",
          "name": "stderr",
          "text": [
            "INFO:pyngrok.process.ngrok:t=2025-03-05T13:58:59+0000 lvl=info msg=\"join connections\" obj=join id=5df467b118bd l=127.0.0.1:8237 r=[2a02:8428:3f5d:d801:6896:9fbe:cbf4:e61]:62235\n"
          ]
        },
        {
          "output_type": "stream",
          "name": "stdout",
          "text": [
            "\u001b[1;35mt=2025-03-05T13:58:59+0000 lvl=info msg=\"join connections\" obj=join id=5df467b118bd l=127.0.0.1:8237 r=[2a02:8428:3f5d:d801:6896:9fbe:cbf4:e61]:62235\u001b[0m\n"
          ]
        },
        {
          "output_type": "stream",
          "name": "stderr",
          "text": [
            "INFO:pyngrok.process.ngrok:t=2025-03-05T13:58:59+0000 lvl=info msg=\"join connections\" obj=join id=9b79139ddda0 l=127.0.0.1:8237 r=[2a02:8428:3f5d:d801:6896:9fbe:cbf4:e61]:62235\n"
          ]
        },
        {
          "output_type": "stream",
          "name": "stdout",
          "text": [
            "\u001b[1;35mt=2025-03-05T13:58:59+0000 lvl=info msg=\"join connections\" obj=join id=9b79139ddda0 l=127.0.0.1:8237 r=[2a02:8428:3f5d:d801:6896:9fbe:cbf4:e61]:62235\u001b[0m\n"
          ]
        },
        {
          "output_type": "stream",
          "name": "stderr",
          "text": [
            "INFO:pyngrok.process.ngrok:t=2025-03-05T13:58:59+0000 lvl=info msg=\"join connections\" obj=join id=9106a40b8d48 l=127.0.0.1:8237 r=[2a02:8428:3f5d:d801:6896:9fbe:cbf4:e61]:62235\n"
          ]
        },
        {
          "output_type": "stream",
          "name": "stdout",
          "text": [
            "\u001b[1;35mt=2025-03-05T13:58:59+0000 lvl=info msg=\"join connections\" obj=join id=9106a40b8d48 l=127.0.0.1:8237 r=[2a02:8428:3f5d:d801:6896:9fbe:cbf4:e61]:62235\u001b[0m\n"
          ]
        },
        {
          "output_type": "stream",
          "name": "stderr",
          "text": [
            "INFO:pyngrok.process.ngrok:t=2025-03-05T13:58:59+0000 lvl=info msg=\"join connections\" obj=join id=6247a9c76675 l=127.0.0.1:8237 r=[2a02:8428:3f5d:d801:6896:9fbe:cbf4:e61]:62235\n"
          ]
        },
        {
          "output_type": "stream",
          "name": "stdout",
          "text": [
            "\u001b[1;35mt=2025-03-05T13:58:59+0000 lvl=info msg=\"join connections\" obj=join id=6247a9c76675 l=127.0.0.1:8237 r=[2a02:8428:3f5d:d801:6896:9fbe:cbf4:e61]:62235\u001b[0m\n"
          ]
        },
        {
          "output_type": "stream",
          "name": "stderr",
          "text": [
            "INFO:pyngrok.process.ngrok:t=2025-03-05T13:58:59+0000 lvl=info msg=\"join connections\" obj=join id=2e756242e38c l=127.0.0.1:8237 r=[2a02:8428:3f5d:d801:6896:9fbe:cbf4:e61]:62235\n"
          ]
        },
        {
          "output_type": "stream",
          "name": "stdout",
          "text": [
            "\u001b[1;35mt=2025-03-05T13:58:59+0000 lvl=info msg=\"join connections\" obj=join id=2e756242e38c l=127.0.0.1:8237 r=[2a02:8428:3f5d:d801:6896:9fbe:cbf4:e61]:62235\u001b[0m\n"
          ]
        },
        {
          "output_type": "stream",
          "name": "stderr",
          "text": [
            "INFO:pyngrok.process.ngrok:t=2025-03-05T13:58:59+0000 lvl=info msg=\"join connections\" obj=join id=cd0e107563f9 l=127.0.0.1:8237 r=[2a02:8428:3f5d:d801:6896:9fbe:cbf4:e61]:62235\n"
          ]
        },
        {
          "output_type": "stream",
          "name": "stdout",
          "text": [
            "\u001b[1;35mt=2025-03-05T13:58:59+0000 lvl=info msg=\"join connections\" obj=join id=cd0e107563f9 l=127.0.0.1:8237 r=[2a02:8428:3f5d:d801:6896:9fbe:cbf4:e61]:62235\u001b[0m\n"
          ]
        },
        {
          "output_type": "stream",
          "name": "stderr",
          "text": [
            "INFO:pyngrok.process.ngrok:t=2025-03-05T13:58:59+0000 lvl=info msg=\"join connections\" obj=join id=6e76e502398c l=127.0.0.1:8237 r=[2a02:8428:3f5d:d801:6896:9fbe:cbf4:e61]:62235\n"
          ]
        },
        {
          "output_type": "stream",
          "name": "stdout",
          "text": [
            "\u001b[1;35mt=2025-03-05T13:58:59+0000 lvl=info msg=\"join connections\" obj=join id=6e76e502398c l=127.0.0.1:8237 r=[2a02:8428:3f5d:d801:6896:9fbe:cbf4:e61]:62235\u001b[0m\n"
          ]
        },
        {
          "output_type": "stream",
          "name": "stderr",
          "text": [
            "INFO:pyngrok.process.ngrok:t=2025-03-05T13:58:59+0000 lvl=info msg=\"join connections\" obj=join id=89a86933b17f l=127.0.0.1:8237 r=[2a02:8428:3f5d:d801:6896:9fbe:cbf4:e61]:62235\n"
          ]
        },
        {
          "output_type": "stream",
          "name": "stdout",
          "text": [
            "\u001b[1;35mt=2025-03-05T13:58:59+0000 lvl=info msg=\"join connections\" obj=join id=89a86933b17f l=127.0.0.1:8237 r=[2a02:8428:3f5d:d801:6896:9fbe:cbf4:e61]:62235\u001b[0m\n"
          ]
        },
        {
          "output_type": "stream",
          "name": "stderr",
          "text": [
            "INFO:pyngrok.process.ngrok:t=2025-03-05T13:58:59+0000 lvl=info msg=\"join connections\" obj=join id=96774be5cddb l=127.0.0.1:8237 r=[2a02:8428:3f5d:d801:6896:9fbe:cbf4:e61]:62235\n"
          ]
        },
        {
          "output_type": "stream",
          "name": "stdout",
          "text": [
            "\u001b[1;35mt=2025-03-05T13:58:59+0000 lvl=info msg=\"join connections\" obj=join id=96774be5cddb l=127.0.0.1:8237 r=[2a02:8428:3f5d:d801:6896:9fbe:cbf4:e61]:62235\u001b[0m\n"
          ]
        },
        {
          "output_type": "stream",
          "name": "stderr",
          "text": [
            "INFO:pyngrok.process.ngrok:t=2025-03-05T13:58:59+0000 lvl=info msg=\"join connections\" obj=join id=948c8ddad326 l=127.0.0.1:8237 r=[2a02:8428:3f5d:d801:6896:9fbe:cbf4:e61]:62235\n"
          ]
        },
        {
          "output_type": "stream",
          "name": "stdout",
          "text": [
            "\u001b[1;35mt=2025-03-05T13:58:59+0000 lvl=info msg=\"join connections\" obj=join id=948c8ddad326 l=127.0.0.1:8237 r=[2a02:8428:3f5d:d801:6896:9fbe:cbf4:e61]:62235\u001b[0m\n"
          ]
        },
        {
          "output_type": "stream",
          "name": "stderr",
          "text": [
            "INFO:pyngrok.process.ngrok:t=2025-03-05T13:58:59+0000 lvl=info msg=\"join connections\" obj=join id=d37e58c859ae l=127.0.0.1:8237 r=[2a02:8428:3f5d:d801:6896:9fbe:cbf4:e61]:62235\n"
          ]
        },
        {
          "output_type": "stream",
          "name": "stdout",
          "text": [
            "\u001b[1;35mt=2025-03-05T13:58:59+0000 lvl=info msg=\"join connections\" obj=join id=d37e58c859ae l=127.0.0.1:8237 r=[2a02:8428:3f5d:d801:6896:9fbe:cbf4:e61]:62235\u001b[0m\n"
          ]
        },
        {
          "output_type": "stream",
          "name": "stderr",
          "text": [
            "INFO:pyngrok.process.ngrok:t=2025-03-05T13:58:59+0000 lvl=info msg=\"join connections\" obj=join id=f97cd76bfbe4 l=127.0.0.1:8237 r=[2a02:8428:3f5d:d801:6896:9fbe:cbf4:e61]:62235\n"
          ]
        },
        {
          "output_type": "stream",
          "name": "stdout",
          "text": [
            "\u001b[1;35mt=2025-03-05T13:58:59+0000 lvl=info msg=\"join connections\" obj=join id=f97cd76bfbe4 l=127.0.0.1:8237 r=[2a02:8428:3f5d:d801:6896:9fbe:cbf4:e61]:62235\u001b[0m\n",
            "\u001b[32mINFO\u001b[0m:     2a02:8428:3f5d:d801:6896:9fbe:cbf4:e61:0 - \"\u001b[1mGET /assets/inter-cyrillic-ext-400-normal-Dc4VJyIJ.woff2 HTTP/1.1\u001b[0m\" \u001b[32m200 OK\u001b[0m\n",
            "\u001b[32mINFO\u001b[0m:     2a02:8428:3f5d:d801:6896:9fbe:cbf4:e61:0 - \"\u001b[1mGET /assets/%40reactflow-Fd0xVSp_.css HTTP/1.1\u001b[0m\" \u001b[32m200 OK\u001b[0m\n",
            "\u001b[32mINFO\u001b[0m:     2a02:8428:3f5d:d801:6896:9fbe:cbf4:e61:0 - \"\u001b[1mGET /assets/%40tanstack-CcI3lvwB.js HTTP/1.1\u001b[0m\" \u001b[32m200 OK\u001b[0m\n"
          ]
        },
        {
          "output_type": "stream",
          "name": "stderr",
          "text": [
            "INFO:pyngrok.process.ngrok:t=2025-03-05T13:58:59+0000 lvl=info msg=\"join connections\" obj=join id=cd7c5b136f37 l=127.0.0.1:8237 r=[2a02:8428:3f5d:d801:6896:9fbe:cbf4:e61]:62235\n"
          ]
        },
        {
          "output_type": "stream",
          "name": "stdout",
          "text": [
            "\u001b[1;35mt=2025-03-05T13:58:59+0000 lvl=info msg=\"join connections\" obj=join id=cd7c5b136f37 l=127.0.0.1:8237 r=[2a02:8428:3f5d:d801:6896:9fbe:cbf4:e61]:62235\u001b[0m\n"
          ]
        },
        {
          "output_type": "stream",
          "name": "stderr",
          "text": [
            "INFO:pyngrok.process.ngrok:t=2025-03-05T13:58:59+0000 lvl=info msg=\"join connections\" obj=join id=4be407599c68 l=127.0.0.1:8237 r=[2a02:8428:3f5d:d801:6896:9fbe:cbf4:e61]:62235\n"
          ]
        },
        {
          "output_type": "stream",
          "name": "stdout",
          "text": [
            "\u001b[1;35mt=2025-03-05T13:58:59+0000 lvl=info msg=\"join connections\" obj=join id=4be407599c68 l=127.0.0.1:8237 r=[2a02:8428:3f5d:d801:6896:9fbe:cbf4:e61]:62235\u001b[0m\n"
          ]
        },
        {
          "output_type": "stream",
          "name": "stderr",
          "text": [
            "INFO:pyngrok.process.ngrok:t=2025-03-05T13:58:59+0000 lvl=info msg=\"join connections\" obj=join id=6cd380e48462 l=127.0.0.1:8237 r=[2a02:8428:3f5d:d801:6896:9fbe:cbf4:e61]:62235\n"
          ]
        },
        {
          "output_type": "stream",
          "name": "stdout",
          "text": [
            "\u001b[1;35mt=2025-03-05T13:58:59+0000 lvl=info msg=\"join connections\" obj=join id=6cd380e48462 l=127.0.0.1:8237 r=[2a02:8428:3f5d:d801:6896:9fbe:cbf4:e61]:62235\u001b[0m\n"
          ]
        },
        {
          "output_type": "stream",
          "name": "stderr",
          "text": [
            "INFO:pyngrok.process.ngrok:t=2025-03-05T13:58:59+0000 lvl=info msg=\"join connections\" obj=join id=49f279b582e6 l=127.0.0.1:8237 r=[2a02:8428:3f5d:d801:6896:9fbe:cbf4:e61]:62235\n"
          ]
        },
        {
          "output_type": "stream",
          "name": "stdout",
          "text": [
            "\u001b[1;35mt=2025-03-05T13:58:59+0000 lvl=info msg=\"join connections\" obj=join id=49f279b582e6 l=127.0.0.1:8237 r=[2a02:8428:3f5d:d801:6896:9fbe:cbf4:e61]:62235\u001b[0m\n"
          ]
        },
        {
          "output_type": "stream",
          "name": "stderr",
          "text": [
            "INFO:pyngrok.process.ngrok:t=2025-03-05T13:58:59+0000 lvl=info msg=\"join connections\" obj=join id=f6d2e70446c0 l=127.0.0.1:8237 r=[2a02:8428:3f5d:d801:6896:9fbe:cbf4:e61]:62235\n"
          ]
        },
        {
          "output_type": "stream",
          "name": "stdout",
          "text": [
            "\u001b[1;35mt=2025-03-05T13:58:59+0000 lvl=info msg=\"join connections\" obj=join id=f6d2e70446c0 l=127.0.0.1:8237 r=[2a02:8428:3f5d:d801:6896:9fbe:cbf4:e61]:62235\u001b[0m\n"
          ]
        },
        {
          "output_type": "stream",
          "name": "stderr",
          "text": [
            "INFO:pyngrok.process.ngrok:t=2025-03-05T13:58:59+0000 lvl=info msg=\"join connections\" obj=join id=7350da302dfd l=127.0.0.1:8237 r=[2a02:8428:3f5d:d801:6896:9fbe:cbf4:e61]:62235\n"
          ]
        },
        {
          "output_type": "stream",
          "name": "stdout",
          "text": [
            "\u001b[1;35mt=2025-03-05T13:58:59+0000 lvl=info msg=\"join connections\" obj=join id=7350da302dfd l=127.0.0.1:8237 r=[2a02:8428:3f5d:d801:6896:9fbe:cbf4:e61]:62235\u001b[0m\n"
          ]
        },
        {
          "output_type": "stream",
          "name": "stderr",
          "text": [
            "INFO:pyngrok.process.ngrok:t=2025-03-05T13:58:59+0000 lvl=info msg=\"join connections\" obj=join id=59819f1e364b l=127.0.0.1:8237 r=[2a02:8428:3f5d:d801:6896:9fbe:cbf4:e61]:62235\n"
          ]
        },
        {
          "output_type": "stream",
          "name": "stdout",
          "text": [
            "\u001b[1;35mt=2025-03-05T13:58:59+0000 lvl=info msg=\"join connections\" obj=join id=59819f1e364b l=127.0.0.1:8237 r=[2a02:8428:3f5d:d801:6896:9fbe:cbf4:e61]:62235\u001b[0m\n"
          ]
        },
        {
          "output_type": "stream",
          "name": "stderr",
          "text": [
            "INFO:pyngrok.process.ngrok:t=2025-03-05T13:58:59+0000 lvl=info msg=\"join connections\" obj=join id=5d4975d3e0cc l=127.0.0.1:8237 r=[2a02:8428:3f5d:d801:6896:9fbe:cbf4:e61]:62235\n"
          ]
        },
        {
          "output_type": "stream",
          "name": "stdout",
          "text": [
            "\u001b[1;35mt=2025-03-05T13:58:59+0000 lvl=info msg=\"join connections\" obj=join id=5d4975d3e0cc l=127.0.0.1:8237 r=[2a02:8428:3f5d:d801:6896:9fbe:cbf4:e61]:62235\u001b[0m\n"
          ]
        },
        {
          "output_type": "stream",
          "name": "stderr",
          "text": [
            "INFO:pyngrok.process.ngrok:t=2025-03-05T13:58:59+0000 lvl=info msg=\"join connections\" obj=join id=7728b2a391f6 l=127.0.0.1:8237 r=[2a02:8428:3f5d:d801:6896:9fbe:cbf4:e61]:62235\n"
          ]
        },
        {
          "output_type": "stream",
          "name": "stdout",
          "text": [
            "\u001b[1;35mt=2025-03-05T13:58:59+0000 lvl=info msg=\"join connections\" obj=join id=7728b2a391f6 l=127.0.0.1:8237 r=[2a02:8428:3f5d:d801:6896:9fbe:cbf4:e61]:62235\u001b[0m\n"
          ]
        },
        {
          "output_type": "stream",
          "name": "stderr",
          "text": [
            "INFO:pyngrok.process.ngrok:t=2025-03-05T13:58:59+0000 lvl=info msg=\"join connections\" obj=join id=95770cdbe316 l=127.0.0.1:8237 r=[2a02:8428:3f5d:d801:6896:9fbe:cbf4:e61]:62235\n"
          ]
        },
        {
          "output_type": "stream",
          "name": "stdout",
          "text": [
            "\u001b[1;35mt=2025-03-05T13:58:59+0000 lvl=info msg=\"join connections\" obj=join id=95770cdbe316 l=127.0.0.1:8237 r=[2a02:8428:3f5d:d801:6896:9fbe:cbf4:e61]:62235\u001b[0m\n"
          ]
        },
        {
          "output_type": "stream",
          "name": "stderr",
          "text": [
            "INFO:pyngrok.process.ngrok:t=2025-03-05T13:58:59+0000 lvl=info msg=\"join connections\" obj=join id=6b4d1750d6ca l=127.0.0.1:8237 r=[2a02:8428:3f5d:d801:6896:9fbe:cbf4:e61]:62235\n"
          ]
        },
        {
          "output_type": "stream",
          "name": "stdout",
          "text": [
            "\u001b[1;35mt=2025-03-05T13:58:59+0000 lvl=info msg=\"join connections\" obj=join id=6b4d1750d6ca l=127.0.0.1:8237 r=[2a02:8428:3f5d:d801:6896:9fbe:cbf4:e61]:62235\u001b[0m\n"
          ]
        },
        {
          "output_type": "stream",
          "name": "stderr",
          "text": [
            "INFO:pyngrok.process.ngrok:t=2025-03-05T13:58:59+0000 lvl=info msg=\"join connections\" obj=join id=789d2d575a3d l=127.0.0.1:8237 r=[2a02:8428:3f5d:d801:6896:9fbe:cbf4:e61]:62235\n"
          ]
        },
        {
          "output_type": "stream",
          "name": "stdout",
          "text": [
            "\u001b[1;35mt=2025-03-05T13:58:59+0000 lvl=info msg=\"join connections\" obj=join id=789d2d575a3d l=127.0.0.1:8237 r=[2a02:8428:3f5d:d801:6896:9fbe:cbf4:e61]:62235\u001b[0m\n"
          ]
        },
        {
          "output_type": "stream",
          "name": "stderr",
          "text": [
            "INFO:pyngrok.process.ngrok:t=2025-03-05T13:58:59+0000 lvl=info msg=\"join connections\" obj=join id=dd215ed00c63 l=127.0.0.1:8237 r=[2a02:8428:3f5d:d801:6896:9fbe:cbf4:e61]:62235\n"
          ]
        },
        {
          "output_type": "stream",
          "name": "stdout",
          "text": [
            "\u001b[1;35mt=2025-03-05T13:58:59+0000 lvl=info msg=\"join connections\" obj=join id=dd215ed00c63 l=127.0.0.1:8237 r=[2a02:8428:3f5d:d801:6896:9fbe:cbf4:e61]:62235\u001b[0m\n"
          ]
        },
        {
          "output_type": "stream",
          "name": "stderr",
          "text": [
            "INFO:pyngrok.process.ngrok:t=2025-03-05T13:58:59+0000 lvl=info msg=\"join connections\" obj=join id=5330d04b6047 l=127.0.0.1:8237 r=[2a02:8428:3f5d:d801:6896:9fbe:cbf4:e61]:62235\n"
          ]
        },
        {
          "output_type": "stream",
          "name": "stdout",
          "text": [
            "\u001b[1;35mt=2025-03-05T13:58:59+0000 lvl=info msg=\"join connections\" obj=join id=5330d04b6047 l=127.0.0.1:8237 r=[2a02:8428:3f5d:d801:6896:9fbe:cbf4:e61]:62235\u001b[0m\n"
          ]
        },
        {
          "output_type": "stream",
          "name": "stderr",
          "text": [
            "INFO:pyngrok.process.ngrok:t=2025-03-05T13:58:59+0000 lvl=info msg=\"join connections\" obj=join id=7eab0c98d2c6 l=127.0.0.1:8237 r=[2a02:8428:3f5d:d801:6896:9fbe:cbf4:e61]:62235\n"
          ]
        },
        {
          "output_type": "stream",
          "name": "stdout",
          "text": [
            "\u001b[1;35mt=2025-03-05T13:58:59+0000 lvl=info msg=\"join connections\" obj=join id=7eab0c98d2c6 l=127.0.0.1:8237 r=[2a02:8428:3f5d:d801:6896:9fbe:cbf4:e61]:62235\u001b[0m\n"
          ]
        },
        {
          "output_type": "stream",
          "name": "stderr",
          "text": [
            "INFO:pyngrok.process.ngrok:t=2025-03-05T13:58:59+0000 lvl=info msg=\"join connections\" obj=join id=fc926912ff9a l=127.0.0.1:8237 r=[2a02:8428:3f5d:d801:6896:9fbe:cbf4:e61]:62235\n"
          ]
        },
        {
          "output_type": "stream",
          "name": "stdout",
          "text": [
            "\u001b[1;35mt=2025-03-05T13:58:59+0000 lvl=info msg=\"join connections\" obj=join id=fc926912ff9a l=127.0.0.1:8237 r=[2a02:8428:3f5d:d801:6896:9fbe:cbf4:e61]:62235\u001b[0m\n"
          ]
        },
        {
          "output_type": "stream",
          "name": "stderr",
          "text": [
            "INFO:pyngrok.process.ngrok:t=2025-03-05T13:58:59+0000 lvl=info msg=\"join connections\" obj=join id=3de848b6651e l=127.0.0.1:8237 r=[2a02:8428:3f5d:d801:6896:9fbe:cbf4:e61]:62235\n"
          ]
        },
        {
          "output_type": "stream",
          "name": "stdout",
          "text": [
            "\u001b[1;35mt=2025-03-05T13:58:59+0000 lvl=info msg=\"join connections\" obj=join id=3de848b6651e l=127.0.0.1:8237 r=[2a02:8428:3f5d:d801:6896:9fbe:cbf4:e61]:62235\u001b[0m\n"
          ]
        },
        {
          "output_type": "stream",
          "name": "stderr",
          "text": [
            "INFO:pyngrok.process.ngrok:t=2025-03-05T13:58:59+0000 lvl=info msg=\"join connections\" obj=join id=37350789ad74 l=127.0.0.1:8237 r=[2a02:8428:3f5d:d801:6896:9fbe:cbf4:e61]:62235\n"
          ]
        },
        {
          "output_type": "stream",
          "name": "stdout",
          "text": [
            "\u001b[1;35mt=2025-03-05T13:58:59+0000 lvl=info msg=\"join connections\" obj=join id=37350789ad74 l=127.0.0.1:8237 r=[2a02:8428:3f5d:d801:6896:9fbe:cbf4:e61]:62235\u001b[0m\n"
          ]
        },
        {
          "output_type": "stream",
          "name": "stderr",
          "text": [
            "INFO:pyngrok.process.ngrok:t=2025-03-05T13:58:59+0000 lvl=info msg=\"join connections\" obj=join id=e3f52787b459 l=127.0.0.1:8237 r=[2a02:8428:3f5d:d801:6896:9fbe:cbf4:e61]:62235\n"
          ]
        },
        {
          "output_type": "stream",
          "name": "stdout",
          "text": [
            "\u001b[32mINFO\u001b[0m:     2a02:8428:3f5d:d801:6896:9fbe:cbf4:e61:0 - \"\u001b[1mGET /assets/%40reactflow-DMaYqp8l.js HTTP/1.1\u001b[0m\" \u001b[32m200 OK\u001b[0m\n",
            "\u001b[32mINFO\u001b[0m:     2a02:8428:3f5d:d801:6896:9fbe:cbf4:e61:0 - \"\u001b[1mGET /assets/inter-greek-ext-400-normal-Bput3-QP.woff2 HTTP/1.1\u001b[0m\" \u001b[32m200 OK\u001b[0m\n",
            "\u001b[32mINFO\u001b[0m:     2a02:8428:3f5d:d801:6896:9fbe:cbf4:e61:0 - \"\u001b[1mGET /assets/index-BCKg1Y5r.css HTTP/1.1\u001b[0m\" \u001b[32m200 OK\u001b[0m\n",
            "\u001b[32mINFO\u001b[0m:     2a02:8428:3f5d:d801:6896:9fbe:cbf4:e61:0 - \"\u001b[1mGET /assets/%40react-router-BUo5vhN4.js HTTP/1.1\u001b[0m\" \u001b[32m200 OK\u001b[0m\n",
            "\u001b[1;35mt=2025-03-05T13:58:59+0000 lvl=info msg=\"join connections\" obj=join id=e3f52787b459 l=127.0.0.1:8237 r=[2a02:8428:3f5d:d801:6896:9fbe:cbf4:e61]:62235\u001b[0m\n"
          ]
        },
        {
          "output_type": "stream",
          "name": "stderr",
          "text": [
            "INFO:pyngrok.process.ngrok:t=2025-03-05T13:58:59+0000 lvl=info msg=\"join connections\" obj=join id=e9fea771ec79 l=127.0.0.1:8237 r=[2a02:8428:3f5d:d801:6896:9fbe:cbf4:e61]:62235\n"
          ]
        },
        {
          "output_type": "stream",
          "name": "stdout",
          "text": [
            "\u001b[1;35mt=2025-03-05T13:58:59+0000 lvl=info msg=\"join connections\" obj=join id=e9fea771ec79 l=127.0.0.1:8237 r=[2a02:8428:3f5d:d801:6896:9fbe:cbf4:e61]:62235\u001b[0m\n"
          ]
        },
        {
          "output_type": "stream",
          "name": "stderr",
          "text": [
            "INFO:pyngrok.process.ngrok:t=2025-03-05T13:58:59+0000 lvl=info msg=\"join connections\" obj=join id=36cb5a999ba4 l=127.0.0.1:8237 r=[2a02:8428:3f5d:d801:6896:9fbe:cbf4:e61]:62235\n"
          ]
        },
        {
          "output_type": "stream",
          "name": "stdout",
          "text": [
            "\u001b[1;35mt=2025-03-05T13:58:59+0000 lvl=info msg=\"join connections\" obj=join id=36cb5a999ba4 l=127.0.0.1:8237 r=[2a02:8428:3f5d:d801:6896:9fbe:cbf4:e61]:62235\u001b[0m\n"
          ]
        },
        {
          "output_type": "stream",
          "name": "stderr",
          "text": [
            "INFO:pyngrok.process.ngrok:t=2025-03-05T13:58:59+0000 lvl=info msg=\"join connections\" obj=join id=3c922d8847b6 l=127.0.0.1:8237 r=[2a02:8428:3f5d:d801:6896:9fbe:cbf4:e61]:62235\n"
          ]
        },
        {
          "output_type": "stream",
          "name": "stdout",
          "text": [
            "\u001b[1;35mt=2025-03-05T13:58:59+0000 lvl=info msg=\"join connections\" obj=join id=3c922d8847b6 l=127.0.0.1:8237 r=[2a02:8428:3f5d:d801:6896:9fbe:cbf4:e61]:62235\u001b[0m\n"
          ]
        },
        {
          "output_type": "stream",
          "name": "stderr",
          "text": [
            "INFO:pyngrok.process.ngrok:t=2025-03-05T13:58:59+0000 lvl=info msg=\"join connections\" obj=join id=29310fbe7eb4 l=127.0.0.1:8237 r=[2a02:8428:3f5d:d801:6896:9fbe:cbf4:e61]:62235\n"
          ]
        },
        {
          "output_type": "stream",
          "name": "stdout",
          "text": [
            "\u001b[1;35mt=2025-03-05T13:58:59+0000 lvl=info msg=\"join connections\" obj=join id=29310fbe7eb4 l=127.0.0.1:8237 r=[2a02:8428:3f5d:d801:6896:9fbe:cbf4:e61]:62235\u001b[0m\n"
          ]
        },
        {
          "output_type": "stream",
          "name": "stderr",
          "text": [
            "INFO:pyngrok.process.ngrok:t=2025-03-05T13:58:59+0000 lvl=info msg=\"join connections\" obj=join id=d5c62a5b4221 l=127.0.0.1:8237 r=[2a02:8428:3f5d:d801:6896:9fbe:cbf4:e61]:62235\n"
          ]
        },
        {
          "output_type": "stream",
          "name": "stdout",
          "text": [
            "\u001b[1;35mt=2025-03-05T13:58:59+0000 lvl=info msg=\"join connections\" obj=join id=d5c62a5b4221 l=127.0.0.1:8237 r=[2a02:8428:3f5d:d801:6896:9fbe:cbf4:e61]:62235\u001b[0m\n"
          ]
        },
        {
          "output_type": "stream",
          "name": "stderr",
          "text": [
            "INFO:pyngrok.process.ngrok:t=2025-03-05T13:58:59+0000 lvl=info msg=\"join connections\" obj=join id=a294a57647f4 l=127.0.0.1:8237 r=[2a02:8428:3f5d:d801:6896:9fbe:cbf4:e61]:62235\n"
          ]
        },
        {
          "output_type": "stream",
          "name": "stdout",
          "text": [
            "\u001b[1;35mt=2025-03-05T13:58:59+0000 lvl=info msg=\"join connections\" obj=join id=a294a57647f4 l=127.0.0.1:8237 r=[2a02:8428:3f5d:d801:6896:9fbe:cbf4:e61]:62235\u001b[0m\n"
          ]
        },
        {
          "output_type": "stream",
          "name": "stderr",
          "text": [
            "INFO:pyngrok.process.ngrok:t=2025-03-05T13:58:59+0000 lvl=info msg=\"join connections\" obj=join id=265aeb55ff2f l=127.0.0.1:8237 r=[2a02:8428:3f5d:d801:6896:9fbe:cbf4:e61]:62235\n"
          ]
        },
        {
          "output_type": "stream",
          "name": "stdout",
          "text": [
            "\u001b[1;35mt=2025-03-05T13:58:59+0000 lvl=info msg=\"join connections\" obj=join id=265aeb55ff2f l=127.0.0.1:8237 r=[2a02:8428:3f5d:d801:6896:9fbe:cbf4:e61]:62235\u001b[0m\n"
          ]
        },
        {
          "output_type": "stream",
          "name": "stderr",
          "text": [
            "INFO:pyngrok.process.ngrok:t=2025-03-05T13:58:59+0000 lvl=info msg=\"join connections\" obj=join id=5d8723cb02a5 l=127.0.0.1:8237 r=[2a02:8428:3f5d:d801:6896:9fbe:cbf4:e61]:62235\n"
          ]
        },
        {
          "output_type": "stream",
          "name": "stdout",
          "text": [
            "\u001b[1;35mt=2025-03-05T13:58:59+0000 lvl=info msg=\"join connections\" obj=join id=5d8723cb02a5 l=127.0.0.1:8237 r=[2a02:8428:3f5d:d801:6896:9fbe:cbf4:e61]:62235\u001b[0m\n"
          ]
        },
        {
          "output_type": "stream",
          "name": "stderr",
          "text": [
            "INFO:pyngrok.process.ngrok:t=2025-03-05T13:58:59+0000 lvl=info msg=\"join connections\" obj=join id=2cd8810267b7 l=127.0.0.1:8237 r=[2a02:8428:3f5d:d801:6896:9fbe:cbf4:e61]:62235\n"
          ]
        },
        {
          "output_type": "stream",
          "name": "stdout",
          "text": [
            "\u001b[1;35mt=2025-03-05T13:58:59+0000 lvl=info msg=\"join connections\" obj=join id=2cd8810267b7 l=127.0.0.1:8237 r=[2a02:8428:3f5d:d801:6896:9fbe:cbf4:e61]:62235\u001b[0m\n"
          ]
        },
        {
          "output_type": "stream",
          "name": "stderr",
          "text": [
            "INFO:pyngrok.process.ngrok:t=2025-03-05T13:58:59+0000 lvl=info msg=\"join connections\" obj=join id=9245379a54b0 l=127.0.0.1:8237 r=[2a02:8428:3f5d:d801:6896:9fbe:cbf4:e61]:62235\n"
          ]
        },
        {
          "output_type": "stream",
          "name": "stdout",
          "text": [
            "\u001b[1;35mt=2025-03-05T13:58:59+0000 lvl=info msg=\"join connections\" obj=join id=9245379a54b0 l=127.0.0.1:8237 r=[2a02:8428:3f5d:d801:6896:9fbe:cbf4:e61]:62235\u001b[0m\n"
          ]
        },
        {
          "output_type": "stream",
          "name": "stderr",
          "text": [
            "INFO:pyngrok.process.ngrok:t=2025-03-05T13:58:59+0000 lvl=info msg=\"join connections\" obj=join id=ff42abe6eea0 l=127.0.0.1:8237 r=[2a02:8428:3f5d:d801:6896:9fbe:cbf4:e61]:62235\n"
          ]
        },
        {
          "output_type": "stream",
          "name": "stdout",
          "text": [
            "\u001b[1;35mt=2025-03-05T13:58:59+0000 lvl=info msg=\"join connections\" obj=join id=ff42abe6eea0 l=127.0.0.1:8237 r=[2a02:8428:3f5d:d801:6896:9fbe:cbf4:e61]:62235\u001b[0m\n"
          ]
        },
        {
          "output_type": "stream",
          "name": "stderr",
          "text": [
            "INFO:pyngrok.process.ngrok:t=2025-03-05T13:58:59+0000 lvl=info msg=\"join connections\" obj=join id=e01b65095b18 l=127.0.0.1:8237 r=[2a02:8428:3f5d:d801:6896:9fbe:cbf4:e61]:62235\n"
          ]
        },
        {
          "output_type": "stream",
          "name": "stdout",
          "text": [
            "\u001b[1;35mt=2025-03-05T13:58:59+0000 lvl=info msg=\"join connections\" obj=join id=e01b65095b18 l=127.0.0.1:8237 r=[2a02:8428:3f5d:d801:6896:9fbe:cbf4:e61]:62235\u001b[0m\n"
          ]
        },
        {
          "output_type": "stream",
          "name": "stderr",
          "text": [
            "INFO:pyngrok.process.ngrok:t=2025-03-05T13:58:59+0000 lvl=info msg=\"join connections\" obj=join id=b874dd9af252 l=127.0.0.1:8237 r=[2a02:8428:3f5d:d801:6896:9fbe:cbf4:e61]:62235\n"
          ]
        },
        {
          "output_type": "stream",
          "name": "stdout",
          "text": [
            "\u001b[1;35mt=2025-03-05T13:58:59+0000 lvl=info msg=\"join connections\" obj=join id=b874dd9af252 l=127.0.0.1:8237 r=[2a02:8428:3f5d:d801:6896:9fbe:cbf4:e61]:62235\u001b[0m\n"
          ]
        },
        {
          "output_type": "stream",
          "name": "stderr",
          "text": [
            "INFO:pyngrok.process.ngrok:t=2025-03-05T13:58:59+0000 lvl=info msg=\"join connections\" obj=join id=4ee789fd111b l=127.0.0.1:8237 r=[2a02:8428:3f5d:d801:6896:9fbe:cbf4:e61]:62235\n"
          ]
        },
        {
          "output_type": "stream",
          "name": "stdout",
          "text": [
            "\u001b[1;35mt=2025-03-05T13:58:59+0000 lvl=info msg=\"join connections\" obj=join id=4ee789fd111b l=127.0.0.1:8237 r=[2a02:8428:3f5d:d801:6896:9fbe:cbf4:e61]:62235\u001b[0m\n"
          ]
        },
        {
          "output_type": "stream",
          "name": "stderr",
          "text": [
            "INFO:pyngrok.process.ngrok:t=2025-03-05T13:58:59+0000 lvl=info msg=\"join connections\" obj=join id=bb710890761a l=127.0.0.1:8237 r=[2a02:8428:3f5d:d801:6896:9fbe:cbf4:e61]:62235\n"
          ]
        },
        {
          "output_type": "stream",
          "name": "stdout",
          "text": [
            "\u001b[1;35mt=2025-03-05T13:58:59+0000 lvl=info msg=\"join connections\" obj=join id=bb710890761a l=127.0.0.1:8237 r=[2a02:8428:3f5d:d801:6896:9fbe:cbf4:e61]:62235\u001b[0m\n"
          ]
        },
        {
          "output_type": "stream",
          "name": "stderr",
          "text": [
            "INFO:pyngrok.process.ngrok:t=2025-03-05T13:58:59+0000 lvl=info msg=\"join connections\" obj=join id=45b1d888be31 l=127.0.0.1:8237 r=[2a02:8428:3f5d:d801:6896:9fbe:cbf4:e61]:62235\n"
          ]
        },
        {
          "output_type": "stream",
          "name": "stdout",
          "text": [
            "\u001b[1;35mt=2025-03-05T13:58:59+0000 lvl=info msg=\"join connections\" obj=join id=45b1d888be31 l=127.0.0.1:8237 r=[2a02:8428:3f5d:d801:6896:9fbe:cbf4:e61]:62235\u001b[0m\n"
          ]
        },
        {
          "output_type": "stream",
          "name": "stderr",
          "text": [
            "INFO:pyngrok.process.ngrok:t=2025-03-05T13:58:59+0000 lvl=info msg=\"join connections\" obj=join id=6a3df706d725 l=127.0.0.1:8237 r=[2a02:8428:3f5d:d801:6896:9fbe:cbf4:e61]:62235\n"
          ]
        },
        {
          "output_type": "stream",
          "name": "stdout",
          "text": [
            "\u001b[1;35mt=2025-03-05T13:58:59+0000 lvl=info msg=\"join connections\" obj=join id=6a3df706d725 l=127.0.0.1:8237 r=[2a02:8428:3f5d:d801:6896:9fbe:cbf4:e61]:62235\u001b[0m\n"
          ]
        },
        {
          "output_type": "stream",
          "name": "stderr",
          "text": [
            "INFO:pyngrok.process.ngrok:t=2025-03-05T13:58:59+0000 lvl=info msg=\"join connections\" obj=join id=001c4c8f1b00 l=127.0.0.1:8237 r=[2a02:8428:3f5d:d801:6896:9fbe:cbf4:e61]:62235\n"
          ]
        },
        {
          "output_type": "stream",
          "name": "stdout",
          "text": [
            "\u001b[1;35mt=2025-03-05T13:58:59+0000 lvl=info msg=\"join connections\" obj=join id=001c4c8f1b00 l=127.0.0.1:8237 r=[2a02:8428:3f5d:d801:6896:9fbe:cbf4:e61]:62235\u001b[0m\n"
          ]
        },
        {
          "output_type": "stream",
          "name": "stderr",
          "text": [
            "INFO:pyngrok.process.ngrok:t=2025-03-05T13:58:59+0000 lvl=info msg=\"join connections\" obj=join id=14829cc0cff4 l=127.0.0.1:8237 r=[2a02:8428:3f5d:d801:6896:9fbe:cbf4:e61]:62235\n"
          ]
        },
        {
          "output_type": "stream",
          "name": "stdout",
          "text": [
            "\u001b[1;35mt=2025-03-05T13:58:59+0000 lvl=info msg=\"join connections\" obj=join id=14829cc0cff4 l=127.0.0.1:8237 r=[2a02:8428:3f5d:d801:6896:9fbe:cbf4:e61]:62235\u001b[0m\n"
          ]
        },
        {
          "output_type": "stream",
          "name": "stderr",
          "text": [
            "INFO:pyngrok.process.ngrok:t=2025-03-05T13:58:59+0000 lvl=info msg=\"join connections\" obj=join id=0918056a18a6 l=127.0.0.1:8237 r=[2a02:8428:3f5d:d801:6896:9fbe:cbf4:e61]:62235\n"
          ]
        },
        {
          "output_type": "stream",
          "name": "stdout",
          "text": [
            "\u001b[1;35mt=2025-03-05T13:58:59+0000 lvl=info msg=\"join connections\" obj=join id=0918056a18a6 l=127.0.0.1:8237 r=[2a02:8428:3f5d:d801:6896:9fbe:cbf4:e61]:62235\u001b[0m\n"
          ]
        },
        {
          "output_type": "stream",
          "name": "stderr",
          "text": [
            "INFO:pyngrok.process.ngrok:t=2025-03-05T13:58:59+0000 lvl=info msg=\"join connections\" obj=join id=3a8259bc9fbc l=127.0.0.1:8237 r=[2a02:8428:3f5d:d801:6896:9fbe:cbf4:e61]:62235\n"
          ]
        },
        {
          "output_type": "stream",
          "name": "stdout",
          "text": [
            "\u001b[1;35mt=2025-03-05T13:58:59+0000 lvl=info msg=\"join connections\" obj=join id=3a8259bc9fbc l=127.0.0.1:8237 r=[2a02:8428:3f5d:d801:6896:9fbe:cbf4:e61]:62235\u001b[0m\n"
          ]
        },
        {
          "output_type": "stream",
          "name": "stderr",
          "text": [
            "INFO:pyngrok.process.ngrok:t=2025-03-05T13:58:59+0000 lvl=info msg=\"join connections\" obj=join id=e5383dab9526 l=127.0.0.1:8237 r=[2a02:8428:3f5d:d801:6896:9fbe:cbf4:e61]:62235\n"
          ]
        },
        {
          "output_type": "stream",
          "name": "stdout",
          "text": [
            "\u001b[1;35mt=2025-03-05T13:58:59+0000 lvl=info msg=\"join connections\" obj=join id=e5383dab9526 l=127.0.0.1:8237 r=[2a02:8428:3f5d:d801:6896:9fbe:cbf4:e61]:62235\u001b[0m\n"
          ]
        },
        {
          "output_type": "stream",
          "name": "stderr",
          "text": [
            "INFO:pyngrok.process.ngrok:t=2025-03-05T13:58:59+0000 lvl=info msg=\"join connections\" obj=join id=d0086cd0f25c l=127.0.0.1:8237 r=[2a02:8428:3f5d:d801:6896:9fbe:cbf4:e61]:62235\n"
          ]
        },
        {
          "output_type": "stream",
          "name": "stdout",
          "text": [
            "\u001b[1;35mt=2025-03-05T13:58:59+0000 lvl=info msg=\"join connections\" obj=join id=d0086cd0f25c l=127.0.0.1:8237 r=[2a02:8428:3f5d:d801:6896:9fbe:cbf4:e61]:62235\u001b[0m\n"
          ]
        },
        {
          "output_type": "stream",
          "name": "stderr",
          "text": [
            "INFO:pyngrok.process.ngrok:t=2025-03-05T13:58:59+0000 lvl=info msg=\"join connections\" obj=join id=3a52a0891c0b l=127.0.0.1:8237 r=[2a02:8428:3f5d:d801:6896:9fbe:cbf4:e61]:62235\n"
          ]
        },
        {
          "output_type": "stream",
          "name": "stdout",
          "text": [
            "\u001b[1;35mt=2025-03-05T13:58:59+0000 lvl=info msg=\"join connections\" obj=join id=3a52a0891c0b l=127.0.0.1:8237 r=[2a02:8428:3f5d:d801:6896:9fbe:cbf4:e61]:62235\u001b[0m\n"
          ]
        },
        {
          "output_type": "stream",
          "name": "stderr",
          "text": [
            "INFO:pyngrok.process.ngrok:t=2025-03-05T13:58:59+0000 lvl=info msg=\"join connections\" obj=join id=6c0d168f576c l=127.0.0.1:8237 r=[2a02:8428:3f5d:d801:6896:9fbe:cbf4:e61]:62235\n"
          ]
        },
        {
          "output_type": "stream",
          "name": "stdout",
          "text": [
            "\u001b[1;35mt=2025-03-05T13:58:59+0000 lvl=info msg=\"join connections\" obj=join id=6c0d168f576c l=127.0.0.1:8237 r=[2a02:8428:3f5d:d801:6896:9fbe:cbf4:e61]:62235\u001b[0m\n"
          ]
        },
        {
          "output_type": "stream",
          "name": "stderr",
          "text": [
            "INFO:pyngrok.process.ngrok:t=2025-03-05T13:58:59+0000 lvl=info msg=\"join connections\" obj=join id=ea7d9adebf48 l=127.0.0.1:8237 r=[2a02:8428:3f5d:d801:6896:9fbe:cbf4:e61]:62235\n"
          ]
        },
        {
          "output_type": "stream",
          "name": "stdout",
          "text": [
            "\u001b[1;35mt=2025-03-05T13:58:59+0000 lvl=info msg=\"join connections\" obj=join id=ea7d9adebf48 l=127.0.0.1:8237 r=[2a02:8428:3f5d:d801:6896:9fbe:cbf4:e61]:62235\u001b[0m\n"
          ]
        },
        {
          "output_type": "stream",
          "name": "stderr",
          "text": [
            "INFO:pyngrok.process.ngrok:t=2025-03-05T13:58:59+0000 lvl=info msg=\"join connections\" obj=join id=8aa4efc8e035 l=127.0.0.1:8237 r=[2a02:8428:3f5d:d801:6896:9fbe:cbf4:e61]:62235\n"
          ]
        },
        {
          "output_type": "stream",
          "name": "stdout",
          "text": [
            "\u001b[1;35mt=2025-03-05T13:58:59+0000 lvl=info msg=\"join connections\" obj=join id=8aa4efc8e035 l=127.0.0.1:8237 r=[2a02:8428:3f5d:d801:6896:9fbe:cbf4:e61]:62235\u001b[0m\n"
          ]
        },
        {
          "output_type": "stream",
          "name": "stderr",
          "text": [
            "INFO:pyngrok.process.ngrok:t=2025-03-05T13:58:59+0000 lvl=info msg=\"join connections\" obj=join id=0ea2a967e330 l=127.0.0.1:8237 r=[2a02:8428:3f5d:d801:6896:9fbe:cbf4:e61]:62235\n"
          ]
        },
        {
          "output_type": "stream",
          "name": "stdout",
          "text": [
            "\u001b[1;35mt=2025-03-05T13:58:59+0000 lvl=info msg=\"join connections\" obj=join id=0ea2a967e330 l=127.0.0.1:8237 r=[2a02:8428:3f5d:d801:6896:9fbe:cbf4:e61]:62235\u001b[0m\n"
          ]
        },
        {
          "output_type": "stream",
          "name": "stderr",
          "text": [
            "INFO:pyngrok.process.ngrok:t=2025-03-05T13:58:59+0000 lvl=info msg=\"join connections\" obj=join id=4655f4f6c75e l=127.0.0.1:8237 r=[2a02:8428:3f5d:d801:6896:9fbe:cbf4:e61]:62235\n"
          ]
        },
        {
          "output_type": "stream",
          "name": "stdout",
          "text": [
            "\u001b[1;35mt=2025-03-05T13:58:59+0000 lvl=info msg=\"join connections\" obj=join id=4655f4f6c75e l=127.0.0.1:8237 r=[2a02:8428:3f5d:d801:6896:9fbe:cbf4:e61]:62235\u001b[0m\n"
          ]
        },
        {
          "output_type": "stream",
          "name": "stderr",
          "text": [
            "INFO:pyngrok.process.ngrok:t=2025-03-05T13:58:59+0000 lvl=info msg=\"join connections\" obj=join id=275ad9df6710 l=127.0.0.1:8237 r=[2a02:8428:3f5d:d801:6896:9fbe:cbf4:e61]:62235\n"
          ]
        },
        {
          "output_type": "stream",
          "name": "stdout",
          "text": [
            "\u001b[1;35mt=2025-03-05T13:58:59+0000 lvl=info msg=\"join connections\" obj=join id=275ad9df6710 l=127.0.0.1:8237 r=[2a02:8428:3f5d:d801:6896:9fbe:cbf4:e61]:62235\u001b[0m\n"
          ]
        },
        {
          "output_type": "stream",
          "name": "stderr",
          "text": [
            "INFO:pyngrok.process.ngrok:t=2025-03-05T13:58:59+0000 lvl=info msg=\"join connections\" obj=join id=4ed26cac0bcd l=127.0.0.1:8237 r=[2a02:8428:3f5d:d801:6896:9fbe:cbf4:e61]:62235\n"
          ]
        },
        {
          "output_type": "stream",
          "name": "stdout",
          "text": [
            "\u001b[1;35mt=2025-03-05T13:58:59+0000 lvl=info msg=\"join connections\" obj=join id=4ed26cac0bcd l=127.0.0.1:8237 r=[2a02:8428:3f5d:d801:6896:9fbe:cbf4:e61]:62235\u001b[0m\n"
          ]
        },
        {
          "output_type": "stream",
          "name": "stderr",
          "text": [
            "INFO:pyngrok.process.ngrok:t=2025-03-05T13:58:59+0000 lvl=info msg=\"join connections\" obj=join id=ac3dc4a69889 l=127.0.0.1:8237 r=[2a02:8428:3f5d:d801:6896:9fbe:cbf4:e61]:62235\n"
          ]
        },
        {
          "output_type": "stream",
          "name": "stdout",
          "text": [
            "\u001b[1;35mt=2025-03-05T13:58:59+0000 lvl=info msg=\"join connections\" obj=join id=ac3dc4a69889 l=127.0.0.1:8237 r=[2a02:8428:3f5d:d801:6896:9fbe:cbf4:e61]:62235\u001b[0m\n"
          ]
        },
        {
          "output_type": "stream",
          "name": "stderr",
          "text": [
            "INFO:pyngrok.process.ngrok:t=2025-03-05T13:58:59+0000 lvl=info msg=\"join connections\" obj=join id=ca6a7dada02d l=127.0.0.1:8237 r=[2a02:8428:3f5d:d801:6896:9fbe:cbf4:e61]:62235\n"
          ]
        },
        {
          "output_type": "stream",
          "name": "stdout",
          "text": [
            "\u001b[1;35mt=2025-03-05T13:58:59+0000 lvl=info msg=\"join connections\" obj=join id=ca6a7dada02d l=127.0.0.1:8237 r=[2a02:8428:3f5d:d801:6896:9fbe:cbf4:e61]:62235\u001b[0m\n"
          ]
        },
        {
          "output_type": "stream",
          "name": "stderr",
          "text": [
            "INFO:pyngrok.process.ngrok:t=2025-03-05T13:58:59+0000 lvl=info msg=\"join connections\" obj=join id=32314f322edb l=127.0.0.1:8237 r=[2a02:8428:3f5d:d801:6896:9fbe:cbf4:e61]:62235\n"
          ]
        },
        {
          "output_type": "stream",
          "name": "stdout",
          "text": [
            "\u001b[1;35mt=2025-03-05T13:58:59+0000 lvl=info msg=\"join connections\" obj=join id=32314f322edb l=127.0.0.1:8237 r=[2a02:8428:3f5d:d801:6896:9fbe:cbf4:e61]:62235\u001b[0m\n"
          ]
        },
        {
          "output_type": "stream",
          "name": "stderr",
          "text": [
            "INFO:pyngrok.process.ngrok:t=2025-03-05T13:58:59+0000 lvl=info msg=\"join connections\" obj=join id=53baca58e55b l=127.0.0.1:8237 r=[2a02:8428:3f5d:d801:6896:9fbe:cbf4:e61]:62235\n"
          ]
        },
        {
          "output_type": "stream",
          "name": "stdout",
          "text": [
            "\u001b[1;35mt=2025-03-05T13:58:59+0000 lvl=info msg=\"join connections\" obj=join id=53baca58e55b l=127.0.0.1:8237 r=[2a02:8428:3f5d:d801:6896:9fbe:cbf4:e61]:62235\u001b[0m\n"
          ]
        },
        {
          "output_type": "stream",
          "name": "stderr",
          "text": [
            "INFO:pyngrok.process.ngrok:t=2025-03-05T13:58:59+0000 lvl=info msg=\"join connections\" obj=join id=6eb2e7d9750e l=127.0.0.1:8237 r=[2a02:8428:3f5d:d801:6896:9fbe:cbf4:e61]:62235\n"
          ]
        },
        {
          "output_type": "stream",
          "name": "stdout",
          "text": [
            "\u001b[1;35mt=2025-03-05T13:58:59+0000 lvl=info msg=\"join connections\" obj=join id=6eb2e7d9750e l=127.0.0.1:8237 r=[2a02:8428:3f5d:d801:6896:9fbe:cbf4:e61]:62235\u001b[0m\n"
          ]
        },
        {
          "output_type": "stream",
          "name": "stderr",
          "text": [
            "INFO:pyngrok.process.ngrok:t=2025-03-05T13:58:59+0000 lvl=info msg=\"join connections\" obj=join id=46a1c144ed9b l=127.0.0.1:8237 r=[2a02:8428:3f5d:d801:6896:9fbe:cbf4:e61]:62235\n"
          ]
        },
        {
          "output_type": "stream",
          "name": "stdout",
          "text": [
            "\u001b[1;35mt=2025-03-05T13:58:59+0000 lvl=info msg=\"join connections\" obj=join id=46a1c144ed9b l=127.0.0.1:8237 r=[2a02:8428:3f5d:d801:6896:9fbe:cbf4:e61]:62235\u001b[0m\n"
          ]
        },
        {
          "output_type": "stream",
          "name": "stderr",
          "text": [
            "INFO:pyngrok.process.ngrok:t=2025-03-05T13:58:59+0000 lvl=info msg=\"join connections\" obj=join id=6bbd0638a389 l=127.0.0.1:8237 r=[2a02:8428:3f5d:d801:6896:9fbe:cbf4:e61]:62235\n"
          ]
        },
        {
          "output_type": "stream",
          "name": "stdout",
          "text": [
            "\u001b[1;35mt=2025-03-05T13:58:59+0000 lvl=info msg=\"join connections\" obj=join id=6bbd0638a389 l=127.0.0.1:8237 r=[2a02:8428:3f5d:d801:6896:9fbe:cbf4:e61]:62235\u001b[0m\n"
          ]
        },
        {
          "output_type": "stream",
          "name": "stderr",
          "text": [
            "INFO:pyngrok.process.ngrok:t=2025-03-05T13:58:59+0000 lvl=info msg=\"join connections\" obj=join id=d2788d601f36 l=127.0.0.1:8237 r=[2a02:8428:3f5d:d801:6896:9fbe:cbf4:e61]:62235\n"
          ]
        },
        {
          "output_type": "stream",
          "name": "stdout",
          "text": [
            "\u001b[32mINFO\u001b[0m:     2a02:8428:3f5d:d801:6896:9fbe:cbf4:e61:0 - \"\u001b[1mGET /assets/inter-latin-500-normal-D2bGa7uu.woff2 HTTP/1.1\u001b[0m\" \u001b[32m200 OK\u001b[0m\n",
            "\u001b[1;35mt=2025-03-05T13:58:59+0000 lvl=info msg=\"join connections\" obj=join id=d2788d601f36 l=127.0.0.1:8237 r=[2a02:8428:3f5d:d801:6896:9fbe:cbf4:e61]:62235\u001b[0m\n"
          ]
        },
        {
          "output_type": "stream",
          "name": "stderr",
          "text": [
            "INFO:pyngrok.process.ngrok:t=2025-03-05T13:58:59+0000 lvl=info msg=\"join connections\" obj=join id=ed518db0ba95 l=127.0.0.1:8237 r=[2a02:8428:3f5d:d801:6896:9fbe:cbf4:e61]:62235\n"
          ]
        },
        {
          "output_type": "stream",
          "name": "stdout",
          "text": [
            "\u001b[1;35mt=2025-03-05T13:58:59+0000 lvl=info msg=\"join connections\" obj=join id=ed518db0ba95 l=127.0.0.1:8237 r=[2a02:8428:3f5d:d801:6896:9fbe:cbf4:e61]:62235\u001b[0m\n"
          ]
        },
        {
          "output_type": "stream",
          "name": "stderr",
          "text": [
            "INFO:pyngrok.process.ngrok:t=2025-03-05T13:58:59+0000 lvl=info msg=\"join connections\" obj=join id=e9f0ca2e0e31 l=127.0.0.1:8237 r=[2a02:8428:3f5d:d801:6896:9fbe:cbf4:e61]:62235\n"
          ]
        },
        {
          "output_type": "stream",
          "name": "stdout",
          "text": [
            "\u001b[1;35mt=2025-03-05T13:58:59+0000 lvl=info msg=\"join connections\" obj=join id=e9f0ca2e0e31 l=127.0.0.1:8237 r=[2a02:8428:3f5d:d801:6896:9fbe:cbf4:e61]:62235\u001b[0m\n"
          ]
        },
        {
          "output_type": "stream",
          "name": "stderr",
          "text": [
            "INFO:pyngrok.process.ngrok:t=2025-03-05T13:58:59+0000 lvl=info msg=\"join connections\" obj=join id=21b63f934bbf l=127.0.0.1:8237 r=[2a02:8428:3f5d:d801:6896:9fbe:cbf4:e61]:62235\n"
          ]
        },
        {
          "output_type": "stream",
          "name": "stdout",
          "text": [
            "\u001b[1;35mt=2025-03-05T13:58:59+0000 lvl=info msg=\"join connections\" obj=join id=21b63f934bbf l=127.0.0.1:8237 r=[2a02:8428:3f5d:d801:6896:9fbe:cbf4:e61]:62235\u001b[0m\n"
          ]
        },
        {
          "output_type": "stream",
          "name": "stderr",
          "text": [
            "INFO:pyngrok.process.ngrok:t=2025-03-05T13:58:59+0000 lvl=info msg=\"join connections\" obj=join id=066ed1bc2470 l=127.0.0.1:8237 r=[2a02:8428:3f5d:d801:6896:9fbe:cbf4:e61]:62235\n"
          ]
        },
        {
          "output_type": "stream",
          "name": "stdout",
          "text": [
            "\u001b[1;35mt=2025-03-05T13:58:59+0000 lvl=info msg=\"join connections\" obj=join id=066ed1bc2470 l=127.0.0.1:8237 r=[2a02:8428:3f5d:d801:6896:9fbe:cbf4:e61]:62235\u001b[0m\n"
          ]
        },
        {
          "output_type": "stream",
          "name": "stderr",
          "text": [
            "INFO:pyngrok.process.ngrok:t=2025-03-05T13:59:00+0000 lvl=info msg=\"join connections\" obj=join id=71308e480fb7 l=127.0.0.1:8237 r=[2a02:8428:3f5d:d801:6896:9fbe:cbf4:e61]:62235\n"
          ]
        },
        {
          "output_type": "stream",
          "name": "stdout",
          "text": [
            "\u001b[1;35mt=2025-03-05T13:59:00+0000 lvl=info msg=\"join connections\" obj=join id=71308e480fb7 l=127.0.0.1:8237 r=[2a02:8428:3f5d:d801:6896:9fbe:cbf4:e61]:62235\u001b[0m\n"
          ]
        },
        {
          "output_type": "stream",
          "name": "stderr",
          "text": [
            "INFO:pyngrok.process.ngrok:t=2025-03-05T13:59:00+0000 lvl=info msg=\"join connections\" obj=join id=d50ea989b18a l=127.0.0.1:8237 r=[2a02:8428:3f5d:d801:6896:9fbe:cbf4:e61]:62235\n"
          ]
        },
        {
          "output_type": "stream",
          "name": "stdout",
          "text": [
            "\u001b[1;35mt=2025-03-05T13:59:00+0000 lvl=info msg=\"join connections\" obj=join id=d50ea989b18a l=127.0.0.1:8237 r=[2a02:8428:3f5d:d801:6896:9fbe:cbf4:e61]:62235\u001b[0m\n"
          ]
        },
        {
          "output_type": "stream",
          "name": "stderr",
          "text": [
            "INFO:pyngrok.process.ngrok:t=2025-03-05T13:59:00+0000 lvl=info msg=\"join connections\" obj=join id=11b0a78c08ff l=127.0.0.1:8237 r=[2a02:8428:3f5d:d801:6896:9fbe:cbf4:e61]:62235\n"
          ]
        },
        {
          "output_type": "stream",
          "name": "stdout",
          "text": [
            "\u001b[1;35mt=2025-03-05T13:59:00+0000 lvl=info msg=\"join connections\" obj=join id=11b0a78c08ff l=127.0.0.1:8237 r=[2a02:8428:3f5d:d801:6896:9fbe:cbf4:e61]:62235\u001b[0m\n"
          ]
        },
        {
          "output_type": "stream",
          "name": "stderr",
          "text": [
            "INFO:pyngrok.process.ngrok:t=2025-03-05T13:59:00+0000 lvl=info msg=\"join connections\" obj=join id=40fe5ef86f14 l=127.0.0.1:8237 r=[2a02:8428:3f5d:d801:6896:9fbe:cbf4:e61]:62235\n"
          ]
        },
        {
          "output_type": "stream",
          "name": "stdout",
          "text": [
            "\u001b[1;35mt=2025-03-05T13:59:00+0000 lvl=info msg=\"join connections\" obj=join id=40fe5ef86f14 l=127.0.0.1:8237 r=[2a02:8428:3f5d:d801:6896:9fbe:cbf4:e61]:62235\u001b[0m\n"
          ]
        },
        {
          "output_type": "stream",
          "name": "stderr",
          "text": [
            "INFO:pyngrok.process.ngrok:t=2025-03-05T13:59:00+0000 lvl=info msg=\"join connections\" obj=join id=be88c2fcbcef l=127.0.0.1:8237 r=[2a02:8428:3f5d:d801:6896:9fbe:cbf4:e61]:62235\n"
          ]
        },
        {
          "output_type": "stream",
          "name": "stdout",
          "text": [
            "\u001b[1;35mt=2025-03-05T13:59:00+0000 lvl=info msg=\"join connections\" obj=join id=be88c2fcbcef l=127.0.0.1:8237 r=[2a02:8428:3f5d:d801:6896:9fbe:cbf4:e61]:62235\u001b[0m\n"
          ]
        },
        {
          "output_type": "stream",
          "name": "stderr",
          "text": [
            "INFO:pyngrok.process.ngrok:t=2025-03-05T13:59:00+0000 lvl=info msg=\"join connections\" obj=join id=64ac7d9f7aea l=127.0.0.1:8237 r=[2a02:8428:3f5d:d801:6896:9fbe:cbf4:e61]:62235\n"
          ]
        },
        {
          "output_type": "stream",
          "name": "stdout",
          "text": [
            "\u001b[1;35mt=2025-03-05T13:59:00+0000 lvl=info msg=\"join connections\" obj=join id=64ac7d9f7aea l=127.0.0.1:8237 r=[2a02:8428:3f5d:d801:6896:9fbe:cbf4:e61]:62235\u001b[0m\n"
          ]
        },
        {
          "output_type": "stream",
          "name": "stderr",
          "text": [
            "INFO:pyngrok.process.ngrok:t=2025-03-05T13:59:00+0000 lvl=info msg=\"join connections\" obj=join id=b8d7387947b9 l=127.0.0.1:8237 r=[2a02:8428:3f5d:d801:6896:9fbe:cbf4:e61]:62235\n"
          ]
        },
        {
          "output_type": "stream",
          "name": "stdout",
          "text": [
            "\u001b[1;35mt=2025-03-05T13:59:00+0000 lvl=info msg=\"join connections\" obj=join id=b8d7387947b9 l=127.0.0.1:8237 r=[2a02:8428:3f5d:d801:6896:9fbe:cbf4:e61]:62235\u001b[0m\n"
          ]
        },
        {
          "output_type": "stream",
          "name": "stderr",
          "text": [
            "INFO:pyngrok.process.ngrok:t=2025-03-05T13:59:00+0000 lvl=info msg=\"join connections\" obj=join id=9b31557e65d8 l=127.0.0.1:8237 r=[2a02:8428:3f5d:d801:6896:9fbe:cbf4:e61]:62235\n"
          ]
        },
        {
          "output_type": "stream",
          "name": "stdout",
          "text": [
            "\u001b[1;35mt=2025-03-05T13:59:00+0000 lvl=info msg=\"join connections\" obj=join id=9b31557e65d8 l=127.0.0.1:8237 r=[2a02:8428:3f5d:d801:6896:9fbe:cbf4:e61]:62235\u001b[0m\n"
          ]
        },
        {
          "output_type": "stream",
          "name": "stderr",
          "text": [
            "INFO:pyngrok.process.ngrok:t=2025-03-05T13:59:00+0000 lvl=info msg=\"join connections\" obj=join id=0d1401e8a193 l=127.0.0.1:8237 r=[2a02:8428:3f5d:d801:6896:9fbe:cbf4:e61]:62235\n"
          ]
        },
        {
          "output_type": "stream",
          "name": "stdout",
          "text": [
            "\u001b[1;35mt=2025-03-05T13:59:00+0000 lvl=info msg=\"join connections\" obj=join id=0d1401e8a193 l=127.0.0.1:8237 r=[2a02:8428:3f5d:d801:6896:9fbe:cbf4:e61]:62235\u001b[0m\n"
          ]
        },
        {
          "output_type": "stream",
          "name": "stderr",
          "text": [
            "INFO:pyngrok.process.ngrok:t=2025-03-05T13:59:00+0000 lvl=info msg=\"join connections\" obj=join id=8df711cdd0e3 l=127.0.0.1:8237 r=[2a02:8428:3f5d:d801:6896:9fbe:cbf4:e61]:62235\n"
          ]
        },
        {
          "output_type": "stream",
          "name": "stdout",
          "text": [
            "\u001b[1;35mt=2025-03-05T13:59:00+0000 lvl=info msg=\"join connections\" obj=join id=8df711cdd0e3 l=127.0.0.1:8237 r=[2a02:8428:3f5d:d801:6896:9fbe:cbf4:e61]:62235\u001b[0m\n"
          ]
        },
        {
          "output_type": "stream",
          "name": "stderr",
          "text": [
            "INFO:pyngrok.process.ngrok:t=2025-03-05T13:59:00+0000 lvl=info msg=\"join connections\" obj=join id=83a8e36905cf l=127.0.0.1:8237 r=[2a02:8428:3f5d:d801:6896:9fbe:cbf4:e61]:62235\n"
          ]
        },
        {
          "output_type": "stream",
          "name": "stdout",
          "text": [
            "\u001b[1;35mt=2025-03-05T13:59:00+0000 lvl=info msg=\"join connections\" obj=join id=83a8e36905cf l=127.0.0.1:8237 r=[2a02:8428:3f5d:d801:6896:9fbe:cbf4:e61]:62235\u001b[0m\n"
          ]
        },
        {
          "output_type": "stream",
          "name": "stderr",
          "text": [
            "INFO:pyngrok.process.ngrok:t=2025-03-05T13:59:00+0000 lvl=info msg=\"join connections\" obj=join id=e7c0cb191bd3 l=127.0.0.1:8237 r=[2a02:8428:3f5d:d801:6896:9fbe:cbf4:e61]:62235\n"
          ]
        },
        {
          "output_type": "stream",
          "name": "stdout",
          "text": [
            "\u001b[1;35mt=2025-03-05T13:59:00+0000 lvl=info msg=\"join connections\" obj=join id=e7c0cb191bd3 l=127.0.0.1:8237 r=[2a02:8428:3f5d:d801:6896:9fbe:cbf4:e61]:62235\u001b[0m\n"
          ]
        },
        {
          "output_type": "stream",
          "name": "stderr",
          "text": [
            "INFO:pyngrok.process.ngrok:t=2025-03-05T13:59:00+0000 lvl=info msg=\"join connections\" obj=join id=720ee8fdce8a l=127.0.0.1:8237 r=[2a02:8428:3f5d:d801:6896:9fbe:cbf4:e61]:62235\n"
          ]
        },
        {
          "output_type": "stream",
          "name": "stdout",
          "text": [
            "\u001b[1;35mt=2025-03-05T13:59:00+0000 lvl=info msg=\"join connections\" obj=join id=720ee8fdce8a l=127.0.0.1:8237 r=[2a02:8428:3f5d:d801:6896:9fbe:cbf4:e61]:62235\u001b[0m\n"
          ]
        },
        {
          "output_type": "stream",
          "name": "stderr",
          "text": [
            "INFO:pyngrok.process.ngrok:t=2025-03-05T13:59:00+0000 lvl=info msg=\"join connections\" obj=join id=691c63f5e690 l=127.0.0.1:8237 r=[2a02:8428:3f5d:d801:6896:9fbe:cbf4:e61]:62235\n"
          ]
        },
        {
          "output_type": "stream",
          "name": "stdout",
          "text": [
            "\u001b[1;35mt=2025-03-05T13:59:00+0000 lvl=info msg=\"join connections\" obj=join id=691c63f5e690 l=127.0.0.1:8237 r=[2a02:8428:3f5d:d801:6896:9fbe:cbf4:e61]:62235\u001b[0m\n"
          ]
        },
        {
          "output_type": "stream",
          "name": "stderr",
          "text": [
            "INFO:pyngrok.process.ngrok:t=2025-03-05T13:59:00+0000 lvl=info msg=\"join connections\" obj=join id=1ddcd6b579d6 l=127.0.0.1:8237 r=[2a02:8428:3f5d:d801:6896:9fbe:cbf4:e61]:62235\n"
          ]
        },
        {
          "output_type": "stream",
          "name": "stdout",
          "text": [
            "\u001b[1;35mt=2025-03-05T13:59:00+0000 lvl=info msg=\"join connections\" obj=join id=1ddcd6b579d6 l=127.0.0.1:8237 r=[2a02:8428:3f5d:d801:6896:9fbe:cbf4:e61]:62235\u001b[0m\n"
          ]
        },
        {
          "output_type": "stream",
          "name": "stderr",
          "text": [
            "INFO:pyngrok.process.ngrok:t=2025-03-05T13:59:00+0000 lvl=info msg=\"join connections\" obj=join id=f2cab401bf2f l=127.0.0.1:8237 r=[2a02:8428:3f5d:d801:6896:9fbe:cbf4:e61]:62235\n"
          ]
        },
        {
          "output_type": "stream",
          "name": "stdout",
          "text": [
            "\u001b[1;35mt=2025-03-05T13:59:00+0000 lvl=info msg=\"join connections\" obj=join id=f2cab401bf2f l=127.0.0.1:8237 r=[2a02:8428:3f5d:d801:6896:9fbe:cbf4:e61]:62235\u001b[0m\n"
          ]
        },
        {
          "output_type": "stream",
          "name": "stderr",
          "text": [
            "INFO:pyngrok.process.ngrok:t=2025-03-05T13:59:00+0000 lvl=info msg=\"join connections\" obj=join id=de20a30f6283 l=127.0.0.1:8237 r=[2a02:8428:3f5d:d801:6896:9fbe:cbf4:e61]:62235\n"
          ]
        },
        {
          "output_type": "stream",
          "name": "stdout",
          "text": [
            "\u001b[1;35mt=2025-03-05T13:59:00+0000 lvl=info msg=\"join connections\" obj=join id=de20a30f6283 l=127.0.0.1:8237 r=[2a02:8428:3f5d:d801:6896:9fbe:cbf4:e61]:62235\u001b[0m\n"
          ]
        },
        {
          "output_type": "stream",
          "name": "stderr",
          "text": [
            "INFO:pyngrok.process.ngrok:t=2025-03-05T13:59:00+0000 lvl=info msg=\"join connections\" obj=join id=48ac7681ecd4 l=127.0.0.1:8237 r=[2a02:8428:3f5d:d801:6896:9fbe:cbf4:e61]:62235\n"
          ]
        },
        {
          "output_type": "stream",
          "name": "stdout",
          "text": [
            "\u001b[1;35mt=2025-03-05T13:59:00+0000 lvl=info msg=\"join connections\" obj=join id=48ac7681ecd4 l=127.0.0.1:8237 r=[2a02:8428:3f5d:d801:6896:9fbe:cbf4:e61]:62235\u001b[0m\n"
          ]
        },
        {
          "output_type": "stream",
          "name": "stderr",
          "text": [
            "INFO:pyngrok.process.ngrok:t=2025-03-05T13:59:00+0000 lvl=info msg=\"join connections\" obj=join id=77ecddb5f695 l=127.0.0.1:8237 r=[2a02:8428:3f5d:d801:6896:9fbe:cbf4:e61]:62235\n"
          ]
        },
        {
          "output_type": "stream",
          "name": "stdout",
          "text": [
            "\u001b[1;35mt=2025-03-05T13:59:00+0000 lvl=info msg=\"join connections\" obj=join id=77ecddb5f695 l=127.0.0.1:8237 r=[2a02:8428:3f5d:d801:6896:9fbe:cbf4:e61]:62235\u001b[0m\n"
          ]
        },
        {
          "output_type": "stream",
          "name": "stderr",
          "text": [
            "INFO:pyngrok.process.ngrok:t=2025-03-05T13:59:00+0000 lvl=info msg=\"join connections\" obj=join id=5acc80a67760 l=127.0.0.1:8237 r=[2a02:8428:3f5d:d801:6896:9fbe:cbf4:e61]:62235\n"
          ]
        },
        {
          "output_type": "stream",
          "name": "stdout",
          "text": [
            "\u001b[1;35mt=2025-03-05T13:59:00+0000 lvl=info msg=\"join connections\" obj=join id=5acc80a67760 l=127.0.0.1:8237 r=[2a02:8428:3f5d:d801:6896:9fbe:cbf4:e61]:62235\u001b[0m\n"
          ]
        },
        {
          "output_type": "stream",
          "name": "stderr",
          "text": [
            "INFO:pyngrok.process.ngrok:t=2025-03-05T13:59:00+0000 lvl=info msg=\"join connections\" obj=join id=bf4e0ab73e18 l=127.0.0.1:8237 r=[2a02:8428:3f5d:d801:6896:9fbe:cbf4:e61]:62235\n"
          ]
        },
        {
          "output_type": "stream",
          "name": "stdout",
          "text": [
            "\u001b[1;35mt=2025-03-05T13:59:00+0000 lvl=info msg=\"join connections\" obj=join id=bf4e0ab73e18 l=127.0.0.1:8237 r=[2a02:8428:3f5d:d801:6896:9fbe:cbf4:e61]:62235\u001b[0m\n"
          ]
        },
        {
          "output_type": "stream",
          "name": "stderr",
          "text": [
            "INFO:pyngrok.process.ngrok:t=2025-03-05T13:59:00+0000 lvl=info msg=\"join connections\" obj=join id=48d4467d2dfe l=127.0.0.1:8237 r=[2a02:8428:3f5d:d801:6896:9fbe:cbf4:e61]:62235\n"
          ]
        },
        {
          "output_type": "stream",
          "name": "stdout",
          "text": [
            "\u001b[1;35mt=2025-03-05T13:59:00+0000 lvl=info msg=\"join connections\" obj=join id=48d4467d2dfe l=127.0.0.1:8237 r=[2a02:8428:3f5d:d801:6896:9fbe:cbf4:e61]:62235\u001b[0m\n"
          ]
        },
        {
          "output_type": "stream",
          "name": "stderr",
          "text": [
            "INFO:pyngrok.process.ngrok:t=2025-03-05T13:59:00+0000 lvl=info msg=\"join connections\" obj=join id=43ce7b4b2cfd l=127.0.0.1:8237 r=[2a02:8428:3f5d:d801:6896:9fbe:cbf4:e61]:62235\n"
          ]
        },
        {
          "output_type": "stream",
          "name": "stdout",
          "text": [
            "\u001b[1;35mt=2025-03-05T13:59:00+0000 lvl=info msg=\"join connections\" obj=join id=43ce7b4b2cfd l=127.0.0.1:8237 r=[2a02:8428:3f5d:d801:6896:9fbe:cbf4:e61]:62235\u001b[0m\n"
          ]
        },
        {
          "output_type": "stream",
          "name": "stderr",
          "text": [
            "INFO:pyngrok.process.ngrok:t=2025-03-05T13:59:00+0000 lvl=info msg=\"join connections\" obj=join id=ee7f74b19d56 l=127.0.0.1:8237 r=[2a02:8428:3f5d:d801:6896:9fbe:cbf4:e61]:62235\n"
          ]
        },
        {
          "output_type": "stream",
          "name": "stdout",
          "text": [
            "\u001b[1;35mt=2025-03-05T13:59:00+0000 lvl=info msg=\"join connections\" obj=join id=ee7f74b19d56 l=127.0.0.1:8237 r=[2a02:8428:3f5d:d801:6896:9fbe:cbf4:e61]:62235\u001b[0m\n"
          ]
        },
        {
          "output_type": "stream",
          "name": "stderr",
          "text": [
            "INFO:pyngrok.process.ngrok:t=2025-03-05T13:59:00+0000 lvl=info msg=\"join connections\" obj=join id=39cf39d29547 l=127.0.0.1:8237 r=[2a02:8428:3f5d:d801:6896:9fbe:cbf4:e61]:62235\n"
          ]
        },
        {
          "output_type": "stream",
          "name": "stdout",
          "text": [
            "\u001b[1;35mt=2025-03-05T13:59:00+0000 lvl=info msg=\"join connections\" obj=join id=39cf39d29547 l=127.0.0.1:8237 r=[2a02:8428:3f5d:d801:6896:9fbe:cbf4:e61]:62235\u001b[0m\n"
          ]
        },
        {
          "output_type": "stream",
          "name": "stderr",
          "text": [
            "INFO:pyngrok.process.ngrok:t=2025-03-05T13:59:00+0000 lvl=info msg=\"join connections\" obj=join id=d8e5a39e3025 l=127.0.0.1:8237 r=[2a02:8428:3f5d:d801:6896:9fbe:cbf4:e61]:62235\n"
          ]
        },
        {
          "output_type": "stream",
          "name": "stdout",
          "text": [
            "\u001b[1;35mt=2025-03-05T13:59:00+0000 lvl=info msg=\"join connections\" obj=join id=d8e5a39e3025 l=127.0.0.1:8237 r=[2a02:8428:3f5d:d801:6896:9fbe:cbf4:e61]:62235\u001b[0m\n"
          ]
        },
        {
          "output_type": "stream",
          "name": "stderr",
          "text": [
            "INFO:pyngrok.process.ngrok:t=2025-03-05T13:59:00+0000 lvl=info msg=\"join connections\" obj=join id=8df0aa1ae971 l=127.0.0.1:8237 r=[2a02:8428:3f5d:d801:6896:9fbe:cbf4:e61]:62235\n"
          ]
        },
        {
          "output_type": "stream",
          "name": "stdout",
          "text": [
            "\u001b[1;35mt=2025-03-05T13:59:00+0000 lvl=info msg=\"join connections\" obj=join id=8df0aa1ae971 l=127.0.0.1:8237 r=[2a02:8428:3f5d:d801:6896:9fbe:cbf4:e61]:62235\u001b[0m\n"
          ]
        },
        {
          "output_type": "stream",
          "name": "stderr",
          "text": [
            "INFO:pyngrok.process.ngrok:t=2025-03-05T13:59:00+0000 lvl=info msg=\"join connections\" obj=join id=388d12620833 l=127.0.0.1:8237 r=[2a02:8428:3f5d:d801:6896:9fbe:cbf4:e61]:62235\n"
          ]
        },
        {
          "output_type": "stream",
          "name": "stdout",
          "text": [
            "\u001b[1;35mt=2025-03-05T13:59:00+0000 lvl=info msg=\"join connections\" obj=join id=388d12620833 l=127.0.0.1:8237 r=[2a02:8428:3f5d:d801:6896:9fbe:cbf4:e61]:62235\u001b[0m\n"
          ]
        },
        {
          "output_type": "stream",
          "name": "stderr",
          "text": [
            "INFO:pyngrok.process.ngrok:t=2025-03-05T13:59:00+0000 lvl=info msg=\"join connections\" obj=join id=f77cd2da7bd9 l=127.0.0.1:8237 r=[2a02:8428:3f5d:d801:6896:9fbe:cbf4:e61]:62235\n"
          ]
        },
        {
          "output_type": "stream",
          "name": "stdout",
          "text": [
            "\u001b[1;35mt=2025-03-05T13:59:00+0000 lvl=info msg=\"join connections\" obj=join id=f77cd2da7bd9 l=127.0.0.1:8237 r=[2a02:8428:3f5d:d801:6896:9fbe:cbf4:e61]:62235\u001b[0m\n"
          ]
        },
        {
          "output_type": "stream",
          "name": "stderr",
          "text": [
            "INFO:pyngrok.process.ngrok:t=2025-03-05T13:59:00+0000 lvl=info msg=\"join connections\" obj=join id=3f8856407fde l=127.0.0.1:8237 r=[2a02:8428:3f5d:d801:6896:9fbe:cbf4:e61]:62235\n"
          ]
        },
        {
          "output_type": "stream",
          "name": "stdout",
          "text": [
            "\u001b[32mINFO\u001b[0m:     2a02:8428:3f5d:d801:6896:9fbe:cbf4:e61:0 - \"\u001b[1mGET /assets/inter-cyrillic-400-normal-BLGc9T1a.woff2 HTTP/1.1\u001b[0m\" \u001b[32m200 OK\u001b[0m\n",
            "\u001b[32mINFO\u001b[0m:     2a02:8428:3f5d:d801:6896:9fbe:cbf4:e61:0 - \"\u001b[1mGET /assets/inter-latin-ext-400-normal-hnt3BR84.woff2 HTTP/1.1\u001b[0m\" \u001b[32m200 OK\u001b[0m\n",
            "\u001b[32mINFO\u001b[0m:     2a02:8428:3f5d:d801:6896:9fbe:cbf4:e61:0 - \"\u001b[1mGET /assets/inter-greek-400-normal-DxZsaF_h.woff2 HTTP/1.1\u001b[0m\" \u001b[32m200 OK\u001b[0m\n",
            "\u001b[32mINFO\u001b[0m:     2a02:8428:3f5d:d801:6896:9fbe:cbf4:e61:0 - \"\u001b[1mGET /assets/inter-vietnamese-400-normal-DMkecbls.woff2 HTTP/1.1\u001b[0m\" \u001b[32m200 OK\u001b[0m\n",
            "\u001b[32mINFO\u001b[0m:     2a02:8428:3f5d:d801:6896:9fbe:cbf4:e61:0 - \"\u001b[1mGET /assets/inter-cyrillic-ext-500-normal-BShVwWPj.woff2 HTTP/1.1\u001b[0m\" \u001b[32m200 OK\u001b[0m\n",
            "\u001b[32mINFO\u001b[0m:     2a02:8428:3f5d:d801:6896:9fbe:cbf4:e61:0 - \"\u001b[1mGET /assets/inter-latin-400-normal-BOOGhInR.woff2 HTTP/1.1\u001b[0m\" \u001b[32m200 OK\u001b[0m\n",
            "\u001b[1;35mt=2025-03-05T13:59:00+0000 lvl=info msg=\"join connections\" obj=join id=3f8856407fde l=127.0.0.1:8237 r=[2a02:8428:3f5d:d801:6896:9fbe:cbf4:e61]:62235\u001b[0m\n"
          ]
        },
        {
          "output_type": "stream",
          "name": "stderr",
          "text": [
            "INFO:pyngrok.process.ngrok:t=2025-03-05T13:59:00+0000 lvl=info msg=\"join connections\" obj=join id=558aae705d0c l=127.0.0.1:8237 r=[2a02:8428:3f5d:d801:6896:9fbe:cbf4:e61]:62235\n"
          ]
        },
        {
          "output_type": "stream",
          "name": "stdout",
          "text": [
            "\u001b[1;35mt=2025-03-05T13:59:00+0000 lvl=info msg=\"join connections\" obj=join id=558aae705d0c l=127.0.0.1:8237 r=[2a02:8428:3f5d:d801:6896:9fbe:cbf4:e61]:62235\u001b[0m\n"
          ]
        },
        {
          "output_type": "stream",
          "name": "stderr",
          "text": [
            "INFO:pyngrok.process.ngrok:t=2025-03-05T13:59:00+0000 lvl=info msg=\"join connections\" obj=join id=fb10d29e673d l=127.0.0.1:8237 r=[2a02:8428:3f5d:d801:6896:9fbe:cbf4:e61]:62235\n"
          ]
        },
        {
          "output_type": "stream",
          "name": "stdout",
          "text": [
            "\u001b[1;35mt=2025-03-05T13:59:00+0000 lvl=info msg=\"join connections\" obj=join id=fb10d29e673d l=127.0.0.1:8237 r=[2a02:8428:3f5d:d801:6896:9fbe:cbf4:e61]:62235\u001b[0m\n"
          ]
        },
        {
          "output_type": "stream",
          "name": "stderr",
          "text": [
            "INFO:pyngrok.process.ngrok:t=2025-03-05T13:59:00+0000 lvl=info msg=\"join connections\" obj=join id=132022f886a0 l=127.0.0.1:8237 r=[2a02:8428:3f5d:d801:6896:9fbe:cbf4:e61]:62235\n"
          ]
        },
        {
          "output_type": "stream",
          "name": "stdout",
          "text": [
            "\u001b[1;35mt=2025-03-05T13:59:00+0000 lvl=info msg=\"join connections\" obj=join id=132022f886a0 l=127.0.0.1:8237 r=[2a02:8428:3f5d:d801:6896:9fbe:cbf4:e61]:62235\u001b[0m\n"
          ]
        },
        {
          "output_type": "stream",
          "name": "stderr",
          "text": [
            "INFO:pyngrok.process.ngrok:t=2025-03-05T13:59:00+0000 lvl=info msg=\"join connections\" obj=join id=15d89023bcdf l=127.0.0.1:8237 r=[2a02:8428:3f5d:d801:6896:9fbe:cbf4:e61]:62235\n"
          ]
        },
        {
          "output_type": "stream",
          "name": "stdout",
          "text": [
            "\u001b[1;35mt=2025-03-05T13:59:00+0000 lvl=info msg=\"join connections\" obj=join id=15d89023bcdf l=127.0.0.1:8237 r=[2a02:8428:3f5d:d801:6896:9fbe:cbf4:e61]:62235\u001b[0m\n"
          ]
        },
        {
          "output_type": "stream",
          "name": "stderr",
          "text": [
            "INFO:pyngrok.process.ngrok:t=2025-03-05T13:59:00+0000 lvl=info msg=\"join connections\" obj=join id=5ad4a4dc41fb l=127.0.0.1:8237 r=[2a02:8428:3f5d:d801:6896:9fbe:cbf4:e61]:62235\n"
          ]
        },
        {
          "output_type": "stream",
          "name": "stdout",
          "text": [
            "\u001b[1;35mt=2025-03-05T13:59:00+0000 lvl=info msg=\"join connections\" obj=join id=5ad4a4dc41fb l=127.0.0.1:8237 r=[2a02:8428:3f5d:d801:6896:9fbe:cbf4:e61]:62235\u001b[0m\n"
          ]
        },
        {
          "output_type": "stream",
          "name": "stderr",
          "text": [
            "INFO:pyngrok.process.ngrok:t=2025-03-05T13:59:00+0000 lvl=info msg=\"join connections\" obj=join id=72442bf1b5f6 l=127.0.0.1:8237 r=[2a02:8428:3f5d:d801:6896:9fbe:cbf4:e61]:62235\n"
          ]
        },
        {
          "output_type": "stream",
          "name": "stdout",
          "text": [
            "\u001b[1;35mt=2025-03-05T13:59:00+0000 lvl=info msg=\"join connections\" obj=join id=72442bf1b5f6 l=127.0.0.1:8237 r=[2a02:8428:3f5d:d801:6896:9fbe:cbf4:e61]:62235\u001b[0m\n"
          ]
        },
        {
          "output_type": "stream",
          "name": "stderr",
          "text": [
            "INFO:pyngrok.process.ngrok:t=2025-03-05T13:59:00+0000 lvl=info msg=\"join connections\" obj=join id=c5761301cff8 l=127.0.0.1:8237 r=[2a02:8428:3f5d:d801:6896:9fbe:cbf4:e61]:62235\n"
          ]
        },
        {
          "output_type": "stream",
          "name": "stdout",
          "text": [
            "\u001b[1;35mt=2025-03-05T13:59:00+0000 lvl=info msg=\"join connections\" obj=join id=c5761301cff8 l=127.0.0.1:8237 r=[2a02:8428:3f5d:d801:6896:9fbe:cbf4:e61]:62235\u001b[0m\n"
          ]
        },
        {
          "output_type": "stream",
          "name": "stderr",
          "text": [
            "INFO:pyngrok.process.ngrok:t=2025-03-05T13:59:00+0000 lvl=info msg=\"join connections\" obj=join id=3955418fd053 l=127.0.0.1:8237 r=[2a02:8428:3f5d:d801:6896:9fbe:cbf4:e61]:62235\n"
          ]
        },
        {
          "output_type": "stream",
          "name": "stdout",
          "text": [
            "\u001b[1;35mt=2025-03-05T13:59:00+0000 lvl=info msg=\"join connections\" obj=join id=3955418fd053 l=127.0.0.1:8237 r=[2a02:8428:3f5d:d801:6896:9fbe:cbf4:e61]:62235\u001b[0m\n"
          ]
        },
        {
          "output_type": "stream",
          "name": "stderr",
          "text": [
            "INFO:pyngrok.process.ngrok:t=2025-03-05T13:59:00+0000 lvl=info msg=\"join connections\" obj=join id=ec76846f479f l=127.0.0.1:8237 r=[2a02:8428:3f5d:d801:6896:9fbe:cbf4:e61]:62235\n"
          ]
        },
        {
          "output_type": "stream",
          "name": "stdout",
          "text": [
            "\u001b[1;35mt=2025-03-05T13:59:00+0000 lvl=info msg=\"join connections\" obj=join id=ec76846f479f l=127.0.0.1:8237 r=[2a02:8428:3f5d:d801:6896:9fbe:cbf4:e61]:62235\u001b[0m\n"
          ]
        },
        {
          "output_type": "stream",
          "name": "stderr",
          "text": [
            "INFO:pyngrok.process.ngrok:t=2025-03-05T13:59:00+0000 lvl=info msg=\"join connections\" obj=join id=3d7b426367d5 l=127.0.0.1:8237 r=[2a02:8428:3f5d:d801:6896:9fbe:cbf4:e61]:62235\n"
          ]
        },
        {
          "output_type": "stream",
          "name": "stdout",
          "text": [
            "\u001b[1;35mt=2025-03-05T13:59:00+0000 lvl=info msg=\"join connections\" obj=join id=3d7b426367d5 l=127.0.0.1:8237 r=[2a02:8428:3f5d:d801:6896:9fbe:cbf4:e61]:62235\u001b[0m\n"
          ]
        },
        {
          "output_type": "stream",
          "name": "stderr",
          "text": [
            "INFO:pyngrok.process.ngrok:t=2025-03-05T13:59:00+0000 lvl=info msg=\"join connections\" obj=join id=841eda5495bd l=127.0.0.1:8237 r=[2a02:8428:3f5d:d801:6896:9fbe:cbf4:e61]:62235\n"
          ]
        },
        {
          "output_type": "stream",
          "name": "stdout",
          "text": [
            "\u001b[1;35mt=2025-03-05T13:59:00+0000 lvl=info msg=\"join connections\" obj=join id=841eda5495bd l=127.0.0.1:8237 r=[2a02:8428:3f5d:d801:6896:9fbe:cbf4:e61]:62235\u001b[0m\n"
          ]
        },
        {
          "output_type": "stream",
          "name": "stderr",
          "text": [
            "INFO:pyngrok.process.ngrok:t=2025-03-05T13:59:00+0000 lvl=info msg=\"join connections\" obj=join id=647f1996a22d l=127.0.0.1:8237 r=[2a02:8428:3f5d:d801:6896:9fbe:cbf4:e61]:62235\n"
          ]
        },
        {
          "output_type": "stream",
          "name": "stdout",
          "text": [
            "\u001b[1;35mt=2025-03-05T13:59:00+0000 lvl=info msg=\"join connections\" obj=join id=647f1996a22d l=127.0.0.1:8237 r=[2a02:8428:3f5d:d801:6896:9fbe:cbf4:e61]:62235\u001b[0m\n"
          ]
        },
        {
          "output_type": "stream",
          "name": "stderr",
          "text": [
            "INFO:pyngrok.process.ngrok:t=2025-03-05T13:59:00+0000 lvl=info msg=\"join connections\" obj=join id=0e3a3901359e l=127.0.0.1:8237 r=[2a02:8428:3f5d:d801:6896:9fbe:cbf4:e61]:62235\n"
          ]
        },
        {
          "output_type": "stream",
          "name": "stdout",
          "text": [
            "\u001b[1;35mt=2025-03-05T13:59:00+0000 lvl=info msg=\"join connections\" obj=join id=0e3a3901359e l=127.0.0.1:8237 r=[2a02:8428:3f5d:d801:6896:9fbe:cbf4:e61]:62235\u001b[0m\n"
          ]
        },
        {
          "output_type": "stream",
          "name": "stderr",
          "text": [
            "INFO:pyngrok.process.ngrok:t=2025-03-05T13:59:00+0000 lvl=info msg=\"join connections\" obj=join id=76374153e3d1 l=127.0.0.1:8237 r=[2a02:8428:3f5d:d801:6896:9fbe:cbf4:e61]:62235\n"
          ]
        },
        {
          "output_type": "stream",
          "name": "stdout",
          "text": [
            "\u001b[1;35mt=2025-03-05T13:59:00+0000 lvl=info msg=\"join connections\" obj=join id=76374153e3d1 l=127.0.0.1:8237 r=[2a02:8428:3f5d:d801:6896:9fbe:cbf4:e61]:62235\u001b[0m\n"
          ]
        },
        {
          "output_type": "stream",
          "name": "stderr",
          "text": [
            "INFO:pyngrok.process.ngrok:t=2025-03-05T13:59:00+0000 lvl=info msg=\"join connections\" obj=join id=ba4404bdeee8 l=127.0.0.1:8237 r=[2a02:8428:3f5d:d801:6896:9fbe:cbf4:e61]:62235\n"
          ]
        },
        {
          "output_type": "stream",
          "name": "stdout",
          "text": [
            "\u001b[1;35mt=2025-03-05T13:59:00+0000 lvl=info msg=\"join connections\" obj=join id=ba4404bdeee8 l=127.0.0.1:8237 r=[2a02:8428:3f5d:d801:6896:9fbe:cbf4:e61]:62235\u001b[0m\n"
          ]
        },
        {
          "output_type": "stream",
          "name": "stderr",
          "text": [
            "INFO:pyngrok.process.ngrok:t=2025-03-05T13:59:00+0000 lvl=info msg=\"join connections\" obj=join id=6997db3bdf0d l=127.0.0.1:8237 r=[2a02:8428:3f5d:d801:6896:9fbe:cbf4:e61]:62235\n"
          ]
        },
        {
          "output_type": "stream",
          "name": "stdout",
          "text": [
            "\u001b[1;35mt=2025-03-05T13:59:00+0000 lvl=info msg=\"join connections\" obj=join id=6997db3bdf0d l=127.0.0.1:8237 r=[2a02:8428:3f5d:d801:6896:9fbe:cbf4:e61]:62235\u001b[0m\n"
          ]
        },
        {
          "output_type": "stream",
          "name": "stderr",
          "text": [
            "INFO:pyngrok.process.ngrok:t=2025-03-05T13:59:00+0000 lvl=info msg=\"join connections\" obj=join id=9423d7954892 l=127.0.0.1:8237 r=[2a02:8428:3f5d:d801:6896:9fbe:cbf4:e61]:62235\n"
          ]
        },
        {
          "output_type": "stream",
          "name": "stdout",
          "text": [
            "\u001b[1;35mt=2025-03-05T13:59:00+0000 lvl=info msg=\"join connections\" obj=join id=9423d7954892 l=127.0.0.1:8237 r=[2a02:8428:3f5d:d801:6896:9fbe:cbf4:e61]:62235\u001b[0m\n"
          ]
        },
        {
          "output_type": "stream",
          "name": "stderr",
          "text": [
            "INFO:pyngrok.process.ngrok:t=2025-03-05T13:59:00+0000 lvl=info msg=\"join connections\" obj=join id=0c7edf55c451 l=127.0.0.1:8237 r=[2a02:8428:3f5d:d801:6896:9fbe:cbf4:e61]:62235\n"
          ]
        },
        {
          "output_type": "stream",
          "name": "stdout",
          "text": [
            "\u001b[1;35mt=2025-03-05T13:59:00+0000 lvl=info msg=\"join connections\" obj=join id=0c7edf55c451 l=127.0.0.1:8237 r=[2a02:8428:3f5d:d801:6896:9fbe:cbf4:e61]:62235\u001b[0m\n"
          ]
        },
        {
          "output_type": "stream",
          "name": "stderr",
          "text": [
            "INFO:pyngrok.process.ngrok:t=2025-03-05T13:59:00+0000 lvl=info msg=\"join connections\" obj=join id=a130a2e4f0b6 l=127.0.0.1:8237 r=[2a02:8428:3f5d:d801:6896:9fbe:cbf4:e61]:62235\n"
          ]
        },
        {
          "output_type": "stream",
          "name": "stdout",
          "text": [
            "\u001b[32mINFO\u001b[0m:     2a02:8428:3f5d:d801:6896:9fbe:cbf4:e61:0 - \"\u001b[1mGET /assets/inter-greek-ext-500-normal-B6guLgqG.woff2 HTTP/1.1\u001b[0m\" \u001b[32m200 OK\u001b[0m\n",
            "\u001b[32mINFO\u001b[0m:     2a02:8428:3f5d:d801:6896:9fbe:cbf4:e61:0 - \"\u001b[1mGET /assets/inter-vietnamese-500-normal-DOriooB6.woff2 HTTP/1.1\u001b[0m\" \u001b[32m200 OK\u001b[0m\n",
            "\u001b[32mINFO\u001b[0m:     2a02:8428:3f5d:d801:6896:9fbe:cbf4:e61:0 - \"\u001b[1mGET /assets/inter-greek-500-normal-CeQXL5ds.woff2 HTTP/1.1\u001b[0m\" \u001b[32m200 OK\u001b[0m\n",
            "\u001b[32mINFO\u001b[0m:     2a02:8428:3f5d:d801:6896:9fbe:cbf4:e61:0 - \"\u001b[1mGET /assets/inter-greek-600-normal-Dhlb-90d.woff2 HTTP/1.1\u001b[0m\" \u001b[32m200 OK\u001b[0m\n",
            "\u001b[32mINFO\u001b[0m:     2a02:8428:3f5d:d801:6896:9fbe:cbf4:e61:0 - \"\u001b[1mGET /assets/inter-cyrillic-500-normal-D4Vwzodn.woff2 HTTP/1.1\u001b[0m\" \u001b[32m200 OK\u001b[0m\n",
            "\u001b[32mINFO\u001b[0m:     2a02:8428:3f5d:d801:6896:9fbe:cbf4:e61:0 - \"\u001b[1mGET /assets/inter-cyrillic-600-normal-BGBWG807.woff2 HTTP/1.1\u001b[0m\" \u001b[32m200 OK\u001b[0m\n",
            "\u001b[1;35mt=2025-03-05T13:59:00+0000 lvl=info msg=\"join connections\" obj=join id=a130a2e4f0b6 l=127.0.0.1:8237 r=[2a02:8428:3f5d:d801:6896:9fbe:cbf4:e61]:62235\u001b[0m\n"
          ]
        },
        {
          "output_type": "stream",
          "name": "stderr",
          "text": [
            "INFO:pyngrok.process.ngrok:t=2025-03-05T13:59:00+0000 lvl=info msg=\"join connections\" obj=join id=56cbe078632d l=127.0.0.1:8237 r=[2a02:8428:3f5d:d801:6896:9fbe:cbf4:e61]:62235\n"
          ]
        },
        {
          "output_type": "stream",
          "name": "stdout",
          "text": [
            "\u001b[1;35mt=2025-03-05T13:59:00+0000 lvl=info msg=\"join connections\" obj=join id=56cbe078632d l=127.0.0.1:8237 r=[2a02:8428:3f5d:d801:6896:9fbe:cbf4:e61]:62235\u001b[0m\n"
          ]
        },
        {
          "output_type": "stream",
          "name": "stderr",
          "text": [
            "INFO:pyngrok.process.ngrok:t=2025-03-05T13:59:00+0000 lvl=info msg=\"join connections\" obj=join id=a98855c50923 l=127.0.0.1:8237 r=[2a02:8428:3f5d:d801:6896:9fbe:cbf4:e61]:62235\n"
          ]
        },
        {
          "output_type": "stream",
          "name": "stdout",
          "text": [
            "\u001b[1;35mt=2025-03-05T13:59:00+0000 lvl=info msg=\"join connections\" obj=join id=a98855c50923 l=127.0.0.1:8237 r=[2a02:8428:3f5d:d801:6896:9fbe:cbf4:e61]:62235\u001b[0m\n"
          ]
        },
        {
          "output_type": "stream",
          "name": "stderr",
          "text": [
            "INFO:pyngrok.process.ngrok:t=2025-03-05T13:59:00+0000 lvl=info msg=\"join connections\" obj=join id=7b9458341d47 l=127.0.0.1:8237 r=[2a02:8428:3f5d:d801:6896:9fbe:cbf4:e61]:62235\n"
          ]
        },
        {
          "output_type": "stream",
          "name": "stdout",
          "text": [
            "\u001b[1;35mt=2025-03-05T13:59:00+0000 lvl=info msg=\"join connections\" obj=join id=7b9458341d47 l=127.0.0.1:8237 r=[2a02:8428:3f5d:d801:6896:9fbe:cbf4:e61]:62235\u001b[0m\n"
          ]
        },
        {
          "output_type": "stream",
          "name": "stderr",
          "text": [
            "INFO:pyngrok.process.ngrok:t=2025-03-05T13:59:00+0000 lvl=info msg=\"join connections\" obj=join id=b1cbd5febe7f l=127.0.0.1:8237 r=[2a02:8428:3f5d:d801:6896:9fbe:cbf4:e61]:62235\n"
          ]
        },
        {
          "output_type": "stream",
          "name": "stdout",
          "text": [
            "\u001b[1;35mt=2025-03-05T13:59:00+0000 lvl=info msg=\"join connections\" obj=join id=b1cbd5febe7f l=127.0.0.1:8237 r=[2a02:8428:3f5d:d801:6896:9fbe:cbf4:e61]:62235\u001b[0m\n"
          ]
        },
        {
          "output_type": "stream",
          "name": "stderr",
          "text": [
            "INFO:pyngrok.process.ngrok:t=2025-03-05T13:59:00+0000 lvl=info msg=\"join connections\" obj=join id=614f775137ab l=127.0.0.1:8237 r=[2a02:8428:3f5d:d801:6896:9fbe:cbf4:e61]:62235\n"
          ]
        },
        {
          "output_type": "stream",
          "name": "stdout",
          "text": [
            "\u001b[1;35mt=2025-03-05T13:59:00+0000 lvl=info msg=\"join connections\" obj=join id=614f775137ab l=127.0.0.1:8237 r=[2a02:8428:3f5d:d801:6896:9fbe:cbf4:e61]:62235\u001b[0m\n"
          ]
        },
        {
          "output_type": "stream",
          "name": "stderr",
          "text": [
            "INFO:pyngrok.process.ngrok:t=2025-03-05T13:59:00+0000 lvl=info msg=\"join connections\" obj=join id=791ea3880f66 l=127.0.0.1:8237 r=[2a02:8428:3f5d:d801:6896:9fbe:cbf4:e61]:62235\n"
          ]
        },
        {
          "output_type": "stream",
          "name": "stdout",
          "text": [
            "\u001b[1;35mt=2025-03-05T13:59:00+0000 lvl=info msg=\"join connections\" obj=join id=791ea3880f66 l=127.0.0.1:8237 r=[2a02:8428:3f5d:d801:6896:9fbe:cbf4:e61]:62235\u001b[0m\n"
          ]
        },
        {
          "output_type": "stream",
          "name": "stderr",
          "text": [
            "INFO:pyngrok.process.ngrok:t=2025-03-05T13:59:00+0000 lvl=info msg=\"join connections\" obj=join id=d5bcb8096b90 l=127.0.0.1:8237 r=[2a02:8428:3f5d:d801:6896:9fbe:cbf4:e61]:62235\n"
          ]
        },
        {
          "output_type": "stream",
          "name": "stdout",
          "text": [
            "\u001b[1;35mt=2025-03-05T13:59:00+0000 lvl=info msg=\"join connections\" obj=join id=d5bcb8096b90 l=127.0.0.1:8237 r=[2a02:8428:3f5d:d801:6896:9fbe:cbf4:e61]:62235\u001b[0m\n"
          ]
        },
        {
          "output_type": "stream",
          "name": "stderr",
          "text": [
            "INFO:pyngrok.process.ngrok:t=2025-03-05T13:59:00+0000 lvl=info msg=\"join connections\" obj=join id=e293ff0df4b8 l=127.0.0.1:8237 r=[2a02:8428:3f5d:d801:6896:9fbe:cbf4:e61]:62235\n"
          ]
        },
        {
          "output_type": "stream",
          "name": "stdout",
          "text": [
            "\u001b[1;35mt=2025-03-05T13:59:00+0000 lvl=info msg=\"join connections\" obj=join id=e293ff0df4b8 l=127.0.0.1:8237 r=[2a02:8428:3f5d:d801:6896:9fbe:cbf4:e61]:62235\u001b[0m\n"
          ]
        },
        {
          "output_type": "stream",
          "name": "stderr",
          "text": [
            "INFO:pyngrok.process.ngrok:t=2025-03-05T13:59:00+0000 lvl=info msg=\"join connections\" obj=join id=33aa7f54c09c l=127.0.0.1:8237 r=[2a02:8428:3f5d:d801:6896:9fbe:cbf4:e61]:62235\n"
          ]
        },
        {
          "output_type": "stream",
          "name": "stdout",
          "text": [
            "\u001b[1;35mt=2025-03-05T13:59:00+0000 lvl=info msg=\"join connections\" obj=join id=33aa7f54c09c l=127.0.0.1:8237 r=[2a02:8428:3f5d:d801:6896:9fbe:cbf4:e61]:62235\u001b[0m\n"
          ]
        },
        {
          "output_type": "stream",
          "name": "stderr",
          "text": [
            "INFO:pyngrok.process.ngrok:t=2025-03-05T13:59:00+0000 lvl=info msg=\"join connections\" obj=join id=23d75f6d9772 l=127.0.0.1:8237 r=[2a02:8428:3f5d:d801:6896:9fbe:cbf4:e61]:62235\n"
          ]
        },
        {
          "output_type": "stream",
          "name": "stdout",
          "text": [
            "\u001b[1;35mt=2025-03-05T13:59:00+0000 lvl=info msg=\"join connections\" obj=join id=23d75f6d9772 l=127.0.0.1:8237 r=[2a02:8428:3f5d:d801:6896:9fbe:cbf4:e61]:62235\u001b[0m\n"
          ]
        },
        {
          "output_type": "stream",
          "name": "stderr",
          "text": [
            "INFO:pyngrok.process.ngrok:t=2025-03-05T13:59:00+0000 lvl=info msg=\"join connections\" obj=join id=ee2dcdcec13f l=127.0.0.1:8237 r=[2a02:8428:3f5d:d801:6896:9fbe:cbf4:e61]:62235\n"
          ]
        },
        {
          "output_type": "stream",
          "name": "stdout",
          "text": [
            "\u001b[1;35mt=2025-03-05T13:59:00+0000 lvl=info msg=\"join connections\" obj=join id=ee2dcdcec13f l=127.0.0.1:8237 r=[2a02:8428:3f5d:d801:6896:9fbe:cbf4:e61]:62235\u001b[0m\n"
          ]
        },
        {
          "output_type": "stream",
          "name": "stderr",
          "text": [
            "INFO:pyngrok.process.ngrok:t=2025-03-05T13:59:00+0000 lvl=info msg=\"join connections\" obj=join id=8699d0190816 l=127.0.0.1:8237 r=[2a02:8428:3f5d:d801:6896:9fbe:cbf4:e61]:62235\n"
          ]
        },
        {
          "output_type": "stream",
          "name": "stdout",
          "text": [
            "\u001b[1;35mt=2025-03-05T13:59:00+0000 lvl=info msg=\"join connections\" obj=join id=8699d0190816 l=127.0.0.1:8237 r=[2a02:8428:3f5d:d801:6896:9fbe:cbf4:e61]:62235\u001b[0m\n"
          ]
        },
        {
          "output_type": "stream",
          "name": "stderr",
          "text": [
            "INFO:pyngrok.process.ngrok:t=2025-03-05T13:59:00+0000 lvl=info msg=\"join connections\" obj=join id=841b9273da24 l=127.0.0.1:8237 r=[2a02:8428:3f5d:d801:6896:9fbe:cbf4:e61]:62235\n"
          ]
        },
        {
          "output_type": "stream",
          "name": "stdout",
          "text": [
            "\u001b[1;35mt=2025-03-05T13:59:00+0000 lvl=info msg=\"join connections\" obj=join id=841b9273da24 l=127.0.0.1:8237 r=[2a02:8428:3f5d:d801:6896:9fbe:cbf4:e61]:62235\u001b[0m\n"
          ]
        },
        {
          "output_type": "stream",
          "name": "stderr",
          "text": [
            "INFO:pyngrok.process.ngrok:t=2025-03-05T13:59:00+0000 lvl=info msg=\"join connections\" obj=join id=51e862fed3e8 l=127.0.0.1:8237 r=[2a02:8428:3f5d:d801:6896:9fbe:cbf4:e61]:62235\n"
          ]
        },
        {
          "output_type": "stream",
          "name": "stdout",
          "text": [
            "\u001b[1;35mt=2025-03-05T13:59:00+0000 lvl=info msg=\"join connections\" obj=join id=51e862fed3e8 l=127.0.0.1:8237 r=[2a02:8428:3f5d:d801:6896:9fbe:cbf4:e61]:62235\u001b[0m\n"
          ]
        },
        {
          "output_type": "stream",
          "name": "stderr",
          "text": [
            "INFO:pyngrok.process.ngrok:t=2025-03-05T13:59:00+0000 lvl=info msg=\"join connections\" obj=join id=77ba65e7d72d l=127.0.0.1:8237 r=[2a02:8428:3f5d:d801:6896:9fbe:cbf4:e61]:62235\n"
          ]
        },
        {
          "output_type": "stream",
          "name": "stdout",
          "text": [
            "\u001b[1;35mt=2025-03-05T13:59:00+0000 lvl=info msg=\"join connections\" obj=join id=77ba65e7d72d l=127.0.0.1:8237 r=[2a02:8428:3f5d:d801:6896:9fbe:cbf4:e61]:62235\u001b[0m\n"
          ]
        },
        {
          "output_type": "stream",
          "name": "stderr",
          "text": [
            "INFO:pyngrok.process.ngrok:t=2025-03-05T13:59:00+0000 lvl=info msg=\"join connections\" obj=join id=39ac49f4b8ae l=127.0.0.1:8237 r=[2a02:8428:3f5d:d801:6896:9fbe:cbf4:e61]:62235\n"
          ]
        },
        {
          "output_type": "stream",
          "name": "stdout",
          "text": [
            "\u001b[1;35mt=2025-03-05T13:59:00+0000 lvl=info msg=\"join connections\" obj=join id=39ac49f4b8ae l=127.0.0.1:8237 r=[2a02:8428:3f5d:d801:6896:9fbe:cbf4:e61]:62235\u001b[0m\n"
          ]
        },
        {
          "output_type": "stream",
          "name": "stderr",
          "text": [
            "INFO:pyngrok.process.ngrok:t=2025-03-05T13:59:00+0000 lvl=info msg=\"join connections\" obj=join id=cb8ab7058bc7 l=127.0.0.1:8237 r=[2a02:8428:3f5d:d801:6896:9fbe:cbf4:e61]:62235\n"
          ]
        },
        {
          "output_type": "stream",
          "name": "stdout",
          "text": [
            "\u001b[1;35mt=2025-03-05T13:59:00+0000 lvl=info msg=\"join connections\" obj=join id=cb8ab7058bc7 l=127.0.0.1:8237 r=[2a02:8428:3f5d:d801:6896:9fbe:cbf4:e61]:62235\u001b[0m\n"
          ]
        },
        {
          "output_type": "stream",
          "name": "stderr",
          "text": [
            "INFO:pyngrok.process.ngrok:t=2025-03-05T13:59:00+0000 lvl=info msg=\"join connections\" obj=join id=98ee5c03761f l=127.0.0.1:8237 r=[2a02:8428:3f5d:d801:6896:9fbe:cbf4:e61]:62235\n"
          ]
        },
        {
          "output_type": "stream",
          "name": "stdout",
          "text": [
            "\u001b[1;35mt=2025-03-05T13:59:00+0000 lvl=info msg=\"join connections\" obj=join id=98ee5c03761f l=127.0.0.1:8237 r=[2a02:8428:3f5d:d801:6896:9fbe:cbf4:e61]:62235\u001b[0m\n"
          ]
        },
        {
          "output_type": "stream",
          "name": "stderr",
          "text": [
            "INFO:pyngrok.process.ngrok:t=2025-03-05T13:59:00+0000 lvl=info msg=\"join connections\" obj=join id=1f963dad8566 l=127.0.0.1:8237 r=[2a02:8428:3f5d:d801:6896:9fbe:cbf4:e61]:62235\n"
          ]
        },
        {
          "output_type": "stream",
          "name": "stdout",
          "text": [
            "\u001b[1;35mt=2025-03-05T13:59:00+0000 lvl=info msg=\"join connections\" obj=join id=1f963dad8566 l=127.0.0.1:8237 r=[2a02:8428:3f5d:d801:6896:9fbe:cbf4:e61]:62235\u001b[0m\n"
          ]
        },
        {
          "output_type": "stream",
          "name": "stderr",
          "text": [
            "INFO:pyngrok.process.ngrok:t=2025-03-05T13:59:00+0000 lvl=info msg=\"join connections\" obj=join id=1a272a5e72b3 l=127.0.0.1:8237 r=[2a02:8428:3f5d:d801:6896:9fbe:cbf4:e61]:62235\n"
          ]
        },
        {
          "output_type": "stream",
          "name": "stdout",
          "text": [
            "\u001b[1;35mt=2025-03-05T13:59:00+0000 lvl=info msg=\"join connections\" obj=join id=1a272a5e72b3 l=127.0.0.1:8237 r=[2a02:8428:3f5d:d801:6896:9fbe:cbf4:e61]:62235\u001b[0m\n"
          ]
        },
        {
          "output_type": "stream",
          "name": "stderr",
          "text": [
            "INFO:pyngrok.process.ngrok:t=2025-03-05T13:59:00+0000 lvl=info msg=\"join connections\" obj=join id=ddb5dbdc8cde l=127.0.0.1:8237 r=[2a02:8428:3f5d:d801:6896:9fbe:cbf4:e61]:62235\n"
          ]
        },
        {
          "output_type": "stream",
          "name": "stdout",
          "text": [
            "\u001b[1;35mt=2025-03-05T13:59:00+0000 lvl=info msg=\"join connections\" obj=join id=ddb5dbdc8cde l=127.0.0.1:8237 r=[2a02:8428:3f5d:d801:6896:9fbe:cbf4:e61]:62235\u001b[0m\n"
          ]
        },
        {
          "output_type": "stream",
          "name": "stderr",
          "text": [
            "INFO:pyngrok.process.ngrok:t=2025-03-05T13:59:00+0000 lvl=info msg=\"join connections\" obj=join id=f7576274290d l=127.0.0.1:8237 r=[2a02:8428:3f5d:d801:6896:9fbe:cbf4:e61]:62235\n"
          ]
        },
        {
          "output_type": "stream",
          "name": "stdout",
          "text": [
            "\u001b[1;35mt=2025-03-05T13:59:00+0000 lvl=info msg=\"join connections\" obj=join id=f7576274290d l=127.0.0.1:8237 r=[2a02:8428:3f5d:d801:6896:9fbe:cbf4:e61]:62235\u001b[0m\n"
          ]
        },
        {
          "output_type": "stream",
          "name": "stderr",
          "text": [
            "INFO:pyngrok.process.ngrok:t=2025-03-05T13:59:00+0000 lvl=info msg=\"join connections\" obj=join id=f2ec35cadbc9 l=127.0.0.1:8237 r=[2a02:8428:3f5d:d801:6896:9fbe:cbf4:e61]:62235\n"
          ]
        },
        {
          "output_type": "stream",
          "name": "stdout",
          "text": [
            "\u001b[1;35mt=2025-03-05T13:59:00+0000 lvl=info msg=\"join connections\" obj=join id=f2ec35cadbc9 l=127.0.0.1:8237 r=[2a02:8428:3f5d:d801:6896:9fbe:cbf4:e61]:62235\u001b[0m\n"
          ]
        },
        {
          "output_type": "stream",
          "name": "stderr",
          "text": [
            "INFO:pyngrok.process.ngrok:t=2025-03-05T13:59:00+0000 lvl=info msg=\"join connections\" obj=join id=5c97f474a850 l=127.0.0.1:8237 r=[2a02:8428:3f5d:d801:6896:9fbe:cbf4:e61]:62235\n"
          ]
        },
        {
          "output_type": "stream",
          "name": "stdout",
          "text": [
            "\u001b[1;35mt=2025-03-05T13:59:00+0000 lvl=info msg=\"join connections\" obj=join id=5c97f474a850 l=127.0.0.1:8237 r=[2a02:8428:3f5d:d801:6896:9fbe:cbf4:e61]:62235\u001b[0m\n"
          ]
        },
        {
          "output_type": "stream",
          "name": "stderr",
          "text": [
            "INFO:pyngrok.process.ngrok:t=2025-03-05T13:59:00+0000 lvl=info msg=\"join connections\" obj=join id=adc1938372c5 l=127.0.0.1:8237 r=[2a02:8428:3f5d:d801:6896:9fbe:cbf4:e61]:62235\n"
          ]
        },
        {
          "output_type": "stream",
          "name": "stdout",
          "text": [
            "\u001b[1;35mt=2025-03-05T13:59:00+0000 lvl=info msg=\"join connections\" obj=join id=adc1938372c5 l=127.0.0.1:8237 r=[2a02:8428:3f5d:d801:6896:9fbe:cbf4:e61]:62235\u001b[0m\n"
          ]
        },
        {
          "output_type": "stream",
          "name": "stderr",
          "text": [
            "INFO:pyngrok.process.ngrok:t=2025-03-05T13:59:00+0000 lvl=info msg=\"join connections\" obj=join id=810f830e8ef7 l=127.0.0.1:8237 r=[2a02:8428:3f5d:d801:6896:9fbe:cbf4:e61]:62235\n"
          ]
        },
        {
          "output_type": "stream",
          "name": "stdout",
          "text": [
            "\u001b[1;35mt=2025-03-05T13:59:00+0000 lvl=info msg=\"join connections\" obj=join id=810f830e8ef7 l=127.0.0.1:8237 r=[2a02:8428:3f5d:d801:6896:9fbe:cbf4:e61]:62235\u001b[0m\n"
          ]
        },
        {
          "output_type": "stream",
          "name": "stderr",
          "text": [
            "INFO:pyngrok.process.ngrok:t=2025-03-05T13:59:00+0000 lvl=info msg=\"join connections\" obj=join id=d447103c525b l=127.0.0.1:8237 r=[2a02:8428:3f5d:d801:6896:9fbe:cbf4:e61]:62235\n"
          ]
        },
        {
          "output_type": "stream",
          "name": "stdout",
          "text": [
            "\u001b[1;35mt=2025-03-05T13:59:00+0000 lvl=info msg=\"join connections\" obj=join id=d447103c525b l=127.0.0.1:8237 r=[2a02:8428:3f5d:d801:6896:9fbe:cbf4:e61]:62235\u001b[0m\n"
          ]
        },
        {
          "output_type": "stream",
          "name": "stderr",
          "text": [
            "INFO:pyngrok.process.ngrok:t=2025-03-05T13:59:00+0000 lvl=info msg=\"join connections\" obj=join id=d08e31ac149a l=127.0.0.1:8237 r=[2a02:8428:3f5d:d801:6896:9fbe:cbf4:e61]:62235\n"
          ]
        },
        {
          "output_type": "stream",
          "name": "stdout",
          "text": [
            "\u001b[1;35mt=2025-03-05T13:59:00+0000 lvl=info msg=\"join connections\" obj=join id=d08e31ac149a l=127.0.0.1:8237 r=[2a02:8428:3f5d:d801:6896:9fbe:cbf4:e61]:62235\u001b[0m\n"
          ]
        },
        {
          "output_type": "stream",
          "name": "stderr",
          "text": [
            "INFO:pyngrok.process.ngrok:t=2025-03-05T13:59:00+0000 lvl=info msg=\"join connections\" obj=join id=a4a07901a2e1 l=127.0.0.1:8237 r=[2a02:8428:3f5d:d801:6896:9fbe:cbf4:e61]:62235\n"
          ]
        },
        {
          "output_type": "stream",
          "name": "stdout",
          "text": [
            "\u001b[1;35mt=2025-03-05T13:59:00+0000 lvl=info msg=\"join connections\" obj=join id=a4a07901a2e1 l=127.0.0.1:8237 r=[2a02:8428:3f5d:d801:6896:9fbe:cbf4:e61]:62235\u001b[0m\n"
          ]
        },
        {
          "output_type": "stream",
          "name": "stderr",
          "text": [
            "INFO:pyngrok.process.ngrok:t=2025-03-05T13:59:00+0000 lvl=info msg=\"join connections\" obj=join id=865bf494a992 l=127.0.0.1:8237 r=[2a02:8428:3f5d:d801:6896:9fbe:cbf4:e61]:62235\n"
          ]
        },
        {
          "output_type": "stream",
          "name": "stdout",
          "text": [
            "\u001b[1;35mt=2025-03-05T13:59:00+0000 lvl=info msg=\"join connections\" obj=join id=865bf494a992 l=127.0.0.1:8237 r=[2a02:8428:3f5d:d801:6896:9fbe:cbf4:e61]:62235\u001b[0m\n"
          ]
        },
        {
          "output_type": "stream",
          "name": "stderr",
          "text": [
            "INFO:pyngrok.process.ngrok:t=2025-03-05T13:59:00+0000 lvl=info msg=\"join connections\" obj=join id=47258b8e9e36 l=127.0.0.1:8237 r=[2a02:8428:3f5d:d801:6896:9fbe:cbf4:e61]:62235\n"
          ]
        },
        {
          "output_type": "stream",
          "name": "stdout",
          "text": [
            "\u001b[1;35mt=2025-03-05T13:59:00+0000 lvl=info msg=\"join connections\" obj=join id=47258b8e9e36 l=127.0.0.1:8237 r=[2a02:8428:3f5d:d801:6896:9fbe:cbf4:e61]:62235\u001b[0m\n"
          ]
        },
        {
          "output_type": "stream",
          "name": "stderr",
          "text": [
            "INFO:pyngrok.process.ngrok:t=2025-03-05T13:59:00+0000 lvl=info msg=\"join connections\" obj=join id=e2639aad88e3 l=127.0.0.1:8237 r=[2a02:8428:3f5d:d801:6896:9fbe:cbf4:e61]:62235\n"
          ]
        },
        {
          "output_type": "stream",
          "name": "stdout",
          "text": [
            "\u001b[1;35mt=2025-03-05T13:59:00+0000 lvl=info msg=\"join connections\" obj=join id=e2639aad88e3 l=127.0.0.1:8237 r=[2a02:8428:3f5d:d801:6896:9fbe:cbf4:e61]:62235\u001b[0m\n"
          ]
        },
        {
          "output_type": "stream",
          "name": "stderr",
          "text": [
            "INFO:pyngrok.process.ngrok:t=2025-03-05T13:59:00+0000 lvl=info msg=\"join connections\" obj=join id=abddfe9c2c01 l=127.0.0.1:8237 r=[2a02:8428:3f5d:d801:6896:9fbe:cbf4:e61]:62235\n"
          ]
        },
        {
          "output_type": "stream",
          "name": "stdout",
          "text": [
            "\u001b[1;35mt=2025-03-05T13:59:00+0000 lvl=info msg=\"join connections\" obj=join id=abddfe9c2c01 l=127.0.0.1:8237 r=[2a02:8428:3f5d:d801:6896:9fbe:cbf4:e61]:62235\u001b[0m\n"
          ]
        },
        {
          "output_type": "stream",
          "name": "stderr",
          "text": [
            "INFO:pyngrok.process.ngrok:t=2025-03-05T13:59:00+0000 lvl=info msg=\"join connections\" obj=join id=b4d62d2b85f8 l=127.0.0.1:8237 r=[2a02:8428:3f5d:d801:6896:9fbe:cbf4:e61]:62235\n"
          ]
        },
        {
          "output_type": "stream",
          "name": "stdout",
          "text": [
            "\u001b[1;35mt=2025-03-05T13:59:00+0000 lvl=info msg=\"join connections\" obj=join id=b4d62d2b85f8 l=127.0.0.1:8237 r=[2a02:8428:3f5d:d801:6896:9fbe:cbf4:e61]:62235\u001b[0m\n"
          ]
        },
        {
          "output_type": "stream",
          "name": "stderr",
          "text": [
            "INFO:pyngrok.process.ngrok:t=2025-03-05T13:59:00+0000 lvl=info msg=\"join connections\" obj=join id=e63225547566 l=127.0.0.1:8237 r=[2a02:8428:3f5d:d801:6896:9fbe:cbf4:e61]:62235\n"
          ]
        },
        {
          "output_type": "stream",
          "name": "stdout",
          "text": [
            "\u001b[1;35mt=2025-03-05T13:59:00+0000 lvl=info msg=\"join connections\" obj=join id=e63225547566 l=127.0.0.1:8237 r=[2a02:8428:3f5d:d801:6896:9fbe:cbf4:e61]:62235\u001b[0m\n"
          ]
        },
        {
          "output_type": "stream",
          "name": "stderr",
          "text": [
            "INFO:pyngrok.process.ngrok:t=2025-03-05T13:59:00+0000 lvl=info msg=\"join connections\" obj=join id=c9cf74d827c2 l=127.0.0.1:8237 r=[2a02:8428:3f5d:d801:6896:9fbe:cbf4:e61]:62235\n"
          ]
        },
        {
          "output_type": "stream",
          "name": "stdout",
          "text": [
            "\u001b[1;35mt=2025-03-05T13:59:00+0000 lvl=info msg=\"join connections\" obj=join id=c9cf74d827c2 l=127.0.0.1:8237 r=[2a02:8428:3f5d:d801:6896:9fbe:cbf4:e61]:62235\u001b[0m\n",
            "\u001b[32mINFO\u001b[0m:     2a02:8428:3f5d:d801:6896:9fbe:cbf4:e61:0 - \"\u001b[1mGET /assets/inter-latin-ext-500-normal-CIS2RHJS.woff2 HTTP/1.1\u001b[0m\" \u001b[32m200 OK\u001b[0m\n",
            "\u001b[32mINFO\u001b[0m:     2a02:8428:3f5d:d801:6896:9fbe:cbf4:e61:0 - \"\u001b[1mGET /assets/inter-latin-600-normal-D273HNI0.woff2 HTTP/1.1\u001b[0m\" \u001b[32m200 OK\u001b[0m\n",
            "\u001b[32mINFO\u001b[0m:     2a02:8428:3f5d:d801:6896:9fbe:cbf4:e61:0 - \"\u001b[1mGET /assets/inter-cyrillic-ext-600-normal-CaqZN2hq.woff2 HTTP/1.1\u001b[0m\" \u001b[32m200 OK\u001b[0m\n",
            "\u001b[32mINFO\u001b[0m:     2a02:8428:3f5d:d801:6896:9fbe:cbf4:e61:0 - \"\u001b[1mGET /assets/inter-latin-ext-600-normal-BnYJhD27.woff2 HTTP/1.1\u001b[0m\" \u001b[32m200 OK\u001b[0m\n",
            "\u001b[32mINFO\u001b[0m:     2a02:8428:3f5d:d801:6896:9fbe:cbf4:e61:0 - \"\u001b[1mGET /assets/inter-vietnamese-600-normal-Cc8MFFhd.woff2 HTTP/1.1\u001b[0m\" \u001b[32m200 OK\u001b[0m\n",
            "\u001b[32mINFO\u001b[0m:     2a02:8428:3f5d:d801:6896:9fbe:cbf4:e61:0 - \"\u001b[1mGET /assets/inter-greek-ext-600-normal-Cnui8OiR.woff2 HTTP/1.1\u001b[0m\" \u001b[32m200 OK\u001b[0m\n",
            "\u001b[32mINFO\u001b[0m:     2a02:8428:3f5d:d801:6896:9fbe:cbf4:e61:0 - \"\u001b[1mGET /assets/inter-cyrillic-400-normal-ZzOtrSSW.woff HTTP/1.1\u001b[0m\" \u001b[32m200 OK\u001b[0m\n"
          ]
        },
        {
          "output_type": "stream",
          "name": "stderr",
          "text": [
            "INFO:pyngrok.process.ngrok:t=2025-03-05T13:59:00+0000 lvl=info msg=\"join connections\" obj=join id=f4b9fa78be97 l=127.0.0.1:8237 r=[2a02:8428:3f5d:d801:6896:9fbe:cbf4:e61]:62235\n"
          ]
        },
        {
          "output_type": "stream",
          "name": "stdout",
          "text": [
            "\u001b[1;35mt=2025-03-05T13:59:00+0000 lvl=info msg=\"join connections\" obj=join id=f4b9fa78be97 l=127.0.0.1:8237 r=[2a02:8428:3f5d:d801:6896:9fbe:cbf4:e61]:62235\u001b[0m\n"
          ]
        },
        {
          "output_type": "stream",
          "name": "stderr",
          "text": [
            "INFO:pyngrok.process.ngrok:t=2025-03-05T13:59:00+0000 lvl=info msg=\"join connections\" obj=join id=7e3cad06ae3c l=127.0.0.1:8237 r=[2a02:8428:3f5d:d801:6896:9fbe:cbf4:e61]:62235\n"
          ]
        },
        {
          "output_type": "stream",
          "name": "stdout",
          "text": [
            "\u001b[1;35mt=2025-03-05T13:59:00+0000 lvl=info msg=\"join connections\" obj=join id=7e3cad06ae3c l=127.0.0.1:8237 r=[2a02:8428:3f5d:d801:6896:9fbe:cbf4:e61]:62235\u001b[0m\n"
          ]
        },
        {
          "output_type": "stream",
          "name": "stderr",
          "text": [
            "INFO:pyngrok.process.ngrok:t=2025-03-05T13:59:00+0000 lvl=info msg=\"join connections\" obj=join id=94029a509be9 l=127.0.0.1:8237 r=[2a02:8428:3f5d:d801:6896:9fbe:cbf4:e61]:62235\n"
          ]
        },
        {
          "output_type": "stream",
          "name": "stdout",
          "text": [
            "\u001b[1;35mt=2025-03-05T13:59:00+0000 lvl=info msg=\"join connections\" obj=join id=94029a509be9 l=127.0.0.1:8237 r=[2a02:8428:3f5d:d801:6896:9fbe:cbf4:e61]:62235\u001b[0m\n"
          ]
        },
        {
          "output_type": "stream",
          "name": "stderr",
          "text": [
            "INFO:pyngrok.process.ngrok:t=2025-03-05T13:59:00+0000 lvl=info msg=\"join connections\" obj=join id=03587babc5ec l=127.0.0.1:8237 r=[2a02:8428:3f5d:d801:6896:9fbe:cbf4:e61]:62235\n"
          ]
        },
        {
          "output_type": "stream",
          "name": "stdout",
          "text": [
            "\u001b[1;35mt=2025-03-05T13:59:00+0000 lvl=info msg=\"join connections\" obj=join id=03587babc5ec l=127.0.0.1:8237 r=[2a02:8428:3f5d:d801:6896:9fbe:cbf4:e61]:62235\u001b[0m\n"
          ]
        },
        {
          "output_type": "stream",
          "name": "stderr",
          "text": [
            "INFO:pyngrok.process.ngrok:t=2025-03-05T13:59:00+0000 lvl=info msg=\"join connections\" obj=join id=a813faf60e18 l=127.0.0.1:8237 r=[2a02:8428:3f5d:d801:6896:9fbe:cbf4:e61]:62235\n"
          ]
        },
        {
          "output_type": "stream",
          "name": "stdout",
          "text": [
            "\u001b[1;35mt=2025-03-05T13:59:00+0000 lvl=info msg=\"join connections\" obj=join id=a813faf60e18 l=127.0.0.1:8237 r=[2a02:8428:3f5d:d801:6896:9fbe:cbf4:e61]:62235\u001b[0m\n"
          ]
        },
        {
          "output_type": "stream",
          "name": "stderr",
          "text": [
            "INFO:pyngrok.process.ngrok:t=2025-03-05T13:59:00+0000 lvl=info msg=\"join connections\" obj=join id=fbc11ca492c0 l=127.0.0.1:8237 r=[2a02:8428:3f5d:d801:6896:9fbe:cbf4:e61]:62235\n"
          ]
        },
        {
          "output_type": "stream",
          "name": "stdout",
          "text": [
            "\u001b[1;35mt=2025-03-05T13:59:00+0000 lvl=info msg=\"join connections\" obj=join id=fbc11ca492c0 l=127.0.0.1:8237 r=[2a02:8428:3f5d:d801:6896:9fbe:cbf4:e61]:62235\u001b[0m\n"
          ]
        },
        {
          "output_type": "stream",
          "name": "stderr",
          "text": [
            "INFO:pyngrok.process.ngrok:t=2025-03-05T13:59:00+0000 lvl=info msg=\"join connections\" obj=join id=66bd7ccaac5c l=127.0.0.1:8237 r=[2a02:8428:3f5d:d801:6896:9fbe:cbf4:e61]:62235\n"
          ]
        },
        {
          "output_type": "stream",
          "name": "stdout",
          "text": [
            "\u001b[1;35mt=2025-03-05T13:59:00+0000 lvl=info msg=\"join connections\" obj=join id=66bd7ccaac5c l=127.0.0.1:8237 r=[2a02:8428:3f5d:d801:6896:9fbe:cbf4:e61]:62235\u001b[0m\n"
          ]
        },
        {
          "output_type": "stream",
          "name": "stderr",
          "text": [
            "INFO:pyngrok.process.ngrok:t=2025-03-05T13:59:00+0000 lvl=info msg=\"join connections\" obj=join id=a7537c401bba l=127.0.0.1:8237 r=[2a02:8428:3f5d:d801:6896:9fbe:cbf4:e61]:62235\n"
          ]
        },
        {
          "output_type": "stream",
          "name": "stdout",
          "text": [
            "\u001b[1;35mt=2025-03-05T13:59:00+0000 lvl=info msg=\"join connections\" obj=join id=a7537c401bba l=127.0.0.1:8237 r=[2a02:8428:3f5d:d801:6896:9fbe:cbf4:e61]:62235\u001b[0m\n"
          ]
        },
        {
          "output_type": "stream",
          "name": "stderr",
          "text": [
            "INFO:pyngrok.process.ngrok:t=2025-03-05T13:59:00+0000 lvl=info msg=\"join connections\" obj=join id=cbd9a4cec895 l=127.0.0.1:8237 r=[2a02:8428:3f5d:d801:6896:9fbe:cbf4:e61]:62235\n"
          ]
        },
        {
          "output_type": "stream",
          "name": "stdout",
          "text": [
            "\u001b[1;35mt=2025-03-05T13:59:00+0000 lvl=info msg=\"join connections\" obj=join id=cbd9a4cec895 l=127.0.0.1:8237 r=[2a02:8428:3f5d:d801:6896:9fbe:cbf4:e61]:62235\u001b[0m\n"
          ]
        },
        {
          "output_type": "stream",
          "name": "stderr",
          "text": [
            "INFO:pyngrok.process.ngrok:t=2025-03-05T13:59:00+0000 lvl=info msg=\"join connections\" obj=join id=7584fc377296 l=127.0.0.1:8237 r=[2a02:8428:3f5d:d801:6896:9fbe:cbf4:e61]:62235\n"
          ]
        },
        {
          "output_type": "stream",
          "name": "stdout",
          "text": [
            "\u001b[1;35mt=2025-03-05T13:59:00+0000 lvl=info msg=\"join connections\" obj=join id=7584fc377296 l=127.0.0.1:8237 r=[2a02:8428:3f5d:d801:6896:9fbe:cbf4:e61]:62235\u001b[0m\n"
          ]
        },
        {
          "output_type": "stream",
          "name": "stderr",
          "text": [
            "INFO:pyngrok.process.ngrok:t=2025-03-05T13:59:00+0000 lvl=info msg=\"join connections\" obj=join id=8a0c73c0c74e l=127.0.0.1:8237 r=[2a02:8428:3f5d:d801:6896:9fbe:cbf4:e61]:62235\n"
          ]
        },
        {
          "output_type": "stream",
          "name": "stdout",
          "text": [
            "\u001b[1;35mt=2025-03-05T13:59:00+0000 lvl=info msg=\"join connections\" obj=join id=8a0c73c0c74e l=127.0.0.1:8237 r=[2a02:8428:3f5d:d801:6896:9fbe:cbf4:e61]:62235\u001b[0m\n"
          ]
        },
        {
          "output_type": "stream",
          "name": "stderr",
          "text": [
            "INFO:pyngrok.process.ngrok:t=2025-03-05T13:59:00+0000 lvl=info msg=\"join connections\" obj=join id=7c3bd43325a9 l=127.0.0.1:8237 r=[2a02:8428:3f5d:d801:6896:9fbe:cbf4:e61]:62235\n"
          ]
        },
        {
          "output_type": "stream",
          "name": "stdout",
          "text": [
            "\u001b[1;35mt=2025-03-05T13:59:00+0000 lvl=info msg=\"join connections\" obj=join id=7c3bd43325a9 l=127.0.0.1:8237 r=[2a02:8428:3f5d:d801:6896:9fbe:cbf4:e61]:62235\u001b[0m\n"
          ]
        },
        {
          "output_type": "stream",
          "name": "stderr",
          "text": [
            "INFO:pyngrok.process.ngrok:t=2025-03-05T13:59:00+0000 lvl=info msg=\"join connections\" obj=join id=996739291795 l=127.0.0.1:8237 r=[2a02:8428:3f5d:d801:6896:9fbe:cbf4:e61]:62235\n"
          ]
        },
        {
          "output_type": "stream",
          "name": "stdout",
          "text": [
            "\u001b[1;35mt=2025-03-05T13:59:00+0000 lvl=info msg=\"join connections\" obj=join id=996739291795 l=127.0.0.1:8237 r=[2a02:8428:3f5d:d801:6896:9fbe:cbf4:e61]:62235\u001b[0m\n"
          ]
        },
        {
          "output_type": "stream",
          "name": "stderr",
          "text": [
            "INFO:pyngrok.process.ngrok:t=2025-03-05T13:59:00+0000 lvl=info msg=\"join connections\" obj=join id=dab697783c23 l=127.0.0.1:8237 r=[2a02:8428:3f5d:d801:6896:9fbe:cbf4:e61]:62235\n"
          ]
        },
        {
          "output_type": "stream",
          "name": "stdout",
          "text": [
            "\u001b[1;35mt=2025-03-05T13:59:00+0000 lvl=info msg=\"join connections\" obj=join id=dab697783c23 l=127.0.0.1:8237 r=[2a02:8428:3f5d:d801:6896:9fbe:cbf4:e61]:62235\u001b[0m\n"
          ]
        },
        {
          "output_type": "stream",
          "name": "stderr",
          "text": [
            "INFO:pyngrok.process.ngrok:t=2025-03-05T13:59:00+0000 lvl=info msg=\"join connections\" obj=join id=6bd2509bb96a l=127.0.0.1:8237 r=[2a02:8428:3f5d:d801:6896:9fbe:cbf4:e61]:62235\n"
          ]
        },
        {
          "output_type": "stream",
          "name": "stdout",
          "text": [
            "\u001b[1;35mt=2025-03-05T13:59:00+0000 lvl=info msg=\"join connections\" obj=join id=6bd2509bb96a l=127.0.0.1:8237 r=[2a02:8428:3f5d:d801:6896:9fbe:cbf4:e61]:62235\u001b[0m\n"
          ]
        },
        {
          "output_type": "stream",
          "name": "stderr",
          "text": [
            "INFO:pyngrok.process.ngrok:t=2025-03-05T13:59:00+0000 lvl=info msg=\"join connections\" obj=join id=a76cf43be5d8 l=127.0.0.1:8237 r=[2a02:8428:3f5d:d801:6896:9fbe:cbf4:e61]:62235\n"
          ]
        },
        {
          "output_type": "stream",
          "name": "stdout",
          "text": [
            "\u001b[1;35mt=2025-03-05T13:59:00+0000 lvl=info msg=\"join connections\" obj=join id=a76cf43be5d8 l=127.0.0.1:8237 r=[2a02:8428:3f5d:d801:6896:9fbe:cbf4:e61]:62235\u001b[0m\n",
            "\u001b[32mINFO\u001b[0m:     2a02:8428:3f5d:d801:6896:9fbe:cbf4:e61:0 - \"\u001b[1mGET /assets/inter-cyrillic-ext-600-normal-Bt9VVOA-.woff HTTP/1.1\u001b[0m\" \u001b[32m200 OK\u001b[0m\n",
            "\u001b[32mINFO\u001b[0m:     2a02:8428:3f5d:d801:6896:9fbe:cbf4:e61:0 - \"\u001b[1mGET /assets/inter-greek-ext-400-normal-DCpCPQOf.woff HTTP/1.1\u001b[0m\" \u001b[32m200 OK\u001b[0m\n",
            "\u001b[32mINFO\u001b[0m:     2a02:8428:3f5d:d801:6896:9fbe:cbf4:e61:0 - \"\u001b[1mGET /assets/inter-cyrillic-ext-400-normal-BPnxn4xp.woff HTTP/1.1\u001b[0m\" \u001b[32m200 OK\u001b[0m\n",
            "\u001b[32mINFO\u001b[0m:     2a02:8428:3f5d:d801:6896:9fbe:cbf4:e61:0 - \"\u001b[1mGET /assets/inter-greek-400-normal-BZzXV7-1.woff HTTP/1.1\u001b[0m\" \u001b[32m200 OK\u001b[0m\n",
            "\u001b[32mINFO\u001b[0m:     2a02:8428:3f5d:d801:6896:9fbe:cbf4:e61:0 - \"\u001b[1mGET /assets/upgrade-form-CwRHBuXB.webp HTTP/1.1\u001b[0m\" \u001b[32m200 OK\u001b[0m\n",
            "\u001b[32mINFO\u001b[0m:     2a02:8428:3f5d:d801:6896:9fbe:cbf4:e61:0 - \"\u001b[1mGET /assets/inter-vietnamese-500-normal-DQPw2Hwd.woff HTTP/1.1\u001b[0m\" \u001b[32m200 OK\u001b[0m\n",
            "\u001b[32mINFO\u001b[0m:     2a02:8428:3f5d:d801:6896:9fbe:cbf4:e61:0 - \"\u001b[1mGET /assets/inter-latin-400-normal-gitzw0hO.woff HTTP/1.1\u001b[0m\" \u001b[32m200 OK\u001b[0m\n",
            "\u001b[32mINFO\u001b[0m:     2a02:8428:3f5d:d801:6896:9fbe:cbf4:e61:0 - \"\u001b[1mGET /assets/inter-cyrillic-ext-500-normal-CUiC4oBV.woff HTTP/1.1\u001b[0m\" \u001b[32m200 OK\u001b[0m\n",
            "\u001b[32mINFO\u001b[0m:     2a02:8428:3f5d:d801:6896:9fbe:cbf4:e61:0 - \"\u001b[1mGET /assets/inter-greek-ext-500-normal-M2hEX8vc.woff HTTP/1.1\u001b[0m\" \u001b[32m200 OK\u001b[0m\n",
            "\u001b[32mINFO\u001b[0m:     2a02:8428:3f5d:d801:6896:9fbe:cbf4:e61:0 - \"\u001b[1mGET /assets/page-C3BbJ-5n.js HTTP/1.1\u001b[0m\" \u001b[32m200 OK\u001b[0m\n",
            "\u001b[32mINFO\u001b[0m:     2a02:8428:3f5d:d801:6896:9fbe:cbf4:e61:0 - \"\u001b[1mGET /assets/inter-cyrillic-500-normal-DH2hs3aW.woff HTTP/1.1\u001b[0m\" \u001b[32m200 OK\u001b[0m\n",
            "\u001b[32mINFO\u001b[0m:     2a02:8428:3f5d:d801:6896:9fbe:cbf4:e61:0 - \"\u001b[1mGET /assets/inter-latin-ext-400-normal-C1t-h-pH.woff HTTP/1.1\u001b[0m\" \u001b[32m200 OK\u001b[0m\n",
            "\u001b[32mINFO\u001b[0m:     2a02:8428:3f5d:d801:6896:9fbe:cbf4:e61:0 - \"\u001b[1mGET /assets/acp-DOsXjFc7.webp HTTP/1.1\u001b[0m\" \u001b[32m200 OK\u001b[0m\n",
            "\u001b[32mINFO\u001b[0m:     2a02:8428:3f5d:d801:6896:9fbe:cbf4:e61:0 - \"\u001b[1mGET /assets/settings_preview-0JLrRgHP.webp HTTP/1.1\u001b[0m\" \u001b[32m200 OK\u001b[0m\n",
            "\u001b[32mINFO\u001b[0m:     2a02:8428:3f5d:d801:6896:9fbe:cbf4:e61:0 - \"\u001b[1mGET /assets/metaflow-weOkWNyT.svg HTTP/1.1\u001b[0m\" \u001b[32m200 OK\u001b[0m\n",
            "\u001b[32mINFO\u001b[0m:     2a02:8428:3f5d:d801:6896:9fbe:cbf4:e61:0 - \"\u001b[1mGET /assets/page-TiOZeeo0.js HTTP/1.1\u001b[0m\" \u001b[32m200 OK\u001b[0m\n",
            "\u001b[32mINFO\u001b[0m:     2a02:8428:3f5d:d801:6896:9fbe:cbf4:e61:0 - \"\u001b[1mGET /assets/page-CfeQbejg.js HTTP/1.1\u001b[0m\" \u001b[32m200 OK\u001b[0m\n",
            "\u001b[32mINFO\u001b[0m:     2a02:8428:3f5d:d801:6896:9fbe:cbf4:e61:0 - \"\u001b[1mGET /assets/inter-vietnamese-400-normal-BUNmGMP1.woff HTTP/1.1\u001b[0m\" \u001b[32m200 OK\u001b[0m\n",
            "\u001b[32mINFO\u001b[0m:     2a02:8428:3f5d:d801:6896:9fbe:cbf4:e61:0 - \"\u001b[1mGET /assets/CodeSnippet-CK5CxKct.css HTTP/1.1\u001b[0m\" \u001b[32m200 OK\u001b[0m\n",
            "\u001b[32mINFO\u001b[0m:     2a02:8428:3f5d:d801:6896:9fbe:cbf4:e61:0 - \"\u001b[1mGET /assets/inter-greek-500-normal-d_eO-yCQ.woff HTTP/1.1\u001b[0m\" \u001b[32m200 OK\u001b[0m\n",
            "\u001b[32mINFO\u001b[0m:     2a02:8428:3f5d:d801:6896:9fbe:cbf4:e61:0 - \"\u001b[1mGET /assets/hamza-NKKOZz1I.webp HTTP/1.1\u001b[0m\" \u001b[32m200 OK\u001b[0m\n",
            "\u001b[32mINFO\u001b[0m:     2a02:8428:3f5d:d801:6896:9fbe:cbf4:e61:0 - \"\u001b[1mGET /assets/inter-latin-500-normal-deR1Tlfd.woff HTTP/1.1\u001b[0m\" \u001b[32m200 OK\u001b[0m\n",
            "\u001b[32mINFO\u001b[0m:     2a02:8428:3f5d:d801:6896:9fbe:cbf4:e61:0 - \"\u001b[1mGET /assets/inter-greek-600-normal-CwicyhtI.woff HTTP/1.1\u001b[0m\" \u001b[32m200 OK\u001b[0m\n",
            "\u001b[32mINFO\u001b[0m:     2a02:8428:3f5d:d801:6896:9fbe:cbf4:e61:0 - \"\u001b[1mGET /assets/inter-latin-600-normal-B5cFAncS.woff HTTP/1.1\u001b[0m\" \u001b[32m200 OK\u001b[0m\n",
            "\u001b[32mINFO\u001b[0m:     2a02:8428:3f5d:d801:6896:9fbe:cbf4:e61:0 - \"\u001b[1mGET /assets/SetPassword-CWl2mwz8.js HTTP/1.1\u001b[0m\" \u001b[32m200 OK\u001b[0m\n",
            "\u001b[32mINFO\u001b[0m:     2a02:8428:3f5d:d801:6896:9fbe:cbf4:e61:0 - \"\u001b[1mGET /assets/flyte-Cj-xy_8I.svg HTTP/1.1\u001b[0m\" \u001b[32m200 OK\u001b[0m\n",
            "\u001b[32mINFO\u001b[0m:     2a02:8428:3f5d:d801:6896:9fbe:cbf4:e61:0 - \"\u001b[1mGET /assets/inter-latin-ext-500-normal-UMdmhHu2.woff HTTP/1.1\u001b[0m\" \u001b[32m200 OK\u001b[0m\n",
            "\u001b[32mINFO\u001b[0m:     2a02:8428:3f5d:d801:6896:9fbe:cbf4:e61:0 - \"\u001b[1mGET /assets/inter-vietnamese-600-normal-Cm6aH8_k.woff HTTP/1.1\u001b[0m\" \u001b[32m200 OK\u001b[0m\n",
            "\u001b[32mINFO\u001b[0m:     2a02:8428:3f5d:d801:6896:9fbe:cbf4:e61:0 - \"\u001b[1mGET /assets/cloud-squares-DeRLMopf.svg HTTP/1.1\u001b[0m\" \u001b[32m200 OK\u001b[0m\n",
            "\u001b[32mINFO\u001b[0m:     2a02:8428:3f5d:d801:6896:9fbe:cbf4:e61:0 - \"\u001b[1mGET /assets/repos-video-D8kpu60k.svg HTTP/1.1\u001b[0m\" \u001b[32m200 OK\u001b[0m\n",
            "\u001b[32mINFO\u001b[0m:     2a02:8428:3f5d:d801:6896:9fbe:cbf4:e61:0 - \"\u001b[1mGET /assets/adam-e-y0WnB_.webp HTTP/1.1\u001b[0m\" \u001b[32m200 OK\u001b[0m\n",
            "\u001b[32mINFO\u001b[0m:     2a02:8428:3f5d:d801:6896:9fbe:cbf4:e61:0 - \"\u001b[1mGET /assets/page-k-UXKVnV.js HTTP/1.1\u001b[0m\" \u001b[32m200 OK\u001b[0m\n",
            "\u001b[32mINFO\u001b[0m:     2a02:8428:3f5d:d801:6896:9fbe:cbf4:e61:0 - \"\u001b[1mGET /assets/stefan-B08Ftbba.webp HTTP/1.1\u001b[0m\" \u001b[32m200 OK\u001b[0m\n",
            "\u001b[32mINFO\u001b[0m:     2a02:8428:3f5d:d801:6896:9fbe:cbf4:e61:0 - \"\u001b[1mGET /assets/baris-C0ZrZ10g.webp HTTP/1.1\u001b[0m\" \u001b[32m200 OK\u001b[0m\n",
            "\u001b[32mINFO\u001b[0m:     2a02:8428:3f5d:d801:6896:9fbe:cbf4:e61:0 - \"\u001b[1mGET /assets/templates-1S_8WeSK.webp HTTP/1.1\u001b[0m\" \u001b[32m200 OK\u001b[0m\n",
            "\u001b[32mINFO\u001b[0m:     2a02:8428:3f5d:d801:6896:9fbe:cbf4:e61:0 - \"\u001b[1mGET /assets/inter-cyrillic-600-normal-BuzJQFbW.woff HTTP/1.1\u001b[0m\" \u001b[32m200 OK\u001b[0m\n",
            "\u001b[32mINFO\u001b[0m:     2a02:8428:3f5d:d801:6896:9fbe:cbf4:e61:0 - \"\u001b[1mGET /assets/inter-latin-ext-600-normal-CAF0vJDd.woff HTTP/1.1\u001b[0m\" \u001b[32m200 OK\u001b[0m\n",
            "\u001b[32mINFO\u001b[0m:     2a02:8428:3f5d:d801:6896:9fbe:cbf4:e61:0 - \"\u001b[1mGET /assets/RunSelector-CYmRHGdm.js HTTP/1.1\u001b[0m\" \u001b[32m200 OK\u001b[0m\n",
            "\u001b[32mINFO\u001b[0m:     2a02:8428:3f5d:d801:6896:9fbe:cbf4:e61:0 - \"\u001b[1mGET /assets/inter-greek-ext-600-normal-C9WLioJ8.woff HTTP/1.1\u001b[0m\" \u001b[32m200 OK\u001b[0m\n",
            "\u001b[32mINFO\u001b[0m:     2a02:8428:3f5d:d801:6896:9fbe:cbf4:e61:0 - \"\u001b[1mGET /assets/mcp-Cb1aMeoq.webp HTTP/1.1\u001b[0m\" \u001b[32m200 OK\u001b[0m\n",
            "\u001b[32mINFO\u001b[0m:     2a02:8428:3f5d:d801:6896:9fbe:cbf4:e61:0 - \"\u001b[1mGET /assets/page-CxoG4zme.js HTTP/1.1\u001b[0m\" \u001b[32m200 OK\u001b[0m\n",
            "\u001b[32mINFO\u001b[0m:     2a02:8428:3f5d:d801:6896:9fbe:cbf4:e61:0 - \"\u001b[1mGET /assets/page-AnG2ilmi.js HTTP/1.1\u001b[0m\" \u001b[32m200 OK\u001b[0m\n",
            "\u001b[32mINFO\u001b[0m:     2a02:8428:3f5d:d801:6896:9fbe:cbf4:e61:0 - \"\u001b[1mGET /assets/RunsBody-D2VoO-cR.js HTTP/1.1\u001b[0m\" \u001b[32m200 OK\u001b[0m\n",
            "\u001b[32mINFO\u001b[0m:     2a02:8428:3f5d:d801:6896:9fbe:cbf4:e61:0 - \"\u001b[1mGET /assets/page-BnOdORy3.js HTTP/1.1\u001b[0m\" \u001b[32m200 OK\u001b[0m\n",
            "\u001b[32mINFO\u001b[0m:     2a02:8428:3f5d:d801:6896:9fbe:cbf4:e61:0 - \"\u001b[1mGET /assets/code-snippets-CqONne41.js HTTP/1.1\u001b[0m\" \u001b[32m200 OK\u001b[0m\n",
            "\u001b[32mINFO\u001b[0m:     2a02:8428:3f5d:d801:6896:9fbe:cbf4:e61:0 - \"\u001b[1mGET /assets/page-C89bN6VV.js HTTP/1.1\u001b[0m\" \u001b[32m200 OK\u001b[0m\n",
            "\u001b[32mINFO\u001b[0m:     2a02:8428:3f5d:d801:6896:9fbe:cbf4:e61:0 - \"\u001b[1mGET /assets/Commands-V-hH_IKQ.js HTTP/1.1\u001b[0m\" \u001b[32m200 OK\u001b[0m\n",
            "\u001b[32mINFO\u001b[0m:     2a02:8428:3f5d:d801:6896:9fbe:cbf4:e61:0 - \"\u001b[1mGET /assets/tick-circle-AaVBszPn.js HTTP/1.1\u001b[0m\" \u001b[32m200 OK\u001b[0m\n",
            "\u001b[32mINFO\u001b[0m:     2a02:8428:3f5d:d801:6896:9fbe:cbf4:e61:0 - \"\u001b[1mGET /assets/page-CxrLV30P.js HTTP/1.1\u001b[0m\" \u001b[32m200 OK\u001b[0m\n",
            "\u001b[32mINFO\u001b[0m:     2a02:8428:3f5d:d801:6896:9fbe:cbf4:e61:0 - \"\u001b[1mGET /assets/DeleteAlertDialog-CTLRrcFM.js HTTP/1.1\u001b[0m\" \u001b[32m200 OK\u001b[0m\n",
            "\u001b[32mINFO\u001b[0m:     2a02:8428:3f5d:d801:6896:9fbe:cbf4:e61:0 - \"\u001b[1mGET /assets/page-Cyoe7AtN.js HTTP/1.1\u001b[0m\" \u001b[32m200 OK\u001b[0m\n",
            "\u001b[32mINFO\u001b[0m:     2a02:8428:3f5d:d801:6896:9fbe:cbf4:e61:0 - \"\u001b[1mGET /assets/not-found-DGQ8rm7B.js HTTP/1.1\u001b[0m\" \u001b[32m200 OK\u001b[0m\n",
            "\u001b[32mINFO\u001b[0m:     2a02:8428:3f5d:d801:6896:9fbe:cbf4:e61:0 - \"\u001b[1mGET /assets/page-cveasWUr.js HTTP/1.1\u001b[0m\" \u001b[32m200 OK\u001b[0m\n",
            "\u001b[32mINFO\u001b[0m:     2a02:8428:3f5d:d801:6896:9fbe:cbf4:e61:0 - \"\u001b[1mGET /assets/page-DEnmFyzi.js HTTP/1.1\u001b[0m\" \u001b[32m200 OK\u001b[0m\n",
            "\u001b[32mINFO\u001b[0m:     2a02:8428:3f5d:d801:6896:9fbe:cbf4:e61:0 - \"\u001b[1mGET /assets/page-nHAZvd76.js HTTP/1.1\u001b[0m\" \u001b[32m200 OK\u001b[0m\n",
            "\u001b[32mINFO\u001b[0m:     2a02:8428:3f5d:d801:6896:9fbe:cbf4:e61:0 - \"\u001b[1mGET /assets/key-icon-CjwWwoOU.js HTTP/1.1\u001b[0m\" \u001b[32m200 OK\u001b[0m\n",
            "\u001b[32mINFO\u001b[0m:     2a02:8428:3f5d:d801:6896:9fbe:cbf4:e61:0 - \"\u001b[1mGET /assets/page-COAGXWJu.js HTTP/1.1\u001b[0m\" \u001b[32m200 OK\u001b[0m\n",
            "\u001b[32mINFO\u001b[0m:     2a02:8428:3f5d:d801:6896:9fbe:cbf4:e61:0 - \"\u001b[1mGET /assets/Tabs-BEWDPvPV.js HTTP/1.1\u001b[0m\" \u001b[32m200 OK\u001b[0m\n",
            "\u001b[32mINFO\u001b[0m:     2a02:8428:3f5d:d801:6896:9fbe:cbf4:e61:0 - \"\u001b[1mGET /assets/react-error-boundary.esm-BkGIR1Du.js HTTP/1.1\u001b[0m\" \u001b[32m200 OK\u001b[0m\n",
            "\u001b[32mINFO\u001b[0m:     2a02:8428:3f5d:d801:6896:9fbe:cbf4:e61:0 - \"\u001b[1mGET /assets/update-server-settings-mutation-CNYCc-FU.js HTTP/1.1\u001b[0m\" \u001b[32m200 OK\u001b[0m\n",
            "\u001b[32mINFO\u001b[0m:     2a02:8428:3f5d:d801:6896:9fbe:cbf4:e61:0 - \"\u001b[1mGET /assets/docker-B3Sqzd8J.js HTTP/1.1\u001b[0m\" \u001b[32m200 OK\u001b[0m\n",
            "\u001b[32mINFO\u001b[0m:     2a02:8428:3f5d:d801:6896:9fbe:cbf4:e61:0 - \"\u001b[1mGET /assets/page-B9ELcPAy.js HTTP/1.1\u001b[0m\" \u001b[32m200 OK\u001b[0m\n",
            "\u001b[32mINFO\u001b[0m:     2a02:8428:3f5d:d801:6896:9fbe:cbf4:e61:0 - \"\u001b[1mGET /assets/PasswordChecker-B4Uw6BJZ.js HTTP/1.1\u001b[0m\" \u001b[32m200 OK\u001b[0m\n",
            "\u001b[32mINFO\u001b[0m:     2a02:8428:3f5d:d801:6896:9fbe:cbf4:e61:0 - \"\u001b[1mGET /assets/connectors-video-C9qY4syJ.svg HTTP/1.1\u001b[0m\" \u001b[32m200 OK\u001b[0m\n",
            "\u001b[32mINFO\u001b[0m:     2a02:8428:3f5d:d801:6896:9fbe:cbf4:e61:0 - \"\u001b[1mGET /assets/page-BNrOW_3T.js HTTP/1.1\u001b[0m\" \u001b[32m200 OK\u001b[0m\n",
            "\u001b[32mINFO\u001b[0m:     2a02:8428:3f5d:d801:6896:9fbe:cbf4:e61:0 - \"\u001b[1mGET /assets/page-CCEwuGU4.js HTTP/1.1\u001b[0m\" \u001b[32m200 OK\u001b[0m\n",
            "\u001b[32mINFO\u001b[0m:     2a02:8428:3f5d:d801:6896:9fbe:cbf4:e61:0 - \"\u001b[1mGET /assets/page-2EzZ5aWS.js HTTP/1.1\u001b[0m\" \u001b[32m200 OK\u001b[0m\n",
            "\u001b[32mINFO\u001b[0m:     2a02:8428:3f5d:d801:6896:9fbe:cbf4:e61:0 - \"\u001b[1mGET /assets/alex-DcCuDHPg.webp HTTP/1.1\u001b[0m\" \u001b[32m200 OK\u001b[0m\n",
            "\u001b[32mINFO\u001b[0m:     2a02:8428:3f5d:d801:6896:9fbe:cbf4:e61:0 - \"\u001b[1mGET /assets/tour-cover-BYfeen6M.webp HTTP/1.1\u001b[0m\" \u001b[32m200 OK\u001b[0m\n",
            "\u001b[32mINFO\u001b[0m:     2a02:8428:3f5d:d801:6896:9fbe:cbf4:e61:0 - \"\u001b[1mGET /assets/login-mutation-7WFxPe10.js HTTP/1.1\u001b[0m\" \u001b[32m200 OK\u001b[0m\n",
            "\u001b[32mINFO\u001b[0m:     2a02:8428:3f5d:d801:6896:9fbe:cbf4:e61:0 - \"\u001b[1mGET /assets/page-C5xq6rqE.js HTTP/1.1\u001b[0m\" \u001b[32m200 OK\u001b[0m\n",
            "\u001b[32mINFO\u001b[0m:     2a02:8428:3f5d:d801:6896:9fbe:cbf4:e61:0 - \"\u001b[1mGET /assets/page-BtkfcEI7.js HTTP/1.1\u001b[0m\" \u001b[32m200 OK\u001b[0m\n",
            "\u001b[32mINFO\u001b[0m:     2a02:8428:3f5d:d801:6896:9fbe:cbf4:e61:0 - \"\u001b[1mGET /assets/page-BKN4SYXY.js HTTP/1.1\u001b[0m\" \u001b[32m200 OK\u001b[0m\n",
            "\u001b[32mINFO\u001b[0m:     2a02:8428:3f5d:d801:6896:9fbe:cbf4:e61:0 - \"\u001b[1mGET /assets/NestedCollapsible-CE4OF670.js HTTP/1.1\u001b[0m\" \u001b[32m200 OK\u001b[0m\n",
            "\u001b[32mINFO\u001b[0m:     2a02:8428:3f5d:d801:6896:9fbe:cbf4:e61:0 - \"\u001b[1mGET /assets/StackList-C8KNd00o.js HTTP/1.1\u001b[0m\" \u001b[32m200 OK\u001b[0m\n",
            "\u001b[32mINFO\u001b[0m:     2a02:8428:3f5d:d801:6896:9fbe:cbf4:e61:0 - \"\u001b[1mGET /assets/link-external-BYm_zH_8.js HTTP/1.1\u001b[0m\" \u001b[32m200 OK\u001b[0m\n",
            "\u001b[32mINFO\u001b[0m:     2a02:8428:3f5d:d801:6896:9fbe:cbf4:e61:0 - \"\u001b[1mGET /assets/SecretTooltip-CHPWF0bu.js HTTP/1.1\u001b[0m\" \u001b[32m200 OK\u001b[0m\n",
            "\u001b[32mINFO\u001b[0m:     2a02:8428:3f5d:d801:6896:9fbe:cbf4:e61:0 - \"\u001b[1mGET /assets/page-CskoTYOC.js HTTP/1.1\u001b[0m\" \u001b[32m200 OK\u001b[0m\n",
            "\u001b[32mINFO\u001b[0m:     2a02:8428:3f5d:d801:6896:9fbe:cbf4:e61:0 - \"\u001b[1mGET /assets/arrow-left-B2hyhFky.js HTTP/1.1\u001b[0m\" \u001b[32m200 OK\u001b[0m\n",
            "\u001b[32mINFO\u001b[0m:     2a02:8428:3f5d:d801:6896:9fbe:cbf4:e61:0 - \"\u001b[1mGET /assets/delete-run-CzPWbsBy.js HTTP/1.1\u001b[0m\" \u001b[32m200 OK\u001b[0m\n",
            "\u001b[32mINFO\u001b[0m:     2a02:8428:3f5d:d801:6896:9fbe:cbf4:e61:0 - \"\u001b[1mGET /assets/InlineAvatar-Bk4QLPTU.js HTTP/1.1\u001b[0m\" \u001b[32m200 OK\u001b[0m\n",
            "\u001b[32mINFO\u001b[0m:     2a02:8428:3f5d:d801:6896:9fbe:cbf4:e61:0 - \"\u001b[1mGET /assets/page-BX6ZrAVH.js HTTP/1.1\u001b[0m\" \u001b[32m200 OK\u001b[0m\n",
            "\u001b[32mINFO\u001b[0m:     2a02:8428:3f5d:d801:6896:9fbe:cbf4:e61:0 - \"\u001b[1mGET /assets/all-pipeline-runs-query-B509kMlL.js HTTP/1.1\u001b[0m\" \u001b[32m200 OK\u001b[0m\n",
            "\u001b[32mINFO\u001b[0m:     2a02:8428:3f5d:d801:6896:9fbe:cbf4:e61:0 - \"\u001b[1mGET /assets/help-CfT0tY2I.js HTTP/1.1\u001b[0m\" \u001b[32m200 OK\u001b[0m\n",
            "\u001b[32mINFO\u001b[0m:     2a02:8428:3f5d:d801:6896:9fbe:cbf4:e61:0 - \"\u001b[1mGET /assets/index-CaRx22lH.js HTTP/1.1\u001b[0m\" \u001b[32m200 OK\u001b[0m\n",
            "\u001b[32mINFO\u001b[0m:     2a02:8428:3f5d:d801:6896:9fbe:cbf4:e61:0 - \"\u001b[1mGET /assets/ProviderRadio-C4bltH6-.js HTTP/1.1\u001b[0m\" \u001b[32m200 OK\u001b[0m\n",
            "\u001b[32mINFO\u001b[0m:     2a02:8428:3f5d:d801:6896:9fbe:cbf4:e61:0 - \"\u001b[1mGET /assets/CsvVizualization-CWaQcWIN.js HTTP/1.1\u001b[0m\" \u001b[32m200 OK\u001b[0m\n",
            "\u001b[32mINFO\u001b[0m:     2a02:8428:3f5d:d801:6896:9fbe:cbf4:e61:0 - \"\u001b[1mGET /assets/clock-k5T5tYrt.js HTTP/1.1\u001b[0m\" \u001b[32m200 OK\u001b[0m\n",
            "\u001b[32mINFO\u001b[0m:     2a02:8428:3f5d:d801:6896:9fbe:cbf4:e61:0 - \"\u001b[1mGET /assets/rocket-k68ONPDS.js HTTP/1.1\u001b[0m\" \u001b[32m200 OK\u001b[0m\n",
            "\u001b[32mINFO\u001b[0m:     2a02:8428:3f5d:d801:6896:9fbe:cbf4:e61:0 - \"\u001b[1mGET /assets/dates-3pMLCNrD.js HTTP/1.1\u001b[0m\" \u001b[32m200 OK\u001b[0m\n",
            "\u001b[32mINFO\u001b[0m:     2a02:8428:3f5d:d801:6896:9fbe:cbf4:e61:0 - \"\u001b[1mGET /assets/AlertDialogDropdownItem-XL2NfFgP.js HTTP/1.1\u001b[0m\" \u001b[32m200 OK\u001b[0m\n",
            "\u001b[32mINFO\u001b[0m:     2a02:8428:3f5d:d801:6896:9fbe:cbf4:e61:0 - \"\u001b[1mGET /assets/index.esm-cf-8NBxV.js HTTP/1.1\u001b[0m\" \u001b[32m200 OK\u001b[0m\n",
            "\u001b[32mINFO\u001b[0m:     2a02:8428:3f5d:d801:6896:9fbe:cbf4:e61:0 - \"\u001b[1mGET /assets/trash-B_JgTgqd.js HTTP/1.1\u001b[0m\" \u001b[32m200 OK\u001b[0m\n",
            "\u001b[32mINFO\u001b[0m:     2a02:8428:3f5d:d801:6896:9fbe:cbf4:e61:0 - \"\u001b[1mGET /assets/MarkdownVisualization-C3JLiPCY.js HTTP/1.1\u001b[0m\" \u001b[32m200 OK\u001b[0m\n",
            "\u001b[32mINFO\u001b[0m:     2a02:8428:3f5d:d801:6896:9fbe:cbf4:e61:0 - \"\u001b[1mGET /assets/ExecutionStatus-DHiK3Am-.js HTTP/1.1\u001b[0m\" \u001b[32m200 OK\u001b[0m\n",
            "\u001b[32mINFO\u001b[0m:     2a02:8428:3f5d:d801:6896:9fbe:cbf4:e61:0 - \"\u001b[1mGET /assets/chevron-down-A3PXOshS.js HTTP/1.1\u001b[0m\" \u001b[32m200 OK\u001b[0m\n",
            "\u001b[32mINFO\u001b[0m:     2a02:8428:3f5d:d801:6896:9fbe:cbf4:e61:0 - \"\u001b[1mGET /assets/refresh-CupyU1Vs.js HTTP/1.1\u001b[0m\" \u001b[32m200 OK\u001b[0m\n",
            "\u001b[32mINFO\u001b[0m:     2a02:8428:3f5d:d801:6896:9fbe:cbf4:e61:0 - \"\u001b[1mGET /assets/Helpbox-cwQNH06F.js HTTP/1.1\u001b[0m\" \u001b[32m200 OK\u001b[0m\n",
            "\u001b[32mINFO\u001b[0m:     2a02:8428:3f5d:d801:6896:9fbe:cbf4:e61:0 - \"\u001b[1mGET /assets/SearchField-DfNxVtjV.js HTTP/1.1\u001b[0m\" \u001b[32m200 OK\u001b[0m\n",
            "\u001b[32mINFO\u001b[0m:     2a02:8428:3f5d:d801:6896:9fbe:cbf4:e61:0 - \"\u001b[1mGET /assets/page-D8UimvyP.js HTTP/1.1\u001b[0m\" \u001b[32m200 OK\u001b[0m\n",
            "\u001b[32mINFO\u001b[0m:     2a02:8428:3f5d:d801:6896:9fbe:cbf4:e61:0 - \"\u001b[1mGET /assets/page-D1upvSPi.js HTTP/1.1\u001b[0m\" \u001b[32m200 OK\u001b[0m\n",
            "\u001b[32mINFO\u001b[0m:     2a02:8428:3f5d:d801:6896:9fbe:cbf4:e61:0 - \"\u001b[1mGET /assets/file-text-CgxVzNph.js HTTP/1.1\u001b[0m\" \u001b[32m200 OK\u001b[0m\n",
            "\u001b[32mINFO\u001b[0m:     2a02:8428:3f5d:d801:6896:9fbe:cbf4:e61:0 - \"\u001b[1mGET /assets/Wizard-CynnoHg4.js HTTP/1.1\u001b[0m\" \u001b[32m200 OK\u001b[0m\n",
            "\u001b[32mINFO\u001b[0m:     2a02:8428:3f5d:d801:6896:9fbe:cbf4:e61:0 - \"\u001b[1mGET /assets/Error-CIBjAdSc.js HTTP/1.1\u001b[0m\" \u001b[32m200 OK\u001b[0m\n",
            "\u001b[32mINFO\u001b[0m:     2a02:8428:3f5d:d801:6896:9fbe:cbf4:e61:0 - \"\u001b[1mGET /assets/code-browser-DvB0W2Ix.js HTTP/1.1\u001b[0m\" \u001b[32m200 OK\u001b[0m\n",
            "\u001b[32mINFO\u001b[0m:     2a02:8428:3f5d:d801:6896:9fbe:cbf4:e61:0 - \"\u001b[1mGET /assets/UsageReason-CwUrEwEz.js HTTP/1.1\u001b[0m\" \u001b[32m200 OK\u001b[0m\n",
            "\u001b[32mINFO\u001b[0m:     2a02:8428:3f5d:d801:6896:9fbe:cbf4:e61:0 - \"\u001b[1mGET /assets/page-B6msmF1h.js HTTP/1.1\u001b[0m\" \u001b[32m200 OK\u001b[0m\n",
            "\u001b[32mINFO\u001b[0m:     2a02:8428:3f5d:d801:6896:9fbe:cbf4:e61:0 - \"\u001b[1mGET /assets/check-circle-DyCCYTA0.js HTTP/1.1\u001b[0m\" \u001b[32m200 OK\u001b[0m\n",
            "\u001b[32mINFO\u001b[0m:     2a02:8428:3f5d:d801:6896:9fbe:cbf4:e61:0 - \"\u001b[1mGET /assets/page-Bz_grLBY.js HTTP/1.1\u001b[0m\" \u001b[32m200 OK\u001b[0m\n",
            "\u001b[32mINFO\u001b[0m:     2a02:8428:3f5d:d801:6896:9fbe:cbf4:e61:0 - \"\u001b[1mGET /assets/gcp-0u4le6mC.js HTTP/1.1\u001b[0m\" \u001b[32m200 OK\u001b[0m\n",
            "\u001b[32mINFO\u001b[0m:     2a02:8428:3f5d:d801:6896:9fbe:cbf4:e61:0 - \"\u001b[1mGET /assets/configuration-form-BEwWCxqY.js HTTP/1.1\u001b[0m\" \u001b[32m200 OK\u001b[0m\n",
            "\u001b[32mINFO\u001b[0m:     2a02:8428:3f5d:d801:6896:9fbe:cbf4:e61:0 - \"\u001b[1mGET /assets/ComponentIcon-gpMJ2Y2e.js HTTP/1.1\u001b[0m\" \u001b[32m200 OK\u001b[0m\n",
            "\u001b[32mINFO\u001b[0m:     2a02:8428:3f5d:d801:6896:9fbe:cbf4:e61:0 - \"\u001b[1mGET /assets/page-CaibMa0l.js HTTP/1.1\u001b[0m\" \u001b[32m200 OK\u001b[0m\n",
            "\u001b[32mINFO\u001b[0m:     2a02:8428:3f5d:d801:6896:9fbe:cbf4:e61:0 - \"\u001b[1mGET /assets/kubernetes-eA-Y6gE7.js HTTP/1.1\u001b[0m\" \u001b[32m200 OK\u001b[0m\n",
            "\u001b[32mINFO\u001b[0m:     2a02:8428:3f5d:d801:6896:9fbe:cbf4:e61:0 - \"\u001b[1mGET /assets/type-guards-CaeD8wHO.js HTTP/1.1\u001b[0m\" \u001b[32m200 OK\u001b[0m\n",
            "\u001b[32mINFO\u001b[0m:     2a02:8428:3f5d:d801:6896:9fbe:cbf4:e61:0 - \"\u001b[1mGET /assets/transform-DKsRLKTv.js HTTP/1.1\u001b[0m\" \u001b[32m200 OK\u001b[0m\n",
            "\u001b[32mINFO\u001b[0m:     2a02:8428:3f5d:d801:6896:9fbe:cbf4:e61:0 - \"\u001b[1mGET /assets/login-command-CkqxPtV3.js HTTP/1.1\u001b[0m\" \u001b[32m200 OK\u001b[0m\n",
            "\u001b[32mINFO\u001b[0m:     2a02:8428:3f5d:d801:6896:9fbe:cbf4:e61:0 - \"\u001b[1mGET /assets/create-stack-BjWXz5nx.js HTTP/1.1\u001b[0m\" \u001b[32m200 OK\u001b[0m\n",
            "\u001b[32mINFO\u001b[0m:     2a02:8428:3f5d:d801:6896:9fbe:cbf4:e61:0 - \"\u001b[1mGET /assets/index-Bjeu4_0O.js HTTP/1.1\u001b[0m\" \u001b[32m200 OK\u001b[0m\n",
            "\u001b[32mINFO\u001b[0m:     2a02:8428:3f5d:d801:6896:9fbe:cbf4:e61:0 - \"\u001b[1mGET /assets/page-niRD8Hqz.js HTTP/1.1\u001b[0m\" \u001b[32m200 OK\u001b[0m\n",
            "\u001b[32mINFO\u001b[0m:     2a02:8428:3f5d:d801:6896:9fbe:cbf4:e61:0 - \"\u001b[1mGET /assets/sharedSchema-BOmQa793.js HTTP/1.1\u001b[0m\" \u001b[32m200 OK\u001b[0m\n",
            "\u001b[32mINFO\u001b[0m:     2a02:8428:3f5d:d801:6896:9fbe:cbf4:e61:0 - \"\u001b[1mGET /assets/ComponentBadge-CVN2FsiW.js HTTP/1.1\u001b[0m\" \u001b[32m200 OK\u001b[0m\n",
            "\u001b[32mINFO\u001b[0m:     2a02:8428:3f5d:d801:6896:9fbe:cbf4:e61:0 - \"\u001b[1mGET /assets/terminal-square-URAPn9DB.js HTTP/1.1\u001b[0m\" \u001b[32m200 OK\u001b[0m\n",
            "\u001b[32mINFO\u001b[0m:     2a02:8428:3f5d:d801:6896:9fbe:cbf4:e61:0 - \"\u001b[1mGET /assets/index-BVVKxTWC.js HTTP/1.1\u001b[0m\" \u001b[32m200 OK\u001b[0m\n",
            "\u001b[32mINFO\u001b[0m:     2a02:8428:3f5d:d801:6896:9fbe:cbf4:e61:0 - \"\u001b[1mGET /assets/Lock-tO9Z41I9.js HTTP/1.1\u001b[0m\" \u001b[32m200 OK\u001b[0m\n",
            "\u001b[32mINFO\u001b[0m:     2a02:8428:3f5d:d801:6896:9fbe:cbf4:e61:0 - \"\u001b[1mGET /assets/service-DNKY_ZYd.js HTTP/1.1\u001b[0m\" \u001b[32m200 OK\u001b[0m\n",
            "\u001b[32mINFO\u001b[0m:     2a02:8428:3f5d:d801:6896:9fbe:cbf4:e61:0 - \"\u001b[1mGET /assets/page-iTvxfhgZ.js HTTP/1.1\u001b[0m\" \u001b[32m200 OK\u001b[0m\n",
            "\u001b[32mINFO\u001b[0m:     2a02:8428:3f5d:d801:6896:9fbe:cbf4:e61:0 - \"\u001b[1mGET /assets/constants-DP3ZEnXH.js HTTP/1.1\u001b[0m\" \u001b[32m200 OK\u001b[0m\n",
            "\u001b[32mINFO\u001b[0m:     2a02:8428:3f5d:d801:6896:9fbe:cbf4:e61:0 - \"\u001b[1mGET /assets/page-Dy6HYsJr.js HTTP/1.1\u001b[0m\" \u001b[32m200 OK\u001b[0m\n",
            "\u001b[32mINFO\u001b[0m:     2a02:8428:3f5d:d801:6896:9fbe:cbf4:e61:0 - \"\u001b[1mGET /assets/Partials-cL1-u_sT.js HTTP/1.1\u001b[0m\" \u001b[32m200 OK\u001b[0m\n",
            "\u001b[32mINFO\u001b[0m:     2a02:8428:3f5d:d801:6896:9fbe:cbf4:e61:0 - \"\u001b[1mGET /assets/WizardFooter-B2bYs89C.js HTTP/1.1\u001b[0m\" \u001b[32m200 OK\u001b[0m\n",
            "\u001b[32mINFO\u001b[0m:     2a02:8428:3f5d:d801:6896:9fbe:cbf4:e61:0 - \"\u001b[1mGET /assets/DisplayDate-C5Aw-Yca.js HTTP/1.1\u001b[0m\" \u001b[32m200 OK\u001b[0m\n",
            "\u001b[32mINFO\u001b[0m:     2a02:8428:3f5d:d801:6896:9fbe:cbf4:e61:0 - \"\u001b[1mGET /assets/persist-CMkLV2Cs.js HTTP/1.1\u001b[0m\" \u001b[32m200 OK\u001b[0m\n",
            "\u001b[32mINFO\u001b[0m:     2a02:8428:3f5d:d801:6896:9fbe:cbf4:e61:0 - \"\u001b[1mGET /assets/flavor-select-C1pyy8gq.js HTTP/1.1\u001b[0m\" \u001b[32m200 OK\u001b[0m\n",
            "\u001b[32mINFO\u001b[0m:     2a02:8428:3f5d:d801:6896:9fbe:cbf4:e61:0 - \"\u001b[1mGET /assets/UpdatePasswordSchemas-DCuCj7NK.js HTTP/1.1\u001b[0m\" \u001b[32m200 OK\u001b[0m\n",
            "\u001b[32mINFO\u001b[0m:     2a02:8428:3f5d:d801:6896:9fbe:cbf4:e61:0 - \"\u001b[1mGET /assets/page-CZ_3LB0U.js HTTP/1.1\u001b[0m\" \u001b[32m200 OK\u001b[0m\n",
            "\u001b[32mINFO\u001b[0m:     2a02:8428:3f5d:d801:6896:9fbe:cbf4:e61:0 - \"\u001b[1mGET /assets/DialogItem-ST291Hsl.js HTTP/1.1\u001b[0m\" \u001b[32m200 OK\u001b[0m\n",
            "\u001b[32mINFO\u001b[0m:     2a02:8428:3f5d:d801:6896:9fbe:cbf4:e61:0 - \"\u001b[1mGET /assets/CollapsibleCard-Djtd_ocf.js HTTP/1.1\u001b[0m\" \u001b[32m200 OK\u001b[0m\n",
            "\u001b[32mINFO\u001b[0m:     2a02:8428:3f5d:d801:6896:9fbe:cbf4:e61:0 - \"\u001b[1mGET /assets/stack-detail-query-CI_YMUx6.js HTTP/1.1\u001b[0m\" \u001b[32m200 OK\u001b[0m\n",
            "\u001b[32mINFO\u001b[0m:     2a02:8428:3f5d:d801:6896:9fbe:cbf4:e61:0 - \"\u001b[1mGET /assets/404-BbAvjc7Z.js HTTP/1.1\u001b[0m\" \u001b[32m200 OK\u001b[0m\n",
            "\u001b[32mINFO\u001b[0m:     2a02:8428:3f5d:d801:6896:9fbe:cbf4:e61:0 - \"\u001b[1mGET /assets/page-D03wm5f1.js HTTP/1.1\u001b[0m\" \u001b[32m200 OK\u001b[0m\n",
            "\u001b[32mINFO\u001b[0m:     2a02:8428:3f5d:d801:6896:9fbe:cbf4:e61:0 - \"\u001b[1mGET /assets/index-Dba8yULY.js HTTP/1.1\u001b[0m\" \u001b[32m200 OK\u001b[0m\n",
            "\u001b[32mINFO\u001b[0m:     2a02:8428:3f5d:d801:6896:9fbe:cbf4:e61:0 - \"\u001b[1mGET /assets/layout-3_rgDUxf.js HTTP/1.1\u001b[0m\" \u001b[32m200 OK\u001b[0m\n",
            "\u001b[32mINFO\u001b[0m:     2a02:8428:3f5d:d801:6896:9fbe:cbf4:e61:0 - \"\u001b[1mGET /assets/CodeSnippet-D8ptwPjg.js HTTP/1.1\u001b[0m\" \u001b[32m200 OK\u001b[0m\n",
            "\u001b[32mINFO\u001b[0m:     2a02:8428:3f5d:d801:6896:9fbe:cbf4:e61:0 - \"\u001b[1mGET /assets/components-Br2ezRib.js HTTP/1.1\u001b[0m\" \u001b[32m200 OK\u001b[0m\n",
            "\u001b[32mINFO\u001b[0m:     2a02:8428:3f5d:d801:6896:9fbe:cbf4:e61:0 - \"\u001b[1mGET /assets/persist-BglceT_t.js HTTP/1.1\u001b[0m\" \u001b[32m200 OK\u001b[0m\n",
            "\u001b[32mINFO\u001b[0m:     2a02:8428:3f5d:d801:6896:9fbe:cbf4:e61:0 - \"\u001b[1mGET /assets/ProCta-DtUutIul.js HTTP/1.1\u001b[0m\" \u001b[32m200 OK\u001b[0m\n",
            "\u001b[32mINFO\u001b[0m:     2a02:8428:3f5d:d801:6896:9fbe:cbf4:e61:0 - \"\u001b[1mGET /assets/logs-D6_diV2k.js HTTP/1.1\u001b[0m\" \u001b[32m200 OK\u001b[0m\n",
            "\u001b[32mINFO\u001b[0m:     2a02:8428:3f5d:d801:6896:9fbe:cbf4:e61:0 - \"\u001b[1mGET /assets/zod-CRNUMWWg.js HTTP/1.1\u001b[0m\" \u001b[32m200 OK\u001b[0m\n",
            "\u001b[32mINFO\u001b[0m:     2a02:8428:3f5d:d801:6896:9fbe:cbf4:e61:0 - \"\u001b[1mGET /assets/NumberBox-BvBJYxCu.js HTTP/1.1\u001b[0m\" \u001b[32m200 OK\u001b[0m\n",
            "\u001b[32mINFO\u001b[0m:     2a02:8428:3f5d:d801:6896:9fbe:cbf4:e61:0 - \"\u001b[1mGET /assets/check-DZ0KAh3W.js HTTP/1.1\u001b[0m\" \u001b[32m200 OK\u001b[0m\n",
            "\u001b[32mINFO\u001b[0m:     2a02:8428:3f5d:d801:6896:9fbe:cbf4:e61:0 - \"\u001b[1mGET /assets/plus-CoKtHiA9.js HTTP/1.1\u001b[0m\" \u001b[32m200 OK\u001b[0m\n",
            "\u001b[32mINFO\u001b[0m:     2a02:8428:3f5d:d801:6896:9fbe:cbf4:e61:0 - \"\u001b[1mGET /assets/Infobox-DYKoAVhW.js HTTP/1.1\u001b[0m\" \u001b[32m200 OK\u001b[0m\n",
            "\u001b[32mINFO\u001b[0m:     2a02:8428:3f5d:d801:6896:9fbe:cbf4:e61:0 - \"\u001b[1mGET /assets/ProviderIcon-DKN3Gdcg.js HTTP/1.1\u001b[0m\" \u001b[32m200 OK\u001b[0m\n",
            "\u001b[32mINFO\u001b[0m:     2a02:8428:3f5d:d801:6896:9fbe:cbf4:e61:0 - \"\u001b[1mGET /assets/ProBadge-ypma7R8i.js HTTP/1.1\u001b[0m\" \u001b[32m200 OK\u001b[0m\n",
            "\u001b[32mINFO\u001b[0m:     2a02:8428:3f5d:d801:6896:9fbe:cbf4:e61:0 - \"\u001b[1mGET /assets/chevron-right-double-zKz7rAaU.js HTTP/1.1\u001b[0m\" \u001b[32m200 OK\u001b[0m\n",
            "\u001b[32mINFO\u001b[0m:     2a02:8428:3f5d:d801:6896:9fbe:cbf4:e61:0 - \"\u001b[1mGET /assets/EmptyState-DpbfQBDE.js HTTP/1.1\u001b[0m\" \u001b[32m200 OK\u001b[0m\n",
            "\u001b[32mINFO\u001b[0m:     2a02:8428:3f5d:d801:6896:9fbe:cbf4:e61:0 - \"\u001b[1mGET /assets/form-schemas-B6u3P_a4.js HTTP/1.1\u001b[0m\" \u001b[32m200 OK\u001b[0m\n",
            "\u001b[32mINFO\u001b[0m:     2a02:8428:3f5d:d801:6896:9fbe:cbf4:e61:0 - \"\u001b[1mGET /assets/package-BOms6B-A.js HTTP/1.1\u001b[0m\" \u001b[32m200 OK\u001b[0m\n",
            "\u001b[32mINFO\u001b[0m:     2a02:8428:3f5d:d801:6896:9fbe:cbf4:e61:0 - \"\u001b[1mGET /assets/page-DLw1Apss.js HTTP/1.1\u001b[0m\" \u001b[32m200 OK\u001b[0m\n",
            "\u001b[32mINFO\u001b[0m:     2a02:8428:3f5d:d801:6896:9fbe:cbf4:e61:0 - \"\u001b[1mGET /assets/page-DazwBcbq.js HTTP/1.1\u001b[0m\" \u001b[32m200 OK\u001b[0m\n",
            "\u001b[32mINFO\u001b[0m:     2a02:8428:3f5d:d801:6896:9fbe:cbf4:e61:0 - \"\u001b[1mGET /assets/Tick-DgU4udUn.js HTTP/1.1\u001b[0m\" \u001b[32m200 OK\u001b[0m\n",
            "\u001b[32mINFO\u001b[0m:     2a02:8428:3f5d:d801:6896:9fbe:cbf4:e61:0 - \"\u001b[1mGET /api/v1/info HTTP/1.1\u001b[0m\" \u001b[32m200 OK\u001b[0m\n",
            "\u001b[32mINFO\u001b[0m:     2a02:8428:3f5d:d801:6896:9fbe:cbf4:e61:0 - \"\u001b[1mGET /assets/CodeSnippet-CK5CxKct.css HTTP/1.1\u001b[0m\" \u001b[32m200 OK\u001b[0m\n",
            "\u001b[32mINFO\u001b[0m:     2a02:8428:3f5d:d801:6896:9fbe:cbf4:e61:0 - \"\u001b[1mGET /favicon.ico HTTP/1.1\u001b[0m\" \u001b[32m200 OK\u001b[0m\n",
            "\u001b[32mINFO\u001b[0m:     2a02:8428:3f5d:d801:6896:9fbe:cbf4:e61:0 - \"\u001b[1mGET /assets/page-TiOZeeo0.js HTTP/1.1\u001b[0m\" \u001b[32m200 OK\u001b[0m\n"
          ]
        },
        {
          "output_type": "stream",
          "name": "stderr",
          "text": [
            "INFO:pyngrok.process.ngrok:t=2025-03-05T13:59:05+0000 lvl=info msg=\"join connections\" obj=join id=2f5c36cbab06 l=127.0.0.1:8237 r=[2a02:8428:3f5d:d801:6896:9fbe:cbf4:e61]:62235\n"
          ]
        },
        {
          "output_type": "stream",
          "name": "stdout",
          "text": [
            "\u001b[32mINFO\u001b[0m:     2a02:8428:3f5d:d801:6896:9fbe:cbf4:e61:0 - \"\u001b[1mGET /assets/link-external-BYm_zH_8.js HTTP/1.1\u001b[0m\" \u001b[32m200 OK\u001b[0m\n",
            "\u001b[32mINFO\u001b[0m:     2a02:8428:3f5d:d801:6896:9fbe:cbf4:e61:0 - \"\u001b[1mGET /assets/login-command-CkqxPtV3.js HTTP/1.1\u001b[0m\" \u001b[32m200 OK\u001b[0m\n",
            "\u001b[1;35mt=2025-03-05T13:59:05+0000 lvl=info msg=\"join connections\" obj=join id=2f5c36cbab06 l=127.0.0.1:8237 r=[2a02:8428:3f5d:d801:6896:9fbe:cbf4:e61]:62235\u001b[0m\n",
            "\u001b[32mINFO\u001b[0m:     2a02:8428:3f5d:d801:6896:9fbe:cbf4:e61:0 - \"\u001b[1mGET /assets/CodeSnippet-D8ptwPjg.js HTTP/1.1\u001b[0m\" \u001b[32m200 OK\u001b[0m\n"
          ]
        },
        {
          "output_type": "stream",
          "name": "stderr",
          "text": [
            "INFO:pyngrok.process.ngrok:t=2025-03-05T13:59:06+0000 lvl=info msg=\"join connections\" obj=join id=ceffd063743e l=127.0.0.1:8237 r=[2a02:8428:3f5d:d801:6896:9fbe:cbf4:e61]:62235\n"
          ]
        },
        {
          "output_type": "stream",
          "name": "stdout",
          "text": [
            "\u001b[32mINFO\u001b[0m:     2a02:8428:3f5d:d801:6896:9fbe:cbf4:e61:0 - \"\u001b[1mGET /api/v1/info HTTP/1.1\u001b[0m\" \u001b[32m200 OK\u001b[0m\n",
            "\u001b[32mINFO\u001b[0m:     2a02:8428:3f5d:d801:6896:9fbe:cbf4:e61:0 - \"\u001b[1mGET /api/v1/current-user HTTP/1.1\u001b[0m\" \u001b[32m200 OK\u001b[0m\n",
            "\u001b[1;35mt=2025-03-05T13:59:06+0000 lvl=info msg=\"join connections\" obj=join id=ceffd063743e l=127.0.0.1:8237 r=[2a02:8428:3f5d:d801:6896:9fbe:cbf4:e61]:62235\u001b[0m\n"
          ]
        },
        {
          "output_type": "stream",
          "name": "stderr",
          "text": [
            "INFO:pyngrok.process.ngrok:t=2025-03-05T13:59:06+0000 lvl=info msg=\"join connections\" obj=join id=a8cffee6323e l=127.0.0.1:8237 r=[2a02:8428:3f5d:d801:6896:9fbe:cbf4:e61]:62235\n"
          ]
        },
        {
          "output_type": "stream",
          "name": "stdout",
          "text": [
            "\u001b[1;35mt=2025-03-05T13:59:06+0000 lvl=info msg=\"join connections\" obj=join id=a8cffee6323e l=127.0.0.1:8237 r=[2a02:8428:3f5d:d801:6896:9fbe:cbf4:e61]:62235\u001b[0m\n"
          ]
        },
        {
          "output_type": "stream",
          "name": "stderr",
          "text": [
            "INFO:pyngrok.process.ngrok:t=2025-03-05T13:59:06+0000 lvl=info msg=\"join connections\" obj=join id=6fe24be27869 l=127.0.0.1:8237 r=[2a02:8428:3f5d:d801:6896:9fbe:cbf4:e61]:62235\n"
          ]
        },
        {
          "output_type": "stream",
          "name": "stdout",
          "text": [
            "\u001b[1;35mt=2025-03-05T13:59:06+0000 lvl=info msg=\"join connections\" obj=join id=6fe24be27869 l=127.0.0.1:8237 r=[2a02:8428:3f5d:d801:6896:9fbe:cbf4:e61]:62235\u001b[0m\n",
            "\u001b[32mINFO\u001b[0m:     2a02:8428:3f5d:d801:6896:9fbe:cbf4:e61:0 - \"\u001b[1mGET /assets/cloud-squares-DeRLMopf.svg HTTP/1.1\u001b[0m\" \u001b[32m200 OK\u001b[0m\n",
            "\u001b[32mINFO\u001b[0m:     2a02:8428:3f5d:d801:6896:9fbe:cbf4:e61:0 - \"\u001b[1mGET /api/v1/settings HTTP/1.1\u001b[0m\" \u001b[32m200 OK\u001b[0m\n",
            "\u001b[32mINFO\u001b[0m:     2a02:8428:3f5d:d801:6896:9fbe:cbf4:e61:0 - \"\u001b[1mGET /api/v1/onboarding_state HTTP/1.1\u001b[0m\" \u001b[32m200 OK\u001b[0m\n",
            "\u001b[32mINFO\u001b[0m:     2a02:8428:3f5d:d801:6896:9fbe:cbf4:e61:0 - \"\u001b[1mGET /assets/page-DLw1Apss.js HTTP/1.1\u001b[0m\" \u001b[32m200 OK\u001b[0m\n"
          ]
        },
        {
          "output_type": "stream",
          "name": "stderr",
          "text": [
            "INFO:pyngrok.process.ngrok:t=2025-03-05T13:59:06+0000 lvl=info msg=\"join connections\" obj=join id=1c78b7f90c8e l=127.0.0.1:8237 r=[2a02:8428:3f5d:d801:6896:9fbe:cbf4:e61]:62235\n"
          ]
        },
        {
          "output_type": "stream",
          "name": "stdout",
          "text": [
            "\u001b[32mINFO\u001b[0m:     2a02:8428:3f5d:d801:6896:9fbe:cbf4:e61:0 - \"\u001b[1mGET /assets/UsageReason-CwUrEwEz.js HTTP/1.1\u001b[0m\" \u001b[32m200 OK\u001b[0m\n",
            "\u001b[32mINFO\u001b[0m:     2a02:8428:3f5d:d801:6896:9fbe:cbf4:e61:0 - \"\u001b[1mGET /assets/form-schemas-B6u3P_a4.js HTTP/1.1\u001b[0m\" \u001b[32m200 OK\u001b[0m\n",
            "\u001b[1;35mt=2025-03-05T13:59:06+0000 lvl=info msg=\"join connections\" obj=join id=1c78b7f90c8e l=127.0.0.1:8237 r=[2a02:8428:3f5d:d801:6896:9fbe:cbf4:e61]:62235\u001b[0m\n",
            "\u001b[32mINFO\u001b[0m:     2a02:8428:3f5d:d801:6896:9fbe:cbf4:e61:0 - \"\u001b[1mGET /assets/check-circle-DyCCYTA0.js HTTP/1.1\u001b[0m\" \u001b[32m200 OK\u001b[0m\n",
            "\u001b[32mINFO\u001b[0m:     2a02:8428:3f5d:d801:6896:9fbe:cbf4:e61:0 - \"\u001b[1mGET /assets/UpdatePasswordSchemas-DCuCj7NK.js HTTP/1.1\u001b[0m\" \u001b[32m200 OK\u001b[0m\n",
            "\u001b[32mINFO\u001b[0m:     2a02:8428:3f5d:d801:6896:9fbe:cbf4:e61:0 - \"\u001b[1mGET /assets/index.esm-cf-8NBxV.js HTTP/1.1\u001b[0m\" \u001b[32m200 OK\u001b[0m\n",
            "\u001b[32mINFO\u001b[0m:     2a02:8428:3f5d:d801:6896:9fbe:cbf4:e61:0 - \"\u001b[1mGET /assets/zod-CRNUMWWg.js HTTP/1.1\u001b[0m\" \u001b[32m200 OK\u001b[0m\n",
            "\u001b[32mINFO\u001b[0m:     2a02:8428:3f5d:d801:6896:9fbe:cbf4:e61:0 - \"\u001b[1mGET /assets/gcp-0u4le6mC.js HTTP/1.1\u001b[0m\" \u001b[32m200 OK\u001b[0m\n",
            "\u001b[32mINFO\u001b[0m:     2a02:8428:3f5d:d801:6896:9fbe:cbf4:e61:0 - \"\u001b[1mGET /assets/kubernetes-eA-Y6gE7.js HTTP/1.1\u001b[0m\" \u001b[32m200 OK\u001b[0m\n",
            "\u001b[32mINFO\u001b[0m:     2a02:8428:3f5d:d801:6896:9fbe:cbf4:e61:0 - \"\u001b[1mGET /assets/rocket-k68ONPDS.js HTTP/1.1\u001b[0m\" \u001b[32m200 OK\u001b[0m\n",
            "\u001b[32mINFO\u001b[0m:     2a02:8428:3f5d:d801:6896:9fbe:cbf4:e61:0 - \"\u001b[1mGET /api/v1/info HTTP/1.1\u001b[0m\" \u001b[32m200 OK\u001b[0m\n",
            "\u001b[32mINFO\u001b[0m:     2a02:8428:3f5d:d801:6896:9fbe:cbf4:e61:0 - \"\u001b[1mGET /api/v1/current-user HTTP/1.1\u001b[0m\" \u001b[32m200 OK\u001b[0m\n"
          ]
        },
        {
          "output_type": "stream",
          "name": "stderr",
          "text": [
            "INFO:pyngrok.process.ngrok:t=2025-03-05T13:59:07+0000 lvl=info msg=\"join connections\" obj=join id=9467a0973d90 l=127.0.0.1:8237 r=[2a02:8428:3f5d:d801:6896:9fbe:cbf4:e61]:62235\n"
          ]
        },
        {
          "output_type": "stream",
          "name": "stdout",
          "text": [
            "\u001b[1;35mt=2025-03-05T13:59:07+0000 lvl=info msg=\"join connections\" obj=join id=9467a0973d90 l=127.0.0.1:8237 r=[2a02:8428:3f5d:d801:6896:9fbe:cbf4:e61]:62235\u001b[0m\n"
          ]
        },
        {
          "output_type": "stream",
          "name": "stderr",
          "text": [
            "INFO:pyngrok.process.ngrok:t=2025-03-05T13:59:07+0000 lvl=info msg=\"join connections\" obj=join id=5ce793851dd2 l=127.0.0.1:8237 r=[2a02:8428:3f5d:d801:6896:9fbe:cbf4:e61]:62235\n"
          ]
        },
        {
          "output_type": "stream",
          "name": "stdout",
          "text": [
            "\u001b[1;35mt=2025-03-05T13:59:07+0000 lvl=info msg=\"join connections\" obj=join id=5ce793851dd2 l=127.0.0.1:8237 r=[2a02:8428:3f5d:d801:6896:9fbe:cbf4:e61]:62235\u001b[0m\n",
            "\u001b[32mINFO\u001b[0m:     2a02:8428:3f5d:d801:6896:9fbe:cbf4:e61:0 - \"\u001b[1mGET /assets/inter-latin-600-normal-D273HNI0.woff2 HTTP/1.1\u001b[0m\" \u001b[32m200 OK\u001b[0m\n",
            "\u001b[32mINFO\u001b[0m:     2a02:8428:3f5d:d801:6896:9fbe:cbf4:e61:0 - \"\u001b[1mGET /assets/inter-latin-500-normal-D2bGa7uu.woff2 HTTP/1.1\u001b[0m\" \u001b[32m200 OK\u001b[0m\n"
          ]
        },
        {
          "output_type": "stream",
          "name": "stderr",
          "text": [
            "INFO:pyngrok.process.ngrok:t=2025-03-05T13:59:14+0000 lvl=info msg=\"join connections\" obj=join id=6d99aa532e53 l=127.0.0.1:8237 r=[2a02:8428:3f5d:d801:6896:9fbe:cbf4:e61]:62235\n"
          ]
        },
        {
          "output_type": "stream",
          "name": "stdout",
          "text": [
            "\u001b[1;35mt=2025-03-05T13:59:14+0000 lvl=info msg=\"join connections\" obj=join id=6d99aa532e53 l=127.0.0.1:8237 r=[2a02:8428:3f5d:d801:6896:9fbe:cbf4:e61]:62235\u001b[0m\n"
          ]
        },
        {
          "output_type": "stream",
          "name": "stderr",
          "text": [
            "INFO:pyngrok.process.ngrok:t=2025-03-05T13:59:14+0000 lvl=info msg=\"join connections\" obj=join id=806420891869 l=127.0.0.1:8237 r=[2a02:8428:3f5d:d801:6896:9fbe:cbf4:e61]:62235\n"
          ]
        },
        {
          "output_type": "stream",
          "name": "stdout",
          "text": [
            "\u001b[1;35mt=2025-03-05T13:59:14+0000 lvl=info msg=\"join connections\" obj=join id=806420891869 l=127.0.0.1:8237 r=[2a02:8428:3f5d:d801:6896:9fbe:cbf4:e61]:62235\u001b[0m\n",
            "\u001b[32mINFO\u001b[0m:     2a02:8428:3f5d:d801:6896:9fbe:cbf4:e61:0 - \"\u001b[1mGET /api/v1/info HTTP/1.1\u001b[0m\" \u001b[32m200 OK\u001b[0m\n",
            "\u001b[32mINFO\u001b[0m:     2a02:8428:3f5d:d801:6896:9fbe:cbf4:e61:0 - \"\u001b[1mGET /api/v1/current-user HTTP/1.1\u001b[0m\" \u001b[32m200 OK\u001b[0m\n"
          ]
        },
        {
          "output_type": "stream",
          "name": "stderr",
          "text": [
            "INFO:pyngrok.process.ngrok:t=2025-03-05T14:00:10+0000 lvl=info msg=\"join connections\" obj=join id=a60b1dd06c90 l=127.0.0.1:8237 r=[2a02:8428:3f5d:d801:6896:9fbe:cbf4:e61]:62235\n"
          ]
        },
        {
          "output_type": "stream",
          "name": "stdout",
          "text": [
            "\u001b[1;35mt=2025-03-05T14:00:10+0000 lvl=info msg=\"join connections\" obj=join id=a60b1dd06c90 l=127.0.0.1:8237 r=[2a02:8428:3f5d:d801:6896:9fbe:cbf4:e61]:62235\u001b[0m\n",
            "\u001b[32mINFO\u001b[0m:     2a02:8428:3f5d:d801:6896:9fbe:cbf4:e61:0 - \"\u001b[1mPUT /api/v1/current-user HTTP/1.1\u001b[0m\" \u001b[32m200 OK\u001b[0m\n"
          ]
        },
        {
          "output_type": "stream",
          "name": "stderr",
          "text": [
            "INFO:pyngrok.process.ngrok:t=2025-03-05T14:00:10+0000 lvl=info msg=\"join connections\" obj=join id=ab2e27f08584 l=127.0.0.1:8237 r=[2a02:8428:3f5d:d801:6896:9fbe:cbf4:e61]:62235\n"
          ]
        },
        {
          "output_type": "stream",
          "name": "stdout",
          "text": [
            "\u001b[32mINFO\u001b[0m:     2a02:8428:3f5d:d801:6896:9fbe:cbf4:e61:0 - \"\u001b[1mGET /api/v1/current-user HTTP/1.1\u001b[0m\" \u001b[32m200 OK\u001b[0m\n",
            "\u001b[32mINFO\u001b[0m:     2a02:8428:3f5d:d801:6896:9fbe:cbf4:e61:0 - \"\u001b[1mGET /assets/adam-e-y0WnB_.webp HTTP/1.1\u001b[0m\" \u001b[32m200 OK\u001b[0m\n",
            "\u001b[1;35mt=2025-03-05T14:00:10+0000 lvl=info msg=\"join connections\" obj=join id=ab2e27f08584 l=127.0.0.1:8237 r=[2a02:8428:3f5d:d801:6896:9fbe:cbf4:e61]:62235\u001b[0m\n"
          ]
        },
        {
          "output_type": "stream",
          "name": "stderr",
          "text": [
            "INFO:pyngrok.process.ngrok:t=2025-03-05T14:00:10+0000 lvl=info msg=\"join connections\" obj=join id=a0fb3638ae0b l=127.0.0.1:8237 r=[2a02:8428:3f5d:d801:6896:9fbe:cbf4:e61]:62235\n"
          ]
        },
        {
          "output_type": "stream",
          "name": "stdout",
          "text": [
            "\u001b[1;35mt=2025-03-05T14:00:10+0000 lvl=info msg=\"join connections\" obj=join id=a0fb3638ae0b l=127.0.0.1:8237 r=[2a02:8428:3f5d:d801:6896:9fbe:cbf4:e61]:62235\u001b[0m\n"
          ]
        },
        {
          "output_type": "stream",
          "name": "stderr",
          "text": [
            "INFO:pyngrok.process.ngrok:t=2025-03-05T14:00:11+0000 lvl=info msg=\"join connections\" obj=join id=383c44b06661 l=127.0.0.1:8237 r=[2a02:8428:3f5d:d801:6896:9fbe:cbf4:e61]:62235\n"
          ]
        },
        {
          "output_type": "stream",
          "name": "stdout",
          "text": [
            "\u001b[32mINFO\u001b[0m:     2a02:8428:3f5d:d801:6896:9fbe:cbf4:e61:0 - \"\u001b[1mGET /assets/stefan-B08Ftbba.webp HTTP/1.1\u001b[0m\" \u001b[32m200 OK\u001b[0m\n",
            "\u001b[1;35mt=2025-03-05T14:00:11+0000 lvl=info msg=\"join connections\" obj=join id=383c44b06661 l=127.0.0.1:8237 r=[2a02:8428:3f5d:d801:6896:9fbe:cbf4:e61]:62235\u001b[0m\n"
          ]
        },
        {
          "output_type": "stream",
          "name": "stderr",
          "text": [
            "INFO:pyngrok.process.ngrok:t=2025-03-05T14:00:11+0000 lvl=info msg=\"join connections\" obj=join id=681ce3cacd76 l=127.0.0.1:8237 r=[2a02:8428:3f5d:d801:6896:9fbe:cbf4:e61]:62235\n"
          ]
        },
        {
          "output_type": "stream",
          "name": "stdout",
          "text": [
            "\u001b[1;35mt=2025-03-05T14:00:11+0000 lvl=info msg=\"join connections\" obj=join id=681ce3cacd76 l=127.0.0.1:8237 r=[2a02:8428:3f5d:d801:6896:9fbe:cbf4:e61]:62235\u001b[0m\n",
            "\u001b[32mINFO\u001b[0m:     2a02:8428:3f5d:d801:6896:9fbe:cbf4:e61:0 - \"\u001b[1mGET /assets/alex-DcCuDHPg.webp HTTP/1.1\u001b[0m\" \u001b[32m200 OK\u001b[0m\n",
            "\u001b[32mINFO\u001b[0m:     2a02:8428:3f5d:d801:6896:9fbe:cbf4:e61:0 - \"\u001b[1mGET /assets/hamza-NKKOZz1I.webp HTTP/1.1\u001b[0m\" \u001b[32m200 OK\u001b[0m\n",
            "\u001b[32mINFO\u001b[0m:     2a02:8428:3f5d:d801:6896:9fbe:cbf4:e61:0 - \"\u001b[1mGET /assets/baris-C0ZrZ10g.webp HTTP/1.1\u001b[0m\" \u001b[32m200 OK\u001b[0m\n",
            "\u001b[32mINFO\u001b[0m:     2a02:8428:3f5d:d801:6896:9fbe:cbf4:e61:0 - \"\u001b[1mGET /assets/adam-e-y0WnB_.webp HTTP/1.1\u001b[0m\" \u001b[32m200 OK\u001b[0m\n",
            "\u001b[32mINFO\u001b[0m:     2a02:8428:3f5d:d801:6896:9fbe:cbf4:e61:0 - \"\u001b[1mGET /assets/stefan-B08Ftbba.webp HTTP/1.1\u001b[0m\" \u001b[32m200 OK\u001b[0m\n",
            "\u001b[32mINFO\u001b[0m:     2a02:8428:3f5d:d801:6896:9fbe:cbf4:e61:0 - \"\u001b[1mGET /assets/hamza-NKKOZz1I.webp HTTP/1.1\u001b[0m\" \u001b[32m200 OK\u001b[0m\n",
            "\u001b[32mINFO\u001b[0m:     2a02:8428:3f5d:d801:6896:9fbe:cbf4:e61:0 - \"\u001b[1mGET /assets/baris-C0ZrZ10g.webp HTTP/1.1\u001b[0m\" \u001b[32m200 OK\u001b[0m\n",
            "\u001b[32mINFO\u001b[0m:     2a02:8428:3f5d:d801:6896:9fbe:cbf4:e61:0 - \"\u001b[1mGET /assets/alex-DcCuDHPg.webp HTTP/1.1\u001b[0m\" \u001b[32m200 OK\u001b[0m\n"
          ]
        },
        {
          "output_type": "stream",
          "name": "stderr",
          "text": [
            "INFO:pyngrok.process.ngrok:t=2025-03-05T14:00:19+0000 lvl=info msg=\"join connections\" obj=join id=08a72d4a2ed7 l=127.0.0.1:8237 r=[2a02:8428:3f5d:d801:6896:9fbe:cbf4:e61]:62235\n"
          ]
        },
        {
          "output_type": "stream",
          "name": "stdout",
          "text": [
            "\u001b[1;35mt=2025-03-05T14:00:19+0000 lvl=info msg=\"join connections\" obj=join id=08a72d4a2ed7 l=127.0.0.1:8237 r=[2a02:8428:3f5d:d801:6896:9fbe:cbf4:e61]:62235\u001b[0m\n"
          ]
        },
        {
          "output_type": "stream",
          "name": "stderr",
          "text": [
            "INFO:pyngrok.process.ngrok:t=2025-03-05T14:00:19+0000 lvl=info msg=\"join connections\" obj=join id=6feb6cadeba5 l=127.0.0.1:8237 r=[2a02:8428:3f5d:d801:6896:9fbe:cbf4:e61]:62235\n"
          ]
        },
        {
          "output_type": "stream",
          "name": "stdout",
          "text": [
            "\u001b[1;35mt=2025-03-05T14:00:19+0000 lvl=info msg=\"join connections\" obj=join id=6feb6cadeba5 l=127.0.0.1:8237 r=[2a02:8428:3f5d:d801:6896:9fbe:cbf4:e61]:62235\u001b[0m\n",
            "\u001b[32mINFO\u001b[0m:     2a02:8428:3f5d:d801:6896:9fbe:cbf4:e61:0 - \"\u001b[1mGET /assets/page-DazwBcbq.js HTTP/1.1\u001b[0m\" \u001b[32m200 OK\u001b[0m\n",
            "\u001b[32mINFO\u001b[0m:     2a02:8428:3f5d:d801:6896:9fbe:cbf4:e61:0 - \"\u001b[1mGET /assets/inter-latin-400-normal-BOOGhInR.woff2 HTTP/1.1\u001b[0m\" \u001b[32m200 OK\u001b[0m\n"
          ]
        },
        {
          "output_type": "stream",
          "name": "stderr",
          "text": [
            "INFO:pyngrok.process.ngrok:t=2025-03-05T14:00:20+0000 lvl=info msg=\"join connections\" obj=join id=bf622cfa65e0 l=127.0.0.1:8237 r=[2a02:8428:3f5d:d801:6896:9fbe:cbf4:e61]:62235\n"
          ]
        },
        {
          "output_type": "stream",
          "name": "stdout",
          "text": [
            "\u001b[32mINFO\u001b[0m:     2a02:8428:3f5d:d801:6896:9fbe:cbf4:e61:0 - \"\u001b[1mGET /assets/package-BOms6B-A.js HTTP/1.1\u001b[0m\" \u001b[32m200 OK\u001b[0m\n",
            "\u001b[32mINFO\u001b[0m:     2a02:8428:3f5d:d801:6896:9fbe:cbf4:e61:0 - \"\u001b[1mGET /assets/plus-CoKtHiA9.js HTTP/1.1\u001b[0m\" \u001b[32m200 OK\u001b[0m\n",
            "\u001b[1;35mt=2025-03-05T14:00:20+0000 lvl=info msg=\"join connections\" obj=join id=bf622cfa65e0 l=127.0.0.1:8237 r=[2a02:8428:3f5d:d801:6896:9fbe:cbf4:e61]:62235\u001b[0m\n"
          ]
        },
        {
          "output_type": "stream",
          "name": "stderr",
          "text": [
            "INFO:pyngrok.process.ngrok:t=2025-03-05T14:00:20+0000 lvl=info msg=\"join connections\" obj=join id=1d77687e1866 l=127.0.0.1:8237 r=[2a02:8428:3f5d:d801:6896:9fbe:cbf4:e61]:62235\n"
          ]
        },
        {
          "output_type": "stream",
          "name": "stdout",
          "text": [
            "\u001b[1;35mt=2025-03-05T14:00:20+0000 lvl=info msg=\"join connections\" obj=join id=1d77687e1866 l=127.0.0.1:8237 r=[2a02:8428:3f5d:d801:6896:9fbe:cbf4:e61]:62235\u001b[0m\n"
          ]
        },
        {
          "output_type": "stream",
          "name": "stderr",
          "text": [
            "INFO:pyngrok.process.ngrok:t=2025-03-05T14:00:20+0000 lvl=info msg=\"join connections\" obj=join id=f475e07df5e1 l=127.0.0.1:8237 r=[2a02:8428:3f5d:d801:6896:9fbe:cbf4:e61]:62235\n"
          ]
        },
        {
          "output_type": "stream",
          "name": "stdout",
          "text": [
            "\u001b[1;35mt=2025-03-05T14:00:20+0000 lvl=info msg=\"join connections\" obj=join id=f475e07df5e1 l=127.0.0.1:8237 r=[2a02:8428:3f5d:d801:6896:9fbe:cbf4:e61]:62235\u001b[0m\n"
          ]
        },
        {
          "output_type": "stream",
          "name": "stderr",
          "text": [
            "INFO:pyngrok.process.ngrok:t=2025-03-05T14:00:20+0000 lvl=info msg=\"join connections\" obj=join id=8cd31d1036e2 l=127.0.0.1:8237 r=[2a02:8428:3f5d:d801:6896:9fbe:cbf4:e61]:62235\n"
          ]
        },
        {
          "output_type": "stream",
          "name": "stdout",
          "text": [
            "\u001b[1;35mt=2025-03-05T14:00:20+0000 lvl=info msg=\"join connections\" obj=join id=8cd31d1036e2 l=127.0.0.1:8237 r=[2a02:8428:3f5d:d801:6896:9fbe:cbf4:e61]:62235\u001b[0m\n"
          ]
        },
        {
          "output_type": "stream",
          "name": "stderr",
          "text": [
            "INFO:pyngrok.process.ngrok:t=2025-03-05T14:00:20+0000 lvl=info msg=\"join connections\" obj=join id=48b84f041254 l=127.0.0.1:8237 r=[2a02:8428:3f5d:d801:6896:9fbe:cbf4:e61]:62235\n"
          ]
        },
        {
          "output_type": "stream",
          "name": "stdout",
          "text": [
            "\u001b[1;35mt=2025-03-05T14:00:20+0000 lvl=info msg=\"join connections\" obj=join id=48b84f041254 l=127.0.0.1:8237 r=[2a02:8428:3f5d:d801:6896:9fbe:cbf4:e61]:62235\u001b[0m\n"
          ]
        },
        {
          "output_type": "stream",
          "name": "stderr",
          "text": [
            "INFO:pyngrok.process.ngrok:t=2025-03-05T14:00:20+0000 lvl=info msg=\"join connections\" obj=join id=b6849ddaaaf1 l=127.0.0.1:8237 r=[2a02:8428:3f5d:d801:6896:9fbe:cbf4:e61]:62235\n"
          ]
        },
        {
          "output_type": "stream",
          "name": "stdout",
          "text": [
            "\u001b[1;35mt=2025-03-05T14:00:20+0000 lvl=info msg=\"join connections\" obj=join id=b6849ddaaaf1 l=127.0.0.1:8237 r=[2a02:8428:3f5d:d801:6896:9fbe:cbf4:e61]:62235\u001b[0m\n"
          ]
        },
        {
          "output_type": "stream",
          "name": "stderr",
          "text": [
            "INFO:pyngrok.process.ngrok:t=2025-03-05T14:00:20+0000 lvl=info msg=\"join connections\" obj=join id=69c1d3ef0a9f l=127.0.0.1:8237 r=[2a02:8428:3f5d:d801:6896:9fbe:cbf4:e61]:62235\n"
          ]
        },
        {
          "output_type": "stream",
          "name": "stdout",
          "text": [
            "\u001b[1;35mt=2025-03-05T14:00:20+0000 lvl=info msg=\"join connections\" obj=join id=69c1d3ef0a9f l=127.0.0.1:8237 r=[2a02:8428:3f5d:d801:6896:9fbe:cbf4:e61]:62235\u001b[0m\n",
            "\u001b[32mINFO\u001b[0m:     2a02:8428:3f5d:d801:6896:9fbe:cbf4:e61:0 - \"\u001b[1mGET /assets/help-CfT0tY2I.js HTTP/1.1\u001b[0m\" \u001b[32m200 OK\u001b[0m\n",
            "\u001b[32mINFO\u001b[0m:     2a02:8428:3f5d:d801:6896:9fbe:cbf4:e61:0 - \"\u001b[1mGET /assets/check-DZ0KAh3W.js HTTP/1.1\u001b[0m\" \u001b[32m200 OK\u001b[0m\n",
            "\u001b[32mINFO\u001b[0m:     2a02:8428:3f5d:d801:6896:9fbe:cbf4:e61:0 - \"\u001b[1mGET /assets/file-text-CgxVzNph.js HTTP/1.1\u001b[0m\" \u001b[32m200 OK\u001b[0m\n",
            "\u001b[32mINFO\u001b[0m:     2a02:8428:3f5d:d801:6896:9fbe:cbf4:e61:0 - \"\u001b[1mGET /assets/chevron-down-A3PXOshS.js HTTP/1.1\u001b[0m\" \u001b[32m200 OK\u001b[0m\n",
            "\u001b[32mINFO\u001b[0m:     2a02:8428:3f5d:d801:6896:9fbe:cbf4:e61:0 - \"\u001b[1mGET /assets/Tick-DgU4udUn.js HTTP/1.1\u001b[0m\" \u001b[32m200 OK\u001b[0m\n",
            "\u001b[32mINFO\u001b[0m:     2a02:8428:3f5d:d801:6896:9fbe:cbf4:e61:0 - \"\u001b[1mGET /assets/chevron-right-double-zKz7rAaU.js HTTP/1.1\u001b[0m\" \u001b[32m200 OK\u001b[0m\n",
            "\u001b[32mINFO\u001b[0m:     2a02:8428:3f5d:d801:6896:9fbe:cbf4:e61:0 - \"\u001b[1mGET /assets/Helpbox-cwQNH06F.js HTTP/1.1\u001b[0m\" \u001b[32m200 OK\u001b[0m\n",
            "\u001b[32mINFO\u001b[0m:     2a02:8428:3f5d:d801:6896:9fbe:cbf4:e61:0 - \"\u001b[1mGET /api/v1/current-user HTTP/1.1\u001b[0m\" \u001b[32m200 OK\u001b[0m\n",
            "\u001b[32mINFO\u001b[0m:     2a02:8428:3f5d:d801:6896:9fbe:cbf4:e61:0 - \"\u001b[1mGET /api/v1/settings HTTP/1.1\u001b[0m\" \u001b[32m200 OK\u001b[0m\n"
          ]
        },
        {
          "output_type": "stream",
          "name": "stderr",
          "text": [
            "INFO:pyngrok.process.ngrok:t=2025-03-05T14:00:20+0000 lvl=info msg=\"join connections\" obj=join id=0c264ffd67be l=127.0.0.1:8237 r=[2a02:8428:3f5d:d801:6896:9fbe:cbf4:e61]:62235\n"
          ]
        },
        {
          "output_type": "stream",
          "name": "stdout",
          "text": [
            "\u001b[1;35mt=2025-03-05T14:00:20+0000 lvl=info msg=\"join connections\" obj=join id=0c264ffd67be l=127.0.0.1:8237 r=[2a02:8428:3f5d:d801:6896:9fbe:cbf4:e61]:62235\u001b[0m\n"
          ]
        },
        {
          "output_type": "stream",
          "name": "stderr",
          "text": [
            "INFO:pyngrok.process.ngrok:t=2025-03-05T14:00:20+0000 lvl=info msg=\"join connections\" obj=join id=947a51f61cc4 l=127.0.0.1:8237 r=[2a02:8428:3f5d:d801:6896:9fbe:cbf4:e61]:62235\n"
          ]
        },
        {
          "output_type": "stream",
          "name": "stdout",
          "text": [
            "\u001b[1;35mt=2025-03-05T14:00:20+0000 lvl=info msg=\"join connections\" obj=join id=947a51f61cc4 l=127.0.0.1:8237 r=[2a02:8428:3f5d:d801:6896:9fbe:cbf4:e61]:62235\u001b[0m\n"
          ]
        },
        {
          "output_type": "stream",
          "name": "stderr",
          "text": [
            "INFO:pyngrok.process.ngrok:t=2025-03-05T14:00:20+0000 lvl=info msg=\"join connections\" obj=join id=494c2050bb7c l=127.0.0.1:8237 r=[2a02:8428:3f5d:d801:6896:9fbe:cbf4:e61]:62235\n"
          ]
        },
        {
          "output_type": "stream",
          "name": "stdout",
          "text": [
            "\u001b[1;35mt=2025-03-05T14:00:20+0000 lvl=info msg=\"join connections\" obj=join id=494c2050bb7c l=127.0.0.1:8237 r=[2a02:8428:3f5d:d801:6896:9fbe:cbf4:e61]:62235\u001b[0m\n",
            "\u001b[32mINFO\u001b[0m:     2a02:8428:3f5d:d801:6896:9fbe:cbf4:e61:0 - \"\u001b[1mGET /api/v1/info HTTP/1.1\u001b[0m\" \u001b[32m200 OK\u001b[0m\n",
            "\u001b[32mINFO\u001b[0m:     2a02:8428:3f5d:d801:6896:9fbe:cbf4:e61:0 - \"\u001b[1mGET /api/v1/onboarding_state HTTP/1.1\u001b[0m\" \u001b[32m200 OK\u001b[0m\n",
            "\u001b[32mINFO\u001b[0m:     2a02:8428:3f5d:d801:6896:9fbe:cbf4:e61:0 - \"\u001b[1mGET /assets/tour-cover-BYfeen6M.webp HTTP/1.1\u001b[0m\" \u001b[32m200 OK\u001b[0m\n"
          ]
        },
        {
          "output_type": "stream",
          "name": "stderr",
          "text": [
            "INFO:pyngrok.process.ngrok:t=2025-03-05T14:00:26+0000 lvl=info msg=\"join connections\" obj=join id=191021c122ec l=127.0.0.1:8237 r=[2a02:8428:3f5d:d801:6896:9fbe:cbf4:e61]:62235\n"
          ]
        },
        {
          "output_type": "stream",
          "name": "stdout",
          "text": [
            "\u001b[1;35mt=2025-03-05T14:00:26+0000 lvl=info msg=\"join connections\" obj=join id=191021c122ec l=127.0.0.1:8237 r=[2a02:8428:3f5d:d801:6896:9fbe:cbf4:e61]:62235\u001b[0m\n",
            "\u001b[32mINFO\u001b[0m:     2a02:8428:3f5d:d801:6896:9fbe:cbf4:e61:0 - \"\u001b[1mGET /api/v1/onboarding_state HTTP/1.1\u001b[0m\" \u001b[32m200 OK\u001b[0m\n"
          ]
        },
        {
          "output_type": "stream",
          "name": "stderr",
          "text": [
            "INFO:pyngrok.process.ngrok:t=2025-03-05T14:00:31+0000 lvl=info msg=\"join connections\" obj=join id=24b05f70d0bb l=127.0.0.1:8237 r=[2a02:8428:3f5d:d801:6896:9fbe:cbf4:e61]:62235\n"
          ]
        },
        {
          "output_type": "stream",
          "name": "stdout",
          "text": [
            "\u001b[1;35mt=2025-03-05T14:00:31+0000 lvl=info msg=\"join connections\" obj=join id=24b05f70d0bb l=127.0.0.1:8237 r=[2a02:8428:3f5d:d801:6896:9fbe:cbf4:e61]:62235\u001b[0m\n",
            "\u001b[32mINFO\u001b[0m:     2a02:8428:3f5d:d801:6896:9fbe:cbf4:e61:0 - \"\u001b[1mGET /api/v1/onboarding_state HTTP/1.1\u001b[0m\" \u001b[32m200 OK\u001b[0m\n"
          ]
        },
        {
          "output_type": "stream",
          "name": "stderr",
          "text": [
            "INFO:pyngrok.process.ngrok:t=2025-03-05T14:00:36+0000 lvl=info msg=\"join connections\" obj=join id=40fa95a70136 l=127.0.0.1:8237 r=[2a02:8428:3f5d:d801:6896:9fbe:cbf4:e61]:62235\n"
          ]
        },
        {
          "output_type": "stream",
          "name": "stdout",
          "text": [
            "\u001b[1;35mt=2025-03-05T14:00:36+0000 lvl=info msg=\"join connections\" obj=join id=40fa95a70136 l=127.0.0.1:8237 r=[2a02:8428:3f5d:d801:6896:9fbe:cbf4:e61]:62235\u001b[0m\n",
            "\u001b[32mINFO\u001b[0m:     2a02:8428:3f5d:d801:6896:9fbe:cbf4:e61:0 - \"\u001b[1mGET /api/v1/onboarding_state HTTP/1.1\u001b[0m\" \u001b[32m200 OK\u001b[0m\n"
          ]
        },
        {
          "output_type": "stream",
          "name": "stderr",
          "text": [
            "INFO:pyngrok.process.ngrok:t=2025-03-05T14:00:41+0000 lvl=info msg=\"join connections\" obj=join id=130e5d3c96e5 l=127.0.0.1:8237 r=[2a02:8428:3f5d:d801:6896:9fbe:cbf4:e61]:62235\n"
          ]
        },
        {
          "output_type": "stream",
          "name": "stdout",
          "text": [
            "\u001b[1;35mt=2025-03-05T14:00:41+0000 lvl=info msg=\"join connections\" obj=join id=130e5d3c96e5 l=127.0.0.1:8237 r=[2a02:8428:3f5d:d801:6896:9fbe:cbf4:e61]:62235\u001b[0m\n"
          ]
        },
        {
          "output_type": "stream",
          "name": "stderr",
          "text": [
            "INFO:pyngrok.process.ngrok:t=2025-03-05T14:00:41+0000 lvl=info msg=\"join connections\" obj=join id=b6a9e60d7314 l=127.0.0.1:8237 r=[2a02:8428:3f5d:d801:6896:9fbe:cbf4:e61]:62235\n"
          ]
        },
        {
          "output_type": "stream",
          "name": "stdout",
          "text": [
            "\u001b[32mINFO\u001b[0m:     2a02:8428:3f5d:d801:6896:9fbe:cbf4:e61:0 - \"\u001b[1mGET /assets/page-CCEwuGU4.js HTTP/1.1\u001b[0m\" \u001b[32m200 OK\u001b[0m\n",
            "\u001b[1;35mt=2025-03-05T14:00:41+0000 lvl=info msg=\"join connections\" obj=join id=b6a9e60d7314 l=127.0.0.1:8237 r=[2a02:8428:3f5d:d801:6896:9fbe:cbf4:e61]:62235\u001b[0m\n",
            "\u001b[32mINFO\u001b[0m:     2a02:8428:3f5d:d801:6896:9fbe:cbf4:e61:0 - \"\u001b[1mGET /api/v1/onboarding_state HTTP/1.1\u001b[0m\" \u001b[32m200 OK\u001b[0m\n"
          ]
        },
        {
          "output_type": "stream",
          "name": "stderr",
          "text": [
            "INFO:pyngrok.process.ngrok:t=2025-03-05T14:00:42+0000 lvl=info msg=\"join connections\" obj=join id=139afa142aeb l=127.0.0.1:8237 r=[2a02:8428:3f5d:d801:6896:9fbe:cbf4:e61]:62235\n"
          ]
        },
        {
          "output_type": "stream",
          "name": "stdout",
          "text": [
            "\u001b[32mINFO\u001b[0m:     2a02:8428:3f5d:d801:6896:9fbe:cbf4:e61:0 - \"\u001b[1mGET /assets/refresh-CupyU1Vs.js HTTP/1.1\u001b[0m\" \u001b[32m200 OK\u001b[0m\n",
            "\u001b[32mINFO\u001b[0m:     2a02:8428:3f5d:d801:6896:9fbe:cbf4:e61:0 - \"\u001b[1mGET /assets/trash-B_JgTgqd.js HTTP/1.1\u001b[0m\" \u001b[32m200 OK\u001b[0m\n",
            "\u001b[1;35mt=2025-03-05T14:00:42+0000 lvl=info msg=\"join connections\" obj=join id=139afa142aeb l=127.0.0.1:8237 r=[2a02:8428:3f5d:d801:6896:9fbe:cbf4:e61]:62235\u001b[0m\n"
          ]
        },
        {
          "output_type": "stream",
          "name": "stderr",
          "text": [
            "INFO:pyngrok.process.ngrok:t=2025-03-05T14:00:42+0000 lvl=info msg=\"join connections\" obj=join id=e8fd92409113 l=127.0.0.1:8237 r=[2a02:8428:3f5d:d801:6896:9fbe:cbf4:e61]:62235\n"
          ]
        },
        {
          "output_type": "stream",
          "name": "stdout",
          "text": [
            "\u001b[1;35mt=2025-03-05T14:00:42+0000 lvl=info msg=\"join connections\" obj=join id=e8fd92409113 l=127.0.0.1:8237 r=[2a02:8428:3f5d:d801:6896:9fbe:cbf4:e61]:62235\u001b[0m\n"
          ]
        },
        {
          "output_type": "stream",
          "name": "stderr",
          "text": [
            "INFO:pyngrok.process.ngrok:t=2025-03-05T14:00:42+0000 lvl=info msg=\"join connections\" obj=join id=bfbb140441f8 l=127.0.0.1:8237 r=[2a02:8428:3f5d:d801:6896:9fbe:cbf4:e61]:62235\n"
          ]
        },
        {
          "output_type": "stream",
          "name": "stdout",
          "text": [
            "\u001b[1;35mt=2025-03-05T14:00:42+0000 lvl=info msg=\"join connections\" obj=join id=bfbb140441f8 l=127.0.0.1:8237 r=[2a02:8428:3f5d:d801:6896:9fbe:cbf4:e61]:62235\u001b[0m\n"
          ]
        },
        {
          "output_type": "stream",
          "name": "stderr",
          "text": [
            "INFO:pyngrok.process.ngrok:t=2025-03-05T14:00:42+0000 lvl=info msg=\"join connections\" obj=join id=2c2aa1ccea91 l=127.0.0.1:8237 r=[2a02:8428:3f5d:d801:6896:9fbe:cbf4:e61]:62235\n"
          ]
        },
        {
          "output_type": "stream",
          "name": "stdout",
          "text": [
            "\u001b[1;35mt=2025-03-05T14:00:42+0000 lvl=info msg=\"join connections\" obj=join id=2c2aa1ccea91 l=127.0.0.1:8237 r=[2a02:8428:3f5d:d801:6896:9fbe:cbf4:e61]:62235\u001b[0m\n"
          ]
        },
        {
          "output_type": "stream",
          "name": "stderr",
          "text": [
            "INFO:pyngrok.process.ngrok:t=2025-03-05T14:00:42+0000 lvl=info msg=\"join connections\" obj=join id=983b77964280 l=127.0.0.1:8237 r=[2a02:8428:3f5d:d801:6896:9fbe:cbf4:e61]:62235\n"
          ]
        },
        {
          "output_type": "stream",
          "name": "stdout",
          "text": [
            "\u001b[1;35mt=2025-03-05T14:00:42+0000 lvl=info msg=\"join connections\" obj=join id=983b77964280 l=127.0.0.1:8237 r=[2a02:8428:3f5d:d801:6896:9fbe:cbf4:e61]:62235\u001b[0m\n"
          ]
        },
        {
          "output_type": "stream",
          "name": "stderr",
          "text": [
            "INFO:pyngrok.process.ngrok:t=2025-03-05T14:00:42+0000 lvl=info msg=\"join connections\" obj=join id=440ae42a3893 l=127.0.0.1:8237 r=[2a02:8428:3f5d:d801:6896:9fbe:cbf4:e61]:62235\n"
          ]
        },
        {
          "output_type": "stream",
          "name": "stdout",
          "text": [
            "\u001b[32mINFO\u001b[0m:     2a02:8428:3f5d:d801:6896:9fbe:cbf4:e61:0 - \"\u001b[1mGET /assets/DeleteAlertDialog-CTLRrcFM.js HTTP/1.1\u001b[0m\" \u001b[32m200 OK\u001b[0m\n",
            "\u001b[32mINFO\u001b[0m:     2a02:8428:3f5d:d801:6896:9fbe:cbf4:e61:0 - \"\u001b[1mGET /assets/AlertDialogDropdownItem-XL2NfFgP.js HTTP/1.1\u001b[0m\" \u001b[32m200 OK\u001b[0m\n",
            "\u001b[1;35mt=2025-03-05T14:00:42+0000 lvl=info msg=\"join connections\" obj=join id=440ae42a3893 l=127.0.0.1:8237 r=[2a02:8428:3f5d:d801:6896:9fbe:cbf4:e61]:62235\u001b[0m\n"
          ]
        },
        {
          "output_type": "stream",
          "name": "stderr",
          "text": [
            "INFO:pyngrok.process.ngrok:t=2025-03-05T14:00:42+0000 lvl=info msg=\"join connections\" obj=join id=c37487e59a37 l=127.0.0.1:8237 r=[2a02:8428:3f5d:d801:6896:9fbe:cbf4:e61]:62235\n"
          ]
        },
        {
          "output_type": "stream",
          "name": "stdout",
          "text": [
            "\u001b[1;35mt=2025-03-05T14:00:42+0000 lvl=info msg=\"join connections\" obj=join id=c37487e59a37 l=127.0.0.1:8237 r=[2a02:8428:3f5d:d801:6896:9fbe:cbf4:e61]:62235\u001b[0m\n"
          ]
        },
        {
          "output_type": "stream",
          "name": "stderr",
          "text": [
            "INFO:pyngrok.process.ngrok:t=2025-03-05T14:00:42+0000 lvl=info msg=\"join connections\" obj=join id=7baa08e3557f l=127.0.0.1:8237 r=[2a02:8428:3f5d:d801:6896:9fbe:cbf4:e61]:62235\n"
          ]
        },
        {
          "output_type": "stream",
          "name": "stdout",
          "text": [
            "\u001b[1;35mt=2025-03-05T14:00:42+0000 lvl=info msg=\"join connections\" obj=join id=7baa08e3557f l=127.0.0.1:8237 r=[2a02:8428:3f5d:d801:6896:9fbe:cbf4:e61]:62235\u001b[0m\n"
          ]
        },
        {
          "output_type": "stream",
          "name": "stderr",
          "text": [
            "INFO:pyngrok.process.ngrok:t=2025-03-05T14:00:42+0000 lvl=info msg=\"join connections\" obj=join id=76fcefbe22df l=127.0.0.1:8237 r=[2a02:8428:3f5d:d801:6896:9fbe:cbf4:e61]:62235\n"
          ]
        },
        {
          "output_type": "stream",
          "name": "stdout",
          "text": [
            "\u001b[1;35mt=2025-03-05T14:00:42+0000 lvl=info msg=\"join connections\" obj=join id=76fcefbe22df l=127.0.0.1:8237 r=[2a02:8428:3f5d:d801:6896:9fbe:cbf4:e61]:62235\u001b[0m\n"
          ]
        },
        {
          "output_type": "stream",
          "name": "stderr",
          "text": [
            "INFO:pyngrok.process.ngrok:t=2025-03-05T14:00:42+0000 lvl=info msg=\"join connections\" obj=join id=15c72ec5c16a l=127.0.0.1:8237 r=[2a02:8428:3f5d:d801:6896:9fbe:cbf4:e61]:62235\n"
          ]
        },
        {
          "output_type": "stream",
          "name": "stdout",
          "text": [
            "\u001b[1;35mt=2025-03-05T14:00:42+0000 lvl=info msg=\"join connections\" obj=join id=15c72ec5c16a l=127.0.0.1:8237 r=[2a02:8428:3f5d:d801:6896:9fbe:cbf4:e61]:62235\u001b[0m\n"
          ]
        },
        {
          "output_type": "stream",
          "name": "stderr",
          "text": [
            "INFO:pyngrok.process.ngrok:t=2025-03-05T14:00:42+0000 lvl=info msg=\"join connections\" obj=join id=20504b5faf7a l=127.0.0.1:8237 r=[2a02:8428:3f5d:d801:6896:9fbe:cbf4:e61]:62235\n"
          ]
        },
        {
          "output_type": "stream",
          "name": "stdout",
          "text": [
            "\u001b[1;35mt=2025-03-05T14:00:42+0000 lvl=info msg=\"join connections\" obj=join id=20504b5faf7a l=127.0.0.1:8237 r=[2a02:8428:3f5d:d801:6896:9fbe:cbf4:e61]:62235\u001b[0m\n"
          ]
        },
        {
          "output_type": "stream",
          "name": "stderr",
          "text": [
            "INFO:pyngrok.process.ngrok:t=2025-03-05T14:00:42+0000 lvl=info msg=\"join connections\" obj=join id=581b6eaee9fb l=127.0.0.1:8237 r=[2a02:8428:3f5d:d801:6896:9fbe:cbf4:e61]:62235\n"
          ]
        },
        {
          "output_type": "stream",
          "name": "stdout",
          "text": [
            "\u001b[1;35mt=2025-03-05T14:00:42+0000 lvl=info msg=\"join connections\" obj=join id=581b6eaee9fb l=127.0.0.1:8237 r=[2a02:8428:3f5d:d801:6896:9fbe:cbf4:e61]:62235\u001b[0m\n",
            "\u001b[32mINFO\u001b[0m:     2a02:8428:3f5d:d801:6896:9fbe:cbf4:e61:0 - \"\u001b[1mGET /assets/all-pipeline-runs-query-B509kMlL.js HTTP/1.1\u001b[0m\" \u001b[32m200 OK\u001b[0m\n",
            "\u001b[32mINFO\u001b[0m:     2a02:8428:3f5d:d801:6896:9fbe:cbf4:e61:0 - \"\u001b[1mGET /assets/DisplayDate-C5Aw-Yca.js HTTP/1.1\u001b[0m\" \u001b[32m200 OK\u001b[0m\n",
            "\u001b[32mINFO\u001b[0m:     2a02:8428:3f5d:d801:6896:9fbe:cbf4:e61:0 - \"\u001b[1mGET /assets/RunsBody-D2VoO-cR.js HTTP/1.1\u001b[0m\" \u001b[32m200 OK\u001b[0m\n",
            "\u001b[32mINFO\u001b[0m:     2a02:8428:3f5d:d801:6896:9fbe:cbf4:e61:0 - \"\u001b[1mGET /assets/SearchField-DfNxVtjV.js HTTP/1.1\u001b[0m\" \u001b[32m200 OK\u001b[0m\n",
            "\u001b[32mINFO\u001b[0m:     2a02:8428:3f5d:d801:6896:9fbe:cbf4:e61:0 - \"\u001b[1mGET /assets/InlineAvatar-Bk4QLPTU.js HTTP/1.1\u001b[0m\" \u001b[32m200 OK\u001b[0m\n",
            "\u001b[32mINFO\u001b[0m:     2a02:8428:3f5d:d801:6896:9fbe:cbf4:e61:0 - \"\u001b[1mGET /assets/index-BVVKxTWC.js HTTP/1.1\u001b[0m\" \u001b[32m200 OK\u001b[0m\n",
            "\u001b[32mINFO\u001b[0m:     2a02:8428:3f5d:d801:6896:9fbe:cbf4:e61:0 - \"\u001b[1mGET /assets/RunSelector-CYmRHGdm.js HTTP/1.1\u001b[0m\" \u001b[32m200 OK\u001b[0m\n",
            "\u001b[32mINFO\u001b[0m:     2a02:8428:3f5d:d801:6896:9fbe:cbf4:e61:0 - \"\u001b[1mGET /assets/Infobox-DYKoAVhW.js HTTP/1.1\u001b[0m\" \u001b[32m200 OK\u001b[0m\n",
            "\u001b[32mINFO\u001b[0m:     2a02:8428:3f5d:d801:6896:9fbe:cbf4:e61:0 - \"\u001b[1mGET /assets/delete-run-CzPWbsBy.js HTTP/1.1\u001b[0m\" \u001b[32m200 OK\u001b[0m\n",
            "\u001b[32mINFO\u001b[0m:     2a02:8428:3f5d:d801:6896:9fbe:cbf4:e61:0 - \"\u001b[1mGET /assets/ExecutionStatus-DHiK3Am-.js HTTP/1.1\u001b[0m\" \u001b[32m200 OK\u001b[0m\n",
            "\u001b[32mINFO\u001b[0m:     2a02:8428:3f5d:d801:6896:9fbe:cbf4:e61:0 - \"\u001b[1mGET /api/v1/pipelines?page=1&sort_by=desc%3Alatest_run HTTP/1.1\u001b[0m\" \u001b[32m200 OK\u001b[0m\n"
          ]
        },
        {
          "output_type": "stream",
          "name": "stderr",
          "text": [
            "INFO:pyngrok.process.ngrok:t=2025-03-05T14:01:09+0000 lvl=info msg=\"join connections\" obj=join id=417d54f6fdd6 l=127.0.0.1:8237 r=[2a02:8428:3f5d:d801:6896:9fbe:cbf4:e61]:62235\n"
          ]
        },
        {
          "output_type": "stream",
          "name": "stdout",
          "text": [
            "\u001b[1;35mt=2025-03-05T14:01:09+0000 lvl=info msg=\"join connections\" obj=join id=417d54f6fdd6 l=127.0.0.1:8237 r=[2a02:8428:3f5d:d801:6896:9fbe:cbf4:e61]:62235\u001b[0m\n",
            "\u001b[32mINFO\u001b[0m:     2a02:8428:3f5d:d801:6896:9fbe:cbf4:e61:0 - \"\u001b[1mGET /assets/page-iTvxfhgZ.js HTTP/1.1\u001b[0m\" \u001b[32m200 OK\u001b[0m\n"
          ]
        },
        {
          "output_type": "stream",
          "name": "stderr",
          "text": [
            "INFO:pyngrok.process.ngrok:t=2025-03-05T14:01:10+0000 lvl=info msg=\"join connections\" obj=join id=91ff21360c7e l=127.0.0.1:8237 r=[2a02:8428:3f5d:d801:6896:9fbe:cbf4:e61]:62235\n"
          ]
        },
        {
          "output_type": "stream",
          "name": "stdout",
          "text": [
            "\u001b[32mINFO\u001b[0m:     2a02:8428:3f5d:d801:6896:9fbe:cbf4:e61:0 - \"\u001b[1mGET /assets/StackList-C8KNd00o.js HTTP/1.1\u001b[0m\" \u001b[32m200 OK\u001b[0m\n",
            "\u001b[1;35mt=2025-03-05T14:01:10+0000 lvl=info msg=\"join connections\" obj=join id=91ff21360c7e l=127.0.0.1:8237 r=[2a02:8428:3f5d:d801:6896:9fbe:cbf4:e61]:62235\u001b[0m\n"
          ]
        },
        {
          "output_type": "stream",
          "name": "stderr",
          "text": [
            "INFO:pyngrok.process.ngrok:t=2025-03-05T14:01:10+0000 lvl=info msg=\"join connections\" obj=join id=b8f5c4881ad0 l=127.0.0.1:8237 r=[2a02:8428:3f5d:d801:6896:9fbe:cbf4:e61]:62235\n"
          ]
        },
        {
          "output_type": "stream",
          "name": "stdout",
          "text": [
            "\u001b[1;35mt=2025-03-05T14:01:10+0000 lvl=info msg=\"join connections\" obj=join id=b8f5c4881ad0 l=127.0.0.1:8237 r=[2a02:8428:3f5d:d801:6896:9fbe:cbf4:e61]:62235\u001b[0m\n"
          ]
        },
        {
          "output_type": "stream",
          "name": "stderr",
          "text": [
            "INFO:pyngrok.process.ngrok:t=2025-03-05T14:01:10+0000 lvl=info msg=\"join connections\" obj=join id=5a1a07c19bc6 l=127.0.0.1:8237 r=[2a02:8428:3f5d:d801:6896:9fbe:cbf4:e61]:62235\n"
          ]
        },
        {
          "output_type": "stream",
          "name": "stdout",
          "text": [
            "\u001b[1;35mt=2025-03-05T14:01:10+0000 lvl=info msg=\"join connections\" obj=join id=5a1a07c19bc6 l=127.0.0.1:8237 r=[2a02:8428:3f5d:d801:6896:9fbe:cbf4:e61]:62235\u001b[0m\n"
          ]
        },
        {
          "output_type": "stream",
          "name": "stderr",
          "text": [
            "INFO:pyngrok.process.ngrok:t=2025-03-05T14:01:10+0000 lvl=info msg=\"join connections\" obj=join id=8e1309c6b172 l=127.0.0.1:8237 r=[2a02:8428:3f5d:d801:6896:9fbe:cbf4:e61]:62235\n"
          ]
        },
        {
          "output_type": "stream",
          "name": "stdout",
          "text": [
            "\u001b[1;35mt=2025-03-05T14:01:10+0000 lvl=info msg=\"join connections\" obj=join id=8e1309c6b172 l=127.0.0.1:8237 r=[2a02:8428:3f5d:d801:6896:9fbe:cbf4:e61]:62235\u001b[0m\n"
          ]
        },
        {
          "output_type": "stream",
          "name": "stderr",
          "text": [
            "INFO:pyngrok.process.ngrok:t=2025-03-05T14:01:10+0000 lvl=info msg=\"join connections\" obj=join id=8738aebad018 l=127.0.0.1:8237 r=[2a02:8428:3f5d:d801:6896:9fbe:cbf4:e61]:62235\n"
          ]
        },
        {
          "output_type": "stream",
          "name": "stdout",
          "text": [
            "\u001b[1;35mt=2025-03-05T14:01:10+0000 lvl=info msg=\"join connections\" obj=join id=8738aebad018 l=127.0.0.1:8237 r=[2a02:8428:3f5d:d801:6896:9fbe:cbf4:e61]:62235\u001b[0m\n"
          ]
        },
        {
          "output_type": "stream",
          "name": "stderr",
          "text": [
            "INFO:pyngrok.process.ngrok:t=2025-03-05T14:01:10+0000 lvl=info msg=\"join connections\" obj=join id=28dc132b6e25 l=127.0.0.1:8237 r=[2a02:8428:3f5d:d801:6896:9fbe:cbf4:e61]:62235\n"
          ]
        },
        {
          "output_type": "stream",
          "name": "stdout",
          "text": [
            "\u001b[1;35mt=2025-03-05T14:01:10+0000 lvl=info msg=\"join connections\" obj=join id=28dc132b6e25 l=127.0.0.1:8237 r=[2a02:8428:3f5d:d801:6896:9fbe:cbf4:e61]:62235\u001b[0m\n",
            "\u001b[32mINFO\u001b[0m:     2a02:8428:3f5d:d801:6896:9fbe:cbf4:e61:0 - \"\u001b[1mGET /assets/CollapsibleCard-Djtd_ocf.js HTTP/1.1\u001b[0m\" \u001b[32m200 OK\u001b[0m\n",
            "\u001b[32mINFO\u001b[0m:     2a02:8428:3f5d:d801:6896:9fbe:cbf4:e61:0 - \"\u001b[1mGET /assets/index-CaRx22lH.js HTTP/1.1\u001b[0m\" \u001b[32m200 OK\u001b[0m\n",
            "\u001b[32mINFO\u001b[0m:     2a02:8428:3f5d:d801:6896:9fbe:cbf4:e61:0 - \"\u001b[1mGET /assets/layout-3_rgDUxf.js HTTP/1.1\u001b[0m\" \u001b[32m200 OK\u001b[0m\n",
            "\u001b[32mINFO\u001b[0m:     2a02:8428:3f5d:d801:6896:9fbe:cbf4:e61:0 - \"\u001b[1mGET /assets/transform-DKsRLKTv.js HTTP/1.1\u001b[0m\" \u001b[32m200 OK\u001b[0m\n"
          ]
        },
        {
          "output_type": "stream",
          "name": "stderr",
          "text": [
            "INFO:pyngrok.process.ngrok:t=2025-03-05T14:01:10+0000 lvl=info msg=\"join connections\" obj=join id=95df5d7cf765 l=127.0.0.1:8237 r=[2a02:8428:3f5d:d801:6896:9fbe:cbf4:e61]:62235\n"
          ]
        },
        {
          "output_type": "stream",
          "name": "stdout",
          "text": [
            "\u001b[1;35mt=2025-03-05T14:01:10+0000 lvl=info msg=\"join connections\" obj=join id=95df5d7cf765 l=127.0.0.1:8237 r=[2a02:8428:3f5d:d801:6896:9fbe:cbf4:e61]:62235\u001b[0m\n"
          ]
        },
        {
          "output_type": "stream",
          "name": "stderr",
          "text": [
            "INFO:pyngrok.process.ngrok:t=2025-03-05T14:01:10+0000 lvl=info msg=\"join connections\" obj=join id=f742d8f5c399 l=127.0.0.1:8237 r=[2a02:8428:3f5d:d801:6896:9fbe:cbf4:e61]:62235\n"
          ]
        },
        {
          "output_type": "stream",
          "name": "stdout",
          "text": [
            "\u001b[1;35mt=2025-03-05T14:01:10+0000 lvl=info msg=\"join connections\" obj=join id=f742d8f5c399 l=127.0.0.1:8237 r=[2a02:8428:3f5d:d801:6896:9fbe:cbf4:e61]:62235\u001b[0m\n"
          ]
        },
        {
          "output_type": "stream",
          "name": "stderr",
          "text": [
            "INFO:pyngrok.process.ngrok:t=2025-03-05T14:01:10+0000 lvl=info msg=\"join connections\" obj=join id=bff85547edf5 l=127.0.0.1:8237 r=[2a02:8428:3f5d:d801:6896:9fbe:cbf4:e61]:62235\n"
          ]
        },
        {
          "output_type": "stream",
          "name": "stdout",
          "text": [
            "\u001b[1;35mt=2025-03-05T14:01:10+0000 lvl=info msg=\"join connections\" obj=join id=bff85547edf5 l=127.0.0.1:8237 r=[2a02:8428:3f5d:d801:6896:9fbe:cbf4:e61]:62235\u001b[0m\n"
          ]
        },
        {
          "output_type": "stream",
          "name": "stderr",
          "text": [
            "INFO:pyngrok.process.ngrok:t=2025-03-05T14:01:10+0000 lvl=info msg=\"join connections\" obj=join id=d6ea9877b795 l=127.0.0.1:8237 r=[2a02:8428:3f5d:d801:6896:9fbe:cbf4:e61]:62235\n"
          ]
        },
        {
          "output_type": "stream",
          "name": "stdout",
          "text": [
            "\u001b[1;35mt=2025-03-05T14:01:10+0000 lvl=info msg=\"join connections\" obj=join id=d6ea9877b795 l=127.0.0.1:8237 r=[2a02:8428:3f5d:d801:6896:9fbe:cbf4:e61]:62235\u001b[0m\n"
          ]
        },
        {
          "output_type": "stream",
          "name": "stderr",
          "text": [
            "INFO:pyngrok.process.ngrok:t=2025-03-05T14:01:10+0000 lvl=info msg=\"join connections\" obj=join id=66b1023f5c03 l=127.0.0.1:8237 r=[2a02:8428:3f5d:d801:6896:9fbe:cbf4:e61]:62235\n"
          ]
        },
        {
          "output_type": "stream",
          "name": "stdout",
          "text": [
            "\u001b[1;35mt=2025-03-05T14:01:10+0000 lvl=info msg=\"join connections\" obj=join id=66b1023f5c03 l=127.0.0.1:8237 r=[2a02:8428:3f5d:d801:6896:9fbe:cbf4:e61]:62235\u001b[0m\n"
          ]
        },
        {
          "output_type": "stream",
          "name": "stderr",
          "text": [
            "INFO:pyngrok.process.ngrok:t=2025-03-05T14:01:10+0000 lvl=info msg=\"join connections\" obj=join id=1be8f0db6c9b l=127.0.0.1:8237 r=[2a02:8428:3f5d:d801:6896:9fbe:cbf4:e61]:62235\n"
          ]
        },
        {
          "output_type": "stream",
          "name": "stdout",
          "text": [
            "\u001b[1;35mt=2025-03-05T14:01:10+0000 lvl=info msg=\"join connections\" obj=join id=1be8f0db6c9b l=127.0.0.1:8237 r=[2a02:8428:3f5d:d801:6896:9fbe:cbf4:e61]:62235\u001b[0m\n"
          ]
        },
        {
          "output_type": "stream",
          "name": "stderr",
          "text": [
            "INFO:pyngrok.process.ngrok:t=2025-03-05T14:01:10+0000 lvl=info msg=\"join connections\" obj=join id=603ece48145f l=127.0.0.1:8237 r=[2a02:8428:3f5d:d801:6896:9fbe:cbf4:e61]:62235\n"
          ]
        },
        {
          "output_type": "stream",
          "name": "stdout",
          "text": [
            "\u001b[1;35mt=2025-03-05T14:01:10+0000 lvl=info msg=\"join connections\" obj=join id=603ece48145f l=127.0.0.1:8237 r=[2a02:8428:3f5d:d801:6896:9fbe:cbf4:e61]:62235\u001b[0m\n",
            "\u001b[32mINFO\u001b[0m:     2a02:8428:3f5d:d801:6896:9fbe:cbf4:e61:0 - \"\u001b[1mGET /assets/ComponentBadge-CVN2FsiW.js HTTP/1.1\u001b[0m\" \u001b[32m200 OK\u001b[0m\n",
            "\u001b[32mINFO\u001b[0m:     2a02:8428:3f5d:d801:6896:9fbe:cbf4:e61:0 - \"\u001b[1mGET /assets/stack-detail-query-CI_YMUx6.js HTTP/1.1\u001b[0m\" \u001b[32m200 OK\u001b[0m\n",
            "\u001b[32mINFO\u001b[0m:     2a02:8428:3f5d:d801:6896:9fbe:cbf4:e61:0 - \"\u001b[1mGET /assets/persist-CMkLV2Cs.js HTTP/1.1\u001b[0m\" \u001b[32m200 OK\u001b[0m\n",
            "\u001b[32mINFO\u001b[0m:     2a02:8428:3f5d:d801:6896:9fbe:cbf4:e61:0 - \"\u001b[1mGET /assets/sharedSchema-BOmQa793.js HTTP/1.1\u001b[0m\" \u001b[32m200 OK\u001b[0m\n",
            "\u001b[32mINFO\u001b[0m:     2a02:8428:3f5d:d801:6896:9fbe:cbf4:e61:0 - \"\u001b[1mGET /assets/persist-BglceT_t.js HTTP/1.1\u001b[0m\" \u001b[32m200 OK\u001b[0m\n",
            "\u001b[32mINFO\u001b[0m:     2a02:8428:3f5d:d801:6896:9fbe:cbf4:e61:0 - \"\u001b[1mGET /assets/components-Br2ezRib.js HTTP/1.1\u001b[0m\" \u001b[32m200 OK\u001b[0m\n",
            "\u001b[32mINFO\u001b[0m:     2a02:8428:3f5d:d801:6896:9fbe:cbf4:e61:0 - \"\u001b[1mGET /assets/ComponentIcon-gpMJ2Y2e.js HTTP/1.1\u001b[0m\" \u001b[32m200 OK\u001b[0m\n",
            "\u001b[32mINFO\u001b[0m:     2a02:8428:3f5d:d801:6896:9fbe:cbf4:e61:0 - \"\u001b[1mGET /assets/NumberBox-BvBJYxCu.js HTTP/1.1\u001b[0m\" \u001b[32m200 OK\u001b[0m\n",
            "\u001b[32mINFO\u001b[0m:     2a02:8428:3f5d:d801:6896:9fbe:cbf4:e61:0 - \"\u001b[1mGET /assets/DialogItem-ST291Hsl.js HTTP/1.1\u001b[0m\" \u001b[32m200 OK\u001b[0m\n",
            "\u001b[32mINFO\u001b[0m:     2a02:8428:3f5d:d801:6896:9fbe:cbf4:e61:0 - \"\u001b[1mGET /api/v1/info HTTP/1.1\u001b[0m\" \u001b[32m200 OK\u001b[0m\n",
            "\u001b[32mINFO\u001b[0m:     2a02:8428:3f5d:d801:6896:9fbe:cbf4:e61:0 - \"\u001b[1mGET /api/v1/stacks?page=1&sort_by=desc%3Aupdated HTTP/1.1\u001b[0m\" \u001b[32m200 OK\u001b[0m\n"
          ]
        },
        {
          "output_type": "stream",
          "name": "stderr",
          "text": [
            "INFO:pyngrok.process.ngrok:t=2025-03-05T14:01:42+0000 lvl=info msg=\"join connections\" obj=join id=26facd79bae7 l=127.0.0.1:8237 r=[2a02:8428:3f5d:d801:6896:9fbe:cbf4:e61]:62235\n"
          ]
        },
        {
          "output_type": "stream",
          "name": "stdout",
          "text": [
            "\u001b[1;35mt=2025-03-05T14:01:42+0000 lvl=info msg=\"join connections\" obj=join id=26facd79bae7 l=127.0.0.1:8237 r=[2a02:8428:3f5d:d801:6896:9fbe:cbf4:e61]:62235\u001b[0m\n",
            "\u001b[32mINFO\u001b[0m:     2a02:8428:3f5d:d801:6896:9fbe:cbf4:e61:0 - \"\u001b[1mGET /assets/settings_preview-0JLrRgHP.webp HTTP/1.1\u001b[0m\" \u001b[32m200 OK\u001b[0m\n"
          ]
        },
        {
          "output_type": "stream",
          "name": "stderr",
          "text": [
            "INFO:pyngrok.process.ngrok:t=2025-03-05T14:01:56+0000 lvl=info msg=\"join connections\" obj=join id=e942e95469c2 l=127.0.0.1:8237 r=[2a02:8428:3f5d:d801:6896:9fbe:cbf4:e61]:62235\n"
          ]
        },
        {
          "output_type": "stream",
          "name": "stdout",
          "text": [
            "\u001b[1;35mt=2025-03-05T14:01:56+0000 lvl=info msg=\"join connections\" obj=join id=e942e95469c2 l=127.0.0.1:8237 r=[2a02:8428:3f5d:d801:6896:9fbe:cbf4:e61]:62235\u001b[0m\n"
          ]
        },
        {
          "output_type": "stream",
          "name": "stderr",
          "text": [
            "INFO:pyngrok.process.ngrok:t=2025-03-05T14:01:56+0000 lvl=info msg=\"join connections\" obj=join id=55a1f874290f l=127.0.0.1:8237 r=[2a02:8428:3f5d:d801:6896:9fbe:cbf4:e61]:62235\n"
          ]
        },
        {
          "output_type": "stream",
          "name": "stdout",
          "text": [
            "\u001b[1;35mt=2025-03-05T14:01:56+0000 lvl=info msg=\"join connections\" obj=join id=55a1f874290f l=127.0.0.1:8237 r=[2a02:8428:3f5d:d801:6896:9fbe:cbf4:e61]:62235\u001b[0m\n",
            "\u001b[32mINFO\u001b[0m:     2a02:8428:3f5d:d801:6896:9fbe:cbf4:e61:0 - \"\u001b[1mGET /assets/page-D1upvSPi.js HTTP/1.1\u001b[0m\" \u001b[32m200 OK\u001b[0m\n",
            "\u001b[32mINFO\u001b[0m:     2a02:8428:3f5d:d801:6896:9fbe:cbf4:e61:0 - \"\u001b[1mGET /assets/settings_preview-0JLrRgHP.webp HTTP/1.1\u001b[0m\" \u001b[32m200 OK\u001b[0m\n",
            "\u001b[32mINFO\u001b[0m:     2a02:8428:3f5d:d801:6896:9fbe:cbf4:e61:0 - \"\u001b[1mGET /assets/ProBadge-ypma7R8i.js HTTP/1.1\u001b[0m\" \u001b[32m200 OK\u001b[0m\n"
          ]
        },
        {
          "output_type": "stream",
          "name": "stderr",
          "text": [
            "INFO:pyngrok.process.ngrok:t=2025-03-05T14:01:56+0000 lvl=info msg=\"join connections\" obj=join id=f20eacda23aa l=127.0.0.1:8237 r=[2a02:8428:3f5d:d801:6896:9fbe:cbf4:e61]:62235\n"
          ]
        },
        {
          "output_type": "stream",
          "name": "stdout",
          "text": [
            "\u001b[1;35mt=2025-03-05T14:01:56+0000 lvl=info msg=\"join connections\" obj=join id=f20eacda23aa l=127.0.0.1:8237 r=[2a02:8428:3f5d:d801:6896:9fbe:cbf4:e61]:62235\u001b[0m\n",
            "\u001b[32mINFO\u001b[0m:     2a02:8428:3f5d:d801:6896:9fbe:cbf4:e61:0 - \"\u001b[1mGET /assets/ProCta-DtUutIul.js HTTP/1.1\u001b[0m\" \u001b[32m200 OK\u001b[0m\n",
            "\u001b[32mINFO\u001b[0m:     2a02:8428:3f5d:d801:6896:9fbe:cbf4:e61:0 - \"\u001b[1mGET /assets/settings_preview-0JLrRgHP.webp HTTP/1.1\u001b[0m\" \u001b[32m200 OK\u001b[0m\n",
            "\u001b[32mINFO\u001b[0m:     2a02:8428:3f5d:d801:6896:9fbe:cbf4:e61:0 - \"\u001b[1mGET /api/v1/info HTTP/1.1\u001b[0m\" \u001b[32m200 OK\u001b[0m\n"
          ]
        },
        {
          "output_type": "stream",
          "name": "stderr",
          "text": [
            "INFO:pyngrok.process.ngrok:t=2025-03-05T14:01:57+0000 lvl=info msg=\"join connections\" obj=join id=8f953abf3ca4 l=127.0.0.1:8237 r=[2a02:8428:3f5d:d801:6896:9fbe:cbf4:e61]:62235\n"
          ]
        },
        {
          "output_type": "stream",
          "name": "stdout",
          "text": [
            "\u001b[1;35mt=2025-03-05T14:01:57+0000 lvl=info msg=\"join connections\" obj=join id=8f953abf3ca4 l=127.0.0.1:8237 r=[2a02:8428:3f5d:d801:6896:9fbe:cbf4:e61]:62235\u001b[0m\n",
            "\u001b[32mINFO\u001b[0m:     2a02:8428:3f5d:d801:6896:9fbe:cbf4:e61:0 - \"\u001b[1mGET /assets/mcp-Cb1aMeoq.webp HTTP/1.1\u001b[0m\" \u001b[32m200 OK\u001b[0m\n"
          ]
        },
        {
          "output_type": "stream",
          "name": "stderr",
          "text": [
            "INFO:pyngrok.process.ngrok:t=2025-03-05T14:02:02+0000 lvl=info msg=\"join connections\" obj=join id=0db81254b0e6 l=127.0.0.1:8237 r=[2a02:8428:3f5d:d801:6896:9fbe:cbf4:e61]:62235\n"
          ]
        },
        {
          "output_type": "stream",
          "name": "stdout",
          "text": [
            "\u001b[1;35mt=2025-03-05T14:02:02+0000 lvl=info msg=\"join connections\" obj=join id=0db81254b0e6 l=127.0.0.1:8237 r=[2a02:8428:3f5d:d801:6896:9fbe:cbf4:e61]:62235\u001b[0m\n"
          ]
        },
        {
          "output_type": "stream",
          "name": "stderr",
          "text": [
            "INFO:pyngrok.process.ngrok:t=2025-03-05T14:02:02+0000 lvl=info msg=\"join connections\" obj=join id=8f63fa882790 l=127.0.0.1:8237 r=[2a02:8428:3f5d:d801:6896:9fbe:cbf4:e61]:62235\n"
          ]
        },
        {
          "output_type": "stream",
          "name": "stdout",
          "text": [
            "\u001b[1;35mt=2025-03-05T14:02:02+0000 lvl=info msg=\"join connections\" obj=join id=8f63fa882790 l=127.0.0.1:8237 r=[2a02:8428:3f5d:d801:6896:9fbe:cbf4:e61]:62235\u001b[0m\n"
          ]
        },
        {
          "output_type": "stream",
          "name": "stderr",
          "text": [
            "INFO:pyngrok.process.ngrok:t=2025-03-05T14:02:02+0000 lvl=info msg=\"join connections\" obj=join id=e7964ee79770 l=127.0.0.1:8237 r=[2a02:8428:3f5d:d801:6896:9fbe:cbf4:e61]:62235\n"
          ]
        },
        {
          "output_type": "stream",
          "name": "stdout",
          "text": [
            "\u001b[1;35mt=2025-03-05T14:02:02+0000 lvl=info msg=\"join connections\" obj=join id=e7964ee79770 l=127.0.0.1:8237 r=[2a02:8428:3f5d:d801:6896:9fbe:cbf4:e61]:62235\u001b[0m\n",
            "\u001b[32mINFO\u001b[0m:     2a02:8428:3f5d:d801:6896:9fbe:cbf4:e61:0 - \"\u001b[1mGET /api/v1/onboarding_state HTTP/1.1\u001b[0m\" \u001b[32m200 OK\u001b[0m\n",
            "\u001b[32mINFO\u001b[0m:     2a02:8428:3f5d:d801:6896:9fbe:cbf4:e61:0 - \"\u001b[1mGET /api/v1/current-user HTTP/1.1\u001b[0m\" \u001b[32m200 OK\u001b[0m\n",
            "\u001b[32mINFO\u001b[0m:     2a02:8428:3f5d:d801:6896:9fbe:cbf4:e61:0 - \"\u001b[1mGET /api/v1/info HTTP/1.1\u001b[0m\" \u001b[32m200 OK\u001b[0m\n",
            "\u001b[32mINFO\u001b[0m:     2a02:8428:3f5d:d801:6896:9fbe:cbf4:e61:0 - \"\u001b[1mPUT /api/v1/current-user HTTP/1.1\u001b[0m\" \u001b[32m200 OK\u001b[0m\n",
            "\u001b[32mINFO\u001b[0m:     2a02:8428:3f5d:d801:6896:9fbe:cbf4:e61:0 - \"\u001b[1mGET /api/v1/current-user HTTP/1.1\u001b[0m\" \u001b[32m200 OK\u001b[0m\n"
          ]
        },
        {
          "output_type": "stream",
          "name": "stderr",
          "text": [
            "INFO:pyngrok.process.ngrok:t=2025-03-05T14:20:50+0000 lvl=info msg=\"join connections\" obj=join id=f9fffa05466f l=127.0.0.1:8237 r=[2a02:8428:3f5d:d801:6896:9fbe:cbf4:e61]:63369\n"
          ]
        },
        {
          "output_type": "stream",
          "name": "stdout",
          "text": [
            "\u001b[1;35mt=2025-03-05T14:20:50+0000 lvl=info msg=\"join connections\" obj=join id=f9fffa05466f l=127.0.0.1:8237 r=[2a02:8428:3f5d:d801:6896:9fbe:cbf4:e61]:63369\u001b[0m\n"
          ]
        },
        {
          "output_type": "stream",
          "name": "stderr",
          "text": [
            "INFO:pyngrok.process.ngrok:t=2025-03-05T14:20:50+0000 lvl=info msg=\"join connections\" obj=join id=e2d0911d501d l=127.0.0.1:8237 r=[2a02:8428:3f5d:d801:6896:9fbe:cbf4:e61]:63369\n"
          ]
        },
        {
          "output_type": "stream",
          "name": "stdout",
          "text": [
            "\u001b[1;35mt=2025-03-05T14:20:50+0000 lvl=info msg=\"join connections\" obj=join id=e2d0911d501d l=127.0.0.1:8237 r=[2a02:8428:3f5d:d801:6896:9fbe:cbf4:e61]:63369\u001b[0m\n"
          ]
        },
        {
          "output_type": "stream",
          "name": "stderr",
          "text": [
            "INFO:pyngrok.process.ngrok:t=2025-03-05T14:20:50+0000 lvl=info msg=\"join connections\" obj=join id=42f96737645c l=127.0.0.1:8237 r=[2a02:8428:3f5d:d801:6896:9fbe:cbf4:e61]:63369\n"
          ]
        },
        {
          "output_type": "stream",
          "name": "stdout",
          "text": [
            "\u001b[1;35mt=2025-03-05T14:20:50+0000 lvl=info msg=\"join connections\" obj=join id=42f96737645c l=127.0.0.1:8237 r=[2a02:8428:3f5d:d801:6896:9fbe:cbf4:e61]:63369\u001b[0m\n"
          ]
        },
        {
          "output_type": "stream",
          "name": "stderr",
          "text": [
            "INFO:pyngrok.process.ngrok:t=2025-03-05T14:20:50+0000 lvl=info msg=\"join connections\" obj=join id=1c1c16f2fa30 l=127.0.0.1:8237 r=[2a02:8428:3f5d:d801:6896:9fbe:cbf4:e61]:63369\n"
          ]
        },
        {
          "output_type": "stream",
          "name": "stdout",
          "text": [
            "\u001b[1;35mt=2025-03-05T14:20:50+0000 lvl=info msg=\"join connections\" obj=join id=1c1c16f2fa30 l=127.0.0.1:8237 r=[2a02:8428:3f5d:d801:6896:9fbe:cbf4:e61]:63369\u001b[0m\n",
            "\u001b[32mINFO\u001b[0m:     2a02:8428:3f5d:d801:6896:9fbe:cbf4:e61:0 - \"\u001b[1mGET /api/v1/current-user HTTP/1.1\u001b[0m\" \u001b[32m200 OK\u001b[0m\n",
            "\u001b[32mINFO\u001b[0m:     2a02:8428:3f5d:d801:6896:9fbe:cbf4:e61:0 - \"\u001b[1mGET /api/v1/info HTTP/1.1\u001b[0m\" \u001b[32m200 OK\u001b[0m\n",
            "\u001b[32mINFO\u001b[0m:     2a02:8428:3f5d:d801:6896:9fbe:cbf4:e61:0 - \"\u001b[1mGET /api/v1/onboarding_state HTTP/1.1\u001b[0m\" \u001b[32m200 OK\u001b[0m\n",
            "\u001b[32mINFO\u001b[0m:     2a02:8428:3f5d:d801:6896:9fbe:cbf4:e61:0 - \"\u001b[1mGET /api/v1/settings HTTP/1.1\u001b[0m\" \u001b[32m200 OK\u001b[0m\n"
          ]
        },
        {
          "output_type": "stream",
          "name": "stderr",
          "text": [
            "INFO:pyngrok.process.ngrok:t=2025-03-05T14:20:55+0000 lvl=info msg=\"join connections\" obj=join id=de2a84b7ea55 l=127.0.0.1:8237 r=[2a02:8428:3f5d:d801:6896:9fbe:cbf4:e61]:63369\n"
          ]
        },
        {
          "output_type": "stream",
          "name": "stdout",
          "text": [
            "\u001b[1;35mt=2025-03-05T14:20:55+0000 lvl=info msg=\"join connections\" obj=join id=de2a84b7ea55 l=127.0.0.1:8237 r=[2a02:8428:3f5d:d801:6896:9fbe:cbf4:e61]:63369\u001b[0m\n",
            "\u001b[32mINFO\u001b[0m:     2a02:8428:3f5d:d801:6896:9fbe:cbf4:e61:0 - \"\u001b[1mGET /api/v1/onboarding_state HTTP/1.1\u001b[0m\" \u001b[32m200 OK\u001b[0m\n"
          ]
        },
        {
          "output_type": "stream",
          "name": "stderr",
          "text": [
            "INFO:pyngrok.process.ngrok:t=2025-03-05T14:21:01+0000 lvl=info msg=\"join connections\" obj=join id=ed1b06e830ee l=127.0.0.1:8237 r=[2a02:8428:3f5d:d801:6896:9fbe:cbf4:e61]:63369\n"
          ]
        },
        {
          "output_type": "stream",
          "name": "stdout",
          "text": [
            "\u001b[1;35mt=2025-03-05T14:21:01+0000 lvl=info msg=\"join connections\" obj=join id=ed1b06e830ee l=127.0.0.1:8237 r=[2a02:8428:3f5d:d801:6896:9fbe:cbf4:e61]:63369\u001b[0m\n",
            "\u001b[32mINFO\u001b[0m:     2a02:8428:3f5d:d801:6896:9fbe:cbf4:e61:0 - \"\u001b[1mGET /api/v1/onboarding_state HTTP/1.1\u001b[0m\" \u001b[32m200 OK\u001b[0m\n"
          ]
        },
        {
          "output_type": "stream",
          "name": "stderr",
          "text": [
            "INFO:pyngrok.process.ngrok:t=2025-03-05T14:21:06+0000 lvl=info msg=\"join connections\" obj=join id=d827d4f4d6f5 l=127.0.0.1:8237 r=[2a02:8428:3f5d:d801:6896:9fbe:cbf4:e61]:63369\n"
          ]
        },
        {
          "output_type": "stream",
          "name": "stdout",
          "text": [
            "\u001b[1;35mt=2025-03-05T14:21:06+0000 lvl=info msg=\"join connections\" obj=join id=d827d4f4d6f5 l=127.0.0.1:8237 r=[2a02:8428:3f5d:d801:6896:9fbe:cbf4:e61]:63369\u001b[0m\n",
            "\u001b[32mINFO\u001b[0m:     2a02:8428:3f5d:d801:6896:9fbe:cbf4:e61:0 - \"\u001b[1mGET /api/v1/onboarding_state HTTP/1.1\u001b[0m\" \u001b[32m200 OK\u001b[0m\n"
          ]
        },
        {
          "output_type": "stream",
          "name": "stderr",
          "text": [
            "INFO:pyngrok.process.ngrok:t=2025-03-05T14:21:11+0000 lvl=info msg=\"join connections\" obj=join id=13dcd522d53d l=127.0.0.1:8237 r=[2a02:8428:3f5d:d801:6896:9fbe:cbf4:e61]:63369\n"
          ]
        },
        {
          "output_type": "stream",
          "name": "stdout",
          "text": [
            "\u001b[1;35mt=2025-03-05T14:21:11+0000 lvl=info msg=\"join connections\" obj=join id=13dcd522d53d l=127.0.0.1:8237 r=[2a02:8428:3f5d:d801:6896:9fbe:cbf4:e61]:63369\u001b[0m\n",
            "\u001b[32mINFO\u001b[0m:     2a02:8428:3f5d:d801:6896:9fbe:cbf4:e61:0 - \"\u001b[1mGET /api/v1/onboarding_state HTTP/1.1\u001b[0m\" \u001b[32m200 OK\u001b[0m\n"
          ]
        },
        {
          "output_type": "stream",
          "name": "stderr",
          "text": [
            "INFO:pyngrok.process.ngrok:t=2025-03-05T14:21:17+0000 lvl=info msg=\"join connections\" obj=join id=b6f11d55d1de l=127.0.0.1:8237 r=[2a02:8428:3f5d:d801:6896:9fbe:cbf4:e61]:63369\n"
          ]
        },
        {
          "output_type": "stream",
          "name": "stdout",
          "text": [
            "\u001b[1;35mt=2025-03-05T14:21:17+0000 lvl=info msg=\"join connections\" obj=join id=b6f11d55d1de l=127.0.0.1:8237 r=[2a02:8428:3f5d:d801:6896:9fbe:cbf4:e61]:63369\u001b[0m\n",
            "\u001b[32mINFO\u001b[0m:     2a02:8428:3f5d:d801:6896:9fbe:cbf4:e61:0 - \"\u001b[1mGET /api/v1/onboarding_state HTTP/1.1\u001b[0m\" \u001b[32m200 OK\u001b[0m\n"
          ]
        },
        {
          "output_type": "stream",
          "name": "stderr",
          "text": [
            "INFO:pyngrok.process.ngrok:t=2025-03-05T14:21:22+0000 lvl=info msg=\"join connections\" obj=join id=9e7ccd82d2e1 l=127.0.0.1:8237 r=[2a02:8428:3f5d:d801:6896:9fbe:cbf4:e61]:63369\n"
          ]
        },
        {
          "output_type": "stream",
          "name": "stdout",
          "text": [
            "\u001b[1;35mt=2025-03-05T14:21:22+0000 lvl=info msg=\"join connections\" obj=join id=9e7ccd82d2e1 l=127.0.0.1:8237 r=[2a02:8428:3f5d:d801:6896:9fbe:cbf4:e61]:63369\u001b[0m\n",
            "\u001b[32mINFO\u001b[0m:     2a02:8428:3f5d:d801:6896:9fbe:cbf4:e61:0 - \"\u001b[1mGET /api/v1/onboarding_state HTTP/1.1\u001b[0m\" \u001b[32m200 OK\u001b[0m\n"
          ]
        },
        {
          "output_type": "stream",
          "name": "stderr",
          "text": [
            "INFO:pyngrok.process.ngrok:t=2025-03-05T14:21:27+0000 lvl=info msg=\"join connections\" obj=join id=6530cd7d1bfc l=127.0.0.1:8237 r=[2a02:8428:3f5d:d801:6896:9fbe:cbf4:e61]:63369\n"
          ]
        },
        {
          "output_type": "stream",
          "name": "stdout",
          "text": [
            "\u001b[1;35mt=2025-03-05T14:21:27+0000 lvl=info msg=\"join connections\" obj=join id=6530cd7d1bfc l=127.0.0.1:8237 r=[2a02:8428:3f5d:d801:6896:9fbe:cbf4:e61]:63369\u001b[0m\n",
            "\u001b[32mINFO\u001b[0m:     2a02:8428:3f5d:d801:6896:9fbe:cbf4:e61:0 - \"\u001b[1mGET /api/v1/onboarding_state HTTP/1.1\u001b[0m\" \u001b[32m200 OK\u001b[0m\n"
          ]
        },
        {
          "output_type": "stream",
          "name": "stderr",
          "text": [
            "INFO:pyngrok.process.ngrok:t=2025-03-05T14:21:33+0000 lvl=info msg=\"join connections\" obj=join id=5b81e7aca136 l=127.0.0.1:8237 r=[2a02:8428:3f5d:d801:6896:9fbe:cbf4:e61]:63369\n"
          ]
        },
        {
          "output_type": "stream",
          "name": "stdout",
          "text": [
            "\u001b[1;35mt=2025-03-05T14:21:33+0000 lvl=info msg=\"join connections\" obj=join id=5b81e7aca136 l=127.0.0.1:8237 r=[2a02:8428:3f5d:d801:6896:9fbe:cbf4:e61]:63369\u001b[0m\n",
            "\u001b[32mINFO\u001b[0m:     2a02:8428:3f5d:d801:6896:9fbe:cbf4:e61:0 - \"\u001b[1mGET /api/v1/onboarding_state HTTP/1.1\u001b[0m\" \u001b[32m200 OK\u001b[0m\n"
          ]
        },
        {
          "output_type": "stream",
          "name": "stderr",
          "text": [
            "INFO:pyngrok.process.ngrok:t=2025-03-05T14:21:38+0000 lvl=info msg=\"join connections\" obj=join id=832ecace22db l=127.0.0.1:8237 r=[2a02:8428:3f5d:d801:6896:9fbe:cbf4:e61]:63369\n"
          ]
        },
        {
          "output_type": "stream",
          "name": "stdout",
          "text": [
            "\u001b[1;35mt=2025-03-05T14:21:38+0000 lvl=info msg=\"join connections\" obj=join id=832ecace22db l=127.0.0.1:8237 r=[2a02:8428:3f5d:d801:6896:9fbe:cbf4:e61]:63369\u001b[0m\n",
            "\u001b[32mINFO\u001b[0m:     2a02:8428:3f5d:d801:6896:9fbe:cbf4:e61:0 - \"\u001b[1mGET /api/v1/onboarding_state HTTP/1.1\u001b[0m\" \u001b[32m200 OK\u001b[0m\n"
          ]
        },
        {
          "output_type": "stream",
          "name": "stderr",
          "text": [
            "INFO:pyngrok.process.ngrok:t=2025-03-05T14:21:43+0000 lvl=info msg=\"join connections\" obj=join id=153bda2f0224 l=127.0.0.1:8237 r=[2a02:8428:3f5d:d801:6896:9fbe:cbf4:e61]:63369\n"
          ]
        },
        {
          "output_type": "stream",
          "name": "stdout",
          "text": [
            "\u001b[1;35mt=2025-03-05T14:21:43+0000 lvl=info msg=\"join connections\" obj=join id=153bda2f0224 l=127.0.0.1:8237 r=[2a02:8428:3f5d:d801:6896:9fbe:cbf4:e61]:63369\u001b[0m\n",
            "\u001b[32mINFO\u001b[0m:     2a02:8428:3f5d:d801:6896:9fbe:cbf4:e61:0 - \"\u001b[1mGET /api/v1/onboarding_state HTTP/1.1\u001b[0m\" \u001b[32m200 OK\u001b[0m\n"
          ]
        },
        {
          "output_type": "stream",
          "name": "stderr",
          "text": [
            "INFO:pyngrok.process.ngrok:t=2025-03-05T14:21:48+0000 lvl=info msg=\"join connections\" obj=join id=c1ece4a5fee4 l=127.0.0.1:8237 r=[2a02:8428:3f5d:d801:6896:9fbe:cbf4:e61]:63369\n"
          ]
        },
        {
          "output_type": "stream",
          "name": "stdout",
          "text": [
            "\u001b[1;35mt=2025-03-05T14:21:48+0000 lvl=info msg=\"join connections\" obj=join id=c1ece4a5fee4 l=127.0.0.1:8237 r=[2a02:8428:3f5d:d801:6896:9fbe:cbf4:e61]:63369\u001b[0m\n",
            "\u001b[32mINFO\u001b[0m:     2a02:8428:3f5d:d801:6896:9fbe:cbf4:e61:0 - \"\u001b[1mGET /api/v1/onboarding_state HTTP/1.1\u001b[0m\" \u001b[32m200 OK\u001b[0m\n"
          ]
        },
        {
          "output_type": "stream",
          "name": "stderr",
          "text": [
            "INFO:pyngrok.process.ngrok:t=2025-03-05T14:21:54+0000 lvl=info msg=\"join connections\" obj=join id=45eb837465fe l=127.0.0.1:8237 r=[2a02:8428:3f5d:d801:6896:9fbe:cbf4:e61]:63369\n"
          ]
        },
        {
          "output_type": "stream",
          "name": "stdout",
          "text": [
            "\u001b[1;35mt=2025-03-05T14:21:54+0000 lvl=info msg=\"join connections\" obj=join id=45eb837465fe l=127.0.0.1:8237 r=[2a02:8428:3f5d:d801:6896:9fbe:cbf4:e61]:63369\u001b[0m\n",
            "\u001b[32mINFO\u001b[0m:     2a02:8428:3f5d:d801:6896:9fbe:cbf4:e61:0 - \"\u001b[1mGET /api/v1/onboarding_state HTTP/1.1\u001b[0m\" \u001b[32m200 OK\u001b[0m\n"
          ]
        },
        {
          "output_type": "stream",
          "name": "stderr",
          "text": [
            "INFO:pyngrok.process.ngrok:t=2025-03-05T14:21:59+0000 lvl=info msg=\"join connections\" obj=join id=9dd170fb05d3 l=127.0.0.1:8237 r=[2a02:8428:3f5d:d801:6896:9fbe:cbf4:e61]:63369\n"
          ]
        },
        {
          "output_type": "stream",
          "name": "stdout",
          "text": [
            "\u001b[1;35mt=2025-03-05T14:21:59+0000 lvl=info msg=\"join connections\" obj=join id=9dd170fb05d3 l=127.0.0.1:8237 r=[2a02:8428:3f5d:d801:6896:9fbe:cbf4:e61]:63369\u001b[0m\n",
            "\u001b[32mINFO\u001b[0m:     2a02:8428:3f5d:d801:6896:9fbe:cbf4:e61:0 - \"\u001b[1mGET /api/v1/onboarding_state HTTP/1.1\u001b[0m\" \u001b[32m200 OK\u001b[0m\n"
          ]
        },
        {
          "output_type": "stream",
          "name": "stderr",
          "text": [
            "INFO:pyngrok.process.ngrok:t=2025-03-05T14:22:04+0000 lvl=info msg=\"join connections\" obj=join id=11731c978878 l=127.0.0.1:8237 r=[2a02:8428:3f5d:d801:6896:9fbe:cbf4:e61]:63369\n"
          ]
        },
        {
          "output_type": "stream",
          "name": "stdout",
          "text": [
            "\u001b[1;35mt=2025-03-05T14:22:04+0000 lvl=info msg=\"join connections\" obj=join id=11731c978878 l=127.0.0.1:8237 r=[2a02:8428:3f5d:d801:6896:9fbe:cbf4:e61]:63369\u001b[0m\n",
            "\u001b[32mINFO\u001b[0m:     2a02:8428:3f5d:d801:6896:9fbe:cbf4:e61:0 - \"\u001b[1mGET /api/v1/onboarding_state HTTP/1.1\u001b[0m\" \u001b[32m200 OK\u001b[0m\n"
          ]
        },
        {
          "output_type": "stream",
          "name": "stderr",
          "text": [
            "INFO:pyngrok.process.ngrok:t=2025-03-05T14:22:10+0000 lvl=info msg=\"join connections\" obj=join id=8f6551fd9271 l=127.0.0.1:8237 r=[2a02:8428:3f5d:d801:6896:9fbe:cbf4:e61]:63369\n"
          ]
        },
        {
          "output_type": "stream",
          "name": "stdout",
          "text": [
            "\u001b[1;35mt=2025-03-05T14:22:10+0000 lvl=info msg=\"join connections\" obj=join id=8f6551fd9271 l=127.0.0.1:8237 r=[2a02:8428:3f5d:d801:6896:9fbe:cbf4:e61]:63369\u001b[0m\n",
            "\u001b[32mINFO\u001b[0m:     2a02:8428:3f5d:d801:6896:9fbe:cbf4:e61:0 - \"\u001b[1mGET /api/v1/onboarding_state HTTP/1.1\u001b[0m\" \u001b[32m200 OK\u001b[0m\n"
          ]
        },
        {
          "output_type": "stream",
          "name": "stderr",
          "text": [
            "INFO:pyngrok.process.ngrok:t=2025-03-05T14:22:15+0000 lvl=info msg=\"join connections\" obj=join id=7a9cfd9f9026 l=127.0.0.1:8237 r=[2a02:8428:3f5d:d801:6896:9fbe:cbf4:e61]:63369\n"
          ]
        },
        {
          "output_type": "stream",
          "name": "stdout",
          "text": [
            "\u001b[1;35mt=2025-03-05T14:22:15+0000 lvl=info msg=\"join connections\" obj=join id=7a9cfd9f9026 l=127.0.0.1:8237 r=[2a02:8428:3f5d:d801:6896:9fbe:cbf4:e61]:63369\u001b[0m\n",
            "\u001b[32mINFO\u001b[0m:     2a02:8428:3f5d:d801:6896:9fbe:cbf4:e61:0 - \"\u001b[1mGET /api/v1/onboarding_state HTTP/1.1\u001b[0m\" \u001b[32m200 OK\u001b[0m\n"
          ]
        },
        {
          "output_type": "stream",
          "name": "stderr",
          "text": [
            "INFO:pyngrok.process.ngrok:t=2025-03-05T14:22:20+0000 lvl=info msg=\"join connections\" obj=join id=f0d258de71aa l=127.0.0.1:8237 r=[2a02:8428:3f5d:d801:6896:9fbe:cbf4:e61]:63369\n"
          ]
        },
        {
          "output_type": "stream",
          "name": "stdout",
          "text": [
            "\u001b[1;35mt=2025-03-05T14:22:20+0000 lvl=info msg=\"join connections\" obj=join id=f0d258de71aa l=127.0.0.1:8237 r=[2a02:8428:3f5d:d801:6896:9fbe:cbf4:e61]:63369\u001b[0m\n",
            "\u001b[32mINFO\u001b[0m:     2a02:8428:3f5d:d801:6896:9fbe:cbf4:e61:0 - \"\u001b[1mGET /api/v1/onboarding_state HTTP/1.1\u001b[0m\" \u001b[32m200 OK\u001b[0m\n"
          ]
        },
        {
          "output_type": "stream",
          "name": "stderr",
          "text": [
            "INFO:pyngrok.process.ngrok:t=2025-03-05T14:22:26+0000 lvl=info msg=\"join connections\" obj=join id=ab38dac83732 l=127.0.0.1:8237 r=[2a02:8428:3f5d:d801:6896:9fbe:cbf4:e61]:63369\n"
          ]
        },
        {
          "output_type": "stream",
          "name": "stdout",
          "text": [
            "\u001b[1;35mt=2025-03-05T14:22:26+0000 lvl=info msg=\"join connections\" obj=join id=ab38dac83732 l=127.0.0.1:8237 r=[2a02:8428:3f5d:d801:6896:9fbe:cbf4:e61]:63369\u001b[0m\n",
            "\u001b[32mINFO\u001b[0m:     2a02:8428:3f5d:d801:6896:9fbe:cbf4:e61:0 - \"\u001b[1mGET /api/v1/onboarding_state HTTP/1.1\u001b[0m\" \u001b[32m200 OK\u001b[0m\n"
          ]
        },
        {
          "output_type": "stream",
          "name": "stderr",
          "text": [
            "INFO:pyngrok.process.ngrok:t=2025-03-05T14:22:31+0000 lvl=info msg=\"join connections\" obj=join id=bf45818115d7 l=127.0.0.1:8237 r=[2a02:8428:3f5d:d801:6896:9fbe:cbf4:e61]:63369\n"
          ]
        },
        {
          "output_type": "stream",
          "name": "stdout",
          "text": [
            "\u001b[1;35mt=2025-03-05T14:22:31+0000 lvl=info msg=\"join connections\" obj=join id=bf45818115d7 l=127.0.0.1:8237 r=[2a02:8428:3f5d:d801:6896:9fbe:cbf4:e61]:63369\u001b[0m\n",
            "\u001b[32mINFO\u001b[0m:     2a02:8428:3f5d:d801:6896:9fbe:cbf4:e61:0 - \"\u001b[1mGET /api/v1/onboarding_state HTTP/1.1\u001b[0m\" \u001b[32m200 OK\u001b[0m\n"
          ]
        },
        {
          "output_type": "stream",
          "name": "stderr",
          "text": [
            "INFO:pyngrok.process.ngrok:t=2025-03-05T14:22:36+0000 lvl=info msg=\"join connections\" obj=join id=4341f9220706 l=127.0.0.1:8237 r=[2a02:8428:3f5d:d801:6896:9fbe:cbf4:e61]:63369\n"
          ]
        },
        {
          "output_type": "stream",
          "name": "stdout",
          "text": [
            "\u001b[1;35mt=2025-03-05T14:22:36+0000 lvl=info msg=\"join connections\" obj=join id=4341f9220706 l=127.0.0.1:8237 r=[2a02:8428:3f5d:d801:6896:9fbe:cbf4:e61]:63369\u001b[0m\n",
            "\u001b[32mINFO\u001b[0m:     2a02:8428:3f5d:d801:6896:9fbe:cbf4:e61:0 - \"\u001b[1mGET /api/v1/onboarding_state HTTP/1.1\u001b[0m\" \u001b[32m200 OK\u001b[0m\n"
          ]
        },
        {
          "output_type": "stream",
          "name": "stderr",
          "text": [
            "INFO:pyngrok.process.ngrok:t=2025-03-05T14:22:41+0000 lvl=info msg=\"join connections\" obj=join id=901013f04d94 l=127.0.0.1:8237 r=[2a02:8428:3f5d:d801:6896:9fbe:cbf4:e61]:63369\n"
          ]
        },
        {
          "output_type": "stream",
          "name": "stdout",
          "text": [
            "\u001b[1;35mt=2025-03-05T14:22:41+0000 lvl=info msg=\"join connections\" obj=join id=901013f04d94 l=127.0.0.1:8237 r=[2a02:8428:3f5d:d801:6896:9fbe:cbf4:e61]:63369\u001b[0m\n",
            "\u001b[32mINFO\u001b[0m:     2a02:8428:3f5d:d801:6896:9fbe:cbf4:e61:0 - \"\u001b[1mGET /api/v1/onboarding_state HTTP/1.1\u001b[0m\" \u001b[32m200 OK\u001b[0m\n"
          ]
        },
        {
          "output_type": "stream",
          "name": "stderr",
          "text": [
            "INFO:pyngrok.process.ngrok:t=2025-03-05T14:22:47+0000 lvl=info msg=\"join connections\" obj=join id=9b729e2c52b9 l=127.0.0.1:8237 r=[2a02:8428:3f5d:d801:6896:9fbe:cbf4:e61]:63369\n"
          ]
        },
        {
          "output_type": "stream",
          "name": "stdout",
          "text": [
            "\u001b[1;35mt=2025-03-05T14:22:47+0000 lvl=info msg=\"join connections\" obj=join id=9b729e2c52b9 l=127.0.0.1:8237 r=[2a02:8428:3f5d:d801:6896:9fbe:cbf4:e61]:63369\u001b[0m\n",
            "\u001b[32mINFO\u001b[0m:     2a02:8428:3f5d:d801:6896:9fbe:cbf4:e61:0 - \"\u001b[1mGET /api/v1/onboarding_state HTTP/1.1\u001b[0m\" \u001b[32m200 OK\u001b[0m\n"
          ]
        },
        {
          "output_type": "stream",
          "name": "stderr",
          "text": [
            "INFO:pyngrok.process.ngrok:t=2025-03-05T14:22:52+0000 lvl=info msg=\"join connections\" obj=join id=f57760d32709 l=127.0.0.1:8237 r=[2a02:8428:3f5d:d801:6896:9fbe:cbf4:e61]:63369\n"
          ]
        },
        {
          "output_type": "stream",
          "name": "stdout",
          "text": [
            "\u001b[1;35mt=2025-03-05T14:22:52+0000 lvl=info msg=\"join connections\" obj=join id=f57760d32709 l=127.0.0.1:8237 r=[2a02:8428:3f5d:d801:6896:9fbe:cbf4:e61]:63369\u001b[0m\n",
            "\u001b[32mINFO\u001b[0m:     2a02:8428:3f5d:d801:6896:9fbe:cbf4:e61:0 - \"\u001b[1mGET /api/v1/onboarding_state HTTP/1.1\u001b[0m\" \u001b[32m200 OK\u001b[0m\n"
          ]
        },
        {
          "output_type": "stream",
          "name": "stderr",
          "text": [
            "INFO:pyngrok.process.ngrok:t=2025-03-05T14:22:57+0000 lvl=info msg=\"join connections\" obj=join id=a7a73d19a8a5 l=127.0.0.1:8237 r=[2a02:8428:3f5d:d801:6896:9fbe:cbf4:e61]:63369\n"
          ]
        },
        {
          "output_type": "stream",
          "name": "stdout",
          "text": [
            "\u001b[1;35mt=2025-03-05T14:22:57+0000 lvl=info msg=\"join connections\" obj=join id=a7a73d19a8a5 l=127.0.0.1:8237 r=[2a02:8428:3f5d:d801:6896:9fbe:cbf4:e61]:63369\u001b[0m\n",
            "\u001b[32mINFO\u001b[0m:     2a02:8428:3f5d:d801:6896:9fbe:cbf4:e61:0 - \"\u001b[1mGET /api/v1/onboarding_state HTTP/1.1\u001b[0m\" \u001b[32m200 OK\u001b[0m\n"
          ]
        },
        {
          "output_type": "stream",
          "name": "stderr",
          "text": [
            "INFO:pyngrok.process.ngrok:t=2025-03-05T14:23:03+0000 lvl=info msg=\"join connections\" obj=join id=aa8edc4372de l=127.0.0.1:8237 r=[2a02:8428:3f5d:d801:6896:9fbe:cbf4:e61]:63369\n"
          ]
        },
        {
          "output_type": "stream",
          "name": "stdout",
          "text": [
            "\u001b[1;35mt=2025-03-05T14:23:03+0000 lvl=info msg=\"join connections\" obj=join id=aa8edc4372de l=127.0.0.1:8237 r=[2a02:8428:3f5d:d801:6896:9fbe:cbf4:e61]:63369\u001b[0m\n",
            "\u001b[32mINFO\u001b[0m:     2a02:8428:3f5d:d801:6896:9fbe:cbf4:e61:0 - \"\u001b[1mGET /api/v1/onboarding_state HTTP/1.1\u001b[0m\" \u001b[32m200 OK\u001b[0m\n"
          ]
        },
        {
          "output_type": "stream",
          "name": "stderr",
          "text": [
            "INFO:pyngrok.process.ngrok:t=2025-03-05T14:23:08+0000 lvl=info msg=\"join connections\" obj=join id=d49baf97b2ba l=127.0.0.1:8237 r=[2a02:8428:3f5d:d801:6896:9fbe:cbf4:e61]:63369\n"
          ]
        },
        {
          "output_type": "stream",
          "name": "stdout",
          "text": [
            "\u001b[1;35mt=2025-03-05T14:23:08+0000 lvl=info msg=\"join connections\" obj=join id=d49baf97b2ba l=127.0.0.1:8237 r=[2a02:8428:3f5d:d801:6896:9fbe:cbf4:e61]:63369\u001b[0m\n",
            "\u001b[32mINFO\u001b[0m:     2a02:8428:3f5d:d801:6896:9fbe:cbf4:e61:0 - \"\u001b[1mGET /api/v1/onboarding_state HTTP/1.1\u001b[0m\" \u001b[32m200 OK\u001b[0m\n"
          ]
        },
        {
          "output_type": "stream",
          "name": "stderr",
          "text": [
            "INFO:pyngrok.process.ngrok:t=2025-03-05T14:23:13+0000 lvl=info msg=\"join connections\" obj=join id=7e49ca4b29cb l=127.0.0.1:8237 r=[2a02:8428:3f5d:d801:6896:9fbe:cbf4:e61]:63369\n"
          ]
        },
        {
          "output_type": "stream",
          "name": "stdout",
          "text": [
            "\u001b[1;35mt=2025-03-05T14:23:13+0000 lvl=info msg=\"join connections\" obj=join id=7e49ca4b29cb l=127.0.0.1:8237 r=[2a02:8428:3f5d:d801:6896:9fbe:cbf4:e61]:63369\u001b[0m\n",
            "\u001b[32mINFO\u001b[0m:     2a02:8428:3f5d:d801:6896:9fbe:cbf4:e61:0 - \"\u001b[1mGET /api/v1/onboarding_state HTTP/1.1\u001b[0m\" \u001b[32m200 OK\u001b[0m\n"
          ]
        },
        {
          "output_type": "stream",
          "name": "stderr",
          "text": [
            "INFO:pyngrok.process.ngrok:t=2025-03-05T14:23:18+0000 lvl=info msg=\"join connections\" obj=join id=88f8384f1efe l=127.0.0.1:8237 r=[2a02:8428:3f5d:d801:6896:9fbe:cbf4:e61]:63369\n"
          ]
        },
        {
          "output_type": "stream",
          "name": "stdout",
          "text": [
            "\u001b[1;35mt=2025-03-05T14:23:18+0000 lvl=info msg=\"join connections\" obj=join id=88f8384f1efe l=127.0.0.1:8237 r=[2a02:8428:3f5d:d801:6896:9fbe:cbf4:e61]:63369\u001b[0m\n",
            "\u001b[32mINFO\u001b[0m:     2a02:8428:3f5d:d801:6896:9fbe:cbf4:e61:0 - \"\u001b[1mGET /api/v1/onboarding_state HTTP/1.1\u001b[0m\" \u001b[32m200 OK\u001b[0m\n"
          ]
        },
        {
          "output_type": "stream",
          "name": "stderr",
          "text": [
            "INFO:pyngrok.process.ngrok:t=2025-03-05T14:23:24+0000 lvl=info msg=\"join connections\" obj=join id=a958dea01eff l=127.0.0.1:8237 r=[2a02:8428:3f5d:d801:6896:9fbe:cbf4:e61]:63369\n"
          ]
        },
        {
          "output_type": "stream",
          "name": "stdout",
          "text": [
            "\u001b[1;35mt=2025-03-05T14:23:24+0000 lvl=info msg=\"join connections\" obj=join id=a958dea01eff l=127.0.0.1:8237 r=[2a02:8428:3f5d:d801:6896:9fbe:cbf4:e61]:63369\u001b[0m\n",
            "\u001b[32mINFO\u001b[0m:     2a02:8428:3f5d:d801:6896:9fbe:cbf4:e61:0 - \"\u001b[1mGET /api/v1/onboarding_state HTTP/1.1\u001b[0m\" \u001b[32m200 OK\u001b[0m\n"
          ]
        },
        {
          "output_type": "stream",
          "name": "stderr",
          "text": [
            "INFO:pyngrok.process.ngrok:t=2025-03-05T14:23:29+0000 lvl=info msg=\"join connections\" obj=join id=322fd6ae9b04 l=127.0.0.1:8237 r=[2a02:8428:3f5d:d801:6896:9fbe:cbf4:e61]:63369\n"
          ]
        },
        {
          "output_type": "stream",
          "name": "stdout",
          "text": [
            "\u001b[1;35mt=2025-03-05T14:23:29+0000 lvl=info msg=\"join connections\" obj=join id=322fd6ae9b04 l=127.0.0.1:8237 r=[2a02:8428:3f5d:d801:6896:9fbe:cbf4:e61]:63369\u001b[0m\n",
            "\u001b[32mINFO\u001b[0m:     2a02:8428:3f5d:d801:6896:9fbe:cbf4:e61:0 - \"\u001b[1mGET /api/v1/onboarding_state HTTP/1.1\u001b[0m\" \u001b[32m200 OK\u001b[0m\n"
          ]
        },
        {
          "output_type": "stream",
          "name": "stderr",
          "text": [
            "INFO:pyngrok.process.ngrok:t=2025-03-05T14:23:34+0000 lvl=info msg=\"join connections\" obj=join id=6e7d15d95cc0 l=127.0.0.1:8237 r=[2a02:8428:3f5d:d801:6896:9fbe:cbf4:e61]:63369\n"
          ]
        },
        {
          "output_type": "stream",
          "name": "stdout",
          "text": [
            "\u001b[1;35mt=2025-03-05T14:23:34+0000 lvl=info msg=\"join connections\" obj=join id=6e7d15d95cc0 l=127.0.0.1:8237 r=[2a02:8428:3f5d:d801:6896:9fbe:cbf4:e61]:63369\u001b[0m\n",
            "\u001b[32mINFO\u001b[0m:     2a02:8428:3f5d:d801:6896:9fbe:cbf4:e61:0 - \"\u001b[1mGET /api/v1/onboarding_state HTTP/1.1\u001b[0m\" \u001b[32m200 OK\u001b[0m\n"
          ]
        },
        {
          "output_type": "stream",
          "name": "stderr",
          "text": [
            "INFO:pyngrok.process.ngrok:t=2025-03-05T14:23:40+0000 lvl=info msg=\"join connections\" obj=join id=17d92d547967 l=127.0.0.1:8237 r=[2a02:8428:3f5d:d801:6896:9fbe:cbf4:e61]:63369\n"
          ]
        },
        {
          "output_type": "stream",
          "name": "stdout",
          "text": [
            "\u001b[1;35mt=2025-03-05T14:23:40+0000 lvl=info msg=\"join connections\" obj=join id=17d92d547967 l=127.0.0.1:8237 r=[2a02:8428:3f5d:d801:6896:9fbe:cbf4:e61]:63369\u001b[0m\n",
            "\u001b[32mINFO\u001b[0m:     2a02:8428:3f5d:d801:6896:9fbe:cbf4:e61:0 - \"\u001b[1mGET /api/v1/onboarding_state HTTP/1.1\u001b[0m\" \u001b[32m200 OK\u001b[0m\n"
          ]
        },
        {
          "output_type": "stream",
          "name": "stderr",
          "text": [
            "INFO:pyngrok.process.ngrok:t=2025-03-05T14:23:45+0000 lvl=info msg=\"join connections\" obj=join id=0c9aa9f7f6a2 l=127.0.0.1:8237 r=[2a02:8428:3f5d:d801:6896:9fbe:cbf4:e61]:63369\n"
          ]
        },
        {
          "output_type": "stream",
          "name": "stdout",
          "text": [
            "\u001b[1;35mt=2025-03-05T14:23:45+0000 lvl=info msg=\"join connections\" obj=join id=0c9aa9f7f6a2 l=127.0.0.1:8237 r=[2a02:8428:3f5d:d801:6896:9fbe:cbf4:e61]:63369\u001b[0m\n",
            "\u001b[32mINFO\u001b[0m:     2a02:8428:3f5d:d801:6896:9fbe:cbf4:e61:0 - \"\u001b[1mGET /api/v1/onboarding_state HTTP/1.1\u001b[0m\" \u001b[32m200 OK\u001b[0m\n"
          ]
        },
        {
          "output_type": "stream",
          "name": "stderr",
          "text": [
            "INFO:pyngrok.process.ngrok:t=2025-03-05T14:23:50+0000 lvl=info msg=\"join connections\" obj=join id=f71549e224de l=127.0.0.1:8237 r=[2a02:8428:3f5d:d801:6896:9fbe:cbf4:e61]:63369\n"
          ]
        },
        {
          "output_type": "stream",
          "name": "stdout",
          "text": [
            "\u001b[1;35mt=2025-03-05T14:23:50+0000 lvl=info msg=\"join connections\" obj=join id=f71549e224de l=127.0.0.1:8237 r=[2a02:8428:3f5d:d801:6896:9fbe:cbf4:e61]:63369\u001b[0m\n",
            "\u001b[32mINFO\u001b[0m:     2a02:8428:3f5d:d801:6896:9fbe:cbf4:e61:0 - \"\u001b[1mGET /api/v1/onboarding_state HTTP/1.1\u001b[0m\" \u001b[32m200 OK\u001b[0m\n"
          ]
        },
        {
          "output_type": "stream",
          "name": "stderr",
          "text": [
            "INFO:pyngrok.process.ngrok:t=2025-03-05T14:23:55+0000 lvl=info msg=\"join connections\" obj=join id=67a02939b601 l=127.0.0.1:8237 r=[2a02:8428:3f5d:d801:6896:9fbe:cbf4:e61]:63369\n"
          ]
        },
        {
          "output_type": "stream",
          "name": "stdout",
          "text": [
            "\u001b[1;35mt=2025-03-05T14:23:55+0000 lvl=info msg=\"join connections\" obj=join id=67a02939b601 l=127.0.0.1:8237 r=[2a02:8428:3f5d:d801:6896:9fbe:cbf4:e61]:63369\u001b[0m\n",
            "\u001b[32mINFO\u001b[0m:     2a02:8428:3f5d:d801:6896:9fbe:cbf4:e61:0 - \"\u001b[1mGET /api/v1/onboarding_state HTTP/1.1\u001b[0m\" \u001b[32m200 OK\u001b[0m\n"
          ]
        },
        {
          "output_type": "stream",
          "name": "stderr",
          "text": [
            "INFO:pyngrok.process.ngrok:t=2025-03-05T14:24:01+0000 lvl=info msg=\"join connections\" obj=join id=771c6018fbdf l=127.0.0.1:8237 r=[2a02:8428:3f5d:d801:6896:9fbe:cbf4:e61]:63369\n"
          ]
        },
        {
          "output_type": "stream",
          "name": "stdout",
          "text": [
            "\u001b[1;35mt=2025-03-05T14:24:01+0000 lvl=info msg=\"join connections\" obj=join id=771c6018fbdf l=127.0.0.1:8237 r=[2a02:8428:3f5d:d801:6896:9fbe:cbf4:e61]:63369\u001b[0m\n",
            "\u001b[32mINFO\u001b[0m:     2a02:8428:3f5d:d801:6896:9fbe:cbf4:e61:0 - \"\u001b[1mGET /api/v1/onboarding_state HTTP/1.1\u001b[0m\" \u001b[32m200 OK\u001b[0m\n"
          ]
        },
        {
          "output_type": "stream",
          "name": "stderr",
          "text": [
            "INFO:pyngrok.process.ngrok:t=2025-03-05T14:24:06+0000 lvl=info msg=\"join connections\" obj=join id=6ce3fc2316e6 l=127.0.0.1:8237 r=[2a02:8428:3f5d:d801:6896:9fbe:cbf4:e61]:63369\n"
          ]
        },
        {
          "output_type": "stream",
          "name": "stdout",
          "text": [
            "\u001b[1;35mt=2025-03-05T14:24:06+0000 lvl=info msg=\"join connections\" obj=join id=6ce3fc2316e6 l=127.0.0.1:8237 r=[2a02:8428:3f5d:d801:6896:9fbe:cbf4:e61]:63369\u001b[0m\n",
            "\u001b[32mINFO\u001b[0m:     2a02:8428:3f5d:d801:6896:9fbe:cbf4:e61:0 - \"\u001b[1mGET /api/v1/onboarding_state HTTP/1.1\u001b[0m\" \u001b[32m200 OK\u001b[0m\n"
          ]
        },
        {
          "output_type": "stream",
          "name": "stderr",
          "text": [
            "INFO:pyngrok.process.ngrok:t=2025-03-05T14:24:11+0000 lvl=info msg=\"join connections\" obj=join id=12871ef3301a l=127.0.0.1:8237 r=[2a02:8428:3f5d:d801:6896:9fbe:cbf4:e61]:63369\n"
          ]
        },
        {
          "output_type": "stream",
          "name": "stdout",
          "text": [
            "\u001b[1;35mt=2025-03-05T14:24:11+0000 lvl=info msg=\"join connections\" obj=join id=12871ef3301a l=127.0.0.1:8237 r=[2a02:8428:3f5d:d801:6896:9fbe:cbf4:e61]:63369\u001b[0m\n",
            "\u001b[32mINFO\u001b[0m:     2a02:8428:3f5d:d801:6896:9fbe:cbf4:e61:0 - \"\u001b[1mGET /api/v1/onboarding_state HTTP/1.1\u001b[0m\" \u001b[32m200 OK\u001b[0m\n"
          ]
        },
        {
          "output_type": "stream",
          "name": "stderr",
          "text": [
            "INFO:pyngrok.process.ngrok:t=2025-03-05T14:24:17+0000 lvl=info msg=\"join connections\" obj=join id=95b3c5821003 l=127.0.0.1:8237 r=[2a02:8428:3f5d:d801:6896:9fbe:cbf4:e61]:63369\n"
          ]
        },
        {
          "output_type": "stream",
          "name": "stdout",
          "text": [
            "\u001b[1;35mt=2025-03-05T14:24:17+0000 lvl=info msg=\"join connections\" obj=join id=95b3c5821003 l=127.0.0.1:8237 r=[2a02:8428:3f5d:d801:6896:9fbe:cbf4:e61]:63369\u001b[0m\n",
            "\u001b[32mINFO\u001b[0m:     2a02:8428:3f5d:d801:6896:9fbe:cbf4:e61:0 - \"\u001b[1mGET /api/v1/onboarding_state HTTP/1.1\u001b[0m\" \u001b[32m200 OK\u001b[0m\n"
          ]
        },
        {
          "output_type": "stream",
          "name": "stderr",
          "text": [
            "INFO:pyngrok.process.ngrok:t=2025-03-05T14:24:22+0000 lvl=info msg=\"join connections\" obj=join id=d3b419f87f05 l=127.0.0.1:8237 r=[2a02:8428:3f5d:d801:6896:9fbe:cbf4:e61]:63369\n"
          ]
        },
        {
          "output_type": "stream",
          "name": "stdout",
          "text": [
            "\u001b[1;35mt=2025-03-05T14:24:22+0000 lvl=info msg=\"join connections\" obj=join id=d3b419f87f05 l=127.0.0.1:8237 r=[2a02:8428:3f5d:d801:6896:9fbe:cbf4:e61]:63369\u001b[0m\n",
            "\u001b[32mINFO\u001b[0m:     2a02:8428:3f5d:d801:6896:9fbe:cbf4:e61:0 - \"\u001b[1mGET /api/v1/onboarding_state HTTP/1.1\u001b[0m\" \u001b[32m200 OK\u001b[0m\n"
          ]
        },
        {
          "output_type": "stream",
          "name": "stderr",
          "text": [
            "INFO:pyngrok.process.ngrok:t=2025-03-05T14:24:27+0000 lvl=info msg=\"join connections\" obj=join id=b22c7766f4ef l=127.0.0.1:8237 r=[2a02:8428:3f5d:d801:6896:9fbe:cbf4:e61]:63369\n"
          ]
        },
        {
          "output_type": "stream",
          "name": "stdout",
          "text": [
            "\u001b[1;35mt=2025-03-05T14:24:27+0000 lvl=info msg=\"join connections\" obj=join id=b22c7766f4ef l=127.0.0.1:8237 r=[2a02:8428:3f5d:d801:6896:9fbe:cbf4:e61]:63369\u001b[0m\n",
            "\u001b[32mINFO\u001b[0m:     2a02:8428:3f5d:d801:6896:9fbe:cbf4:e61:0 - \"\u001b[1mGET /api/v1/onboarding_state HTTP/1.1\u001b[0m\" \u001b[32m200 OK\u001b[0m\n"
          ]
        },
        {
          "output_type": "stream",
          "name": "stderr",
          "text": [
            "INFO:pyngrok.process.ngrok:t=2025-03-05T14:24:32+0000 lvl=info msg=\"join connections\" obj=join id=b85df984d6db l=127.0.0.1:8237 r=[2a02:8428:3f5d:d801:6896:9fbe:cbf4:e61]:63369\n"
          ]
        },
        {
          "output_type": "stream",
          "name": "stdout",
          "text": [
            "\u001b[1;35mt=2025-03-05T14:24:32+0000 lvl=info msg=\"join connections\" obj=join id=b85df984d6db l=127.0.0.1:8237 r=[2a02:8428:3f5d:d801:6896:9fbe:cbf4:e61]:63369\u001b[0m\n",
            "\u001b[32mINFO\u001b[0m:     2a02:8428:3f5d:d801:6896:9fbe:cbf4:e61:0 - \"\u001b[1mGET /api/v1/onboarding_state HTTP/1.1\u001b[0m\" \u001b[32m200 OK\u001b[0m\n"
          ]
        },
        {
          "output_type": "stream",
          "name": "stderr",
          "text": [
            "INFO:pyngrok.process.ngrok:t=2025-03-05T14:24:38+0000 lvl=info msg=\"join connections\" obj=join id=a36de51f9a9a l=127.0.0.1:8237 r=[2a02:8428:3f5d:d801:6896:9fbe:cbf4:e61]:63369\n"
          ]
        },
        {
          "output_type": "stream",
          "name": "stdout",
          "text": [
            "\u001b[1;35mt=2025-03-05T14:24:38+0000 lvl=info msg=\"join connections\" obj=join id=a36de51f9a9a l=127.0.0.1:8237 r=[2a02:8428:3f5d:d801:6896:9fbe:cbf4:e61]:63369\u001b[0m\n",
            "\u001b[32mINFO\u001b[0m:     2a02:8428:3f5d:d801:6896:9fbe:cbf4:e61:0 - \"\u001b[1mGET /api/v1/onboarding_state HTTP/1.1\u001b[0m\" \u001b[32m200 OK\u001b[0m\n"
          ]
        },
        {
          "output_type": "stream",
          "name": "stderr",
          "text": [
            "INFO:pyngrok.process.ngrok:t=2025-03-05T14:24:43+0000 lvl=info msg=\"join connections\" obj=join id=23d2f2700211 l=127.0.0.1:8237 r=[2a02:8428:3f5d:d801:6896:9fbe:cbf4:e61]:63369\n"
          ]
        },
        {
          "output_type": "stream",
          "name": "stdout",
          "text": [
            "\u001b[1;35mt=2025-03-05T14:24:43+0000 lvl=info msg=\"join connections\" obj=join id=23d2f2700211 l=127.0.0.1:8237 r=[2a02:8428:3f5d:d801:6896:9fbe:cbf4:e61]:63369\u001b[0m\n",
            "\u001b[32mINFO\u001b[0m:     2a02:8428:3f5d:d801:6896:9fbe:cbf4:e61:0 - \"\u001b[1mGET /api/v1/onboarding_state HTTP/1.1\u001b[0m\" \u001b[32m200 OK\u001b[0m\n"
          ]
        },
        {
          "output_type": "stream",
          "name": "stderr",
          "text": [
            "INFO:pyngrok.process.ngrok:t=2025-03-05T14:24:48+0000 lvl=info msg=\"join connections\" obj=join id=2c61d441ae19 l=127.0.0.1:8237 r=[2a02:8428:3f5d:d801:6896:9fbe:cbf4:e61]:63369\n"
          ]
        },
        {
          "output_type": "stream",
          "name": "stdout",
          "text": [
            "\u001b[1;35mt=2025-03-05T14:24:48+0000 lvl=info msg=\"join connections\" obj=join id=2c61d441ae19 l=127.0.0.1:8237 r=[2a02:8428:3f5d:d801:6896:9fbe:cbf4:e61]:63369\u001b[0m\n",
            "\u001b[32mINFO\u001b[0m:     2a02:8428:3f5d:d801:6896:9fbe:cbf4:e61:0 - \"\u001b[1mGET /api/v1/onboarding_state HTTP/1.1\u001b[0m\" \u001b[32m200 OK\u001b[0m\n"
          ]
        },
        {
          "output_type": "stream",
          "name": "stderr",
          "text": [
            "INFO:pyngrok.process.ngrok:t=2025-03-05T14:24:54+0000 lvl=info msg=\"join connections\" obj=join id=7b1cdad4dd26 l=127.0.0.1:8237 r=[2a02:8428:3f5d:d801:6896:9fbe:cbf4:e61]:63369\n"
          ]
        },
        {
          "output_type": "stream",
          "name": "stdout",
          "text": [
            "\u001b[1;35mt=2025-03-05T14:24:54+0000 lvl=info msg=\"join connections\" obj=join id=7b1cdad4dd26 l=127.0.0.1:8237 r=[2a02:8428:3f5d:d801:6896:9fbe:cbf4:e61]:63369\u001b[0m\n",
            "\u001b[32mINFO\u001b[0m:     2a02:8428:3f5d:d801:6896:9fbe:cbf4:e61:0 - \"\u001b[1mGET /api/v1/onboarding_state HTTP/1.1\u001b[0m\" \u001b[32m200 OK\u001b[0m\n"
          ]
        },
        {
          "output_type": "stream",
          "name": "stderr",
          "text": [
            "INFO:pyngrok.process.ngrok:t=2025-03-05T14:24:59+0000 lvl=info msg=\"join connections\" obj=join id=59d9366f3ec3 l=127.0.0.1:8237 r=[2a02:8428:3f5d:d801:6896:9fbe:cbf4:e61]:63369\n"
          ]
        },
        {
          "output_type": "stream",
          "name": "stdout",
          "text": [
            "\u001b[1;35mt=2025-03-05T14:24:59+0000 lvl=info msg=\"join connections\" obj=join id=59d9366f3ec3 l=127.0.0.1:8237 r=[2a02:8428:3f5d:d801:6896:9fbe:cbf4:e61]:63369\u001b[0m\n",
            "\u001b[32mINFO\u001b[0m:     2a02:8428:3f5d:d801:6896:9fbe:cbf4:e61:0 - \"\u001b[1mGET /api/v1/onboarding_state HTTP/1.1\u001b[0m\" \u001b[32m200 OK\u001b[0m\n"
          ]
        },
        {
          "output_type": "stream",
          "name": "stderr",
          "text": [
            "INFO:pyngrok.process.ngrok:t=2025-03-05T14:25:04+0000 lvl=info msg=\"join connections\" obj=join id=33af22c6233b l=127.0.0.1:8237 r=[2a02:8428:3f5d:d801:6896:9fbe:cbf4:e61]:63369\n"
          ]
        },
        {
          "output_type": "stream",
          "name": "stdout",
          "text": [
            "\u001b[1;35mt=2025-03-05T14:25:04+0000 lvl=info msg=\"join connections\" obj=join id=33af22c6233b l=127.0.0.1:8237 r=[2a02:8428:3f5d:d801:6896:9fbe:cbf4:e61]:63369\u001b[0m\n",
            "\u001b[32mINFO\u001b[0m:     2a02:8428:3f5d:d801:6896:9fbe:cbf4:e61:0 - \"\u001b[1mGET /api/v1/onboarding_state HTTP/1.1\u001b[0m\" \u001b[32m200 OK\u001b[0m\n"
          ]
        },
        {
          "output_type": "stream",
          "name": "stderr",
          "text": [
            "INFO:pyngrok.process.ngrok:t=2025-03-05T14:25:10+0000 lvl=info msg=\"join connections\" obj=join id=c4b2613a0662 l=127.0.0.1:8237 r=[2a02:8428:3f5d:d801:6896:9fbe:cbf4:e61]:63369\n"
          ]
        },
        {
          "output_type": "stream",
          "name": "stdout",
          "text": [
            "\u001b[1;35mt=2025-03-05T14:25:10+0000 lvl=info msg=\"join connections\" obj=join id=c4b2613a0662 l=127.0.0.1:8237 r=[2a02:8428:3f5d:d801:6896:9fbe:cbf4:e61]:63369\u001b[0m\n",
            "\u001b[32mINFO\u001b[0m:     2a02:8428:3f5d:d801:6896:9fbe:cbf4:e61:0 - \"\u001b[1mGET /api/v1/onboarding_state HTTP/1.1\u001b[0m\" \u001b[32m200 OK\u001b[0m\n"
          ]
        },
        {
          "output_type": "stream",
          "name": "stderr",
          "text": [
            "INFO:pyngrok.process.ngrok:t=2025-03-05T14:25:15+0000 lvl=info msg=\"join connections\" obj=join id=e980714a7113 l=127.0.0.1:8237 r=[2a02:8428:3f5d:d801:6896:9fbe:cbf4:e61]:63369\n"
          ]
        },
        {
          "output_type": "stream",
          "name": "stdout",
          "text": [
            "\u001b[1;35mt=2025-03-05T14:25:15+0000 lvl=info msg=\"join connections\" obj=join id=e980714a7113 l=127.0.0.1:8237 r=[2a02:8428:3f5d:d801:6896:9fbe:cbf4:e61]:63369\u001b[0m\n",
            "\u001b[32mINFO\u001b[0m:     2a02:8428:3f5d:d801:6896:9fbe:cbf4:e61:0 - \"\u001b[1mGET /api/v1/onboarding_state HTTP/1.1\u001b[0m\" \u001b[32m200 OK\u001b[0m\n"
          ]
        },
        {
          "output_type": "stream",
          "name": "stderr",
          "text": [
            "INFO:pyngrok.process.ngrok:t=2025-03-05T14:25:20+0000 lvl=info msg=\"join connections\" obj=join id=c41c250dc090 l=127.0.0.1:8237 r=[2a02:8428:3f5d:d801:6896:9fbe:cbf4:e61]:63369\n"
          ]
        },
        {
          "output_type": "stream",
          "name": "stdout",
          "text": [
            "\u001b[1;35mt=2025-03-05T14:25:20+0000 lvl=info msg=\"join connections\" obj=join id=c41c250dc090 l=127.0.0.1:8237 r=[2a02:8428:3f5d:d801:6896:9fbe:cbf4:e61]:63369\u001b[0m\n",
            "\u001b[32mINFO\u001b[0m:     2a02:8428:3f5d:d801:6896:9fbe:cbf4:e61:0 - \"\u001b[1mGET /api/v1/onboarding_state HTTP/1.1\u001b[0m\" \u001b[32m200 OK\u001b[0m\n"
          ]
        },
        {
          "output_type": "stream",
          "name": "stderr",
          "text": [
            "INFO:pyngrok.process.ngrok:t=2025-03-05T14:25:25+0000 lvl=info msg=\"join connections\" obj=join id=957d3bf16868 l=127.0.0.1:8237 r=[2a02:8428:3f5d:d801:6896:9fbe:cbf4:e61]:63369\n"
          ]
        },
        {
          "output_type": "stream",
          "name": "stdout",
          "text": [
            "\u001b[1;35mt=2025-03-05T14:25:25+0000 lvl=info msg=\"join connections\" obj=join id=957d3bf16868 l=127.0.0.1:8237 r=[2a02:8428:3f5d:d801:6896:9fbe:cbf4:e61]:63369\u001b[0m\n",
            "\u001b[32mINFO\u001b[0m:     2a02:8428:3f5d:d801:6896:9fbe:cbf4:e61:0 - \"\u001b[1mGET /api/v1/onboarding_state HTTP/1.1\u001b[0m\" \u001b[32m200 OK\u001b[0m\n"
          ]
        },
        {
          "output_type": "stream",
          "name": "stderr",
          "text": [
            "INFO:pyngrok.process.ngrok:t=2025-03-05T14:25:31+0000 lvl=info msg=\"join connections\" obj=join id=0cdf715a47c1 l=127.0.0.1:8237 r=[2a02:8428:3f5d:d801:6896:9fbe:cbf4:e61]:63369\n"
          ]
        },
        {
          "output_type": "stream",
          "name": "stdout",
          "text": [
            "\u001b[1;35mt=2025-03-05T14:25:31+0000 lvl=info msg=\"join connections\" obj=join id=0cdf715a47c1 l=127.0.0.1:8237 r=[2a02:8428:3f5d:d801:6896:9fbe:cbf4:e61]:63369\u001b[0m\n",
            "\u001b[32mINFO\u001b[0m:     2a02:8428:3f5d:d801:6896:9fbe:cbf4:e61:0 - \"\u001b[1mGET /api/v1/onboarding_state HTTP/1.1\u001b[0m\" \u001b[32m200 OK\u001b[0m\n"
          ]
        },
        {
          "output_type": "stream",
          "name": "stderr",
          "text": [
            "INFO:pyngrok.process.ngrok:t=2025-03-05T14:25:36+0000 lvl=info msg=\"join connections\" obj=join id=3919d2edf7b6 l=127.0.0.1:8237 r=[2a02:8428:3f5d:d801:6896:9fbe:cbf4:e61]:63369\n"
          ]
        },
        {
          "output_type": "stream",
          "name": "stdout",
          "text": [
            "\u001b[1;35mt=2025-03-05T14:25:36+0000 lvl=info msg=\"join connections\" obj=join id=3919d2edf7b6 l=127.0.0.1:8237 r=[2a02:8428:3f5d:d801:6896:9fbe:cbf4:e61]:63369\u001b[0m\n",
            "\u001b[32mINFO\u001b[0m:     2a02:8428:3f5d:d801:6896:9fbe:cbf4:e61:0 - \"\u001b[1mGET /api/v1/onboarding_state HTTP/1.1\u001b[0m\" \u001b[32m200 OK\u001b[0m\n"
          ]
        },
        {
          "output_type": "stream",
          "name": "stderr",
          "text": [
            "INFO:pyngrok.process.ngrok:t=2025-03-05T14:25:41+0000 lvl=info msg=\"join connections\" obj=join id=fb251ee01f24 l=127.0.0.1:8237 r=[2a02:8428:3f5d:d801:6896:9fbe:cbf4:e61]:63369\n"
          ]
        },
        {
          "output_type": "stream",
          "name": "stdout",
          "text": [
            "\u001b[1;35mt=2025-03-05T14:25:41+0000 lvl=info msg=\"join connections\" obj=join id=fb251ee01f24 l=127.0.0.1:8237 r=[2a02:8428:3f5d:d801:6896:9fbe:cbf4:e61]:63369\u001b[0m\n",
            "\u001b[32mINFO\u001b[0m:     2a02:8428:3f5d:d801:6896:9fbe:cbf4:e61:0 - \"\u001b[1mGET /api/v1/onboarding_state HTTP/1.1\u001b[0m\" \u001b[32m200 OK\u001b[0m\n"
          ]
        },
        {
          "output_type": "stream",
          "name": "stderr",
          "text": [
            "INFO:pyngrok.process.ngrok:t=2025-03-05T14:25:47+0000 lvl=info msg=\"join connections\" obj=join id=f3a778b06964 l=127.0.0.1:8237 r=[2a02:8428:3f5d:d801:6896:9fbe:cbf4:e61]:63369\n"
          ]
        },
        {
          "output_type": "stream",
          "name": "stdout",
          "text": [
            "\u001b[1;35mt=2025-03-05T14:25:47+0000 lvl=info msg=\"join connections\" obj=join id=f3a778b06964 l=127.0.0.1:8237 r=[2a02:8428:3f5d:d801:6896:9fbe:cbf4:e61]:63369\u001b[0m\n",
            "\u001b[32mINFO\u001b[0m:     2a02:8428:3f5d:d801:6896:9fbe:cbf4:e61:0 - \"\u001b[1mGET /api/v1/onboarding_state HTTP/1.1\u001b[0m\" \u001b[32m200 OK\u001b[0m\n"
          ]
        },
        {
          "output_type": "stream",
          "name": "stderr",
          "text": [
            "INFO:pyngrok.process.ngrok:t=2025-03-05T14:25:52+0000 lvl=info msg=\"join connections\" obj=join id=e849ae16a25d l=127.0.0.1:8237 r=[2a02:8428:3f5d:d801:6896:9fbe:cbf4:e61]:63369\n"
          ]
        },
        {
          "output_type": "stream",
          "name": "stdout",
          "text": [
            "\u001b[1;35mt=2025-03-05T14:25:52+0000 lvl=info msg=\"join connections\" obj=join id=e849ae16a25d l=127.0.0.1:8237 r=[2a02:8428:3f5d:d801:6896:9fbe:cbf4:e61]:63369\u001b[0m\n",
            "\u001b[32mINFO\u001b[0m:     2a02:8428:3f5d:d801:6896:9fbe:cbf4:e61:0 - \"\u001b[1mGET /api/v1/onboarding_state HTTP/1.1\u001b[0m\" \u001b[32m200 OK\u001b[0m\n"
          ]
        },
        {
          "output_type": "stream",
          "name": "stderr",
          "text": [
            "INFO:pyngrok.process.ngrok:t=2025-03-05T14:25:57+0000 lvl=info msg=\"join connections\" obj=join id=f601e1007ed9 l=127.0.0.1:8237 r=[2a02:8428:3f5d:d801:6896:9fbe:cbf4:e61]:63369\n"
          ]
        },
        {
          "output_type": "stream",
          "name": "stdout",
          "text": [
            "\u001b[1;35mt=2025-03-05T14:25:57+0000 lvl=info msg=\"join connections\" obj=join id=f601e1007ed9 l=127.0.0.1:8237 r=[2a02:8428:3f5d:d801:6896:9fbe:cbf4:e61]:63369\u001b[0m\n",
            "\u001b[32mINFO\u001b[0m:     2a02:8428:3f5d:d801:6896:9fbe:cbf4:e61:0 - \"\u001b[1mGET /api/v1/onboarding_state HTTP/1.1\u001b[0m\" \u001b[32m200 OK\u001b[0m\n"
          ]
        },
        {
          "output_type": "stream",
          "name": "stderr",
          "text": [
            "INFO:pyngrok.process.ngrok:t=2025-03-05T14:26:02+0000 lvl=info msg=\"join connections\" obj=join id=5c19ebbbd26a l=127.0.0.1:8237 r=[2a02:8428:3f5d:d801:6896:9fbe:cbf4:e61]:63369\n"
          ]
        },
        {
          "output_type": "stream",
          "name": "stdout",
          "text": [
            "\u001b[1;35mt=2025-03-05T14:26:02+0000 lvl=info msg=\"join connections\" obj=join id=5c19ebbbd26a l=127.0.0.1:8237 r=[2a02:8428:3f5d:d801:6896:9fbe:cbf4:e61]:63369\u001b[0m\n",
            "\u001b[32mINFO\u001b[0m:     2a02:8428:3f5d:d801:6896:9fbe:cbf4:e61:0 - \"\u001b[1mGET /api/v1/onboarding_state HTTP/1.1\u001b[0m\" \u001b[32m200 OK\u001b[0m\n"
          ]
        },
        {
          "output_type": "stream",
          "name": "stderr",
          "text": [
            "INFO:pyngrok.process.ngrok:t=2025-03-05T14:26:08+0000 lvl=info msg=\"join connections\" obj=join id=ca81343da1ab l=127.0.0.1:8237 r=[2a02:8428:3f5d:d801:6896:9fbe:cbf4:e61]:63369\n"
          ]
        },
        {
          "output_type": "stream",
          "name": "stdout",
          "text": [
            "\u001b[1;35mt=2025-03-05T14:26:08+0000 lvl=info msg=\"join connections\" obj=join id=ca81343da1ab l=127.0.0.1:8237 r=[2a02:8428:3f5d:d801:6896:9fbe:cbf4:e61]:63369\u001b[0m\n",
            "\u001b[32mINFO\u001b[0m:     2a02:8428:3f5d:d801:6896:9fbe:cbf4:e61:0 - \"\u001b[1mGET /api/v1/onboarding_state HTTP/1.1\u001b[0m\" \u001b[32m200 OK\u001b[0m\n"
          ]
        },
        {
          "output_type": "stream",
          "name": "stderr",
          "text": [
            "INFO:pyngrok.process.ngrok:t=2025-03-05T14:26:13+0000 lvl=info msg=\"join connections\" obj=join id=3c296ec73ff3 l=127.0.0.1:8237 r=[2a02:8428:3f5d:d801:6896:9fbe:cbf4:e61]:63369\n"
          ]
        },
        {
          "output_type": "stream",
          "name": "stdout",
          "text": [
            "\u001b[1;35mt=2025-03-05T14:26:13+0000 lvl=info msg=\"join connections\" obj=join id=3c296ec73ff3 l=127.0.0.1:8237 r=[2a02:8428:3f5d:d801:6896:9fbe:cbf4:e61]:63369\u001b[0m\n",
            "\u001b[32mINFO\u001b[0m:     2a02:8428:3f5d:d801:6896:9fbe:cbf4:e61:0 - \"\u001b[1mGET /api/v1/onboarding_state HTTP/1.1\u001b[0m\" \u001b[32m200 OK\u001b[0m\n"
          ]
        },
        {
          "output_type": "stream",
          "name": "stderr",
          "text": [
            "INFO:pyngrok.process.ngrok:t=2025-03-05T14:26:18+0000 lvl=info msg=\"join connections\" obj=join id=b46a8d086b88 l=127.0.0.1:8237 r=[2a02:8428:3f5d:d801:6896:9fbe:cbf4:e61]:63369\n"
          ]
        },
        {
          "output_type": "stream",
          "name": "stdout",
          "text": [
            "\u001b[1;35mt=2025-03-05T14:26:18+0000 lvl=info msg=\"join connections\" obj=join id=b46a8d086b88 l=127.0.0.1:8237 r=[2a02:8428:3f5d:d801:6896:9fbe:cbf4:e61]:63369\u001b[0m\n",
            "\u001b[32mINFO\u001b[0m:     2a02:8428:3f5d:d801:6896:9fbe:cbf4:e61:0 - \"\u001b[1mGET /api/v1/onboarding_state HTTP/1.1\u001b[0m\" \u001b[32m200 OK\u001b[0m\n"
          ]
        },
        {
          "output_type": "stream",
          "name": "stderr",
          "text": [
            "INFO:pyngrok.process.ngrok:t=2025-03-05T14:26:24+0000 lvl=info msg=\"join connections\" obj=join id=0301ef577f43 l=127.0.0.1:8237 r=[2a02:8428:3f5d:d801:6896:9fbe:cbf4:e61]:63369\n"
          ]
        },
        {
          "output_type": "stream",
          "name": "stdout",
          "text": [
            "\u001b[1;35mt=2025-03-05T14:26:24+0000 lvl=info msg=\"join connections\" obj=join id=0301ef577f43 l=127.0.0.1:8237 r=[2a02:8428:3f5d:d801:6896:9fbe:cbf4:e61]:63369\u001b[0m\n",
            "\u001b[32mINFO\u001b[0m:     2a02:8428:3f5d:d801:6896:9fbe:cbf4:e61:0 - \"\u001b[1mGET /api/v1/onboarding_state HTTP/1.1\u001b[0m\" \u001b[32m200 OK\u001b[0m\n"
          ]
        },
        {
          "output_type": "stream",
          "name": "stderr",
          "text": [
            "INFO:pyngrok.process.ngrok:t=2025-03-05T14:26:29+0000 lvl=info msg=\"join connections\" obj=join id=0e84a8658241 l=127.0.0.1:8237 r=[2a02:8428:3f5d:d801:6896:9fbe:cbf4:e61]:63369\n"
          ]
        },
        {
          "output_type": "stream",
          "name": "stdout",
          "text": [
            "\u001b[1;35mt=2025-03-05T14:26:29+0000 lvl=info msg=\"join connections\" obj=join id=0e84a8658241 l=127.0.0.1:8237 r=[2a02:8428:3f5d:d801:6896:9fbe:cbf4:e61]:63369\u001b[0m\n",
            "\u001b[32mINFO\u001b[0m:     2a02:8428:3f5d:d801:6896:9fbe:cbf4:e61:0 - \"\u001b[1mGET /api/v1/onboarding_state HTTP/1.1\u001b[0m\" \u001b[32m200 OK\u001b[0m\n"
          ]
        },
        {
          "output_type": "stream",
          "name": "stderr",
          "text": [
            "INFO:pyngrok.process.ngrok:t=2025-03-05T14:26:34+0000 lvl=info msg=\"join connections\" obj=join id=1f9a68cc4701 l=127.0.0.1:8237 r=[2a02:8428:3f5d:d801:6896:9fbe:cbf4:e61]:63369\n"
          ]
        },
        {
          "output_type": "stream",
          "name": "stdout",
          "text": [
            "\u001b[1;35mt=2025-03-05T14:26:34+0000 lvl=info msg=\"join connections\" obj=join id=1f9a68cc4701 l=127.0.0.1:8237 r=[2a02:8428:3f5d:d801:6896:9fbe:cbf4:e61]:63369\u001b[0m\n",
            "\u001b[32mINFO\u001b[0m:     2a02:8428:3f5d:d801:6896:9fbe:cbf4:e61:0 - \"\u001b[1mGET /api/v1/onboarding_state HTTP/1.1\u001b[0m\" \u001b[32m200 OK\u001b[0m\n"
          ]
        },
        {
          "output_type": "stream",
          "name": "stderr",
          "text": [
            "INFO:pyngrok.process.ngrok:t=2025-03-05T14:26:39+0000 lvl=info msg=\"join connections\" obj=join id=be74581a86f8 l=127.0.0.1:8237 r=[2a02:8428:3f5d:d801:6896:9fbe:cbf4:e61]:63369\n"
          ]
        },
        {
          "output_type": "stream",
          "name": "stdout",
          "text": [
            "\u001b[1;35mt=2025-03-05T14:26:39+0000 lvl=info msg=\"join connections\" obj=join id=be74581a86f8 l=127.0.0.1:8237 r=[2a02:8428:3f5d:d801:6896:9fbe:cbf4:e61]:63369\u001b[0m\n",
            "\u001b[32mINFO\u001b[0m:     2a02:8428:3f5d:d801:6896:9fbe:cbf4:e61:0 - \"\u001b[1mGET /api/v1/onboarding_state HTTP/1.1\u001b[0m\" \u001b[32m200 OK\u001b[0m\n"
          ]
        },
        {
          "output_type": "stream",
          "name": "stderr",
          "text": [
            "INFO:pyngrok.process.ngrok:t=2025-03-05T14:26:45+0000 lvl=info msg=\"join connections\" obj=join id=552ccd5bd375 l=127.0.0.1:8237 r=[2a02:8428:3f5d:d801:6896:9fbe:cbf4:e61]:63369\n"
          ]
        },
        {
          "output_type": "stream",
          "name": "stdout",
          "text": [
            "\u001b[1;35mt=2025-03-05T14:26:45+0000 lvl=info msg=\"join connections\" obj=join id=552ccd5bd375 l=127.0.0.1:8237 r=[2a02:8428:3f5d:d801:6896:9fbe:cbf4:e61]:63369\u001b[0m\n",
            "\u001b[32mINFO\u001b[0m:     2a02:8428:3f5d:d801:6896:9fbe:cbf4:e61:0 - \"\u001b[1mGET /api/v1/onboarding_state HTTP/1.1\u001b[0m\" \u001b[32m200 OK\u001b[0m\n"
          ]
        },
        {
          "output_type": "stream",
          "name": "stderr",
          "text": [
            "INFO:pyngrok.process.ngrok:t=2025-03-05T14:26:50+0000 lvl=info msg=\"join connections\" obj=join id=fbb6f91770fd l=127.0.0.1:8237 r=[2a02:8428:3f5d:d801:6896:9fbe:cbf4:e61]:63369\n"
          ]
        },
        {
          "output_type": "stream",
          "name": "stdout",
          "text": [
            "\u001b[1;35mt=2025-03-05T14:26:50+0000 lvl=info msg=\"join connections\" obj=join id=fbb6f91770fd l=127.0.0.1:8237 r=[2a02:8428:3f5d:d801:6896:9fbe:cbf4:e61]:63369\u001b[0m\n",
            "\u001b[32mINFO\u001b[0m:     2a02:8428:3f5d:d801:6896:9fbe:cbf4:e61:0 - \"\u001b[1mGET /api/v1/onboarding_state HTTP/1.1\u001b[0m\" \u001b[32m200 OK\u001b[0m\n"
          ]
        },
        {
          "output_type": "stream",
          "name": "stderr",
          "text": [
            "INFO:pyngrok.process.ngrok:t=2025-03-05T14:26:55+0000 lvl=info msg=\"join connections\" obj=join id=ee2a57c2dd03 l=127.0.0.1:8237 r=[2a02:8428:3f5d:d801:6896:9fbe:cbf4:e61]:63369\n"
          ]
        },
        {
          "output_type": "stream",
          "name": "stdout",
          "text": [
            "\u001b[1;35mt=2025-03-05T14:26:55+0000 lvl=info msg=\"join connections\" obj=join id=ee2a57c2dd03 l=127.0.0.1:8237 r=[2a02:8428:3f5d:d801:6896:9fbe:cbf4:e61]:63369\u001b[0m\n",
            "\u001b[32mINFO\u001b[0m:     2a02:8428:3f5d:d801:6896:9fbe:cbf4:e61:0 - \"\u001b[1mGET /api/v1/onboarding_state HTTP/1.1\u001b[0m\" \u001b[32m200 OK\u001b[0m\n"
          ]
        },
        {
          "output_type": "stream",
          "name": "stderr",
          "text": [
            "INFO:pyngrok.process.ngrok:t=2025-03-05T14:27:01+0000 lvl=info msg=\"join connections\" obj=join id=07b9ec2346f8 l=127.0.0.1:8237 r=[2a02:8428:3f5d:d801:6896:9fbe:cbf4:e61]:63369\n"
          ]
        },
        {
          "output_type": "stream",
          "name": "stdout",
          "text": [
            "\u001b[1;35mt=2025-03-05T14:27:01+0000 lvl=info msg=\"join connections\" obj=join id=07b9ec2346f8 l=127.0.0.1:8237 r=[2a02:8428:3f5d:d801:6896:9fbe:cbf4:e61]:63369\u001b[0m\n",
            "\u001b[32mINFO\u001b[0m:     2a02:8428:3f5d:d801:6896:9fbe:cbf4:e61:0 - \"\u001b[1mGET /api/v1/onboarding_state HTTP/1.1\u001b[0m\" \u001b[32m200 OK\u001b[0m\n"
          ]
        },
        {
          "output_type": "stream",
          "name": "stderr",
          "text": [
            "INFO:pyngrok.process.ngrok:t=2025-03-05T14:27:06+0000 lvl=info msg=\"join connections\" obj=join id=50636fecf82d l=127.0.0.1:8237 r=[2a02:8428:3f5d:d801:6896:9fbe:cbf4:e61]:63369\n"
          ]
        },
        {
          "output_type": "stream",
          "name": "stdout",
          "text": [
            "\u001b[1;35mt=2025-03-05T14:27:06+0000 lvl=info msg=\"join connections\" obj=join id=50636fecf82d l=127.0.0.1:8237 r=[2a02:8428:3f5d:d801:6896:9fbe:cbf4:e61]:63369\u001b[0m\n",
            "\u001b[32mINFO\u001b[0m:     2a02:8428:3f5d:d801:6896:9fbe:cbf4:e61:0 - \"\u001b[1mGET /api/v1/onboarding_state HTTP/1.1\u001b[0m\" \u001b[32m200 OK\u001b[0m\n"
          ]
        },
        {
          "output_type": "stream",
          "name": "stderr",
          "text": [
            "INFO:pyngrok.process.ngrok:t=2025-03-05T14:27:11+0000 lvl=info msg=\"join connections\" obj=join id=4c5c20581b01 l=127.0.0.1:8237 r=[2a02:8428:3f5d:d801:6896:9fbe:cbf4:e61]:63369\n"
          ]
        },
        {
          "output_type": "stream",
          "name": "stdout",
          "text": [
            "\u001b[1;35mt=2025-03-05T14:27:11+0000 lvl=info msg=\"join connections\" obj=join id=4c5c20581b01 l=127.0.0.1:8237 r=[2a02:8428:3f5d:d801:6896:9fbe:cbf4:e61]:63369\u001b[0m\n",
            "\u001b[32mINFO\u001b[0m:     2a02:8428:3f5d:d801:6896:9fbe:cbf4:e61:0 - \"\u001b[1mGET /api/v1/onboarding_state HTTP/1.1\u001b[0m\" \u001b[32m200 OK\u001b[0m\n"
          ]
        },
        {
          "output_type": "stream",
          "name": "stderr",
          "text": [
            "INFO:pyngrok.process.ngrok:t=2025-03-05T14:27:16+0000 lvl=info msg=\"join connections\" obj=join id=e25a0aa8cf76 l=127.0.0.1:8237 r=[2a02:8428:3f5d:d801:6896:9fbe:cbf4:e61]:63369\n"
          ]
        },
        {
          "output_type": "stream",
          "name": "stdout",
          "text": [
            "\u001b[1;35mt=2025-03-05T14:27:16+0000 lvl=info msg=\"join connections\" obj=join id=e25a0aa8cf76 l=127.0.0.1:8237 r=[2a02:8428:3f5d:d801:6896:9fbe:cbf4:e61]:63369\u001b[0m\n",
            "\u001b[32mINFO\u001b[0m:     2a02:8428:3f5d:d801:6896:9fbe:cbf4:e61:0 - \"\u001b[1mGET /api/v1/onboarding_state HTTP/1.1\u001b[0m\" \u001b[32m200 OK\u001b[0m\n"
          ]
        },
        {
          "output_type": "stream",
          "name": "stderr",
          "text": [
            "INFO:pyngrok.process.ngrok:t=2025-03-05T14:27:22+0000 lvl=info msg=\"join connections\" obj=join id=71ae6c698251 l=127.0.0.1:8237 r=[2a02:8428:3f5d:d801:6896:9fbe:cbf4:e61]:63369\n"
          ]
        },
        {
          "output_type": "stream",
          "name": "stdout",
          "text": [
            "\u001b[1;35mt=2025-03-05T14:27:22+0000 lvl=info msg=\"join connections\" obj=join id=71ae6c698251 l=127.0.0.1:8237 r=[2a02:8428:3f5d:d801:6896:9fbe:cbf4:e61]:63369\u001b[0m\n",
            "\u001b[32mINFO\u001b[0m:     2a02:8428:3f5d:d801:6896:9fbe:cbf4:e61:0 - \"\u001b[1mGET /api/v1/onboarding_state HTTP/1.1\u001b[0m\" \u001b[32m200 OK\u001b[0m\n"
          ]
        },
        {
          "output_type": "stream",
          "name": "stderr",
          "text": [
            "INFO:pyngrok.process.ngrok:t=2025-03-05T14:27:27+0000 lvl=info msg=\"join connections\" obj=join id=71dea7f79506 l=127.0.0.1:8237 r=[2a02:8428:3f5d:d801:6896:9fbe:cbf4:e61]:63369\n"
          ]
        },
        {
          "output_type": "stream",
          "name": "stdout",
          "text": [
            "\u001b[1;35mt=2025-03-05T14:27:27+0000 lvl=info msg=\"join connections\" obj=join id=71dea7f79506 l=127.0.0.1:8237 r=[2a02:8428:3f5d:d801:6896:9fbe:cbf4:e61]:63369\u001b[0m\n",
            "\u001b[32mINFO\u001b[0m:     2a02:8428:3f5d:d801:6896:9fbe:cbf4:e61:0 - \"\u001b[1mGET /api/v1/onboarding_state HTTP/1.1\u001b[0m\" \u001b[32m200 OK\u001b[0m\n"
          ]
        },
        {
          "output_type": "stream",
          "name": "stderr",
          "text": [
            "INFO:pyngrok.process.ngrok:t=2025-03-05T14:27:32+0000 lvl=info msg=\"join connections\" obj=join id=843355aa38e9 l=127.0.0.1:8237 r=[2a02:8428:3f5d:d801:6896:9fbe:cbf4:e61]:63369\n"
          ]
        },
        {
          "output_type": "stream",
          "name": "stdout",
          "text": [
            "\u001b[1;35mt=2025-03-05T14:27:32+0000 lvl=info msg=\"join connections\" obj=join id=843355aa38e9 l=127.0.0.1:8237 r=[2a02:8428:3f5d:d801:6896:9fbe:cbf4:e61]:63369\u001b[0m\n",
            "\u001b[32mINFO\u001b[0m:     2a02:8428:3f5d:d801:6896:9fbe:cbf4:e61:0 - \"\u001b[1mGET /api/v1/onboarding_state HTTP/1.1\u001b[0m\" \u001b[32m200 OK\u001b[0m\n"
          ]
        },
        {
          "output_type": "stream",
          "name": "stderr",
          "text": [
            "INFO:pyngrok.process.ngrok:t=2025-03-05T14:27:38+0000 lvl=info msg=\"join connections\" obj=join id=05dd1fdcab9c l=127.0.0.1:8237 r=[2a02:8428:3f5d:d801:6896:9fbe:cbf4:e61]:63369\n"
          ]
        },
        {
          "output_type": "stream",
          "name": "stdout",
          "text": [
            "\u001b[1;35mt=2025-03-05T14:27:38+0000 lvl=info msg=\"join connections\" obj=join id=05dd1fdcab9c l=127.0.0.1:8237 r=[2a02:8428:3f5d:d801:6896:9fbe:cbf4:e61]:63369\u001b[0m\n",
            "\u001b[32mINFO\u001b[0m:     2a02:8428:3f5d:d801:6896:9fbe:cbf4:e61:0 - \"\u001b[1mGET /api/v1/onboarding_state HTTP/1.1\u001b[0m\" \u001b[32m200 OK\u001b[0m\n"
          ]
        },
        {
          "output_type": "stream",
          "name": "stderr",
          "text": [
            "INFO:pyngrok.process.ngrok:t=2025-03-05T14:27:43+0000 lvl=info msg=\"join connections\" obj=join id=d39abc9378bc l=127.0.0.1:8237 r=[2a02:8428:3f5d:d801:6896:9fbe:cbf4:e61]:63369\n"
          ]
        },
        {
          "output_type": "stream",
          "name": "stdout",
          "text": [
            "\u001b[1;35mt=2025-03-05T14:27:43+0000 lvl=info msg=\"join connections\" obj=join id=d39abc9378bc l=127.0.0.1:8237 r=[2a02:8428:3f5d:d801:6896:9fbe:cbf4:e61]:63369\u001b[0m\n",
            "\u001b[32mINFO\u001b[0m:     2a02:8428:3f5d:d801:6896:9fbe:cbf4:e61:0 - \"\u001b[1mGET /api/v1/onboarding_state HTTP/1.1\u001b[0m\" \u001b[32m200 OK\u001b[0m\n"
          ]
        },
        {
          "output_type": "stream",
          "name": "stderr",
          "text": [
            "INFO:pyngrok.process.ngrok:t=2025-03-05T14:27:48+0000 lvl=info msg=\"join connections\" obj=join id=7c02e44759c9 l=127.0.0.1:8237 r=[2a02:8428:3f5d:d801:6896:9fbe:cbf4:e61]:63369\n"
          ]
        },
        {
          "output_type": "stream",
          "name": "stdout",
          "text": [
            "\u001b[1;35mt=2025-03-05T14:27:48+0000 lvl=info msg=\"join connections\" obj=join id=7c02e44759c9 l=127.0.0.1:8237 r=[2a02:8428:3f5d:d801:6896:9fbe:cbf4:e61]:63369\u001b[0m\n",
            "\u001b[32mINFO\u001b[0m:     2a02:8428:3f5d:d801:6896:9fbe:cbf4:e61:0 - \"\u001b[1mGET /api/v1/onboarding_state HTTP/1.1\u001b[0m\" \u001b[32m200 OK\u001b[0m\n"
          ]
        },
        {
          "output_type": "stream",
          "name": "stderr",
          "text": [
            "INFO:pyngrok.process.ngrok:t=2025-03-05T14:27:53+0000 lvl=info msg=\"join connections\" obj=join id=2f94cf5675c6 l=127.0.0.1:8237 r=[2a02:8428:3f5d:d801:6896:9fbe:cbf4:e61]:63369\n"
          ]
        },
        {
          "output_type": "stream",
          "name": "stdout",
          "text": [
            "\u001b[1;35mt=2025-03-05T14:27:53+0000 lvl=info msg=\"join connections\" obj=join id=2f94cf5675c6 l=127.0.0.1:8237 r=[2a02:8428:3f5d:d801:6896:9fbe:cbf4:e61]:63369\u001b[0m\n",
            "\u001b[32mINFO\u001b[0m:     2a02:8428:3f5d:d801:6896:9fbe:cbf4:e61:0 - \"\u001b[1mGET /api/v1/onboarding_state HTTP/1.1\u001b[0m\" \u001b[32m200 OK\u001b[0m\n"
          ]
        },
        {
          "output_type": "stream",
          "name": "stderr",
          "text": [
            "INFO:pyngrok.process.ngrok:t=2025-03-05T14:27:59+0000 lvl=info msg=\"join connections\" obj=join id=4b0cc824b09c l=127.0.0.1:8237 r=[2a02:8428:3f5d:d801:6896:9fbe:cbf4:e61]:63369\n"
          ]
        },
        {
          "output_type": "stream",
          "name": "stdout",
          "text": [
            "\u001b[1;35mt=2025-03-05T14:27:59+0000 lvl=info msg=\"join connections\" obj=join id=4b0cc824b09c l=127.0.0.1:8237 r=[2a02:8428:3f5d:d801:6896:9fbe:cbf4:e61]:63369\u001b[0m\n",
            "\u001b[32mINFO\u001b[0m:     2a02:8428:3f5d:d801:6896:9fbe:cbf4:e61:0 - \"\u001b[1mGET /api/v1/onboarding_state HTTP/1.1\u001b[0m\" \u001b[32m200 OK\u001b[0m\n"
          ]
        },
        {
          "output_type": "stream",
          "name": "stderr",
          "text": [
            "INFO:pyngrok.process.ngrok:t=2025-03-05T14:28:04+0000 lvl=info msg=\"join connections\" obj=join id=a23a6cff9a8e l=127.0.0.1:8237 r=[2a02:8428:3f5d:d801:6896:9fbe:cbf4:e61]:63369\n"
          ]
        },
        {
          "output_type": "stream",
          "name": "stdout",
          "text": [
            "\u001b[1;35mt=2025-03-05T14:28:04+0000 lvl=info msg=\"join connections\" obj=join id=a23a6cff9a8e l=127.0.0.1:8237 r=[2a02:8428:3f5d:d801:6896:9fbe:cbf4:e61]:63369\u001b[0m\n",
            "\u001b[32mINFO\u001b[0m:     2a02:8428:3f5d:d801:6896:9fbe:cbf4:e61:0 - \"\u001b[1mGET /api/v1/onboarding_state HTTP/1.1\u001b[0m\" \u001b[32m200 OK\u001b[0m\n"
          ]
        },
        {
          "output_type": "stream",
          "name": "stderr",
          "text": [
            "INFO:pyngrok.process.ngrok:t=2025-03-05T14:28:09+0000 lvl=info msg=\"join connections\" obj=join id=5dbb5c349e49 l=127.0.0.1:8237 r=[2a02:8428:3f5d:d801:6896:9fbe:cbf4:e61]:63369\n"
          ]
        },
        {
          "output_type": "stream",
          "name": "stdout",
          "text": [
            "\u001b[1;35mt=2025-03-05T14:28:09+0000 lvl=info msg=\"join connections\" obj=join id=5dbb5c349e49 l=127.0.0.1:8237 r=[2a02:8428:3f5d:d801:6896:9fbe:cbf4:e61]:63369\u001b[0m\n",
            "\u001b[32mINFO\u001b[0m:     2a02:8428:3f5d:d801:6896:9fbe:cbf4:e61:0 - \"\u001b[1mGET /api/v1/onboarding_state HTTP/1.1\u001b[0m\" \u001b[32m200 OK\u001b[0m\n"
          ]
        },
        {
          "output_type": "stream",
          "name": "stderr",
          "text": [
            "INFO:pyngrok.process.ngrok:t=2025-03-05T14:28:15+0000 lvl=info msg=\"join connections\" obj=join id=36efaa7740aa l=127.0.0.1:8237 r=[2a02:8428:3f5d:d801:6896:9fbe:cbf4:e61]:63369\n"
          ]
        },
        {
          "output_type": "stream",
          "name": "stdout",
          "text": [
            "\u001b[1;35mt=2025-03-05T14:28:15+0000 lvl=info msg=\"join connections\" obj=join id=36efaa7740aa l=127.0.0.1:8237 r=[2a02:8428:3f5d:d801:6896:9fbe:cbf4:e61]:63369\u001b[0m\n",
            "\u001b[32mINFO\u001b[0m:     2a02:8428:3f5d:d801:6896:9fbe:cbf4:e61:0 - \"\u001b[1mGET /api/v1/onboarding_state HTTP/1.1\u001b[0m\" \u001b[32m200 OK\u001b[0m\n"
          ]
        },
        {
          "output_type": "stream",
          "name": "stderr",
          "text": [
            "INFO:pyngrok.process.ngrok:t=2025-03-05T14:28:20+0000 lvl=info msg=\"join connections\" obj=join id=f17aea06c289 l=127.0.0.1:8237 r=[2a02:8428:3f5d:d801:6896:9fbe:cbf4:e61]:63369\n"
          ]
        },
        {
          "output_type": "stream",
          "name": "stdout",
          "text": [
            "\u001b[1;35mt=2025-03-05T14:28:20+0000 lvl=info msg=\"join connections\" obj=join id=f17aea06c289 l=127.0.0.1:8237 r=[2a02:8428:3f5d:d801:6896:9fbe:cbf4:e61]:63369\u001b[0m\n",
            "\u001b[32mINFO\u001b[0m:     2a02:8428:3f5d:d801:6896:9fbe:cbf4:e61:0 - \"\u001b[1mGET /api/v1/onboarding_state HTTP/1.1\u001b[0m\" \u001b[32m200 OK\u001b[0m\n"
          ]
        },
        {
          "output_type": "stream",
          "name": "stderr",
          "text": [
            "INFO:pyngrok.process.ngrok:t=2025-03-05T14:28:25+0000 lvl=info msg=\"join connections\" obj=join id=a957f717e4ac l=127.0.0.1:8237 r=[2a02:8428:3f5d:d801:6896:9fbe:cbf4:e61]:63369\n"
          ]
        },
        {
          "output_type": "stream",
          "name": "stdout",
          "text": [
            "\u001b[1;35mt=2025-03-05T14:28:25+0000 lvl=info msg=\"join connections\" obj=join id=a957f717e4ac l=127.0.0.1:8237 r=[2a02:8428:3f5d:d801:6896:9fbe:cbf4:e61]:63369\u001b[0m\n",
            "\u001b[32mINFO\u001b[0m:     2a02:8428:3f5d:d801:6896:9fbe:cbf4:e61:0 - \"\u001b[1mGET /api/v1/onboarding_state HTTP/1.1\u001b[0m\" \u001b[32m200 OK\u001b[0m\n"
          ]
        },
        {
          "output_type": "stream",
          "name": "stderr",
          "text": [
            "INFO:pyngrok.process.ngrok:t=2025-03-05T14:28:31+0000 lvl=info msg=\"join connections\" obj=join id=da27ebaec4a9 l=127.0.0.1:8237 r=[2a02:8428:3f5d:d801:6896:9fbe:cbf4:e61]:63369\n"
          ]
        },
        {
          "output_type": "stream",
          "name": "stdout",
          "text": [
            "\u001b[1;35mt=2025-03-05T14:28:31+0000 lvl=info msg=\"join connections\" obj=join id=da27ebaec4a9 l=127.0.0.1:8237 r=[2a02:8428:3f5d:d801:6896:9fbe:cbf4:e61]:63369\u001b[0m\n",
            "\u001b[32mINFO\u001b[0m:     2a02:8428:3f5d:d801:6896:9fbe:cbf4:e61:0 - \"\u001b[1mGET /api/v1/onboarding_state HTTP/1.1\u001b[0m\" \u001b[32m200 OK\u001b[0m\n"
          ]
        },
        {
          "output_type": "stream",
          "name": "stderr",
          "text": [
            "INFO:pyngrok.process.ngrok:t=2025-03-05T14:28:36+0000 lvl=info msg=\"join connections\" obj=join id=f03867ede2af l=127.0.0.1:8237 r=[2a02:8428:3f5d:d801:6896:9fbe:cbf4:e61]:63369\n"
          ]
        },
        {
          "output_type": "stream",
          "name": "stdout",
          "text": [
            "\u001b[1;35mt=2025-03-05T14:28:36+0000 lvl=info msg=\"join connections\" obj=join id=f03867ede2af l=127.0.0.1:8237 r=[2a02:8428:3f5d:d801:6896:9fbe:cbf4:e61]:63369\u001b[0m\n",
            "\u001b[32mINFO\u001b[0m:     2a02:8428:3f5d:d801:6896:9fbe:cbf4:e61:0 - \"\u001b[1mGET /api/v1/onboarding_state HTTP/1.1\u001b[0m\" \u001b[32m200 OK\u001b[0m\n"
          ]
        },
        {
          "output_type": "stream",
          "name": "stderr",
          "text": [
            "INFO:pyngrok.process.ngrok:t=2025-03-05T14:28:41+0000 lvl=info msg=\"join connections\" obj=join id=bdb4ac4da4e9 l=127.0.0.1:8237 r=[2a02:8428:3f5d:d801:6896:9fbe:cbf4:e61]:63369\n"
          ]
        },
        {
          "output_type": "stream",
          "name": "stdout",
          "text": [
            "\u001b[1;35mt=2025-03-05T14:28:41+0000 lvl=info msg=\"join connections\" obj=join id=bdb4ac4da4e9 l=127.0.0.1:8237 r=[2a02:8428:3f5d:d801:6896:9fbe:cbf4:e61]:63369\u001b[0m\n",
            "\u001b[32mINFO\u001b[0m:     2a02:8428:3f5d:d801:6896:9fbe:cbf4:e61:0 - \"\u001b[1mGET /api/v1/onboarding_state HTTP/1.1\u001b[0m\" \u001b[32m200 OK\u001b[0m\n"
          ]
        },
        {
          "output_type": "stream",
          "name": "stderr",
          "text": [
            "INFO:pyngrok.process.ngrok:t=2025-03-05T14:28:46+0000 lvl=info msg=\"join connections\" obj=join id=974bd753345e l=127.0.0.1:8237 r=[2a02:8428:3f5d:d801:6896:9fbe:cbf4:e61]:63369\n"
          ]
        },
        {
          "output_type": "stream",
          "name": "stdout",
          "text": [
            "\u001b[1;35mt=2025-03-05T14:28:46+0000 lvl=info msg=\"join connections\" obj=join id=974bd753345e l=127.0.0.1:8237 r=[2a02:8428:3f5d:d801:6896:9fbe:cbf4:e61]:63369\u001b[0m\n",
            "\u001b[32mINFO\u001b[0m:     2a02:8428:3f5d:d801:6896:9fbe:cbf4:e61:0 - \"\u001b[1mGET /api/v1/onboarding_state HTTP/1.1\u001b[0m\" \u001b[32m200 OK\u001b[0m\n"
          ]
        },
        {
          "output_type": "stream",
          "name": "stderr",
          "text": [
            "INFO:pyngrok.process.ngrok:t=2025-03-05T14:28:52+0000 lvl=info msg=\"join connections\" obj=join id=25c90ee22ffc l=127.0.0.1:8237 r=[2a02:8428:3f5d:d801:6896:9fbe:cbf4:e61]:63369\n"
          ]
        },
        {
          "output_type": "stream",
          "name": "stdout",
          "text": [
            "\u001b[1;35mt=2025-03-05T14:28:52+0000 lvl=info msg=\"join connections\" obj=join id=25c90ee22ffc l=127.0.0.1:8237 r=[2a02:8428:3f5d:d801:6896:9fbe:cbf4:e61]:63369\u001b[0m\n",
            "\u001b[32mINFO\u001b[0m:     2a02:8428:3f5d:d801:6896:9fbe:cbf4:e61:0 - \"\u001b[1mGET /api/v1/onboarding_state HTTP/1.1\u001b[0m\" \u001b[32m200 OK\u001b[0m\n"
          ]
        },
        {
          "output_type": "stream",
          "name": "stderr",
          "text": [
            "INFO:pyngrok.process.ngrok:t=2025-03-05T14:28:57+0000 lvl=info msg=\"join connections\" obj=join id=6f41b666b5b1 l=127.0.0.1:8237 r=[2a02:8428:3f5d:d801:6896:9fbe:cbf4:e61]:63369\n"
          ]
        },
        {
          "output_type": "stream",
          "name": "stdout",
          "text": [
            "\u001b[1;35mt=2025-03-05T14:28:57+0000 lvl=info msg=\"join connections\" obj=join id=6f41b666b5b1 l=127.0.0.1:8237 r=[2a02:8428:3f5d:d801:6896:9fbe:cbf4:e61]:63369\u001b[0m\n",
            "\u001b[32mINFO\u001b[0m:     2a02:8428:3f5d:d801:6896:9fbe:cbf4:e61:0 - \"\u001b[1mGET /api/v1/onboarding_state HTTP/1.1\u001b[0m\" \u001b[32m200 OK\u001b[0m\n"
          ]
        },
        {
          "output_type": "stream",
          "name": "stderr",
          "text": [
            "INFO:pyngrok.process.ngrok:t=2025-03-05T14:29:02+0000 lvl=info msg=\"join connections\" obj=join id=ff9030621288 l=127.0.0.1:8237 r=[2a02:8428:3f5d:d801:6896:9fbe:cbf4:e61]:63369\n"
          ]
        },
        {
          "output_type": "stream",
          "name": "stdout",
          "text": [
            "\u001b[1;35mt=2025-03-05T14:29:02+0000 lvl=info msg=\"join connections\" obj=join id=ff9030621288 l=127.0.0.1:8237 r=[2a02:8428:3f5d:d801:6896:9fbe:cbf4:e61]:63369\u001b[0m\n",
            "\u001b[32mINFO\u001b[0m:     2a02:8428:3f5d:d801:6896:9fbe:cbf4:e61:0 - \"\u001b[1mGET /api/v1/onboarding_state HTTP/1.1\u001b[0m\" \u001b[32m200 OK\u001b[0m\n"
          ]
        },
        {
          "output_type": "stream",
          "name": "stderr",
          "text": [
            "INFO:pyngrok.process.ngrok:t=2025-03-05T14:29:08+0000 lvl=info msg=\"join connections\" obj=join id=f1ceded15135 l=127.0.0.1:8237 r=[2a02:8428:3f5d:d801:6896:9fbe:cbf4:e61]:63369\n"
          ]
        },
        {
          "output_type": "stream",
          "name": "stdout",
          "text": [
            "\u001b[1;35mt=2025-03-05T14:29:08+0000 lvl=info msg=\"join connections\" obj=join id=f1ceded15135 l=127.0.0.1:8237 r=[2a02:8428:3f5d:d801:6896:9fbe:cbf4:e61]:63369\u001b[0m\n",
            "\u001b[32mINFO\u001b[0m:     2a02:8428:3f5d:d801:6896:9fbe:cbf4:e61:0 - \"\u001b[1mGET /api/v1/onboarding_state HTTP/1.1\u001b[0m\" \u001b[32m200 OK\u001b[0m\n"
          ]
        },
        {
          "output_type": "stream",
          "name": "stderr",
          "text": [
            "INFO:pyngrok.process.ngrok:t=2025-03-05T14:29:13+0000 lvl=info msg=\"join connections\" obj=join id=a16c8591443e l=127.0.0.1:8237 r=[2a02:8428:3f5d:d801:6896:9fbe:cbf4:e61]:63369\n"
          ]
        },
        {
          "output_type": "stream",
          "name": "stdout",
          "text": [
            "\u001b[1;35mt=2025-03-05T14:29:13+0000 lvl=info msg=\"join connections\" obj=join id=a16c8591443e l=127.0.0.1:8237 r=[2a02:8428:3f5d:d801:6896:9fbe:cbf4:e61]:63369\u001b[0m\n",
            "\u001b[32mINFO\u001b[0m:     2a02:8428:3f5d:d801:6896:9fbe:cbf4:e61:0 - \"\u001b[1mGET /api/v1/onboarding_state HTTP/1.1\u001b[0m\" \u001b[32m200 OK\u001b[0m\n"
          ]
        },
        {
          "output_type": "stream",
          "name": "stderr",
          "text": [
            "INFO:pyngrok.process.ngrok:t=2025-03-05T14:29:18+0000 lvl=info msg=\"join connections\" obj=join id=695ad9c96f09 l=127.0.0.1:8237 r=[2a02:8428:3f5d:d801:6896:9fbe:cbf4:e61]:63369\n"
          ]
        },
        {
          "output_type": "stream",
          "name": "stdout",
          "text": [
            "\u001b[1;35mt=2025-03-05T14:29:18+0000 lvl=info msg=\"join connections\" obj=join id=695ad9c96f09 l=127.0.0.1:8237 r=[2a02:8428:3f5d:d801:6896:9fbe:cbf4:e61]:63369\u001b[0m\n",
            "\u001b[32mINFO\u001b[0m:     2a02:8428:3f5d:d801:6896:9fbe:cbf4:e61:0 - \"\u001b[1mGET /api/v1/onboarding_state HTTP/1.1\u001b[0m\" \u001b[32m200 OK\u001b[0m\n"
          ]
        },
        {
          "output_type": "stream",
          "name": "stderr",
          "text": [
            "INFO:pyngrok.process.ngrok:t=2025-03-05T14:29:23+0000 lvl=info msg=\"join connections\" obj=join id=9530aed2efb1 l=127.0.0.1:8237 r=[2a02:8428:3f5d:d801:6896:9fbe:cbf4:e61]:63369\n"
          ]
        },
        {
          "output_type": "stream",
          "name": "stdout",
          "text": [
            "\u001b[1;35mt=2025-03-05T14:29:23+0000 lvl=info msg=\"join connections\" obj=join id=9530aed2efb1 l=127.0.0.1:8237 r=[2a02:8428:3f5d:d801:6896:9fbe:cbf4:e61]:63369\u001b[0m\n",
            "\u001b[32mINFO\u001b[0m:     2a02:8428:3f5d:d801:6896:9fbe:cbf4:e61:0 - \"\u001b[1mGET /api/v1/onboarding_state HTTP/1.1\u001b[0m\" \u001b[32m200 OK\u001b[0m\n"
          ]
        },
        {
          "output_type": "stream",
          "name": "stderr",
          "text": [
            "INFO:pyngrok.process.ngrok:t=2025-03-05T14:29:29+0000 lvl=info msg=\"join connections\" obj=join id=b0d054c4efba l=127.0.0.1:8237 r=[2a02:8428:3f5d:d801:6896:9fbe:cbf4:e61]:63369\n"
          ]
        },
        {
          "output_type": "stream",
          "name": "stdout",
          "text": [
            "\u001b[1;35mt=2025-03-05T14:29:29+0000 lvl=info msg=\"join connections\" obj=join id=b0d054c4efba l=127.0.0.1:8237 r=[2a02:8428:3f5d:d801:6896:9fbe:cbf4:e61]:63369\u001b[0m\n",
            "\u001b[32mINFO\u001b[0m:     2a02:8428:3f5d:d801:6896:9fbe:cbf4:e61:0 - \"\u001b[1mGET /api/v1/onboarding_state HTTP/1.1\u001b[0m\" \u001b[32m200 OK\u001b[0m\n"
          ]
        },
        {
          "output_type": "stream",
          "name": "stderr",
          "text": [
            "INFO:pyngrok.process.ngrok:t=2025-03-05T14:29:34+0000 lvl=info msg=\"join connections\" obj=join id=8dbdeaac3c9f l=127.0.0.1:8237 r=[2a02:8428:3f5d:d801:6896:9fbe:cbf4:e61]:63369\n"
          ]
        },
        {
          "output_type": "stream",
          "name": "stdout",
          "text": [
            "\u001b[1;35mt=2025-03-05T14:29:34+0000 lvl=info msg=\"join connections\" obj=join id=8dbdeaac3c9f l=127.0.0.1:8237 r=[2a02:8428:3f5d:d801:6896:9fbe:cbf4:e61]:63369\u001b[0m\n",
            "\u001b[32mINFO\u001b[0m:     2a02:8428:3f5d:d801:6896:9fbe:cbf4:e61:0 - \"\u001b[1mGET /api/v1/onboarding_state HTTP/1.1\u001b[0m\" \u001b[32m200 OK\u001b[0m\n"
          ]
        },
        {
          "output_type": "stream",
          "name": "stderr",
          "text": [
            "INFO:pyngrok.process.ngrok:t=2025-03-05T14:29:39+0000 lvl=info msg=\"join connections\" obj=join id=d766fd298d17 l=127.0.0.1:8237 r=[2a02:8428:3f5d:d801:6896:9fbe:cbf4:e61]:63369\n"
          ]
        },
        {
          "output_type": "stream",
          "name": "stdout",
          "text": [
            "\u001b[1;35mt=2025-03-05T14:29:39+0000 lvl=info msg=\"join connections\" obj=join id=d766fd298d17 l=127.0.0.1:8237 r=[2a02:8428:3f5d:d801:6896:9fbe:cbf4:e61]:63369\u001b[0m\n",
            "\u001b[32mINFO\u001b[0m:     2a02:8428:3f5d:d801:6896:9fbe:cbf4:e61:0 - \"\u001b[1mGET /api/v1/onboarding_state HTTP/1.1\u001b[0m\" \u001b[32m200 OK\u001b[0m\n"
          ]
        },
        {
          "output_type": "stream",
          "name": "stderr",
          "text": [
            "INFO:pyngrok.process.ngrok:t=2025-03-05T14:29:45+0000 lvl=info msg=\"join connections\" obj=join id=4ff6a9db1031 l=127.0.0.1:8237 r=[2a02:8428:3f5d:d801:6896:9fbe:cbf4:e61]:63369\n"
          ]
        },
        {
          "output_type": "stream",
          "name": "stdout",
          "text": [
            "\u001b[1;35mt=2025-03-05T14:29:45+0000 lvl=info msg=\"join connections\" obj=join id=4ff6a9db1031 l=127.0.0.1:8237 r=[2a02:8428:3f5d:d801:6896:9fbe:cbf4:e61]:63369\u001b[0m\n",
            "\u001b[32mINFO\u001b[0m:     2a02:8428:3f5d:d801:6896:9fbe:cbf4:e61:0 - \"\u001b[1mGET /api/v1/onboarding_state HTTP/1.1\u001b[0m\" \u001b[32m200 OK\u001b[0m\n"
          ]
        },
        {
          "output_type": "stream",
          "name": "stderr",
          "text": [
            "INFO:pyngrok.process.ngrok:t=2025-03-05T14:29:50+0000 lvl=info msg=\"join connections\" obj=join id=f1a3fa02a59e l=127.0.0.1:8237 r=[2a02:8428:3f5d:d801:6896:9fbe:cbf4:e61]:63369\n"
          ]
        },
        {
          "output_type": "stream",
          "name": "stdout",
          "text": [
            "\u001b[1;35mt=2025-03-05T14:29:50+0000 lvl=info msg=\"join connections\" obj=join id=f1a3fa02a59e l=127.0.0.1:8237 r=[2a02:8428:3f5d:d801:6896:9fbe:cbf4:e61]:63369\u001b[0m\n",
            "\u001b[32mINFO\u001b[0m:     2a02:8428:3f5d:d801:6896:9fbe:cbf4:e61:0 - \"\u001b[1mGET /api/v1/onboarding_state HTTP/1.1\u001b[0m\" \u001b[32m200 OK\u001b[0m\n"
          ]
        },
        {
          "output_type": "stream",
          "name": "stderr",
          "text": [
            "INFO:pyngrok.process.ngrok:t=2025-03-05T14:29:55+0000 lvl=info msg=\"join connections\" obj=join id=a8f77b0e32e3 l=127.0.0.1:8237 r=[2a02:8428:3f5d:d801:6896:9fbe:cbf4:e61]:63369\n"
          ]
        },
        {
          "output_type": "stream",
          "name": "stdout",
          "text": [
            "\u001b[1;35mt=2025-03-05T14:29:55+0000 lvl=info msg=\"join connections\" obj=join id=a8f77b0e32e3 l=127.0.0.1:8237 r=[2a02:8428:3f5d:d801:6896:9fbe:cbf4:e61]:63369\u001b[0m\n",
            "\u001b[32mINFO\u001b[0m:     2a02:8428:3f5d:d801:6896:9fbe:cbf4:e61:0 - \"\u001b[1mGET /api/v1/onboarding_state HTTP/1.1\u001b[0m\" \u001b[32m200 OK\u001b[0m\n"
          ]
        },
        {
          "output_type": "stream",
          "name": "stderr",
          "text": [
            "INFO:pyngrok.process.ngrok:t=2025-03-05T14:30:01+0000 lvl=info msg=\"join connections\" obj=join id=6770d202dbcb l=127.0.0.1:8237 r=[2a02:8428:3f5d:d801:6896:9fbe:cbf4:e61]:63369\n"
          ]
        },
        {
          "output_type": "stream",
          "name": "stdout",
          "text": [
            "\u001b[1;35mt=2025-03-05T14:30:01+0000 lvl=info msg=\"join connections\" obj=join id=6770d202dbcb l=127.0.0.1:8237 r=[2a02:8428:3f5d:d801:6896:9fbe:cbf4:e61]:63369\u001b[0m\n",
            "\u001b[32mINFO\u001b[0m:     2a02:8428:3f5d:d801:6896:9fbe:cbf4:e61:0 - \"\u001b[1mGET /api/v1/onboarding_state HTTP/1.1\u001b[0m\" \u001b[32m200 OK\u001b[0m\n"
          ]
        },
        {
          "output_type": "stream",
          "name": "stderr",
          "text": [
            "INFO:pyngrok.process.ngrok:t=2025-03-05T14:30:06+0000 lvl=info msg=\"join connections\" obj=join id=bd3c08902b48 l=127.0.0.1:8237 r=[2a02:8428:3f5d:d801:6896:9fbe:cbf4:e61]:63369\n"
          ]
        },
        {
          "output_type": "stream",
          "name": "stdout",
          "text": [
            "\u001b[1;35mt=2025-03-05T14:30:06+0000 lvl=info msg=\"join connections\" obj=join id=bd3c08902b48 l=127.0.0.1:8237 r=[2a02:8428:3f5d:d801:6896:9fbe:cbf4:e61]:63369\u001b[0m\n",
            "\u001b[32mINFO\u001b[0m:     2a02:8428:3f5d:d801:6896:9fbe:cbf4:e61:0 - \"\u001b[1mGET /api/v1/onboarding_state HTTP/1.1\u001b[0m\" \u001b[32m200 OK\u001b[0m\n"
          ]
        },
        {
          "output_type": "stream",
          "name": "stderr",
          "text": [
            "INFO:pyngrok.process.ngrok:t=2025-03-05T14:30:11+0000 lvl=info msg=\"join connections\" obj=join id=913a3922ee83 l=127.0.0.1:8237 r=[2a02:8428:3f5d:d801:6896:9fbe:cbf4:e61]:63369\n"
          ]
        },
        {
          "output_type": "stream",
          "name": "stdout",
          "text": [
            "\u001b[1;35mt=2025-03-05T14:30:11+0000 lvl=info msg=\"join connections\" obj=join id=913a3922ee83 l=127.0.0.1:8237 r=[2a02:8428:3f5d:d801:6896:9fbe:cbf4:e61]:63369\u001b[0m\n",
            "\u001b[32mINFO\u001b[0m:     2a02:8428:3f5d:d801:6896:9fbe:cbf4:e61:0 - \"\u001b[1mGET /api/v1/onboarding_state HTTP/1.1\u001b[0m\" \u001b[32m200 OK\u001b[0m\n"
          ]
        },
        {
          "output_type": "stream",
          "name": "stderr",
          "text": [
            "INFO:pyngrok.process.ngrok:t=2025-03-05T14:30:16+0000 lvl=info msg=\"join connections\" obj=join id=7512836d02a6 l=127.0.0.1:8237 r=[2a02:8428:3f5d:d801:6896:9fbe:cbf4:e61]:63369\n"
          ]
        },
        {
          "output_type": "stream",
          "name": "stdout",
          "text": [
            "\u001b[1;35mt=2025-03-05T14:30:16+0000 lvl=info msg=\"join connections\" obj=join id=7512836d02a6 l=127.0.0.1:8237 r=[2a02:8428:3f5d:d801:6896:9fbe:cbf4:e61]:63369\u001b[0m\n",
            "\u001b[32mINFO\u001b[0m:     2a02:8428:3f5d:d801:6896:9fbe:cbf4:e61:0 - \"\u001b[1mGET /api/v1/onboarding_state HTTP/1.1\u001b[0m\" \u001b[32m200 OK\u001b[0m\n"
          ]
        },
        {
          "output_type": "stream",
          "name": "stderr",
          "text": [
            "INFO:pyngrok.process.ngrok:t=2025-03-05T14:30:22+0000 lvl=info msg=\"join connections\" obj=join id=9e94e1aeb619 l=127.0.0.1:8237 r=[2a02:8428:3f5d:d801:6896:9fbe:cbf4:e61]:63369\n"
          ]
        },
        {
          "output_type": "stream",
          "name": "stdout",
          "text": [
            "\u001b[1;35mt=2025-03-05T14:30:22+0000 lvl=info msg=\"join connections\" obj=join id=9e94e1aeb619 l=127.0.0.1:8237 r=[2a02:8428:3f5d:d801:6896:9fbe:cbf4:e61]:63369\u001b[0m\n",
            "\u001b[32mINFO\u001b[0m:     2a02:8428:3f5d:d801:6896:9fbe:cbf4:e61:0 - \"\u001b[1mGET /api/v1/onboarding_state HTTP/1.1\u001b[0m\" \u001b[32m200 OK\u001b[0m\n"
          ]
        },
        {
          "output_type": "stream",
          "name": "stderr",
          "text": [
            "INFO:pyngrok.process.ngrok:t=2025-03-05T14:30:27+0000 lvl=info msg=\"join connections\" obj=join id=826359da08cc l=127.0.0.1:8237 r=[2a02:8428:3f5d:d801:6896:9fbe:cbf4:e61]:63369\n"
          ]
        },
        {
          "output_type": "stream",
          "name": "stdout",
          "text": [
            "\u001b[1;35mt=2025-03-05T14:30:27+0000 lvl=info msg=\"join connections\" obj=join id=826359da08cc l=127.0.0.1:8237 r=[2a02:8428:3f5d:d801:6896:9fbe:cbf4:e61]:63369\u001b[0m\n",
            "\u001b[32mINFO\u001b[0m:     2a02:8428:3f5d:d801:6896:9fbe:cbf4:e61:0 - \"\u001b[1mGET /api/v1/onboarding_state HTTP/1.1\u001b[0m\" \u001b[32m200 OK\u001b[0m\n"
          ]
        },
        {
          "output_type": "stream",
          "name": "stderr",
          "text": [
            "INFO:pyngrok.process.ngrok:t=2025-03-05T14:30:32+0000 lvl=info msg=\"join connections\" obj=join id=b9bb681b8157 l=127.0.0.1:8237 r=[2a02:8428:3f5d:d801:6896:9fbe:cbf4:e61]:63369\n"
          ]
        },
        {
          "output_type": "stream",
          "name": "stdout",
          "text": [
            "\u001b[1;35mt=2025-03-05T14:30:32+0000 lvl=info msg=\"join connections\" obj=join id=b9bb681b8157 l=127.0.0.1:8237 r=[2a02:8428:3f5d:d801:6896:9fbe:cbf4:e61]:63369\u001b[0m\n",
            "\u001b[32mINFO\u001b[0m:     2a02:8428:3f5d:d801:6896:9fbe:cbf4:e61:0 - \"\u001b[1mGET /api/v1/onboarding_state HTTP/1.1\u001b[0m\" \u001b[32m200 OK\u001b[0m\n"
          ]
        },
        {
          "output_type": "stream",
          "name": "stderr",
          "text": [
            "INFO:pyngrok.process.ngrok:t=2025-03-05T14:30:37+0000 lvl=info msg=\"join connections\" obj=join id=dc23e1194305 l=127.0.0.1:8237 r=[2a02:8428:3f5d:d801:6896:9fbe:cbf4:e61]:63369\n"
          ]
        },
        {
          "output_type": "stream",
          "name": "stdout",
          "text": [
            "\u001b[1;35mt=2025-03-05T14:30:37+0000 lvl=info msg=\"join connections\" obj=join id=dc23e1194305 l=127.0.0.1:8237 r=[2a02:8428:3f5d:d801:6896:9fbe:cbf4:e61]:63369\u001b[0m\n",
            "\u001b[32mINFO\u001b[0m:     2a02:8428:3f5d:d801:6896:9fbe:cbf4:e61:0 - \"\u001b[1mGET /api/v1/onboarding_state HTTP/1.1\u001b[0m\" \u001b[32m200 OK\u001b[0m\n"
          ]
        },
        {
          "output_type": "stream",
          "name": "stderr",
          "text": [
            "INFO:pyngrok.process.ngrok:t=2025-03-05T14:30:43+0000 lvl=info msg=\"join connections\" obj=join id=59d91102fdde l=127.0.0.1:8237 r=[2a02:8428:3f5d:d801:6896:9fbe:cbf4:e61]:63369\n"
          ]
        },
        {
          "output_type": "stream",
          "name": "stdout",
          "text": [
            "\u001b[1;35mt=2025-03-05T14:30:43+0000 lvl=info msg=\"join connections\" obj=join id=59d91102fdde l=127.0.0.1:8237 r=[2a02:8428:3f5d:d801:6896:9fbe:cbf4:e61]:63369\u001b[0m\n",
            "\u001b[32mINFO\u001b[0m:     2a02:8428:3f5d:d801:6896:9fbe:cbf4:e61:0 - \"\u001b[1mGET /api/v1/onboarding_state HTTP/1.1\u001b[0m\" \u001b[32m200 OK\u001b[0m\n"
          ]
        },
        {
          "output_type": "stream",
          "name": "stderr",
          "text": [
            "INFO:pyngrok.process.ngrok:t=2025-03-05T14:30:48+0000 lvl=info msg=\"join connections\" obj=join id=a57a8da0ccde l=127.0.0.1:8237 r=[2a02:8428:3f5d:d801:6896:9fbe:cbf4:e61]:63369\n"
          ]
        },
        {
          "output_type": "stream",
          "name": "stdout",
          "text": [
            "\u001b[1;35mt=2025-03-05T14:30:48+0000 lvl=info msg=\"join connections\" obj=join id=a57a8da0ccde l=127.0.0.1:8237 r=[2a02:8428:3f5d:d801:6896:9fbe:cbf4:e61]:63369\u001b[0m\n",
            "\u001b[32mINFO\u001b[0m:     2a02:8428:3f5d:d801:6896:9fbe:cbf4:e61:0 - \"\u001b[1mGET /api/v1/onboarding_state HTTP/1.1\u001b[0m\" \u001b[32m200 OK\u001b[0m\n"
          ]
        },
        {
          "output_type": "stream",
          "name": "stderr",
          "text": [
            "INFO:pyngrok.process.ngrok:t=2025-03-05T14:30:53+0000 lvl=info msg=\"join connections\" obj=join id=a5354ac9a280 l=127.0.0.1:8237 r=[2a02:8428:3f5d:d801:6896:9fbe:cbf4:e61]:63369\n"
          ]
        },
        {
          "output_type": "stream",
          "name": "stdout",
          "text": [
            "\u001b[1;35mt=2025-03-05T14:30:53+0000 lvl=info msg=\"join connections\" obj=join id=a5354ac9a280 l=127.0.0.1:8237 r=[2a02:8428:3f5d:d801:6896:9fbe:cbf4:e61]:63369\u001b[0m\n",
            "\u001b[32mINFO\u001b[0m:     2a02:8428:3f5d:d801:6896:9fbe:cbf4:e61:0 - \"\u001b[1mGET /api/v1/onboarding_state HTTP/1.1\u001b[0m\" \u001b[32m200 OK\u001b[0m\n"
          ]
        },
        {
          "output_type": "stream",
          "name": "stderr",
          "text": [
            "INFO:pyngrok.process.ngrok:t=2025-03-05T14:30:59+0000 lvl=info msg=\"join connections\" obj=join id=17522d74fbe4 l=127.0.0.1:8237 r=[2a02:8428:3f5d:d801:6896:9fbe:cbf4:e61]:63369\n"
          ]
        },
        {
          "output_type": "stream",
          "name": "stdout",
          "text": [
            "\u001b[1;35mt=2025-03-05T14:30:59+0000 lvl=info msg=\"join connections\" obj=join id=17522d74fbe4 l=127.0.0.1:8237 r=[2a02:8428:3f5d:d801:6896:9fbe:cbf4:e61]:63369\u001b[0m\n",
            "\u001b[32mINFO\u001b[0m:     2a02:8428:3f5d:d801:6896:9fbe:cbf4:e61:0 - \"\u001b[1mGET /api/v1/onboarding_state HTTP/1.1\u001b[0m\" \u001b[32m200 OK\u001b[0m\n"
          ]
        },
        {
          "output_type": "stream",
          "name": "stderr",
          "text": [
            "INFO:pyngrok.process.ngrok:t=2025-03-05T14:31:04+0000 lvl=info msg=\"join connections\" obj=join id=c1eadd584ad9 l=127.0.0.1:8237 r=[2a02:8428:3f5d:d801:6896:9fbe:cbf4:e61]:63369\n"
          ]
        },
        {
          "output_type": "stream",
          "name": "stdout",
          "text": [
            "\u001b[1;35mt=2025-03-05T14:31:04+0000 lvl=info msg=\"join connections\" obj=join id=c1eadd584ad9 l=127.0.0.1:8237 r=[2a02:8428:3f5d:d801:6896:9fbe:cbf4:e61]:63369\u001b[0m\n",
            "\u001b[32mINFO\u001b[0m:     2a02:8428:3f5d:d801:6896:9fbe:cbf4:e61:0 - \"\u001b[1mGET /api/v1/onboarding_state HTTP/1.1\u001b[0m\" \u001b[32m200 OK\u001b[0m\n"
          ]
        },
        {
          "output_type": "stream",
          "name": "stderr",
          "text": [
            "INFO:pyngrok.process.ngrok:t=2025-03-05T14:31:09+0000 lvl=info msg=\"join connections\" obj=join id=6cb25af672dd l=127.0.0.1:8237 r=[2a02:8428:3f5d:d801:6896:9fbe:cbf4:e61]:63369\n"
          ]
        },
        {
          "output_type": "stream",
          "name": "stdout",
          "text": [
            "\u001b[1;35mt=2025-03-05T14:31:09+0000 lvl=info msg=\"join connections\" obj=join id=6cb25af672dd l=127.0.0.1:8237 r=[2a02:8428:3f5d:d801:6896:9fbe:cbf4:e61]:63369\u001b[0m\n",
            "\u001b[32mINFO\u001b[0m:     2a02:8428:3f5d:d801:6896:9fbe:cbf4:e61:0 - \"\u001b[1mGET /api/v1/onboarding_state HTTP/1.1\u001b[0m\" \u001b[32m200 OK\u001b[0m\n"
          ]
        },
        {
          "output_type": "stream",
          "name": "stderr",
          "text": [
            "INFO:pyngrok.process.ngrok:t=2025-03-05T14:31:15+0000 lvl=info msg=\"join connections\" obj=join id=fc0b055c0db8 l=127.0.0.1:8237 r=[2a02:8428:3f5d:d801:6896:9fbe:cbf4:e61]:63369\n"
          ]
        },
        {
          "output_type": "stream",
          "name": "stdout",
          "text": [
            "\u001b[1;35mt=2025-03-05T14:31:15+0000 lvl=info msg=\"join connections\" obj=join id=fc0b055c0db8 l=127.0.0.1:8237 r=[2a02:8428:3f5d:d801:6896:9fbe:cbf4:e61]:63369\u001b[0m\n",
            "\u001b[32mINFO\u001b[0m:     2a02:8428:3f5d:d801:6896:9fbe:cbf4:e61:0 - \"\u001b[1mGET /api/v1/onboarding_state HTTP/1.1\u001b[0m\" \u001b[32m200 OK\u001b[0m\n"
          ]
        },
        {
          "output_type": "stream",
          "name": "stderr",
          "text": [
            "INFO:pyngrok.process.ngrok:t=2025-03-05T14:31:20+0000 lvl=info msg=\"join connections\" obj=join id=646a18d902ee l=127.0.0.1:8237 r=[2a02:8428:3f5d:d801:6896:9fbe:cbf4:e61]:63369\n"
          ]
        },
        {
          "output_type": "stream",
          "name": "stdout",
          "text": [
            "\u001b[1;35mt=2025-03-05T14:31:20+0000 lvl=info msg=\"join connections\" obj=join id=646a18d902ee l=127.0.0.1:8237 r=[2a02:8428:3f5d:d801:6896:9fbe:cbf4:e61]:63369\u001b[0m\n",
            "\u001b[32mINFO\u001b[0m:     2a02:8428:3f5d:d801:6896:9fbe:cbf4:e61:0 - \"\u001b[1mGET /api/v1/onboarding_state HTTP/1.1\u001b[0m\" \u001b[32m200 OK\u001b[0m\n"
          ]
        },
        {
          "output_type": "stream",
          "name": "stderr",
          "text": [
            "INFO:pyngrok.process.ngrok:t=2025-03-05T14:31:25+0000 lvl=info msg=\"join connections\" obj=join id=91582f16d2a4 l=127.0.0.1:8237 r=[2a02:8428:3f5d:d801:6896:9fbe:cbf4:e61]:63369\n"
          ]
        },
        {
          "output_type": "stream",
          "name": "stdout",
          "text": [
            "\u001b[1;35mt=2025-03-05T14:31:25+0000 lvl=info msg=\"join connections\" obj=join id=91582f16d2a4 l=127.0.0.1:8237 r=[2a02:8428:3f5d:d801:6896:9fbe:cbf4:e61]:63369\u001b[0m\n",
            "\u001b[32mINFO\u001b[0m:     2a02:8428:3f5d:d801:6896:9fbe:cbf4:e61:0 - \"\u001b[1mGET /api/v1/onboarding_state HTTP/1.1\u001b[0m\" \u001b[32m200 OK\u001b[0m\n"
          ]
        },
        {
          "output_type": "stream",
          "name": "stderr",
          "text": [
            "INFO:pyngrok.process.ngrok:t=2025-03-05T14:31:30+0000 lvl=info msg=\"join connections\" obj=join id=0d5975bcb71b l=127.0.0.1:8237 r=[2a02:8428:3f5d:d801:6896:9fbe:cbf4:e61]:63369\n"
          ]
        },
        {
          "output_type": "stream",
          "name": "stdout",
          "text": [
            "\u001b[1;35mt=2025-03-05T14:31:30+0000 lvl=info msg=\"join connections\" obj=join id=0d5975bcb71b l=127.0.0.1:8237 r=[2a02:8428:3f5d:d801:6896:9fbe:cbf4:e61]:63369\u001b[0m\n",
            "\u001b[32mINFO\u001b[0m:     2a02:8428:3f5d:d801:6896:9fbe:cbf4:e61:0 - \"\u001b[1mGET /api/v1/onboarding_state HTTP/1.1\u001b[0m\" \u001b[32m200 OK\u001b[0m\n"
          ]
        },
        {
          "output_type": "stream",
          "name": "stderr",
          "text": [
            "INFO:pyngrok.process.ngrok:t=2025-03-05T14:31:36+0000 lvl=info msg=\"join connections\" obj=join id=552776b998b7 l=127.0.0.1:8237 r=[2a02:8428:3f5d:d801:6896:9fbe:cbf4:e61]:63369\n"
          ]
        },
        {
          "output_type": "stream",
          "name": "stdout",
          "text": [
            "\u001b[1;35mt=2025-03-05T14:31:36+0000 lvl=info msg=\"join connections\" obj=join id=552776b998b7 l=127.0.0.1:8237 r=[2a02:8428:3f5d:d801:6896:9fbe:cbf4:e61]:63369\u001b[0m\n",
            "\u001b[32mINFO\u001b[0m:     2a02:8428:3f5d:d801:6896:9fbe:cbf4:e61:0 - \"\u001b[1mGET /api/v1/onboarding_state HTTP/1.1\u001b[0m\" \u001b[32m200 OK\u001b[0m\n"
          ]
        },
        {
          "output_type": "stream",
          "name": "stderr",
          "text": [
            "INFO:pyngrok.process.ngrok:t=2025-03-05T14:31:41+0000 lvl=info msg=\"join connections\" obj=join id=c4808cc4ffe6 l=127.0.0.1:8237 r=[2a02:8428:3f5d:d801:6896:9fbe:cbf4:e61]:63369\n"
          ]
        },
        {
          "output_type": "stream",
          "name": "stdout",
          "text": [
            "\u001b[1;35mt=2025-03-05T14:31:41+0000 lvl=info msg=\"join connections\" obj=join id=c4808cc4ffe6 l=127.0.0.1:8237 r=[2a02:8428:3f5d:d801:6896:9fbe:cbf4:e61]:63369\u001b[0m\n",
            "\u001b[32mINFO\u001b[0m:     2a02:8428:3f5d:d801:6896:9fbe:cbf4:e61:0 - \"\u001b[1mGET /api/v1/onboarding_state HTTP/1.1\u001b[0m\" \u001b[32m200 OK\u001b[0m\n"
          ]
        },
        {
          "output_type": "stream",
          "name": "stderr",
          "text": [
            "INFO:pyngrok.process.ngrok:t=2025-03-05T14:31:46+0000 lvl=info msg=\"join connections\" obj=join id=7d4b200c9e9e l=127.0.0.1:8237 r=[2a02:8428:3f5d:d801:6896:9fbe:cbf4:e61]:63369\n"
          ]
        },
        {
          "output_type": "stream",
          "name": "stdout",
          "text": [
            "\u001b[1;35mt=2025-03-05T14:31:46+0000 lvl=info msg=\"join connections\" obj=join id=7d4b200c9e9e l=127.0.0.1:8237 r=[2a02:8428:3f5d:d801:6896:9fbe:cbf4:e61]:63369\u001b[0m\n",
            "\u001b[32mINFO\u001b[0m:     2a02:8428:3f5d:d801:6896:9fbe:cbf4:e61:0 - \"\u001b[1mGET /api/v1/onboarding_state HTTP/1.1\u001b[0m\" \u001b[32m200 OK\u001b[0m\n"
          ]
        },
        {
          "output_type": "stream",
          "name": "stderr",
          "text": [
            "INFO:pyngrok.process.ngrok:t=2025-03-05T14:31:52+0000 lvl=info msg=\"join connections\" obj=join id=1f43ab32da19 l=127.0.0.1:8237 r=[2a02:8428:3f5d:d801:6896:9fbe:cbf4:e61]:63369\n"
          ]
        },
        {
          "output_type": "stream",
          "name": "stdout",
          "text": [
            "\u001b[1;35mt=2025-03-05T14:31:52+0000 lvl=info msg=\"join connections\" obj=join id=1f43ab32da19 l=127.0.0.1:8237 r=[2a02:8428:3f5d:d801:6896:9fbe:cbf4:e61]:63369\u001b[0m\n",
            "\u001b[32mINFO\u001b[0m:     2a02:8428:3f5d:d801:6896:9fbe:cbf4:e61:0 - \"\u001b[1mGET /api/v1/onboarding_state HTTP/1.1\u001b[0m\" \u001b[32m200 OK\u001b[0m\n"
          ]
        },
        {
          "output_type": "stream",
          "name": "stderr",
          "text": [
            "INFO:pyngrok.process.ngrok:t=2025-03-05T14:31:57+0000 lvl=info msg=\"join connections\" obj=join id=4d174435c380 l=127.0.0.1:8237 r=[2a02:8428:3f5d:d801:6896:9fbe:cbf4:e61]:63369\n"
          ]
        },
        {
          "output_type": "stream",
          "name": "stdout",
          "text": [
            "\u001b[1;35mt=2025-03-05T14:31:57+0000 lvl=info msg=\"join connections\" obj=join id=4d174435c380 l=127.0.0.1:8237 r=[2a02:8428:3f5d:d801:6896:9fbe:cbf4:e61]:63369\u001b[0m\n",
            "\u001b[32mINFO\u001b[0m:     2a02:8428:3f5d:d801:6896:9fbe:cbf4:e61:0 - \"\u001b[1mGET /api/v1/onboarding_state HTTP/1.1\u001b[0m\" \u001b[32m200 OK\u001b[0m\n"
          ]
        },
        {
          "output_type": "stream",
          "name": "stderr",
          "text": [
            "INFO:pyngrok.process.ngrok:t=2025-03-05T14:32:02+0000 lvl=info msg=\"join connections\" obj=join id=1f698ea24a25 l=127.0.0.1:8237 r=[2a02:8428:3f5d:d801:6896:9fbe:cbf4:e61]:63369\n"
          ]
        },
        {
          "output_type": "stream",
          "name": "stdout",
          "text": [
            "\u001b[1;35mt=2025-03-05T14:32:02+0000 lvl=info msg=\"join connections\" obj=join id=1f698ea24a25 l=127.0.0.1:8237 r=[2a02:8428:3f5d:d801:6896:9fbe:cbf4:e61]:63369\u001b[0m\n",
            "\u001b[32mINFO\u001b[0m:     2a02:8428:3f5d:d801:6896:9fbe:cbf4:e61:0 - \"\u001b[1mGET /api/v1/onboarding_state HTTP/1.1\u001b[0m\" \u001b[32m200 OK\u001b[0m\n"
          ]
        },
        {
          "output_type": "stream",
          "name": "stderr",
          "text": [
            "INFO:pyngrok.process.ngrok:t=2025-03-05T14:32:07+0000 lvl=info msg=\"join connections\" obj=join id=94171f6268c9 l=127.0.0.1:8237 r=[2a02:8428:3f5d:d801:6896:9fbe:cbf4:e61]:63369\n"
          ]
        },
        {
          "output_type": "stream",
          "name": "stdout",
          "text": [
            "\u001b[1;35mt=2025-03-05T14:32:07+0000 lvl=info msg=\"join connections\" obj=join id=94171f6268c9 l=127.0.0.1:8237 r=[2a02:8428:3f5d:d801:6896:9fbe:cbf4:e61]:63369\u001b[0m\n",
            "\u001b[32mINFO\u001b[0m:     2a02:8428:3f5d:d801:6896:9fbe:cbf4:e61:0 - \"\u001b[1mGET /api/v1/onboarding_state HTTP/1.1\u001b[0m\" \u001b[32m200 OK\u001b[0m\n"
          ]
        },
        {
          "output_type": "stream",
          "name": "stderr",
          "text": [
            "INFO:pyngrok.process.ngrok:t=2025-03-05T14:32:13+0000 lvl=info msg=\"join connections\" obj=join id=2920a939d231 l=127.0.0.1:8237 r=[2a02:8428:3f5d:d801:6896:9fbe:cbf4:e61]:63369\n"
          ]
        },
        {
          "output_type": "stream",
          "name": "stdout",
          "text": [
            "\u001b[1;35mt=2025-03-05T14:32:13+0000 lvl=info msg=\"join connections\" obj=join id=2920a939d231 l=127.0.0.1:8237 r=[2a02:8428:3f5d:d801:6896:9fbe:cbf4:e61]:63369\u001b[0m\n",
            "\u001b[32mINFO\u001b[0m:     2a02:8428:3f5d:d801:6896:9fbe:cbf4:e61:0 - \"\u001b[1mGET /api/v1/onboarding_state HTTP/1.1\u001b[0m\" \u001b[32m200 OK\u001b[0m\n"
          ]
        },
        {
          "output_type": "stream",
          "name": "stderr",
          "text": [
            "INFO:pyngrok.process.ngrok:t=2025-03-05T14:32:18+0000 lvl=info msg=\"join connections\" obj=join id=13f44ef1683c l=127.0.0.1:8237 r=[2a02:8428:3f5d:d801:6896:9fbe:cbf4:e61]:63369\n"
          ]
        },
        {
          "output_type": "stream",
          "name": "stdout",
          "text": [
            "\u001b[1;35mt=2025-03-05T14:32:18+0000 lvl=info msg=\"join connections\" obj=join id=13f44ef1683c l=127.0.0.1:8237 r=[2a02:8428:3f5d:d801:6896:9fbe:cbf4:e61]:63369\u001b[0m\n",
            "\u001b[32mINFO\u001b[0m:     2a02:8428:3f5d:d801:6896:9fbe:cbf4:e61:0 - \"\u001b[1mGET /api/v1/onboarding_state HTTP/1.1\u001b[0m\" \u001b[32m200 OK\u001b[0m\n"
          ]
        },
        {
          "output_type": "stream",
          "name": "stderr",
          "text": [
            "INFO:pyngrok.process.ngrok:t=2025-03-05T14:32:23+0000 lvl=info msg=\"join connections\" obj=join id=53eef83d9537 l=127.0.0.1:8237 r=[2a02:8428:3f5d:d801:6896:9fbe:cbf4:e61]:63369\n"
          ]
        },
        {
          "output_type": "stream",
          "name": "stdout",
          "text": [
            "\u001b[1;35mt=2025-03-05T14:32:23+0000 lvl=info msg=\"join connections\" obj=join id=53eef83d9537 l=127.0.0.1:8237 r=[2a02:8428:3f5d:d801:6896:9fbe:cbf4:e61]:63369\u001b[0m\n",
            "\u001b[32mINFO\u001b[0m:     2a02:8428:3f5d:d801:6896:9fbe:cbf4:e61:0 - \"\u001b[1mGET /api/v1/onboarding_state HTTP/1.1\u001b[0m\" \u001b[32m200 OK\u001b[0m\n"
          ]
        },
        {
          "output_type": "stream",
          "name": "stderr",
          "text": [
            "INFO:pyngrok.process.ngrok:t=2025-03-05T14:32:29+0000 lvl=info msg=\"join connections\" obj=join id=87cce9419843 l=127.0.0.1:8237 r=[2a02:8428:3f5d:d801:6896:9fbe:cbf4:e61]:63369\n"
          ]
        },
        {
          "output_type": "stream",
          "name": "stdout",
          "text": [
            "\u001b[1;35mt=2025-03-05T14:32:29+0000 lvl=info msg=\"join connections\" obj=join id=87cce9419843 l=127.0.0.1:8237 r=[2a02:8428:3f5d:d801:6896:9fbe:cbf4:e61]:63369\u001b[0m\n",
            "\u001b[32mINFO\u001b[0m:     2a02:8428:3f5d:d801:6896:9fbe:cbf4:e61:0 - \"\u001b[1mGET /api/v1/onboarding_state HTTP/1.1\u001b[0m\" \u001b[32m200 OK\u001b[0m\n"
          ]
        },
        {
          "output_type": "stream",
          "name": "stderr",
          "text": [
            "INFO:pyngrok.process.ngrok:t=2025-03-05T14:32:34+0000 lvl=info msg=\"join connections\" obj=join id=834eaa443b6f l=127.0.0.1:8237 r=[2a02:8428:3f5d:d801:6896:9fbe:cbf4:e61]:63369\n"
          ]
        },
        {
          "output_type": "stream",
          "name": "stdout",
          "text": [
            "\u001b[1;35mt=2025-03-05T14:32:34+0000 lvl=info msg=\"join connections\" obj=join id=834eaa443b6f l=127.0.0.1:8237 r=[2a02:8428:3f5d:d801:6896:9fbe:cbf4:e61]:63369\u001b[0m\n",
            "\u001b[32mINFO\u001b[0m:     2a02:8428:3f5d:d801:6896:9fbe:cbf4:e61:0 - \"\u001b[1mGET /api/v1/onboarding_state HTTP/1.1\u001b[0m\" \u001b[32m200 OK\u001b[0m\n"
          ]
        },
        {
          "output_type": "stream",
          "name": "stderr",
          "text": [
            "INFO:pyngrok.process.ngrok:t=2025-03-05T14:32:39+0000 lvl=info msg=\"join connections\" obj=join id=9facf7ad1464 l=127.0.0.1:8237 r=[2a02:8428:3f5d:d801:6896:9fbe:cbf4:e61]:63369\n"
          ]
        },
        {
          "output_type": "stream",
          "name": "stdout",
          "text": [
            "\u001b[1;35mt=2025-03-05T14:32:39+0000 lvl=info msg=\"join connections\" obj=join id=9facf7ad1464 l=127.0.0.1:8237 r=[2a02:8428:3f5d:d801:6896:9fbe:cbf4:e61]:63369\u001b[0m\n",
            "\u001b[32mINFO\u001b[0m:     2a02:8428:3f5d:d801:6896:9fbe:cbf4:e61:0 - \"\u001b[1mGET /api/v1/onboarding_state HTTP/1.1\u001b[0m\" \u001b[32m200 OK\u001b[0m\n"
          ]
        },
        {
          "output_type": "stream",
          "name": "stderr",
          "text": [
            "INFO:pyngrok.process.ngrok:t=2025-03-05T14:32:44+0000 lvl=info msg=\"join connections\" obj=join id=c8bb985a30fa l=127.0.0.1:8237 r=[2a02:8428:3f5d:d801:6896:9fbe:cbf4:e61]:63369\n"
          ]
        },
        {
          "output_type": "stream",
          "name": "stdout",
          "text": [
            "\u001b[1;35mt=2025-03-05T14:32:44+0000 lvl=info msg=\"join connections\" obj=join id=c8bb985a30fa l=127.0.0.1:8237 r=[2a02:8428:3f5d:d801:6896:9fbe:cbf4:e61]:63369\u001b[0m\n",
            "\u001b[32mINFO\u001b[0m:     2a02:8428:3f5d:d801:6896:9fbe:cbf4:e61:0 - \"\u001b[1mGET /api/v1/onboarding_state HTTP/1.1\u001b[0m\" \u001b[32m200 OK\u001b[0m\n"
          ]
        },
        {
          "output_type": "stream",
          "name": "stderr",
          "text": [
            "INFO:pyngrok.process.ngrok:t=2025-03-05T14:32:50+0000 lvl=info msg=\"join connections\" obj=join id=aa7f1e15ef76 l=127.0.0.1:8237 r=[2a02:8428:3f5d:d801:6896:9fbe:cbf4:e61]:63369\n"
          ]
        },
        {
          "output_type": "stream",
          "name": "stdout",
          "text": [
            "\u001b[1;35mt=2025-03-05T14:32:50+0000 lvl=info msg=\"join connections\" obj=join id=aa7f1e15ef76 l=127.0.0.1:8237 r=[2a02:8428:3f5d:d801:6896:9fbe:cbf4:e61]:63369\u001b[0m\n",
            "\u001b[32mINFO\u001b[0m:     2a02:8428:3f5d:d801:6896:9fbe:cbf4:e61:0 - \"\u001b[1mGET /api/v1/onboarding_state HTTP/1.1\u001b[0m\" \u001b[32m200 OK\u001b[0m\n"
          ]
        },
        {
          "output_type": "stream",
          "name": "stderr",
          "text": [
            "INFO:pyngrok.process.ngrok:t=2025-03-05T14:32:55+0000 lvl=info msg=\"join connections\" obj=join id=f1f8cfb6d765 l=127.0.0.1:8237 r=[2a02:8428:3f5d:d801:6896:9fbe:cbf4:e61]:63369\n"
          ]
        },
        {
          "output_type": "stream",
          "name": "stdout",
          "text": [
            "\u001b[1;35mt=2025-03-05T14:32:55+0000 lvl=info msg=\"join connections\" obj=join id=f1f8cfb6d765 l=127.0.0.1:8237 r=[2a02:8428:3f5d:d801:6896:9fbe:cbf4:e61]:63369\u001b[0m\n",
            "\u001b[32mINFO\u001b[0m:     2a02:8428:3f5d:d801:6896:9fbe:cbf4:e61:0 - \"\u001b[1mGET /api/v1/onboarding_state HTTP/1.1\u001b[0m\" \u001b[32m200 OK\u001b[0m\n"
          ]
        },
        {
          "output_type": "stream",
          "name": "stderr",
          "text": [
            "INFO:pyngrok.process.ngrok:t=2025-03-05T14:33:00+0000 lvl=info msg=\"join connections\" obj=join id=7194ee39b1db l=127.0.0.1:8237 r=[2a02:8428:3f5d:d801:6896:9fbe:cbf4:e61]:63369\n"
          ]
        },
        {
          "output_type": "stream",
          "name": "stdout",
          "text": [
            "\u001b[1;35mt=2025-03-05T14:33:00+0000 lvl=info msg=\"join connections\" obj=join id=7194ee39b1db l=127.0.0.1:8237 r=[2a02:8428:3f5d:d801:6896:9fbe:cbf4:e61]:63369\u001b[0m\n",
            "\u001b[32mINFO\u001b[0m:     2a02:8428:3f5d:d801:6896:9fbe:cbf4:e61:0 - \"\u001b[1mGET /api/v1/onboarding_state HTTP/1.1\u001b[0m\" \u001b[32m200 OK\u001b[0m\n"
          ]
        },
        {
          "output_type": "stream",
          "name": "stderr",
          "text": [
            "INFO:pyngrok.process.ngrok:t=2025-03-05T14:33:06+0000 lvl=info msg=\"join connections\" obj=join id=28d7712e93d1 l=127.0.0.1:8237 r=[2a02:8428:3f5d:d801:6896:9fbe:cbf4:e61]:63369\n"
          ]
        },
        {
          "output_type": "stream",
          "name": "stdout",
          "text": [
            "\u001b[1;35mt=2025-03-05T14:33:06+0000 lvl=info msg=\"join connections\" obj=join id=28d7712e93d1 l=127.0.0.1:8237 r=[2a02:8428:3f5d:d801:6896:9fbe:cbf4:e61]:63369\u001b[0m\n",
            "\u001b[32mINFO\u001b[0m:     2a02:8428:3f5d:d801:6896:9fbe:cbf4:e61:0 - \"\u001b[1mGET /api/v1/onboarding_state HTTP/1.1\u001b[0m\" \u001b[32m200 OK\u001b[0m\n"
          ]
        },
        {
          "output_type": "stream",
          "name": "stderr",
          "text": [
            "INFO:pyngrok.process.ngrok:t=2025-03-05T14:33:11+0000 lvl=info msg=\"join connections\" obj=join id=cfe90eade367 l=127.0.0.1:8237 r=[2a02:8428:3f5d:d801:6896:9fbe:cbf4:e61]:63369\n"
          ]
        },
        {
          "output_type": "stream",
          "name": "stdout",
          "text": [
            "\u001b[1;35mt=2025-03-05T14:33:11+0000 lvl=info msg=\"join connections\" obj=join id=cfe90eade367 l=127.0.0.1:8237 r=[2a02:8428:3f5d:d801:6896:9fbe:cbf4:e61]:63369\u001b[0m\n",
            "\u001b[32mINFO\u001b[0m:     2a02:8428:3f5d:d801:6896:9fbe:cbf4:e61:0 - \"\u001b[1mGET /api/v1/onboarding_state HTTP/1.1\u001b[0m\" \u001b[32m200 OK\u001b[0m\n"
          ]
        },
        {
          "output_type": "stream",
          "name": "stderr",
          "text": [
            "INFO:pyngrok.process.ngrok:t=2025-03-05T14:33:16+0000 lvl=info msg=\"join connections\" obj=join id=6ea28391e89c l=127.0.0.1:8237 r=[2a02:8428:3f5d:d801:6896:9fbe:cbf4:e61]:63369\n"
          ]
        },
        {
          "output_type": "stream",
          "name": "stdout",
          "text": [
            "\u001b[1;35mt=2025-03-05T14:33:16+0000 lvl=info msg=\"join connections\" obj=join id=6ea28391e89c l=127.0.0.1:8237 r=[2a02:8428:3f5d:d801:6896:9fbe:cbf4:e61]:63369\u001b[0m\n",
            "\u001b[32mINFO\u001b[0m:     2a02:8428:3f5d:d801:6896:9fbe:cbf4:e61:0 - \"\u001b[1mGET /api/v1/onboarding_state HTTP/1.1\u001b[0m\" \u001b[32m200 OK\u001b[0m\n"
          ]
        },
        {
          "output_type": "stream",
          "name": "stderr",
          "text": [
            "INFO:pyngrok.process.ngrok:t=2025-03-05T14:33:21+0000 lvl=info msg=\"join connections\" obj=join id=70010cdb3a16 l=127.0.0.1:8237 r=[2a02:8428:3f5d:d801:6896:9fbe:cbf4:e61]:63369\n"
          ]
        },
        {
          "output_type": "stream",
          "name": "stdout",
          "text": [
            "\u001b[1;35mt=2025-03-05T14:33:21+0000 lvl=info msg=\"join connections\" obj=join id=70010cdb3a16 l=127.0.0.1:8237 r=[2a02:8428:3f5d:d801:6896:9fbe:cbf4:e61]:63369\u001b[0m\n",
            "\u001b[32mINFO\u001b[0m:     2a02:8428:3f5d:d801:6896:9fbe:cbf4:e61:0 - \"\u001b[1mGET /api/v1/onboarding_state HTTP/1.1\u001b[0m\" \u001b[32m200 OK\u001b[0m\n"
          ]
        },
        {
          "output_type": "stream",
          "name": "stderr",
          "text": [
            "INFO:pyngrok.process.ngrok:t=2025-03-05T14:33:27+0000 lvl=info msg=\"join connections\" obj=join id=5ab18362fb08 l=127.0.0.1:8237 r=[2a02:8428:3f5d:d801:6896:9fbe:cbf4:e61]:63369\n"
          ]
        },
        {
          "output_type": "stream",
          "name": "stdout",
          "text": [
            "\u001b[1;35mt=2025-03-05T14:33:27+0000 lvl=info msg=\"join connections\" obj=join id=5ab18362fb08 l=127.0.0.1:8237 r=[2a02:8428:3f5d:d801:6896:9fbe:cbf4:e61]:63369\u001b[0m\n",
            "\u001b[32mINFO\u001b[0m:     2a02:8428:3f5d:d801:6896:9fbe:cbf4:e61:0 - \"\u001b[1mGET /api/v1/onboarding_state HTTP/1.1\u001b[0m\" \u001b[32m200 OK\u001b[0m\n"
          ]
        },
        {
          "output_type": "stream",
          "name": "stderr",
          "text": [
            "INFO:pyngrok.process.ngrok:t=2025-03-05T14:33:32+0000 lvl=info msg=\"join connections\" obj=join id=8db10b3c21d9 l=127.0.0.1:8237 r=[2a02:8428:3f5d:d801:6896:9fbe:cbf4:e61]:63369\n"
          ]
        },
        {
          "output_type": "stream",
          "name": "stdout",
          "text": [
            "\u001b[1;35mt=2025-03-05T14:33:32+0000 lvl=info msg=\"join connections\" obj=join id=8db10b3c21d9 l=127.0.0.1:8237 r=[2a02:8428:3f5d:d801:6896:9fbe:cbf4:e61]:63369\u001b[0m\n",
            "\u001b[32mINFO\u001b[0m:     2a02:8428:3f5d:d801:6896:9fbe:cbf4:e61:0 - \"\u001b[1mGET /api/v1/onboarding_state HTTP/1.1\u001b[0m\" \u001b[32m200 OK\u001b[0m\n"
          ]
        },
        {
          "output_type": "stream",
          "name": "stderr",
          "text": [
            "INFO:pyngrok.process.ngrok:t=2025-03-05T14:33:37+0000 lvl=info msg=\"join connections\" obj=join id=60aa57c4a35f l=127.0.0.1:8237 r=[2a02:8428:3f5d:d801:6896:9fbe:cbf4:e61]:63369\n"
          ]
        },
        {
          "output_type": "stream",
          "name": "stdout",
          "text": [
            "\u001b[1;35mt=2025-03-05T14:33:37+0000 lvl=info msg=\"join connections\" obj=join id=60aa57c4a35f l=127.0.0.1:8237 r=[2a02:8428:3f5d:d801:6896:9fbe:cbf4:e61]:63369\u001b[0m\n",
            "\u001b[32mINFO\u001b[0m:     2a02:8428:3f5d:d801:6896:9fbe:cbf4:e61:0 - \"\u001b[1mGET /api/v1/onboarding_state HTTP/1.1\u001b[0m\" \u001b[32m200 OK\u001b[0m\n"
          ]
        },
        {
          "output_type": "stream",
          "name": "stderr",
          "text": [
            "INFO:pyngrok.process.ngrok:t=2025-03-05T14:33:43+0000 lvl=info msg=\"join connections\" obj=join id=6cd4d6417204 l=127.0.0.1:8237 r=[2a02:8428:3f5d:d801:6896:9fbe:cbf4:e61]:63369\n"
          ]
        },
        {
          "output_type": "stream",
          "name": "stdout",
          "text": [
            "\u001b[1;35mt=2025-03-05T14:33:43+0000 lvl=info msg=\"join connections\" obj=join id=6cd4d6417204 l=127.0.0.1:8237 r=[2a02:8428:3f5d:d801:6896:9fbe:cbf4:e61]:63369\u001b[0m\n",
            "\u001b[32mINFO\u001b[0m:     2a02:8428:3f5d:d801:6896:9fbe:cbf4:e61:0 - \"\u001b[1mGET /api/v1/onboarding_state HTTP/1.1\u001b[0m\" \u001b[32m200 OK\u001b[0m\n"
          ]
        },
        {
          "output_type": "stream",
          "name": "stderr",
          "text": [
            "INFO:pyngrok.process.ngrok:t=2025-03-05T14:33:48+0000 lvl=info msg=\"join connections\" obj=join id=4051a6c6a81b l=127.0.0.1:8237 r=[2a02:8428:3f5d:d801:6896:9fbe:cbf4:e61]:63369\n"
          ]
        },
        {
          "output_type": "stream",
          "name": "stdout",
          "text": [
            "\u001b[1;35mt=2025-03-05T14:33:48+0000 lvl=info msg=\"join connections\" obj=join id=4051a6c6a81b l=127.0.0.1:8237 r=[2a02:8428:3f5d:d801:6896:9fbe:cbf4:e61]:63369\u001b[0m\n",
            "\u001b[32mINFO\u001b[0m:     2a02:8428:3f5d:d801:6896:9fbe:cbf4:e61:0 - \"\u001b[1mGET /api/v1/onboarding_state HTTP/1.1\u001b[0m\" \u001b[32m200 OK\u001b[0m\n"
          ]
        },
        {
          "output_type": "stream",
          "name": "stderr",
          "text": [
            "INFO:pyngrok.process.ngrok:t=2025-03-05T14:33:53+0000 lvl=info msg=\"join connections\" obj=join id=cc50f1457a68 l=127.0.0.1:8237 r=[2a02:8428:3f5d:d801:6896:9fbe:cbf4:e61]:63369\n"
          ]
        },
        {
          "output_type": "stream",
          "name": "stdout",
          "text": [
            "\u001b[1;35mt=2025-03-05T14:33:53+0000 lvl=info msg=\"join connections\" obj=join id=cc50f1457a68 l=127.0.0.1:8237 r=[2a02:8428:3f5d:d801:6896:9fbe:cbf4:e61]:63369\u001b[0m\n",
            "\u001b[32mINFO\u001b[0m:     2a02:8428:3f5d:d801:6896:9fbe:cbf4:e61:0 - \"\u001b[1mGET /api/v1/onboarding_state HTTP/1.1\u001b[0m\" \u001b[32m200 OK\u001b[0m\n"
          ]
        },
        {
          "output_type": "stream",
          "name": "stderr",
          "text": [
            "INFO:pyngrok.process.ngrok:t=2025-03-05T14:33:59+0000 lvl=info msg=\"join connections\" obj=join id=5907d67cfadd l=127.0.0.1:8237 r=[2a02:8428:3f5d:d801:6896:9fbe:cbf4:e61]:63369\n"
          ]
        },
        {
          "output_type": "stream",
          "name": "stdout",
          "text": [
            "\u001b[1;35mt=2025-03-05T14:33:59+0000 lvl=info msg=\"join connections\" obj=join id=5907d67cfadd l=127.0.0.1:8237 r=[2a02:8428:3f5d:d801:6896:9fbe:cbf4:e61]:63369\u001b[0m\n",
            "\u001b[32mINFO\u001b[0m:     2a02:8428:3f5d:d801:6896:9fbe:cbf4:e61:0 - \"\u001b[1mGET /api/v1/onboarding_state HTTP/1.1\u001b[0m\" \u001b[32m200 OK\u001b[0m\n"
          ]
        },
        {
          "output_type": "stream",
          "name": "stderr",
          "text": [
            "INFO:pyngrok.process.ngrok:t=2025-03-05T14:34:04+0000 lvl=info msg=\"join connections\" obj=join id=3860169090ea l=127.0.0.1:8237 r=[2a02:8428:3f5d:d801:6896:9fbe:cbf4:e61]:63369\n"
          ]
        },
        {
          "output_type": "stream",
          "name": "stdout",
          "text": [
            "\u001b[1;35mt=2025-03-05T14:34:04+0000 lvl=info msg=\"join connections\" obj=join id=3860169090ea l=127.0.0.1:8237 r=[2a02:8428:3f5d:d801:6896:9fbe:cbf4:e61]:63369\u001b[0m\n",
            "\u001b[32mINFO\u001b[0m:     2a02:8428:3f5d:d801:6896:9fbe:cbf4:e61:0 - \"\u001b[1mGET /api/v1/onboarding_state HTTP/1.1\u001b[0m\" \u001b[32m200 OK\u001b[0m\n"
          ]
        },
        {
          "output_type": "stream",
          "name": "stderr",
          "text": [
            "INFO:pyngrok.process.ngrok:t=2025-03-05T14:34:09+0000 lvl=info msg=\"join connections\" obj=join id=b42e049475bd l=127.0.0.1:8237 r=[2a02:8428:3f5d:d801:6896:9fbe:cbf4:e61]:63369\n"
          ]
        },
        {
          "output_type": "stream",
          "name": "stdout",
          "text": [
            "\u001b[1;35mt=2025-03-05T14:34:09+0000 lvl=info msg=\"join connections\" obj=join id=b42e049475bd l=127.0.0.1:8237 r=[2a02:8428:3f5d:d801:6896:9fbe:cbf4:e61]:63369\u001b[0m\n",
            "\u001b[32mINFO\u001b[0m:     2a02:8428:3f5d:d801:6896:9fbe:cbf4:e61:0 - \"\u001b[1mGET /api/v1/onboarding_state HTTP/1.1\u001b[0m\" \u001b[32m200 OK\u001b[0m\n"
          ]
        },
        {
          "output_type": "stream",
          "name": "stderr",
          "text": [
            "INFO:pyngrok.process.ngrok:t=2025-03-05T14:34:14+0000 lvl=info msg=\"join connections\" obj=join id=a8c3461df86b l=127.0.0.1:8237 r=[2a02:8428:3f5d:d801:6896:9fbe:cbf4:e61]:63369\n"
          ]
        },
        {
          "output_type": "stream",
          "name": "stdout",
          "text": [
            "\u001b[1;35mt=2025-03-05T14:34:14+0000 lvl=info msg=\"join connections\" obj=join id=a8c3461df86b l=127.0.0.1:8237 r=[2a02:8428:3f5d:d801:6896:9fbe:cbf4:e61]:63369\u001b[0m\n",
            "\u001b[32mINFO\u001b[0m:     2a02:8428:3f5d:d801:6896:9fbe:cbf4:e61:0 - \"\u001b[1mGET /api/v1/onboarding_state HTTP/1.1\u001b[0m\" \u001b[32m200 OK\u001b[0m\n"
          ]
        },
        {
          "output_type": "stream",
          "name": "stderr",
          "text": [
            "INFO:pyngrok.process.ngrok:t=2025-03-05T14:34:20+0000 lvl=info msg=\"join connections\" obj=join id=d4dbc3a8c755 l=127.0.0.1:8237 r=[2a02:8428:3f5d:d801:6896:9fbe:cbf4:e61]:63369\n"
          ]
        },
        {
          "output_type": "stream",
          "name": "stdout",
          "text": [
            "\u001b[1;35mt=2025-03-05T14:34:20+0000 lvl=info msg=\"join connections\" obj=join id=d4dbc3a8c755 l=127.0.0.1:8237 r=[2a02:8428:3f5d:d801:6896:9fbe:cbf4:e61]:63369\u001b[0m\n",
            "\u001b[32mINFO\u001b[0m:     2a02:8428:3f5d:d801:6896:9fbe:cbf4:e61:0 - \"\u001b[1mGET /api/v1/onboarding_state HTTP/1.1\u001b[0m\" \u001b[32m200 OK\u001b[0m\n"
          ]
        },
        {
          "output_type": "stream",
          "name": "stderr",
          "text": [
            "INFO:pyngrok.process.ngrok:t=2025-03-05T14:34:25+0000 lvl=info msg=\"join connections\" obj=join id=9188aba83616 l=127.0.0.1:8237 r=[2a02:8428:3f5d:d801:6896:9fbe:cbf4:e61]:63369\n"
          ]
        },
        {
          "output_type": "stream",
          "name": "stdout",
          "text": [
            "\u001b[1;35mt=2025-03-05T14:34:25+0000 lvl=info msg=\"join connections\" obj=join id=9188aba83616 l=127.0.0.1:8237 r=[2a02:8428:3f5d:d801:6896:9fbe:cbf4:e61]:63369\u001b[0m\n",
            "\u001b[32mINFO\u001b[0m:     2a02:8428:3f5d:d801:6896:9fbe:cbf4:e61:0 - \"\u001b[1mGET /api/v1/onboarding_state HTTP/1.1\u001b[0m\" \u001b[32m200 OK\u001b[0m\n"
          ]
        },
        {
          "output_type": "stream",
          "name": "stderr",
          "text": [
            "INFO:pyngrok.process.ngrok:t=2025-03-05T14:34:30+0000 lvl=info msg=\"join connections\" obj=join id=2592fbe027dc l=127.0.0.1:8237 r=[2a02:8428:3f5d:d801:6896:9fbe:cbf4:e61]:63369\n"
          ]
        },
        {
          "output_type": "stream",
          "name": "stdout",
          "text": [
            "\u001b[1;35mt=2025-03-05T14:34:30+0000 lvl=info msg=\"join connections\" obj=join id=2592fbe027dc l=127.0.0.1:8237 r=[2a02:8428:3f5d:d801:6896:9fbe:cbf4:e61]:63369\u001b[0m\n",
            "\u001b[32mINFO\u001b[0m:     2a02:8428:3f5d:d801:6896:9fbe:cbf4:e61:0 - \"\u001b[1mGET /api/v1/onboarding_state HTTP/1.1\u001b[0m\" \u001b[32m200 OK\u001b[0m\n"
          ]
        },
        {
          "output_type": "stream",
          "name": "stderr",
          "text": [
            "INFO:pyngrok.process.ngrok:t=2025-03-05T14:34:36+0000 lvl=info msg=\"join connections\" obj=join id=8fb28b5ec74b l=127.0.0.1:8237 r=[2a02:8428:3f5d:d801:6896:9fbe:cbf4:e61]:63369\n"
          ]
        },
        {
          "output_type": "stream",
          "name": "stdout",
          "text": [
            "\u001b[1;35mt=2025-03-05T14:34:36+0000 lvl=info msg=\"join connections\" obj=join id=8fb28b5ec74b l=127.0.0.1:8237 r=[2a02:8428:3f5d:d801:6896:9fbe:cbf4:e61]:63369\u001b[0m\n",
            "\u001b[32mINFO\u001b[0m:     2a02:8428:3f5d:d801:6896:9fbe:cbf4:e61:0 - \"\u001b[1mGET /api/v1/onboarding_state HTTP/1.1\u001b[0m\" \u001b[32m200 OK\u001b[0m\n"
          ]
        },
        {
          "output_type": "stream",
          "name": "stderr",
          "text": [
            "INFO:pyngrok.process.ngrok:t=2025-03-05T14:34:41+0000 lvl=info msg=\"join connections\" obj=join id=05ea7d2f1aba l=127.0.0.1:8237 r=[2a02:8428:3f5d:d801:6896:9fbe:cbf4:e61]:63369\n"
          ]
        },
        {
          "output_type": "stream",
          "name": "stdout",
          "text": [
            "\u001b[1;35mt=2025-03-05T14:34:41+0000 lvl=info msg=\"join connections\" obj=join id=05ea7d2f1aba l=127.0.0.1:8237 r=[2a02:8428:3f5d:d801:6896:9fbe:cbf4:e61]:63369\u001b[0m\n",
            "\u001b[32mINFO\u001b[0m:     2a02:8428:3f5d:d801:6896:9fbe:cbf4:e61:0 - \"\u001b[1mGET /api/v1/onboarding_state HTTP/1.1\u001b[0m\" \u001b[32m200 OK\u001b[0m\n"
          ]
        },
        {
          "output_type": "stream",
          "name": "stderr",
          "text": [
            "INFO:pyngrok.process.ngrok:t=2025-03-05T14:34:46+0000 lvl=info msg=\"join connections\" obj=join id=846f22818c05 l=127.0.0.1:8237 r=[2a02:8428:3f5d:d801:6896:9fbe:cbf4:e61]:63369\n"
          ]
        },
        {
          "output_type": "stream",
          "name": "stdout",
          "text": [
            "\u001b[1;35mt=2025-03-05T14:34:46+0000 lvl=info msg=\"join connections\" obj=join id=846f22818c05 l=127.0.0.1:8237 r=[2a02:8428:3f5d:d801:6896:9fbe:cbf4:e61]:63369\u001b[0m\n",
            "\u001b[32mINFO\u001b[0m:     2a02:8428:3f5d:d801:6896:9fbe:cbf4:e61:0 - \"\u001b[1mGET /api/v1/onboarding_state HTTP/1.1\u001b[0m\" \u001b[32m200 OK\u001b[0m\n"
          ]
        },
        {
          "output_type": "stream",
          "name": "stderr",
          "text": [
            "INFO:pyngrok.process.ngrok:t=2025-03-05T14:34:51+0000 lvl=info msg=\"join connections\" obj=join id=377e9a894a23 l=127.0.0.1:8237 r=[2a02:8428:3f5d:d801:6896:9fbe:cbf4:e61]:63369\n"
          ]
        },
        {
          "output_type": "stream",
          "name": "stdout",
          "text": [
            "\u001b[1;35mt=2025-03-05T14:34:51+0000 lvl=info msg=\"join connections\" obj=join id=377e9a894a23 l=127.0.0.1:8237 r=[2a02:8428:3f5d:d801:6896:9fbe:cbf4:e61]:63369\u001b[0m\n",
            "\u001b[32mINFO\u001b[0m:     2a02:8428:3f5d:d801:6896:9fbe:cbf4:e61:0 - \"\u001b[1mGET /api/v1/onboarding_state HTTP/1.1\u001b[0m\" \u001b[32m200 OK\u001b[0m\n"
          ]
        },
        {
          "output_type": "stream",
          "name": "stderr",
          "text": [
            "INFO:pyngrok.process.ngrok:t=2025-03-05T14:34:57+0000 lvl=info msg=\"join connections\" obj=join id=abb4190ffa64 l=127.0.0.1:8237 r=[2a02:8428:3f5d:d801:6896:9fbe:cbf4:e61]:63369\n"
          ]
        },
        {
          "output_type": "stream",
          "name": "stdout",
          "text": [
            "\u001b[1;35mt=2025-03-05T14:34:57+0000 lvl=info msg=\"join connections\" obj=join id=abb4190ffa64 l=127.0.0.1:8237 r=[2a02:8428:3f5d:d801:6896:9fbe:cbf4:e61]:63369\u001b[0m\n",
            "\u001b[32mINFO\u001b[0m:     2a02:8428:3f5d:d801:6896:9fbe:cbf4:e61:0 - \"\u001b[1mGET /api/v1/onboarding_state HTTP/1.1\u001b[0m\" \u001b[32m200 OK\u001b[0m\n"
          ]
        },
        {
          "output_type": "stream",
          "name": "stderr",
          "text": [
            "INFO:pyngrok.process.ngrok:t=2025-03-05T14:35:02+0000 lvl=info msg=\"join connections\" obj=join id=d8551669323e l=127.0.0.1:8237 r=[2a02:8428:3f5d:d801:6896:9fbe:cbf4:e61]:63369\n"
          ]
        },
        {
          "output_type": "stream",
          "name": "stdout",
          "text": [
            "\u001b[1;35mt=2025-03-05T14:35:02+0000 lvl=info msg=\"join connections\" obj=join id=d8551669323e l=127.0.0.1:8237 r=[2a02:8428:3f5d:d801:6896:9fbe:cbf4:e61]:63369\u001b[0m\n",
            "\u001b[32mINFO\u001b[0m:     2a02:8428:3f5d:d801:6896:9fbe:cbf4:e61:0 - \"\u001b[1mGET /api/v1/onboarding_state HTTP/1.1\u001b[0m\" \u001b[32m200 OK\u001b[0m\n"
          ]
        },
        {
          "output_type": "stream",
          "name": "stderr",
          "text": [
            "INFO:pyngrok.process.ngrok:t=2025-03-05T14:35:07+0000 lvl=info msg=\"join connections\" obj=join id=02b248326a6f l=127.0.0.1:8237 r=[2a02:8428:3f5d:d801:6896:9fbe:cbf4:e61]:63369\n"
          ]
        },
        {
          "output_type": "stream",
          "name": "stdout",
          "text": [
            "\u001b[1;35mt=2025-03-05T14:35:07+0000 lvl=info msg=\"join connections\" obj=join id=02b248326a6f l=127.0.0.1:8237 r=[2a02:8428:3f5d:d801:6896:9fbe:cbf4:e61]:63369\u001b[0m\n",
            "\u001b[32mINFO\u001b[0m:     2a02:8428:3f5d:d801:6896:9fbe:cbf4:e61:0 - \"\u001b[1mGET /api/v1/onboarding_state HTTP/1.1\u001b[0m\" \u001b[32m200 OK\u001b[0m\n"
          ]
        },
        {
          "output_type": "stream",
          "name": "stderr",
          "text": [
            "INFO:pyngrok.process.ngrok:t=2025-03-05T14:35:13+0000 lvl=info msg=\"join connections\" obj=join id=036f233892da l=127.0.0.1:8237 r=[2a02:8428:3f5d:d801:6896:9fbe:cbf4:e61]:63369\n"
          ]
        },
        {
          "output_type": "stream",
          "name": "stdout",
          "text": [
            "\u001b[1;35mt=2025-03-05T14:35:13+0000 lvl=info msg=\"join connections\" obj=join id=036f233892da l=127.0.0.1:8237 r=[2a02:8428:3f5d:d801:6896:9fbe:cbf4:e61]:63369\u001b[0m\n",
            "\u001b[32mINFO\u001b[0m:     2a02:8428:3f5d:d801:6896:9fbe:cbf4:e61:0 - \"\u001b[1mGET /api/v1/onboarding_state HTTP/1.1\u001b[0m\" \u001b[32m200 OK\u001b[0m\n"
          ]
        },
        {
          "output_type": "stream",
          "name": "stderr",
          "text": [
            "INFO:pyngrok.process.ngrok:t=2025-03-05T14:35:18+0000 lvl=info msg=\"join connections\" obj=join id=052375109e12 l=127.0.0.1:8237 r=[2a02:8428:3f5d:d801:6896:9fbe:cbf4:e61]:63369\n"
          ]
        },
        {
          "output_type": "stream",
          "name": "stdout",
          "text": [
            "\u001b[1;35mt=2025-03-05T14:35:18+0000 lvl=info msg=\"join connections\" obj=join id=052375109e12 l=127.0.0.1:8237 r=[2a02:8428:3f5d:d801:6896:9fbe:cbf4:e61]:63369\u001b[0m\n",
            "\u001b[32mINFO\u001b[0m:     2a02:8428:3f5d:d801:6896:9fbe:cbf4:e61:0 - \"\u001b[1mGET /api/v1/onboarding_state HTTP/1.1\u001b[0m\" \u001b[32m200 OK\u001b[0m\n"
          ]
        },
        {
          "output_type": "stream",
          "name": "stderr",
          "text": [
            "INFO:pyngrok.process.ngrok:t=2025-03-05T14:35:23+0000 lvl=info msg=\"join connections\" obj=join id=806114dca213 l=127.0.0.1:8237 r=[2a02:8428:3f5d:d801:6896:9fbe:cbf4:e61]:63369\n"
          ]
        },
        {
          "output_type": "stream",
          "name": "stdout",
          "text": [
            "\u001b[1;35mt=2025-03-05T14:35:23+0000 lvl=info msg=\"join connections\" obj=join id=806114dca213 l=127.0.0.1:8237 r=[2a02:8428:3f5d:d801:6896:9fbe:cbf4:e61]:63369\u001b[0m\n",
            "\u001b[32mINFO\u001b[0m:     2a02:8428:3f5d:d801:6896:9fbe:cbf4:e61:0 - \"\u001b[1mGET /api/v1/onboarding_state HTTP/1.1\u001b[0m\" \u001b[32m200 OK\u001b[0m\n"
          ]
        },
        {
          "output_type": "stream",
          "name": "stderr",
          "text": [
            "INFO:pyngrok.process.ngrok:t=2025-03-05T14:35:29+0000 lvl=info msg=\"join connections\" obj=join id=668c8f71fdbf l=127.0.0.1:8237 r=[2a02:8428:3f5d:d801:6896:9fbe:cbf4:e61]:63369\n"
          ]
        },
        {
          "output_type": "stream",
          "name": "stdout",
          "text": [
            "\u001b[1;35mt=2025-03-05T14:35:29+0000 lvl=info msg=\"join connections\" obj=join id=668c8f71fdbf l=127.0.0.1:8237 r=[2a02:8428:3f5d:d801:6896:9fbe:cbf4:e61]:63369\u001b[0m\n",
            "\u001b[32mINFO\u001b[0m:     2a02:8428:3f5d:d801:6896:9fbe:cbf4:e61:0 - \"\u001b[1mGET /api/v1/onboarding_state HTTP/1.1\u001b[0m\" \u001b[32m200 OK\u001b[0m\n"
          ]
        },
        {
          "output_type": "stream",
          "name": "stderr",
          "text": [
            "INFO:pyngrok.process.ngrok:t=2025-03-05T14:35:35+0000 lvl=info msg=\"join connections\" obj=join id=5f2ebc78a424 l=127.0.0.1:8237 r=[2a02:8428:3f5d:d801:6896:9fbe:cbf4:e61]:63369\n"
          ]
        },
        {
          "output_type": "stream",
          "name": "stdout",
          "text": [
            "\u001b[1;35mt=2025-03-05T14:35:35+0000 lvl=info msg=\"join connections\" obj=join id=5f2ebc78a424 l=127.0.0.1:8237 r=[2a02:8428:3f5d:d801:6896:9fbe:cbf4:e61]:63369\u001b[0m\n",
            "\u001b[32mINFO\u001b[0m:     2a02:8428:3f5d:d801:6896:9fbe:cbf4:e61:0 - \"\u001b[1mGET /api/v1/onboarding_state HTTP/1.1\u001b[0m\" \u001b[32m200 OK\u001b[0m\n"
          ]
        },
        {
          "output_type": "stream",
          "name": "stderr",
          "text": [
            "INFO:pyngrok.process.ngrok:t=2025-03-05T14:35:40+0000 lvl=info msg=\"join connections\" obj=join id=a03fe2bb7ccd l=127.0.0.1:8237 r=[2a02:8428:3f5d:d801:6896:9fbe:cbf4:e61]:63369\n"
          ]
        },
        {
          "output_type": "stream",
          "name": "stdout",
          "text": [
            "\u001b[1;35mt=2025-03-05T14:35:40+0000 lvl=info msg=\"join connections\" obj=join id=a03fe2bb7ccd l=127.0.0.1:8237 r=[2a02:8428:3f5d:d801:6896:9fbe:cbf4:e61]:63369\u001b[0m\n",
            "\u001b[32mINFO\u001b[0m:     2a02:8428:3f5d:d801:6896:9fbe:cbf4:e61:0 - \"\u001b[1mGET /api/v1/onboarding_state HTTP/1.1\u001b[0m\" \u001b[32m200 OK\u001b[0m\n"
          ]
        },
        {
          "output_type": "stream",
          "name": "stderr",
          "text": [
            "INFO:pyngrok.process.ngrok:t=2025-03-05T14:35:45+0000 lvl=info msg=\"join connections\" obj=join id=749fb957d0e2 l=127.0.0.1:8237 r=[2a02:8428:3f5d:d801:6896:9fbe:cbf4:e61]:63369\n"
          ]
        },
        {
          "output_type": "stream",
          "name": "stdout",
          "text": [
            "\u001b[1;35mt=2025-03-05T14:35:45+0000 lvl=info msg=\"join connections\" obj=join id=749fb957d0e2 l=127.0.0.1:8237 r=[2a02:8428:3f5d:d801:6896:9fbe:cbf4:e61]:63369\u001b[0m\n",
            "\u001b[32mINFO\u001b[0m:     2a02:8428:3f5d:d801:6896:9fbe:cbf4:e61:0 - \"\u001b[1mGET /api/v1/onboarding_state HTTP/1.1\u001b[0m\" \u001b[32m200 OK\u001b[0m\n"
          ]
        },
        {
          "output_type": "stream",
          "name": "stderr",
          "text": [
            "INFO:pyngrok.process.ngrok:t=2025-03-05T14:35:50+0000 lvl=info msg=\"join connections\" obj=join id=b5e70e69e762 l=127.0.0.1:8237 r=[2a02:8428:3f5d:d801:6896:9fbe:cbf4:e61]:63369\n"
          ]
        },
        {
          "output_type": "stream",
          "name": "stdout",
          "text": [
            "\u001b[1;35mt=2025-03-05T14:35:50+0000 lvl=info msg=\"join connections\" obj=join id=b5e70e69e762 l=127.0.0.1:8237 r=[2a02:8428:3f5d:d801:6896:9fbe:cbf4:e61]:63369\u001b[0m\n",
            "\u001b[32mINFO\u001b[0m:     2a02:8428:3f5d:d801:6896:9fbe:cbf4:e61:0 - \"\u001b[1mGET /api/v1/onboarding_state HTTP/1.1\u001b[0m\" \u001b[32m200 OK\u001b[0m\n"
          ]
        },
        {
          "output_type": "stream",
          "name": "stderr",
          "text": [
            "INFO:pyngrok.process.ngrok:t=2025-03-05T14:35:56+0000 lvl=info msg=\"join connections\" obj=join id=b3a022d61f28 l=127.0.0.1:8237 r=[2a02:8428:3f5d:d801:6896:9fbe:cbf4:e61]:63369\n"
          ]
        },
        {
          "output_type": "stream",
          "name": "stdout",
          "text": [
            "\u001b[1;35mt=2025-03-05T14:35:56+0000 lvl=info msg=\"join connections\" obj=join id=b3a022d61f28 l=127.0.0.1:8237 r=[2a02:8428:3f5d:d801:6896:9fbe:cbf4:e61]:63369\u001b[0m\n",
            "\u001b[32mINFO\u001b[0m:     2a02:8428:3f5d:d801:6896:9fbe:cbf4:e61:0 - \"\u001b[1mGET /api/v1/onboarding_state HTTP/1.1\u001b[0m\" \u001b[32m200 OK\u001b[0m\n"
          ]
        },
        {
          "output_type": "stream",
          "name": "stderr",
          "text": [
            "INFO:pyngrok.process.ngrok:t=2025-03-05T15:05:05+0000 lvl=info msg=\"join connections\" obj=join id=721970247acc l=127.0.0.1:8237 r=[2a02:8428:3f5d:d801:6896:9fbe:cbf4:e61]:49212\n"
          ]
        },
        {
          "output_type": "stream",
          "name": "stdout",
          "text": [
            "\u001b[1;35mt=2025-03-05T15:05:05+0000 lvl=info msg=\"join connections\" obj=join id=721970247acc l=127.0.0.1:8237 r=[2a02:8428:3f5d:d801:6896:9fbe:cbf4:e61]:49212\u001b[0m\n"
          ]
        },
        {
          "output_type": "stream",
          "name": "stderr",
          "text": [
            "INFO:pyngrok.process.ngrok:t=2025-03-05T15:05:05+0000 lvl=info msg=\"join connections\" obj=join id=5a693f3aa43a l=127.0.0.1:8237 r=[2a02:8428:3f5d:d801:6896:9fbe:cbf4:e61]:49212\n"
          ]
        },
        {
          "output_type": "stream",
          "name": "stdout",
          "text": [
            "\u001b[1;35mt=2025-03-05T15:05:05+0000 lvl=info msg=\"join connections\" obj=join id=5a693f3aa43a l=127.0.0.1:8237 r=[2a02:8428:3f5d:d801:6896:9fbe:cbf4:e61]:49212\u001b[0m\n"
          ]
        },
        {
          "output_type": "stream",
          "name": "stderr",
          "text": [
            "INFO:pyngrok.process.ngrok:t=2025-03-05T15:05:05+0000 lvl=info msg=\"join connections\" obj=join id=f271b1009416 l=127.0.0.1:8237 r=[2a02:8428:3f5d:d801:6896:9fbe:cbf4:e61]:49212\n"
          ]
        },
        {
          "output_type": "stream",
          "name": "stdout",
          "text": [
            "\u001b[1;35mt=2025-03-05T15:05:05+0000 lvl=info msg=\"join connections\" obj=join id=f271b1009416 l=127.0.0.1:8237 r=[2a02:8428:3f5d:d801:6896:9fbe:cbf4:e61]:49212\u001b[0m\n"
          ]
        },
        {
          "output_type": "stream",
          "name": "stderr",
          "text": [
            "INFO:pyngrok.process.ngrok:t=2025-03-05T15:05:05+0000 lvl=info msg=\"join connections\" obj=join id=2a2ed1517945 l=127.0.0.1:8237 r=[2a02:8428:3f5d:d801:6896:9fbe:cbf4:e61]:49212\n"
          ]
        },
        {
          "output_type": "stream",
          "name": "stdout",
          "text": [
            "\u001b[1;35mt=2025-03-05T15:05:05+0000 lvl=info msg=\"join connections\" obj=join id=2a2ed1517945 l=127.0.0.1:8237 r=[2a02:8428:3f5d:d801:6896:9fbe:cbf4:e61]:49212\u001b[0m\n",
            "\u001b[32mINFO\u001b[0m:     2a02:8428:3f5d:d801:6896:9fbe:cbf4:e61:0 - \"\u001b[1mGET /api/v1/info HTTP/1.1\u001b[0m\" \u001b[32m200 OK\u001b[0m\n",
            "\u001b[32mINFO\u001b[0m:     2a02:8428:3f5d:d801:6896:9fbe:cbf4:e61:0 - \"\u001b[1mGET /api/v1/current-user HTTP/1.1\u001b[0m\" \u001b[32m200 OK\u001b[0m\n",
            "\u001b[32mINFO\u001b[0m:     2a02:8428:3f5d:d801:6896:9fbe:cbf4:e61:0 - \"\u001b[1mGET /api/v1/settings HTTP/1.1\u001b[0m\" \u001b[32m200 OK\u001b[0m\n",
            "\u001b[32mINFO\u001b[0m:     2a02:8428:3f5d:d801:6896:9fbe:cbf4:e61:0 - \"\u001b[1mGET /api/v1/onboarding_state HTTP/1.1\u001b[0m\" \u001b[32m200 OK\u001b[0m\n"
          ]
        },
        {
          "output_type": "stream",
          "name": "stderr",
          "text": [
            "INFO:pyngrok.process.ngrok:t=2025-03-05T15:05:14+0000 lvl=info msg=\"join connections\" obj=join id=e3c1612d1b5a l=127.0.0.1:8237 r=[2a02:8428:3f5d:d801:6896:9fbe:cbf4:e61]:49212\n"
          ]
        },
        {
          "output_type": "stream",
          "name": "stdout",
          "text": [
            "\u001b[1;35mt=2025-03-05T15:05:14+0000 lvl=info msg=\"join connections\" obj=join id=e3c1612d1b5a l=127.0.0.1:8237 r=[2a02:8428:3f5d:d801:6896:9fbe:cbf4:e61]:49212\u001b[0m\n",
            "\u001b[32mINFO\u001b[0m:     2a02:8428:3f5d:d801:6896:9fbe:cbf4:e61:0 - \"\u001b[1mGET /api/v1/onboarding_state HTTP/1.1\u001b[0m\" \u001b[32m200 OK\u001b[0m\n"
          ]
        },
        {
          "output_type": "stream",
          "name": "stderr",
          "text": [
            "INFO:pyngrok.process.ngrok:t=2025-03-05T15:05:19+0000 lvl=info msg=\"join connections\" obj=join id=9196b253f6ac l=127.0.0.1:8237 r=[2a02:8428:3f5d:d801:6896:9fbe:cbf4:e61]:49212\n"
          ]
        },
        {
          "output_type": "stream",
          "name": "stdout",
          "text": [
            "\u001b[1;35mt=2025-03-05T15:05:19+0000 lvl=info msg=\"join connections\" obj=join id=9196b253f6ac l=127.0.0.1:8237 r=[2a02:8428:3f5d:d801:6896:9fbe:cbf4:e61]:49212\u001b[0m\n",
            "\u001b[32mINFO\u001b[0m:     2a02:8428:3f5d:d801:6896:9fbe:cbf4:e61:0 - \"\u001b[1mGET /api/v1/onboarding_state HTTP/1.1\u001b[0m\" \u001b[32m200 OK\u001b[0m\n"
          ]
        },
        {
          "output_type": "stream",
          "name": "stderr",
          "text": [
            "INFO:pyngrok.process.ngrok:t=2025-03-05T15:05:24+0000 lvl=info msg=\"join connections\" obj=join id=7ea3a63b725b l=127.0.0.1:8237 r=[2a02:8428:3f5d:d801:6896:9fbe:cbf4:e61]:49212\n"
          ]
        },
        {
          "output_type": "stream",
          "name": "stdout",
          "text": [
            "\u001b[1;35mt=2025-03-05T15:05:24+0000 lvl=info msg=\"join connections\" obj=join id=7ea3a63b725b l=127.0.0.1:8237 r=[2a02:8428:3f5d:d801:6896:9fbe:cbf4:e61]:49212\u001b[0m\n",
            "\u001b[32mINFO\u001b[0m:     2a02:8428:3f5d:d801:6896:9fbe:cbf4:e61:0 - \"\u001b[1mGET /api/v1/onboarding_state HTTP/1.1\u001b[0m\" \u001b[32m200 OK\u001b[0m\n"
          ]
        },
        {
          "output_type": "stream",
          "name": "stderr",
          "text": [
            "INFO:pyngrok.process.ngrok:t=2025-03-05T17:18:36+0000 lvl=info msg=\"join connections\" obj=join id=1ee43c484560 l=127.0.0.1:8237 r=[2a02:8428:3f5d:d801:6896:9fbe:cbf4:e61]:56172\n"
          ]
        },
        {
          "output_type": "stream",
          "name": "stdout",
          "text": [
            "\u001b[1;35mt=2025-03-05T17:18:36+0000 lvl=info msg=\"join connections\" obj=join id=1ee43c484560 l=127.0.0.1:8237 r=[2a02:8428:3f5d:d801:6896:9fbe:cbf4:e61]:56172\u001b[0m\n"
          ]
        },
        {
          "output_type": "stream",
          "name": "stderr",
          "text": [
            "INFO:pyngrok.process.ngrok:t=2025-03-05T17:18:36+0000 lvl=info msg=\"join connections\" obj=join id=19ed7ae8111c l=127.0.0.1:8237 r=[2a02:8428:3f5d:d801:6896:9fbe:cbf4:e61]:56172\n"
          ]
        },
        {
          "output_type": "stream",
          "name": "stdout",
          "text": [
            "\u001b[1;35mt=2025-03-05T17:18:36+0000 lvl=info msg=\"join connections\" obj=join id=19ed7ae8111c l=127.0.0.1:8237 r=[2a02:8428:3f5d:d801:6896:9fbe:cbf4:e61]:56172\u001b[0m\n"
          ]
        },
        {
          "output_type": "stream",
          "name": "stderr",
          "text": [
            "INFO:pyngrok.process.ngrok:t=2025-03-05T17:18:36+0000 lvl=info msg=\"join connections\" obj=join id=c249f0af9119 l=127.0.0.1:8237 r=[2a02:8428:3f5d:d801:6896:9fbe:cbf4:e61]:56172\n"
          ]
        },
        {
          "output_type": "stream",
          "name": "stdout",
          "text": [
            "\u001b[1;35mt=2025-03-05T17:18:36+0000 lvl=info msg=\"join connections\" obj=join id=c249f0af9119 l=127.0.0.1:8237 r=[2a02:8428:3f5d:d801:6896:9fbe:cbf4:e61]:56172\u001b[0m\n"
          ]
        },
        {
          "output_type": "stream",
          "name": "stderr",
          "text": [
            "INFO:pyngrok.process.ngrok:t=2025-03-05T17:18:36+0000 lvl=info msg=\"join connections\" obj=join id=705f1319ed22 l=127.0.0.1:8237 r=[2a02:8428:3f5d:d801:6896:9fbe:cbf4:e61]:56172\n"
          ]
        },
        {
          "output_type": "stream",
          "name": "stdout",
          "text": [
            "\u001b[1;35mt=2025-03-05T17:18:36+0000 lvl=info msg=\"join connections\" obj=join id=705f1319ed22 l=127.0.0.1:8237 r=[2a02:8428:3f5d:d801:6896:9fbe:cbf4:e61]:56172\u001b[0m\n",
            "\u001b[32mINFO\u001b[0m:     2a02:8428:3f5d:d801:6896:9fbe:cbf4:e61:0 - \"\u001b[1mGET /api/v1/onboarding_state HTTP/1.1\u001b[0m\" \u001b[32m200 OK\u001b[0m\n",
            "\u001b[32mINFO\u001b[0m:     2a02:8428:3f5d:d801:6896:9fbe:cbf4:e61:0 - \"\u001b[1mGET /api/v1/info HTTP/1.1\u001b[0m\" \u001b[32m200 OK\u001b[0m\n",
            "\u001b[32mINFO\u001b[0m:     2a02:8428:3f5d:d801:6896:9fbe:cbf4:e61:0 - \"\u001b[1mGET /api/v1/settings HTTP/1.1\u001b[0m\" \u001b[32m200 OK\u001b[0m\n",
            "\u001b[32mINFO\u001b[0m:     2a02:8428:3f5d:d801:6896:9fbe:cbf4:e61:0 - \"\u001b[1mGET /api/v1/current-user HTTP/1.1\u001b[0m\" \u001b[32m200 OK\u001b[0m\n"
          ]
        },
        {
          "output_type": "stream",
          "name": "stderr",
          "text": [
            "INFO:pyngrok.process.ngrok:t=2025-03-05T17:18:49+0000 lvl=info msg=\"join connections\" obj=join id=8c754e24ffa6 l=127.0.0.1:8237 r=[2a02:8428:3f5d:d801:6896:9fbe:cbf4:e61]:56172\n"
          ]
        },
        {
          "output_type": "stream",
          "name": "stdout",
          "text": [
            "\u001b[1;35mt=2025-03-05T17:18:49+0000 lvl=info msg=\"join connections\" obj=join id=8c754e24ffa6 l=127.0.0.1:8237 r=[2a02:8428:3f5d:d801:6896:9fbe:cbf4:e61]:56172\u001b[0m\n"
          ]
        },
        {
          "output_type": "stream",
          "name": "stderr",
          "text": [
            "INFO:pyngrok.process.ngrok:t=2025-03-05T17:18:49+0000 lvl=info msg=\"join connections\" obj=join id=a8c56e2e085d l=127.0.0.1:8237 r=[2a02:8428:3f5d:d801:6896:9fbe:cbf4:e61]:56172\n"
          ]
        },
        {
          "output_type": "stream",
          "name": "stdout",
          "text": [
            "\u001b[1;35mt=2025-03-05T17:18:49+0000 lvl=info msg=\"join connections\" obj=join id=a8c56e2e085d l=127.0.0.1:8237 r=[2a02:8428:3f5d:d801:6896:9fbe:cbf4:e61]:56172\u001b[0m\n"
          ]
        },
        {
          "output_type": "stream",
          "name": "stderr",
          "text": [
            "INFO:pyngrok.process.ngrok:t=2025-03-05T17:18:49+0000 lvl=info msg=\"join connections\" obj=join id=e29067b752b3 l=127.0.0.1:8237 r=[2a02:8428:3f5d:d801:6896:9fbe:cbf4:e61]:56172\n"
          ]
        },
        {
          "output_type": "stream",
          "name": "stdout",
          "text": [
            "\u001b[1;35mt=2025-03-05T17:18:49+0000 lvl=info msg=\"join connections\" obj=join id=e29067b752b3 l=127.0.0.1:8237 r=[2a02:8428:3f5d:d801:6896:9fbe:cbf4:e61]:56172\u001b[0m\n"
          ]
        },
        {
          "output_type": "stream",
          "name": "stderr",
          "text": [
            "INFO:pyngrok.process.ngrok:t=2025-03-05T17:18:49+0000 lvl=info msg=\"join connections\" obj=join id=0dab5a54d51e l=127.0.0.1:8237 r=[2a02:8428:3f5d:d801:6896:9fbe:cbf4:e61]:56172\n"
          ]
        },
        {
          "output_type": "stream",
          "name": "stdout",
          "text": [
            "\u001b[1;35mt=2025-03-05T17:18:49+0000 lvl=info msg=\"join connections\" obj=join id=0dab5a54d51e l=127.0.0.1:8237 r=[2a02:8428:3f5d:d801:6896:9fbe:cbf4:e61]:56172\u001b[0m\n",
            "\u001b[32mINFO\u001b[0m:     2a02:8428:3f5d:d801:6896:9fbe:cbf4:e61:0 - \"\u001b[1mGET /api/v1/info HTTP/1.1\u001b[0m\" \u001b[32m200 OK\u001b[0m\n",
            "\u001b[32mINFO\u001b[0m:     2a02:8428:3f5d:d801:6896:9fbe:cbf4:e61:0 - \"\u001b[1mGET /api/v1/current-user HTTP/1.1\u001b[0m\" \u001b[32m200 OK\u001b[0m\n",
            "\u001b[32mINFO\u001b[0m:     2a02:8428:3f5d:d801:6896:9fbe:cbf4:e61:0 - \"\u001b[1mGET /api/v1/settings HTTP/1.1\u001b[0m\" \u001b[32m200 OK\u001b[0m\n",
            "\u001b[32mINFO\u001b[0m:     2a02:8428:3f5d:d801:6896:9fbe:cbf4:e61:0 - \"\u001b[1mGET /api/v1/onboarding_state HTTP/1.1\u001b[0m\" \u001b[32m200 OK\u001b[0m\n"
          ]
        },
        {
          "output_type": "stream",
          "name": "stderr",
          "text": [
            "INFO:pyngrok.process.ngrok:t=2025-03-05T17:18:56+0000 lvl=info msg=\"join connections\" obj=join id=5e0f0fffbae8 l=127.0.0.1:8237 r=[2a02:8428:3f5d:d801:6896:9fbe:cbf4:e61]:56172\n"
          ]
        },
        {
          "output_type": "stream",
          "name": "stdout",
          "text": [
            "\u001b[1;35mt=2025-03-05T17:18:56+0000 lvl=info msg=\"join connections\" obj=join id=5e0f0fffbae8 l=127.0.0.1:8237 r=[2a02:8428:3f5d:d801:6896:9fbe:cbf4:e61]:56172\u001b[0m\n"
          ]
        },
        {
          "output_type": "stream",
          "name": "stderr",
          "text": [
            "INFO:pyngrok.process.ngrok:t=2025-03-05T17:18:56+0000 lvl=info msg=\"join connections\" obj=join id=a52c0cee32da l=127.0.0.1:8237 r=[2a02:8428:3f5d:d801:6896:9fbe:cbf4:e61]:56172\n"
          ]
        },
        {
          "output_type": "stream",
          "name": "stdout",
          "text": [
            "\u001b[1;35mt=2025-03-05T17:18:56+0000 lvl=info msg=\"join connections\" obj=join id=a52c0cee32da l=127.0.0.1:8237 r=[2a02:8428:3f5d:d801:6896:9fbe:cbf4:e61]:56172\u001b[0m\n"
          ]
        },
        {
          "output_type": "stream",
          "name": "stderr",
          "text": [
            "INFO:pyngrok.process.ngrok:t=2025-03-05T17:18:56+0000 lvl=info msg=\"join connections\" obj=join id=99b3b7b5a01f l=127.0.0.1:8237 r=[2a02:8428:3f5d:d801:6896:9fbe:cbf4:e61]:56172\n"
          ]
        },
        {
          "output_type": "stream",
          "name": "stdout",
          "text": [
            "\u001b[1;35mt=2025-03-05T17:18:56+0000 lvl=info msg=\"join connections\" obj=join id=99b3b7b5a01f l=127.0.0.1:8237 r=[2a02:8428:3f5d:d801:6896:9fbe:cbf4:e61]:56172\u001b[0m\n"
          ]
        },
        {
          "output_type": "stream",
          "name": "stderr",
          "text": [
            "INFO:pyngrok.process.ngrok:t=2025-03-05T17:18:56+0000 lvl=info msg=\"join connections\" obj=join id=ebe9e0efb776 l=127.0.0.1:8237 r=[2a02:8428:3f5d:d801:6896:9fbe:cbf4:e61]:56172\n"
          ]
        },
        {
          "output_type": "stream",
          "name": "stdout",
          "text": [
            "\u001b[1;35mt=2025-03-05T17:18:56+0000 lvl=info msg=\"join connections\" obj=join id=ebe9e0efb776 l=127.0.0.1:8237 r=[2a02:8428:3f5d:d801:6896:9fbe:cbf4:e61]:56172\u001b[0m\n",
            "\u001b[32mINFO\u001b[0m:     2a02:8428:3f5d:d801:6896:9fbe:cbf4:e61:0 - \"\u001b[1mGET /api/v1/info HTTP/1.1\u001b[0m\" \u001b[32m200 OK\u001b[0m\n",
            "\u001b[32mINFO\u001b[0m:     2a02:8428:3f5d:d801:6896:9fbe:cbf4:e61:0 - \"\u001b[1mGET /api/v1/onboarding_state HTTP/1.1\u001b[0m\" \u001b[32m200 OK\u001b[0m\n",
            "\u001b[32mINFO\u001b[0m:     2a02:8428:3f5d:d801:6896:9fbe:cbf4:e61:0 - \"\u001b[1mGET /api/v1/settings HTTP/1.1\u001b[0m\" \u001b[32m200 OK\u001b[0m\n",
            "\u001b[32mINFO\u001b[0m:     2a02:8428:3f5d:d801:6896:9fbe:cbf4:e61:0 - \"\u001b[1mGET /api/v1/current-user HTTP/1.1\u001b[0m\" \u001b[32m200 OK\u001b[0m\n"
          ]
        },
        {
          "output_type": "stream",
          "name": "stderr",
          "text": [
            "INFO:pyngrok.process.ngrok:t=2025-03-05T17:19:01+0000 lvl=info msg=\"join connections\" obj=join id=bc20aa405c80 l=127.0.0.1:8237 r=[2a02:8428:3f5d:d801:6896:9fbe:cbf4:e61]:56172\n"
          ]
        },
        {
          "output_type": "stream",
          "name": "stdout",
          "text": [
            "\u001b[1;35mt=2025-03-05T17:19:01+0000 lvl=info msg=\"join connections\" obj=join id=bc20aa405c80 l=127.0.0.1:8237 r=[2a02:8428:3f5d:d801:6896:9fbe:cbf4:e61]:56172\u001b[0m\n",
            "\u001b[32mINFO\u001b[0m:     2a02:8428:3f5d:d801:6896:9fbe:cbf4:e61:0 - \"\u001b[1mGET /api/v1/onboarding_state HTTP/1.1\u001b[0m\" \u001b[32m200 OK\u001b[0m\n"
          ]
        },
        {
          "output_type": "stream",
          "name": "stderr",
          "text": [
            "INFO:pyngrok.process.ngrok:t=2025-03-05T17:19:06+0000 lvl=info msg=\"join connections\" obj=join id=ad758ee3c514 l=127.0.0.1:8237 r=[2a02:8428:3f5d:d801:6896:9fbe:cbf4:e61]:56172\n"
          ]
        },
        {
          "output_type": "stream",
          "name": "stdout",
          "text": [
            "\u001b[1;35mt=2025-03-05T17:19:06+0000 lvl=info msg=\"join connections\" obj=join id=ad758ee3c514 l=127.0.0.1:8237 r=[2a02:8428:3f5d:d801:6896:9fbe:cbf4:e61]:56172\u001b[0m\n",
            "\u001b[32mINFO\u001b[0m:     2a02:8428:3f5d:d801:6896:9fbe:cbf4:e61:0 - \"\u001b[1mGET /api/v1/onboarding_state HTTP/1.1\u001b[0m\" \u001b[32m200 OK\u001b[0m\n"
          ]
        },
        {
          "output_type": "stream",
          "name": "stderr",
          "text": [
            "INFO:pyngrok.process.ngrok:t=2025-03-05T17:19:12+0000 lvl=info msg=\"join connections\" obj=join id=3a5672317471 l=127.0.0.1:8237 r=[2a02:8428:3f5d:d801:6896:9fbe:cbf4:e61]:56172\n"
          ]
        },
        {
          "output_type": "stream",
          "name": "stdout",
          "text": [
            "\u001b[1;35mt=2025-03-05T17:19:12+0000 lvl=info msg=\"join connections\" obj=join id=3a5672317471 l=127.0.0.1:8237 r=[2a02:8428:3f5d:d801:6896:9fbe:cbf4:e61]:56172\u001b[0m\n",
            "\u001b[32mINFO\u001b[0m:     2a02:8428:3f5d:d801:6896:9fbe:cbf4:e61:0 - \"\u001b[1mGET /api/v1/pipelines?page=1&sort_by=desc%3Alatest_run HTTP/1.1\u001b[0m\" \u001b[32m200 OK\u001b[0m\n",
            "\u001b[32mINFO\u001b[0m:     2a02:8428:3f5d:d801:6896:9fbe:cbf4:e61:0 - \"\u001b[1mGET /assets/page-C89bN6VV.js HTTP/1.1\u001b[0m\" \u001b[32m200 OK\u001b[0m\n",
            "\u001b[32mINFO\u001b[0m:     2a02:8428:3f5d:d801:6896:9fbe:cbf4:e61:0 - \"\u001b[1mGET /api/v1/runs?pipeline_name=digits_pipeline&page=1&sort_by=desc%3Aupdated HTTP/1.1\u001b[0m\" \u001b[32m200 OK\u001b[0m\n"
          ]
        },
        {
          "output_type": "stream",
          "name": "stderr",
          "text": [
            "INFO:pyngrok.process.ngrok:t=2025-03-05T17:19:20+0000 lvl=info msg=\"join connections\" obj=join id=70e48b7df654 l=127.0.0.1:8237 r=[2a02:8428:3f5d:d801:6896:9fbe:cbf4:e61]:56172\n"
          ]
        },
        {
          "output_type": "stream",
          "name": "stdout",
          "text": [
            "\u001b[1;35mt=2025-03-05T17:19:20+0000 lvl=info msg=\"join connections\" obj=join id=70e48b7df654 l=127.0.0.1:8237 r=[2a02:8428:3f5d:d801:6896:9fbe:cbf4:e61]:56172\u001b[0m\n",
            "\u001b[32mINFO\u001b[0m:     2a02:8428:3f5d:d801:6896:9fbe:cbf4:e61:0 - \"\u001b[1mGET /assets/page-BNrOW_3T.js HTTP/1.1\u001b[0m\" \u001b[32m200 OK\u001b[0m\n"
          ]
        },
        {
          "output_type": "stream",
          "name": "stderr",
          "text": [
            "INFO:pyngrok.process.ngrok:t=2025-03-05T17:19:21+0000 lvl=info msg=\"join connections\" obj=join id=b0e7742dcd80 l=127.0.0.1:8237 r=[2a02:8428:3f5d:d801:6896:9fbe:cbf4:e61]:56172\n"
          ]
        },
        {
          "output_type": "stream",
          "name": "stdout",
          "text": [
            "\u001b[32mINFO\u001b[0m:     2a02:8428:3f5d:d801:6896:9fbe:cbf4:e61:0 - \"\u001b[1mGET /assets/code-snippets-CqONne41.js HTTP/1.1\u001b[0m\" \u001b[32m200 OK\u001b[0m\n",
            "\u001b[1;35mt=2025-03-05T17:19:21+0000 lvl=info msg=\"join connections\" obj=join id=b0e7742dcd80 l=127.0.0.1:8237 r=[2a02:8428:3f5d:d801:6896:9fbe:cbf4:e61]:56172\u001b[0m\n"
          ]
        },
        {
          "output_type": "stream",
          "name": "stderr",
          "text": [
            "INFO:pyngrok.process.ngrok:t=2025-03-05T17:19:21+0000 lvl=info msg=\"join connections\" obj=join id=439ed0ec0d65 l=127.0.0.1:8237 r=[2a02:8428:3f5d:d801:6896:9fbe:cbf4:e61]:56172\n"
          ]
        },
        {
          "output_type": "stream",
          "name": "stdout",
          "text": [
            "\u001b[1;35mt=2025-03-05T17:19:21+0000 lvl=info msg=\"join connections\" obj=join id=439ed0ec0d65 l=127.0.0.1:8237 r=[2a02:8428:3f5d:d801:6896:9fbe:cbf4:e61]:56172\u001b[0m\n"
          ]
        },
        {
          "output_type": "stream",
          "name": "stderr",
          "text": [
            "INFO:pyngrok.process.ngrok:t=2025-03-05T17:19:21+0000 lvl=info msg=\"join connections\" obj=join id=40c73ffe6938 l=127.0.0.1:8237 r=[2a02:8428:3f5d:d801:6896:9fbe:cbf4:e61]:56172\n"
          ]
        },
        {
          "output_type": "stream",
          "name": "stdout",
          "text": [
            "\u001b[1;35mt=2025-03-05T17:19:21+0000 lvl=info msg=\"join connections\" obj=join id=40c73ffe6938 l=127.0.0.1:8237 r=[2a02:8428:3f5d:d801:6896:9fbe:cbf4:e61]:56172\u001b[0m\n"
          ]
        },
        {
          "output_type": "stream",
          "name": "stderr",
          "text": [
            "INFO:pyngrok.process.ngrok:t=2025-03-05T17:19:21+0000 lvl=info msg=\"join connections\" obj=join id=b536d667ad0c l=127.0.0.1:8237 r=[2a02:8428:3f5d:d801:6896:9fbe:cbf4:e61]:56172\n"
          ]
        },
        {
          "output_type": "stream",
          "name": "stdout",
          "text": [
            "\u001b[1;35mt=2025-03-05T17:19:21+0000 lvl=info msg=\"join connections\" obj=join id=b536d667ad0c l=127.0.0.1:8237 r=[2a02:8428:3f5d:d801:6896:9fbe:cbf4:e61]:56172\u001b[0m\n"
          ]
        },
        {
          "output_type": "stream",
          "name": "stderr",
          "text": [
            "INFO:pyngrok.process.ngrok:t=2025-03-05T17:19:21+0000 lvl=info msg=\"join connections\" obj=join id=6f4ea9ceeca3 l=127.0.0.1:8237 r=[2a02:8428:3f5d:d801:6896:9fbe:cbf4:e61]:56172\n"
          ]
        },
        {
          "output_type": "stream",
          "name": "stdout",
          "text": [
            "\u001b[1;35mt=2025-03-05T17:19:21+0000 lvl=info msg=\"join connections\" obj=join id=6f4ea9ceeca3 l=127.0.0.1:8237 r=[2a02:8428:3f5d:d801:6896:9fbe:cbf4:e61]:56172\u001b[0m\n"
          ]
        },
        {
          "output_type": "stream",
          "name": "stderr",
          "text": [
            "INFO:pyngrok.process.ngrok:t=2025-03-05T17:19:21+0000 lvl=info msg=\"join connections\" obj=join id=083451e2cc2f l=127.0.0.1:8237 r=[2a02:8428:3f5d:d801:6896:9fbe:cbf4:e61]:56172\n"
          ]
        },
        {
          "output_type": "stream",
          "name": "stdout",
          "text": [
            "\u001b[1;35mt=2025-03-05T17:19:21+0000 lvl=info msg=\"join connections\" obj=join id=083451e2cc2f l=127.0.0.1:8237 r=[2a02:8428:3f5d:d801:6896:9fbe:cbf4:e61]:56172\u001b[0m\n"
          ]
        },
        {
          "output_type": "stream",
          "name": "stderr",
          "text": [
            "INFO:pyngrok.process.ngrok:t=2025-03-05T17:19:21+0000 lvl=info msg=\"join connections\" obj=join id=c7b8c64575ec l=127.0.0.1:8237 r=[2a02:8428:3f5d:d801:6896:9fbe:cbf4:e61]:56172\n"
          ]
        },
        {
          "output_type": "stream",
          "name": "stdout",
          "text": [
            "\u001b[1;35mt=2025-03-05T17:19:21+0000 lvl=info msg=\"join connections\" obj=join id=c7b8c64575ec l=127.0.0.1:8237 r=[2a02:8428:3f5d:d801:6896:9fbe:cbf4:e61]:56172\u001b[0m\n"
          ]
        },
        {
          "output_type": "stream",
          "name": "stderr",
          "text": [
            "INFO:pyngrok.process.ngrok:t=2025-03-05T17:19:21+0000 lvl=info msg=\"join connections\" obj=join id=b9ca1fdb7891 l=127.0.0.1:8237 r=[2a02:8428:3f5d:d801:6896:9fbe:cbf4:e61]:56172\n"
          ]
        },
        {
          "output_type": "stream",
          "name": "stdout",
          "text": [
            "\u001b[1;35mt=2025-03-05T17:19:21+0000 lvl=info msg=\"join connections\" obj=join id=b9ca1fdb7891 l=127.0.0.1:8237 r=[2a02:8428:3f5d:d801:6896:9fbe:cbf4:e61]:56172\u001b[0m\n"
          ]
        },
        {
          "output_type": "stream",
          "name": "stderr",
          "text": [
            "INFO:pyngrok.process.ngrok:t=2025-03-05T17:19:21+0000 lvl=info msg=\"join connections\" obj=join id=dfa94baa70ec l=127.0.0.1:8237 r=[2a02:8428:3f5d:d801:6896:9fbe:cbf4:e61]:56172\n"
          ]
        },
        {
          "output_type": "stream",
          "name": "stdout",
          "text": [
            "\u001b[1;35mt=2025-03-05T17:19:21+0000 lvl=info msg=\"join connections\" obj=join id=dfa94baa70ec l=127.0.0.1:8237 r=[2a02:8428:3f5d:d801:6896:9fbe:cbf4:e61]:56172\u001b[0m\n"
          ]
        },
        {
          "output_type": "stream",
          "name": "stderr",
          "text": [
            "INFO:pyngrok.process.ngrok:t=2025-03-05T17:19:21+0000 lvl=info msg=\"join connections\" obj=join id=f77ed002c23f l=127.0.0.1:8237 r=[2a02:8428:3f5d:d801:6896:9fbe:cbf4:e61]:56172\n"
          ]
        },
        {
          "output_type": "stream",
          "name": "stdout",
          "text": [
            "\u001b[1;35mt=2025-03-05T17:19:21+0000 lvl=info msg=\"join connections\" obj=join id=f77ed002c23f l=127.0.0.1:8237 r=[2a02:8428:3f5d:d801:6896:9fbe:cbf4:e61]:56172\u001b[0m\n"
          ]
        },
        {
          "output_type": "stream",
          "name": "stderr",
          "text": [
            "INFO:pyngrok.process.ngrok:t=2025-03-05T17:19:21+0000 lvl=info msg=\"join connections\" obj=join id=f624ab01da38 l=127.0.0.1:8237 r=[2a02:8428:3f5d:d801:6896:9fbe:cbf4:e61]:56172\n"
          ]
        },
        {
          "output_type": "stream",
          "name": "stdout",
          "text": [
            "\u001b[1;35mt=2025-03-05T17:19:21+0000 lvl=info msg=\"join connections\" obj=join id=f624ab01da38 l=127.0.0.1:8237 r=[2a02:8428:3f5d:d801:6896:9fbe:cbf4:e61]:56172\u001b[0m\n"
          ]
        },
        {
          "output_type": "stream",
          "name": "stderr",
          "text": [
            "INFO:pyngrok.process.ngrok:t=2025-03-05T17:19:21+0000 lvl=info msg=\"join connections\" obj=join id=94de2205f48d l=127.0.0.1:8237 r=[2a02:8428:3f5d:d801:6896:9fbe:cbf4:e61]:56172\n"
          ]
        },
        {
          "output_type": "stream",
          "name": "stdout",
          "text": [
            "\u001b[1;35mt=2025-03-05T17:19:21+0000 lvl=info msg=\"join connections\" obj=join id=94de2205f48d l=127.0.0.1:8237 r=[2a02:8428:3f5d:d801:6896:9fbe:cbf4:e61]:56172\u001b[0m\n",
            "\u001b[32mINFO\u001b[0m:     2a02:8428:3f5d:d801:6896:9fbe:cbf4:e61:0 - \"\u001b[1mGET /assets/NestedCollapsible-CE4OF670.js HTTP/1.1\u001b[0m\" \u001b[32m200 OK\u001b[0m\n",
            "\u001b[32mINFO\u001b[0m:     2a02:8428:3f5d:d801:6896:9fbe:cbf4:e61:0 - \"\u001b[1mGET /assets/terminal-square-URAPn9DB.js HTTP/1.1\u001b[0m\" \u001b[32m200 OK\u001b[0m\n",
            "\u001b[32mINFO\u001b[0m:     2a02:8428:3f5d:d801:6896:9fbe:cbf4:e61:0 - \"\u001b[1mGET /assets/Error-CIBjAdSc.js HTTP/1.1\u001b[0m\" \u001b[32m200 OK\u001b[0m\n",
            "\u001b[32mINFO\u001b[0m:     2a02:8428:3f5d:d801:6896:9fbe:cbf4:e61:0 - \"\u001b[1mGET /assets/type-guards-CaeD8wHO.js HTTP/1.1\u001b[0m\" \u001b[32m200 OK\u001b[0m\n",
            "\u001b[32mINFO\u001b[0m:     2a02:8428:3f5d:d801:6896:9fbe:cbf4:e61:0 - \"\u001b[1mGET /assets/logs-D6_diV2k.js HTTP/1.1\u001b[0m\" \u001b[32m200 OK\u001b[0m\n",
            "\u001b[32mINFO\u001b[0m:     2a02:8428:3f5d:d801:6896:9fbe:cbf4:e61:0 - \"\u001b[1mGET /assets/constants-DP3ZEnXH.js HTTP/1.1\u001b[0m\" \u001b[32m200 OK\u001b[0m\n",
            "\u001b[32mINFO\u001b[0m:     2a02:8428:3f5d:d801:6896:9fbe:cbf4:e61:0 - \"\u001b[1mGET /assets/code-browser-DvB0W2Ix.js HTTP/1.1\u001b[0m\" \u001b[32m200 OK\u001b[0m\n",
            "\u001b[32mINFO\u001b[0m:     2a02:8428:3f5d:d801:6896:9fbe:cbf4:e61:0 - \"\u001b[1mGET /assets/docker-B3Sqzd8J.js HTTP/1.1\u001b[0m\" \u001b[32m200 OK\u001b[0m\n",
            "\u001b[32mINFO\u001b[0m:     2a02:8428:3f5d:d801:6896:9fbe:cbf4:e61:0 - \"\u001b[1mGET /assets/tick-circle-AaVBszPn.js HTTP/1.1\u001b[0m\" \u001b[32m200 OK\u001b[0m\n",
            "\u001b[32mINFO\u001b[0m:     2a02:8428:3f5d:d801:6896:9fbe:cbf4:e61:0 - \"\u001b[1mGET /assets/EmptyState-DpbfQBDE.js HTTP/1.1\u001b[0m\" \u001b[32m200 OK\u001b[0m\n",
            "\u001b[32mINFO\u001b[0m:     2a02:8428:3f5d:d801:6896:9fbe:cbf4:e61:0 - \"\u001b[1mGET /assets/dates-3pMLCNrD.js HTTP/1.1\u001b[0m\" \u001b[32m200 OK\u001b[0m\n",
            "\u001b[32mINFO\u001b[0m:     2a02:8428:3f5d:d801:6896:9fbe:cbf4:e61:0 - \"\u001b[1mGET /assets/react-error-boundary.esm-BkGIR1Du.js HTTP/1.1\u001b[0m\" \u001b[32m200 OK\u001b[0m\n",
            "\u001b[32mINFO\u001b[0m:     2a02:8428:3f5d:d801:6896:9fbe:cbf4:e61:0 - \"\u001b[1mGET /api/v1/info HTTP/1.1\u001b[0m\" \u001b[32m200 OK\u001b[0m\n",
            "\u001b[32mINFO\u001b[0m:     2a02:8428:3f5d:d801:6896:9fbe:cbf4:e61:0 - \"\u001b[1mGET /api/v1/runs/f4082912-c010-4f02-83ff-f2e362cfedbc HTTP/1.1\u001b[0m\" \u001b[32m200 OK\u001b[0m\n",
            "\u001b[32mINFO\u001b[0m:     2a02:8428:3f5d:d801:6896:9fbe:cbf4:e61:0 - \"\u001b[1mGET /api/v1/pipeline_deployments/39cbddaf-871c-45f1-a0be-3f0f849d5208 HTTP/1.1\u001b[0m\" \u001b[32m200 OK\u001b[0m\n"
          ]
        },
        {
          "output_type": "stream",
          "name": "stderr",
          "text": [
            "INFO:pyngrok.process.ngrok:t=2025-03-05T17:26:30+0000 lvl=info msg=\"received stop request\" obj=app stopReq=\"{err:<nil> restart:false}\"\n"
          ]
        },
        {
          "output_type": "stream",
          "name": "stdout",
          "text": [
            "\u001b[1;35mt=2025-03-05T17:26:30+0000 lvl=info msg=\"received stop request\" obj=app stopReq=\"{err:<nil> restart:false}\"\u001b[0m\n"
          ]
        },
        {
          "output_type": "stream",
          "name": "stderr",
          "text": [
            "INFO:pyngrok.process.ngrok:t=2025-03-05T17:26:30+0000 lvl=info msg=\"session closing\" obj=tunnels.session err=nil\n"
          ]
        },
        {
          "output_type": "stream",
          "name": "stdout",
          "text": [
            "\u001b[1;35mt=2025-03-05T17:26:30+0000 lvl=info msg=\"session closing\" obj=tunnels.session err=nil\u001b[0m\n",
            "\u001b[32mINFO\u001b[0m:     Shutting down\n",
            "\u001b[32mINFO\u001b[0m:     Finished server process [\u001b[36m75874\u001b[0m]\n",
            "\u001b[31mERROR\u001b[0m:    Traceback (most recent call last):\n",
            "  File \"/usr/lib/python3.11/asyncio/runners.py\", line 190, in run\n",
            "    return runner.run(main)\n",
            "           ^^^^^^^^^^^^^^^^\n",
            "  File \"/usr/lib/python3.11/asyncio/runners.py\", line 118, in run\n",
            "    return self._loop.run_until_complete(task)\n",
            "           ^^^^^^^^^^^^^^^^^^^^^^^^^^^^^^^^^^^\n",
            "  File \"uvloop/loop.pyx\", line 1512, in uvloop.loop.Loop.run_until_complete\n",
            "  File \"uvloop/loop.pyx\", line 1505, in uvloop.loop.Loop.run_until_complete\n",
            "  File \"uvloop/loop.pyx\", line 1379, in uvloop.loop.Loop.run_forever\n",
            "  File \"uvloop/loop.pyx\", line 557, in uvloop.loop.Loop._run\n",
            "  File \"uvloop/loop.pyx\", line 476, in uvloop.loop.Loop._on_idle\n",
            "  File \"uvloop/cbhandles.pyx\", line 83, in uvloop.loop.Handle._run\n",
            "  File \"uvloop/cbhandles.pyx\", line 63, in uvloop.loop.Handle._run\n",
            "  File \"/usr/local/lib/python3.11/dist-packages/uvicorn/server.py\", line 69, in serve\n",
            "    with self.capture_signals():\n",
            "  File \"/usr/lib/python3.11/contextlib.py\", line 144, in __exit__\n",
            "    next(self.gen)\n",
            "  File \"/usr/local/lib/python3.11/dist-packages/uvicorn/server.py\", line 330, in capture_signals\n",
            "    signal.raise_signal(captured_signal)\n",
            "  File \"/usr/lib/python3.11/asyncio/runners.py\", line 157, in _on_sigint\n",
            "    raise KeyboardInterrupt()\n",
            "KeyboardInterrupt\n",
            "\n",
            "During handling of the above exception, another exception occurred:\n",
            "\n",
            "Traceback (most recent call last):\n",
            "  File \"/usr/local/lib/python3.11/dist-packages/starlette/routing.py\", line 700, in lifespan\n",
            "    await receive()\n",
            "  File \"/usr/local/lib/python3.11/dist-packages/uvicorn/lifespan/on.py\", line 137, in receive\n",
            "    return await self.receive_queue.get()\n",
            "           ^^^^^^^^^^^^^^^^^^^^^^^^^^^^^^\n",
            "  File \"/usr/lib/python3.11/asyncio/queues.py\", line 158, in get\n",
            "    await getter\n",
            "asyncio.exceptions.CancelledError\n",
            "\n"
          ]
        }
      ]
    },
    {
      "cell_type": "markdown",
      "source": [
        "## Case Study using MLOps"
      ],
      "metadata": {
        "id": "Y7a5RZQWWMzn"
      }
    },
    {
      "cell_type": "markdown",
      "source": [
        "### Import dataset"
      ],
      "metadata": {
        "id": "rlfpeBzAt3Ey"
      }
    },
    {
      "cell_type": "code",
      "source": [
        "#pip install rarfile"
      ],
      "metadata": {
        "colab": {
          "base_uri": "https://localhost:8080/"
        },
        "id": "fKfF8xZvuoxY",
        "outputId": "2a863a48-2a2d-4dec-c89b-e48cc9269f98"
      },
      "execution_count": null,
      "outputs": [
        {
          "output_type": "stream",
          "name": "stdout",
          "text": [
            "Collecting rarfile\n",
            "  Downloading rarfile-4.2-py3-none-any.whl.metadata (4.4 kB)\n",
            "Downloading rarfile-4.2-py3-none-any.whl (29 kB)\n",
            "Installing collected packages: rarfile\n",
            "Successfully installed rarfile-4.2\n"
          ]
        }
      ]
    },
    {
      "cell_type": "code",
      "source": [
        "import os\n",
        "import rarfile\n",
        "import requests\n",
        "\n",
        "# URL of the .rar file on GitHub\n",
        "url = \"https://github.com/keliansl/MLOps-ZenML-introduction/raw/main/dataset/olist_customers_dataset.rar\"\n",
        "\n",
        "# Name of the file after download\n",
        "rar_filename = \"olist_customers_dataset.rar\"\n",
        "extract_folder = \"dataset_extracted\"\n",
        "\n",
        "# Download the .rar file\n",
        "response = requests.get(url)\n",
        "if response.status_code == 200:\n",
        "    with open(rar_filename, \"wb\") as f:\n",
        "        f.write(response.content)\n",
        "    print(f\"✅ File {rar_filename} downloaded successfully!\")\n",
        "else:\n",
        "    print(f\"❌ Download failed: {response.status_code}\")\n",
        "\n",
        "# Ensure that `rarfile` is installed\n",
        "try:\n",
        "    rarfile.RarFile\n",
        "except AttributeError:\n",
        "    print(\"⚠️ Make sure you have installed `rarfile` with `pip install rarfile`.\")\n",
        "\n",
        "# Extract the .rar file\n",
        "if not os.path.exists(extract_folder):\n",
        "    os.makedirs(extract_folder)\n",
        "\n",
        "with rarfile.RarFile(rar_filename) as rf:\n",
        "    rf.extractall(extract_folder)\n",
        "    print(f\"📂 Files extracted to {extract_folder}\")\n",
        "\n",
        "# Optional: Delete the .rar file after extraction\n",
        "os.remove(rar_filename)\n",
        "print(f\"🗑️ File {rar_filename} deleted after extraction.\")"
      ],
      "metadata": {
        "colab": {
          "base_uri": "https://localhost:8080/"
        },
        "id": "8WHmWQigmdbC",
        "outputId": "8e0e057f-77db-40f1-d5e7-3573f1dc92dd"
      },
      "execution_count": null,
      "outputs": [
        {
          "output_type": "stream",
          "name": "stdout",
          "text": [
            "✅ File olist_customers_dataset.rar downloaded successfully!\n",
            "📂 Files extracted to dataset_extracted\n",
            "🗑️ File olist_customers_dataset.rar deleted after extraction.\n"
          ]
        }
      ]
    },
    {
      "cell_type": "code",
      "source": [
        "data = pd.read_csv(\"/content/dataset_extracted/olist_customers_dataset.csv\")"
      ],
      "metadata": {
        "id": "gbYptvA0WbRk"
      },
      "execution_count": null,
      "outputs": []
    },
    {
      "cell_type": "code",
      "source": [
        "data.head()"
      ],
      "metadata": {
        "colab": {
          "base_uri": "https://localhost:8080/",
          "height": 342
        },
        "id": "X9ePQT8Uu6qD",
        "outputId": "30cac5eb-10be-4e3a-a5c2-5e28a990130e"
      },
      "execution_count": null,
      "outputs": [
        {
          "output_type": "execute_result",
          "data": {
            "text/plain": [
              "                           order_id                       customer_id  \\\n",
              "0  e481f51cbdc54678b7cc49136f2d6af7  9ef432eb6251297304e76186b10a928d   \n",
              "1  e481f51cbdc54678b7cc49136f2d6af7  9ef432eb6251297304e76186b10a928d   \n",
              "2  e481f51cbdc54678b7cc49136f2d6af7  9ef432eb6251297304e76186b10a928d   \n",
              "3  128e10d95713541c87cd1a2e48201934  a20e8105f23924cd00833fd87daa0831   \n",
              "4  0e7e841ddf8f8f2de2bad69267ecfbcf  26c7ac168e1433912a51b924fbd34d34   \n",
              "\n",
              "  order_status order_purchase_timestamp    order_approved_at  \\\n",
              "0    delivered      2017-10-02 10:56:33  2017-10-02 11:07:15   \n",
              "1    delivered      2017-10-02 10:56:33  2017-10-02 11:07:15   \n",
              "2    delivered      2017-10-02 10:56:33  2017-10-02 11:07:15   \n",
              "3    delivered      2017-08-15 18:29:31  2017-08-15 20:05:16   \n",
              "4    delivered      2017-08-02 18:24:47  2017-08-02 18:43:15   \n",
              "\n",
              "  order_delivered_carrier_date order_delivered_customer_date  \\\n",
              "0          2017-10-04 19:55:00           2017-10-10 21:25:13   \n",
              "1          2017-10-04 19:55:00           2017-10-10 21:25:13   \n",
              "2          2017-10-04 19:55:00           2017-10-10 21:25:13   \n",
              "3          2017-08-17 15:28:33           2017-08-18 14:44:43   \n",
              "4          2017-08-04 17:35:43           2017-08-07 18:30:01   \n",
              "\n",
              "  order_estimated_delivery_date  payment_sequential payment_type  ...  \\\n",
              "0           2017-10-18 00:00:00                   1  credit_card  ...   \n",
              "1           2017-10-18 00:00:00                   3      voucher  ...   \n",
              "2           2017-10-18 00:00:00                   2      voucher  ...   \n",
              "3           2017-08-28 00:00:00                   1  credit_card  ...   \n",
              "4           2017-08-15 00:00:00                   1  credit_card  ...   \n",
              "\n",
              "   product_name_lenght  product_description_lenght product_photos_qty  \\\n",
              "0                 40.0                       268.0                4.0   \n",
              "1                 40.0                       268.0                4.0   \n",
              "2                 40.0                       268.0                4.0   \n",
              "3                 40.0                       268.0                4.0   \n",
              "4                 40.0                       268.0                4.0   \n",
              "\n",
              "   product_weight_g product_length_cm product_height_cm  product_width_cm  \\\n",
              "0             500.0              19.0               8.0              13.0   \n",
              "1             500.0              19.0               8.0              13.0   \n",
              "2             500.0              19.0               8.0              13.0   \n",
              "3             500.0              19.0               8.0              13.0   \n",
              "4             500.0              19.0               8.0              13.0   \n",
              "\n",
              "  product_category_name_english review_score  \\\n",
              "0                    housewares            4   \n",
              "1                    housewares            4   \n",
              "2                    housewares            4   \n",
              "3                    housewares            4   \n",
              "4                    housewares            5   \n",
              "\n",
              "                              review_comment_message  \n",
              "0  Não testei o produto ainda, mas ele veio corre...  \n",
              "1  Não testei o produto ainda, mas ele veio corre...  \n",
              "2  Não testei o produto ainda, mas ele veio corre...  \n",
              "3  Deveriam embalar melhor o produto. A caixa vei...  \n",
              "4  Só achei ela pequena pra seis xícaras ,mais é ...  \n",
              "\n",
              "[5 rows x 33 columns]"
            ],
            "text/html": [
              "\n",
              "  <div id=\"df-9c547c53-53b2-47fd-b683-6c14a2e156b0\" class=\"colab-df-container\">\n",
              "    <div>\n",
              "<style scoped>\n",
              "    .dataframe tbody tr th:only-of-type {\n",
              "        vertical-align: middle;\n",
              "    }\n",
              "\n",
              "    .dataframe tbody tr th {\n",
              "        vertical-align: top;\n",
              "    }\n",
              "\n",
              "    .dataframe thead th {\n",
              "        text-align: right;\n",
              "    }\n",
              "</style>\n",
              "<table border=\"1\" class=\"dataframe\">\n",
              "  <thead>\n",
              "    <tr style=\"text-align: right;\">\n",
              "      <th></th>\n",
              "      <th>order_id</th>\n",
              "      <th>customer_id</th>\n",
              "      <th>order_status</th>\n",
              "      <th>order_purchase_timestamp</th>\n",
              "      <th>order_approved_at</th>\n",
              "      <th>order_delivered_carrier_date</th>\n",
              "      <th>order_delivered_customer_date</th>\n",
              "      <th>order_estimated_delivery_date</th>\n",
              "      <th>payment_sequential</th>\n",
              "      <th>payment_type</th>\n",
              "      <th>...</th>\n",
              "      <th>product_name_lenght</th>\n",
              "      <th>product_description_lenght</th>\n",
              "      <th>product_photos_qty</th>\n",
              "      <th>product_weight_g</th>\n",
              "      <th>product_length_cm</th>\n",
              "      <th>product_height_cm</th>\n",
              "      <th>product_width_cm</th>\n",
              "      <th>product_category_name_english</th>\n",
              "      <th>review_score</th>\n",
              "      <th>review_comment_message</th>\n",
              "    </tr>\n",
              "  </thead>\n",
              "  <tbody>\n",
              "    <tr>\n",
              "      <th>0</th>\n",
              "      <td>e481f51cbdc54678b7cc49136f2d6af7</td>\n",
              "      <td>9ef432eb6251297304e76186b10a928d</td>\n",
              "      <td>delivered</td>\n",
              "      <td>2017-10-02 10:56:33</td>\n",
              "      <td>2017-10-02 11:07:15</td>\n",
              "      <td>2017-10-04 19:55:00</td>\n",
              "      <td>2017-10-10 21:25:13</td>\n",
              "      <td>2017-10-18 00:00:00</td>\n",
              "      <td>1</td>\n",
              "      <td>credit_card</td>\n",
              "      <td>...</td>\n",
              "      <td>40.0</td>\n",
              "      <td>268.0</td>\n",
              "      <td>4.0</td>\n",
              "      <td>500.0</td>\n",
              "      <td>19.0</td>\n",
              "      <td>8.0</td>\n",
              "      <td>13.0</td>\n",
              "      <td>housewares</td>\n",
              "      <td>4</td>\n",
              "      <td>Não testei o produto ainda, mas ele veio corre...</td>\n",
              "    </tr>\n",
              "    <tr>\n",
              "      <th>1</th>\n",
              "      <td>e481f51cbdc54678b7cc49136f2d6af7</td>\n",
              "      <td>9ef432eb6251297304e76186b10a928d</td>\n",
              "      <td>delivered</td>\n",
              "      <td>2017-10-02 10:56:33</td>\n",
              "      <td>2017-10-02 11:07:15</td>\n",
              "      <td>2017-10-04 19:55:00</td>\n",
              "      <td>2017-10-10 21:25:13</td>\n",
              "      <td>2017-10-18 00:00:00</td>\n",
              "      <td>3</td>\n",
              "      <td>voucher</td>\n",
              "      <td>...</td>\n",
              "      <td>40.0</td>\n",
              "      <td>268.0</td>\n",
              "      <td>4.0</td>\n",
              "      <td>500.0</td>\n",
              "      <td>19.0</td>\n",
              "      <td>8.0</td>\n",
              "      <td>13.0</td>\n",
              "      <td>housewares</td>\n",
              "      <td>4</td>\n",
              "      <td>Não testei o produto ainda, mas ele veio corre...</td>\n",
              "    </tr>\n",
              "    <tr>\n",
              "      <th>2</th>\n",
              "      <td>e481f51cbdc54678b7cc49136f2d6af7</td>\n",
              "      <td>9ef432eb6251297304e76186b10a928d</td>\n",
              "      <td>delivered</td>\n",
              "      <td>2017-10-02 10:56:33</td>\n",
              "      <td>2017-10-02 11:07:15</td>\n",
              "      <td>2017-10-04 19:55:00</td>\n",
              "      <td>2017-10-10 21:25:13</td>\n",
              "      <td>2017-10-18 00:00:00</td>\n",
              "      <td>2</td>\n",
              "      <td>voucher</td>\n",
              "      <td>...</td>\n",
              "      <td>40.0</td>\n",
              "      <td>268.0</td>\n",
              "      <td>4.0</td>\n",
              "      <td>500.0</td>\n",
              "      <td>19.0</td>\n",
              "      <td>8.0</td>\n",
              "      <td>13.0</td>\n",
              "      <td>housewares</td>\n",
              "      <td>4</td>\n",
              "      <td>Não testei o produto ainda, mas ele veio corre...</td>\n",
              "    </tr>\n",
              "    <tr>\n",
              "      <th>3</th>\n",
              "      <td>128e10d95713541c87cd1a2e48201934</td>\n",
              "      <td>a20e8105f23924cd00833fd87daa0831</td>\n",
              "      <td>delivered</td>\n",
              "      <td>2017-08-15 18:29:31</td>\n",
              "      <td>2017-08-15 20:05:16</td>\n",
              "      <td>2017-08-17 15:28:33</td>\n",
              "      <td>2017-08-18 14:44:43</td>\n",
              "      <td>2017-08-28 00:00:00</td>\n",
              "      <td>1</td>\n",
              "      <td>credit_card</td>\n",
              "      <td>...</td>\n",
              "      <td>40.0</td>\n",
              "      <td>268.0</td>\n",
              "      <td>4.0</td>\n",
              "      <td>500.0</td>\n",
              "      <td>19.0</td>\n",
              "      <td>8.0</td>\n",
              "      <td>13.0</td>\n",
              "      <td>housewares</td>\n",
              "      <td>4</td>\n",
              "      <td>Deveriam embalar melhor o produto. A caixa vei...</td>\n",
              "    </tr>\n",
              "    <tr>\n",
              "      <th>4</th>\n",
              "      <td>0e7e841ddf8f8f2de2bad69267ecfbcf</td>\n",
              "      <td>26c7ac168e1433912a51b924fbd34d34</td>\n",
              "      <td>delivered</td>\n",
              "      <td>2017-08-02 18:24:47</td>\n",
              "      <td>2017-08-02 18:43:15</td>\n",
              "      <td>2017-08-04 17:35:43</td>\n",
              "      <td>2017-08-07 18:30:01</td>\n",
              "      <td>2017-08-15 00:00:00</td>\n",
              "      <td>1</td>\n",
              "      <td>credit_card</td>\n",
              "      <td>...</td>\n",
              "      <td>40.0</td>\n",
              "      <td>268.0</td>\n",
              "      <td>4.0</td>\n",
              "      <td>500.0</td>\n",
              "      <td>19.0</td>\n",
              "      <td>8.0</td>\n",
              "      <td>13.0</td>\n",
              "      <td>housewares</td>\n",
              "      <td>5</td>\n",
              "      <td>Só achei ela pequena pra seis xícaras ,mais é ...</td>\n",
              "    </tr>\n",
              "  </tbody>\n",
              "</table>\n",
              "<p>5 rows × 33 columns</p>\n",
              "</div>\n",
              "    <div class=\"colab-df-buttons\">\n",
              "\n",
              "  <div class=\"colab-df-container\">\n",
              "    <button class=\"colab-df-convert\" onclick=\"convertToInteractive('df-9c547c53-53b2-47fd-b683-6c14a2e156b0')\"\n",
              "            title=\"Convert this dataframe to an interactive table.\"\n",
              "            style=\"display:none;\">\n",
              "\n",
              "  <svg xmlns=\"http://www.w3.org/2000/svg\" height=\"24px\" viewBox=\"0 -960 960 960\">\n",
              "    <path d=\"M120-120v-720h720v720H120Zm60-500h600v-160H180v160Zm220 220h160v-160H400v160Zm0 220h160v-160H400v160ZM180-400h160v-160H180v160Zm440 0h160v-160H620v160ZM180-180h160v-160H180v160Zm440 0h160v-160H620v160Z\"/>\n",
              "  </svg>\n",
              "    </button>\n",
              "\n",
              "  <style>\n",
              "    .colab-df-container {\n",
              "      display:flex;\n",
              "      gap: 12px;\n",
              "    }\n",
              "\n",
              "    .colab-df-convert {\n",
              "      background-color: #E8F0FE;\n",
              "      border: none;\n",
              "      border-radius: 50%;\n",
              "      cursor: pointer;\n",
              "      display: none;\n",
              "      fill: #1967D2;\n",
              "      height: 32px;\n",
              "      padding: 0 0 0 0;\n",
              "      width: 32px;\n",
              "    }\n",
              "\n",
              "    .colab-df-convert:hover {\n",
              "      background-color: #E2EBFA;\n",
              "      box-shadow: 0px 1px 2px rgba(60, 64, 67, 0.3), 0px 1px 3px 1px rgba(60, 64, 67, 0.15);\n",
              "      fill: #174EA6;\n",
              "    }\n",
              "\n",
              "    .colab-df-buttons div {\n",
              "      margin-bottom: 4px;\n",
              "    }\n",
              "\n",
              "    [theme=dark] .colab-df-convert {\n",
              "      background-color: #3B4455;\n",
              "      fill: #D2E3FC;\n",
              "    }\n",
              "\n",
              "    [theme=dark] .colab-df-convert:hover {\n",
              "      background-color: #434B5C;\n",
              "      box-shadow: 0px 1px 3px 1px rgba(0, 0, 0, 0.15);\n",
              "      filter: drop-shadow(0px 1px 2px rgba(0, 0, 0, 0.3));\n",
              "      fill: #FFFFFF;\n",
              "    }\n",
              "  </style>\n",
              "\n",
              "    <script>\n",
              "      const buttonEl =\n",
              "        document.querySelector('#df-9c547c53-53b2-47fd-b683-6c14a2e156b0 button.colab-df-convert');\n",
              "      buttonEl.style.display =\n",
              "        google.colab.kernel.accessAllowed ? 'block' : 'none';\n",
              "\n",
              "      async function convertToInteractive(key) {\n",
              "        const element = document.querySelector('#df-9c547c53-53b2-47fd-b683-6c14a2e156b0');\n",
              "        const dataTable =\n",
              "          await google.colab.kernel.invokeFunction('convertToInteractive',\n",
              "                                                    [key], {});\n",
              "        if (!dataTable) return;\n",
              "\n",
              "        const docLinkHtml = 'Like what you see? Visit the ' +\n",
              "          '<a target=\"_blank\" href=https://colab.research.google.com/notebooks/data_table.ipynb>data table notebook</a>'\n",
              "          + ' to learn more about interactive tables.';\n",
              "        element.innerHTML = '';\n",
              "        dataTable['output_type'] = 'display_data';\n",
              "        await google.colab.output.renderOutput(dataTable, element);\n",
              "        const docLink = document.createElement('div');\n",
              "        docLink.innerHTML = docLinkHtml;\n",
              "        element.appendChild(docLink);\n",
              "      }\n",
              "    </script>\n",
              "  </div>\n",
              "\n",
              "\n",
              "<div id=\"df-02920f18-c126-4f78-9408-a3c39eac5cc1\">\n",
              "  <button class=\"colab-df-quickchart\" onclick=\"quickchart('df-02920f18-c126-4f78-9408-a3c39eac5cc1')\"\n",
              "            title=\"Suggest charts\"\n",
              "            style=\"display:none;\">\n",
              "\n",
              "<svg xmlns=\"http://www.w3.org/2000/svg\" height=\"24px\"viewBox=\"0 0 24 24\"\n",
              "     width=\"24px\">\n",
              "    <g>\n",
              "        <path d=\"M19 3H5c-1.1 0-2 .9-2 2v14c0 1.1.9 2 2 2h14c1.1 0 2-.9 2-2V5c0-1.1-.9-2-2-2zM9 17H7v-7h2v7zm4 0h-2V7h2v10zm4 0h-2v-4h2v4z\"/>\n",
              "    </g>\n",
              "</svg>\n",
              "  </button>\n",
              "\n",
              "<style>\n",
              "  .colab-df-quickchart {\n",
              "      --bg-color: #E8F0FE;\n",
              "      --fill-color: #1967D2;\n",
              "      --hover-bg-color: #E2EBFA;\n",
              "      --hover-fill-color: #174EA6;\n",
              "      --disabled-fill-color: #AAA;\n",
              "      --disabled-bg-color: #DDD;\n",
              "  }\n",
              "\n",
              "  [theme=dark] .colab-df-quickchart {\n",
              "      --bg-color: #3B4455;\n",
              "      --fill-color: #D2E3FC;\n",
              "      --hover-bg-color: #434B5C;\n",
              "      --hover-fill-color: #FFFFFF;\n",
              "      --disabled-bg-color: #3B4455;\n",
              "      --disabled-fill-color: #666;\n",
              "  }\n",
              "\n",
              "  .colab-df-quickchart {\n",
              "    background-color: var(--bg-color);\n",
              "    border: none;\n",
              "    border-radius: 50%;\n",
              "    cursor: pointer;\n",
              "    display: none;\n",
              "    fill: var(--fill-color);\n",
              "    height: 32px;\n",
              "    padding: 0;\n",
              "    width: 32px;\n",
              "  }\n",
              "\n",
              "  .colab-df-quickchart:hover {\n",
              "    background-color: var(--hover-bg-color);\n",
              "    box-shadow: 0 1px 2px rgba(60, 64, 67, 0.3), 0 1px 3px 1px rgba(60, 64, 67, 0.15);\n",
              "    fill: var(--button-hover-fill-color);\n",
              "  }\n",
              "\n",
              "  .colab-df-quickchart-complete:disabled,\n",
              "  .colab-df-quickchart-complete:disabled:hover {\n",
              "    background-color: var(--disabled-bg-color);\n",
              "    fill: var(--disabled-fill-color);\n",
              "    box-shadow: none;\n",
              "  }\n",
              "\n",
              "  .colab-df-spinner {\n",
              "    border: 2px solid var(--fill-color);\n",
              "    border-color: transparent;\n",
              "    border-bottom-color: var(--fill-color);\n",
              "    animation:\n",
              "      spin 1s steps(1) infinite;\n",
              "  }\n",
              "\n",
              "  @keyframes spin {\n",
              "    0% {\n",
              "      border-color: transparent;\n",
              "      border-bottom-color: var(--fill-color);\n",
              "      border-left-color: var(--fill-color);\n",
              "    }\n",
              "    20% {\n",
              "      border-color: transparent;\n",
              "      border-left-color: var(--fill-color);\n",
              "      border-top-color: var(--fill-color);\n",
              "    }\n",
              "    30% {\n",
              "      border-color: transparent;\n",
              "      border-left-color: var(--fill-color);\n",
              "      border-top-color: var(--fill-color);\n",
              "      border-right-color: var(--fill-color);\n",
              "    }\n",
              "    40% {\n",
              "      border-color: transparent;\n",
              "      border-right-color: var(--fill-color);\n",
              "      border-top-color: var(--fill-color);\n",
              "    }\n",
              "    60% {\n",
              "      border-color: transparent;\n",
              "      border-right-color: var(--fill-color);\n",
              "    }\n",
              "    80% {\n",
              "      border-color: transparent;\n",
              "      border-right-color: var(--fill-color);\n",
              "      border-bottom-color: var(--fill-color);\n",
              "    }\n",
              "    90% {\n",
              "      border-color: transparent;\n",
              "      border-bottom-color: var(--fill-color);\n",
              "    }\n",
              "  }\n",
              "</style>\n",
              "\n",
              "  <script>\n",
              "    async function quickchart(key) {\n",
              "      const quickchartButtonEl =\n",
              "        document.querySelector('#' + key + ' button');\n",
              "      quickchartButtonEl.disabled = true;  // To prevent multiple clicks.\n",
              "      quickchartButtonEl.classList.add('colab-df-spinner');\n",
              "      try {\n",
              "        const charts = await google.colab.kernel.invokeFunction(\n",
              "            'suggestCharts', [key], {});\n",
              "      } catch (error) {\n",
              "        console.error('Error during call to suggestCharts:', error);\n",
              "      }\n",
              "      quickchartButtonEl.classList.remove('colab-df-spinner');\n",
              "      quickchartButtonEl.classList.add('colab-df-quickchart-complete');\n",
              "    }\n",
              "    (() => {\n",
              "      let quickchartButtonEl =\n",
              "        document.querySelector('#df-02920f18-c126-4f78-9408-a3c39eac5cc1 button');\n",
              "      quickchartButtonEl.style.display =\n",
              "        google.colab.kernel.accessAllowed ? 'block' : 'none';\n",
              "    })();\n",
              "  </script>\n",
              "</div>\n",
              "\n",
              "    </div>\n",
              "  </div>\n"
            ],
            "application/vnd.google.colaboratory.intrinsic+json": {
              "type": "dataframe",
              "variable_name": "data"
            }
          },
          "metadata": {},
          "execution_count": 24
        }
      ]
    },
    {
      "cell_type": "code",
      "source": [
        "data.shape"
      ],
      "metadata": {
        "colab": {
          "base_uri": "https://localhost:8080/"
        },
        "id": "VZ71Xvzmu8kv",
        "outputId": "c65698e5-d416-4d9a-fdbd-a2362332e2d7"
      },
      "execution_count": null,
      "outputs": [
        {
          "output_type": "execute_result",
          "data": {
            "text/plain": [
              "(115609, 33)"
            ]
          },
          "metadata": {},
          "execution_count": 25
        }
      ]
    },
    {
      "cell_type": "code",
      "source": [],
      "metadata": {
        "id": "3GVcFIYavVcV"
      },
      "execution_count": null,
      "outputs": []
    },
    {
      "cell_type": "code",
      "source": [],
      "metadata": {
        "id": "1Xsk0M1xCZgT"
      },
      "execution_count": null,
      "outputs": []
    },
    {
      "cell_type": "code",
      "source": [],
      "metadata": {
        "id": "YdDVzZN1CZ4L"
      },
      "execution_count": null,
      "outputs": []
    },
    {
      "cell_type": "code",
      "source": [
        "from sklearn.datasets import load_iris\n",
        "import pandas as pd"
      ],
      "metadata": {
        "id": "ugQ-MaofCZ92"
      },
      "execution_count": null,
      "outputs": []
    },
    {
      "cell_type": "code",
      "source": [
        "iris = load_iris()"
      ],
      "metadata": {
        "id": "HmpGOpbOCmH2"
      },
      "execution_count": null,
      "outputs": []
    },
    {
      "cell_type": "code",
      "source": [
        "data_iris = iris.data"
      ],
      "metadata": {
        "id": "Jx2rBLRZCpwf"
      },
      "execution_count": null,
      "outputs": []
    },
    {
      "cell_type": "code",
      "source": [
        "data_iris = pd.DataFrame(data_iris)"
      ],
      "metadata": {
        "id": "GYW6XnHyCtiK"
      },
      "execution_count": null,
      "outputs": []
    },
    {
      "cell_type": "code",
      "source": [
        "data_iris.isna().sum()[0]"
      ],
      "metadata": {
        "colab": {
          "base_uri": "https://localhost:8080/"
        },
        "id": "aT3RPNjSC7Sg",
        "outputId": "d6c14f6b-d904-417e-ca77-55e5ced03637"
      },
      "execution_count": null,
      "outputs": [
        {
          "output_type": "execute_result",
          "data": {
            "text/plain": [
              "0"
            ]
          },
          "metadata": {},
          "execution_count": 24
        }
      ]
    },
    {
      "cell_type": "code",
      "source": [
        "columns = [col for col in data_iris.columns if data_iris[col].isna().sum() == 0]\n",
        "columns"
      ],
      "metadata": {
        "colab": {
          "base_uri": "https://localhost:8080/"
        },
        "id": "e66cJCv9D4E0",
        "outputId": "4b0d6c1c-1888-4a39-a432-9cc0f7bb99e3"
      },
      "execution_count": null,
      "outputs": [
        {
          "output_type": "execute_result",
          "data": {
            "text/plain": [
              "[0, 1, 2, 3]"
            ]
          },
          "metadata": {},
          "execution_count": 30
        }
      ]
    },
    {
      "cell_type": "code",
      "source": [
        "nan_columns = [col for col in data.columns if data[col].isna().sum() > 0]"
      ],
      "metadata": {
        "id": "Ztou4V3GDDMD"
      },
      "execution_count": null,
      "outputs": []
    }
  ]
}